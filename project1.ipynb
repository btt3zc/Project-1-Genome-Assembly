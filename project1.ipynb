{
 "cells": [
  {
   "cell_type": "markdown",
   "id": "a9645da6",
   "metadata": {},
   "source": [
    "\n",
    "   <div class=\"alert alert-block alert-danger\">\n",
    "    <center>Due: <b>Tuesday, 8 February, 4:59pm</b>.</center> \n",
    "   </div>\n",
    "   \n",
    "   <div class=\"alert alert-block alert-warning\">\n",
    "   <center>\n",
    "       <b>Collaboration and Resource Policy</b>\n",
    "    </center>\n",
    "    For this assignment, you are encouraged to work with one other person. Your team must satisfy the constraints mentioned in <a href=\"https://www.dropbox.com/s/g6z2xncwc4jsplp/csbio-class2-inked.pdf?dl=0\">Class 2</a>.\n",
    "    \n",
    "   1. You went to different high schools.\n",
    "   2. You and your partner have different answers to <em>at least one</em> of these questions:\n",
    "       - What country were you born in?\n",
    "       - Have you taken any biology courses at UVA?\n",
    "       - Have you taken cs3102?\n",
    "       - Have you taken cs4102?\n",
    "    \n",
    "We expect most students will have the best learning experience on this assignment by working with a partner, but if you prefer to work alone it is okay to do this assignment on your own.\n",
    "    \n",
    "You are permitted (actually _encouraged_) to discuss these problems with anyone you want, including other students in the class. If you do discuss the specific questions in the assignment with anyone other than your assignment partner and the course staff, though, you should list them in the _External resources used_ section below.\n",
    "    \n",
    "You are welcome to use any resources you want for this assignment, other than ones that would defeat the purpose of the assignment. This means you should not look at answers or code from any other students in the class (other than your collaboration with your partner), and if you find code that implements the problem you are being asked to do for the assignment, you should not use that code. You should document all external resource you use that are not part of the course materials in the _External resources used_ section below."
   ]
  },
  {
   "cell_type": "markdown",
   "id": "14179769",
   "metadata": {},
   "source": [
    "**Team submitting this assignment:**  \n",
    "<div class=\"alert alert-success\">\n",
    "    <b><em>list each member of your team here, including both your name and UVA computing id</em></b>\n",
    "</div>\n",
    "\n",
    "**External resources used:** \n",
    "<div class=\"alert alert-success\">\n",
    "<em>It is not necessary to list the course materials, but if you used any other resources, including discussing problems with students not on your team, list them here.\n",
    "    https://www.zymoresearch.com/blogs/blog/what-are-phred-scores, used this source to figure out the error computation of a sequence\n",
    "    </em>\n",
    "</div>"
   ]
  },
  {
   "cell_type": "markdown",
   "id": "57bc46a1",
   "metadata": {},
   "source": [
    "In this project, we will explore genome assembly — the process of determining the order of nucleotides from fragmented reads that are produced by sequencing machines. \n",
    "\n",
    "Genome assembly maps to a very well defined computer science problem, but can get quite complicated, as problems such as full sequence coverage, finding a good length for reads (the $k$ in $k$-mer), and sequencing errors present challenges for sequencing analysis and accuracy. For the required problems (ones everyone is expected to solve), you will be able to assume perfect coverage and no read errors; for the \"challenge\" problem (that is considered a bonus, and not something we expect everyone to be able to solve, and perhaps may not even be feasible for anyone to solve) you will not be able to rely on such assumptions."
   ]
  },
  {
   "cell_type": "markdown",
   "id": "b701651a",
   "metadata": {},
   "source": [
    " <div class=\"alert alert-block alert-warning\">\n",
    "    \n",
    "<b>Submission</b>: You should work on this assignment by forking the provided Project 1 repository (you probably already did this, following the instructions posted at [https://computingbiology.github.io/project1](https://computingbiology.github.io/project1). Add the other teammate to as a collaborator with write access (also under the Settings tab) to this repository.\n",
    "    \n",
    "You should answer the questions and write your code in this Jupyter Notebook. (We don't expect you to need to use any external files or organize your code outside of the notebook, but if you do, make sure to put everything needed to run your code in your repository.) Parts where you are expected to provide and answer (which could be text that can be written in markdown format in the notebook or Python code that runs in the notebook) are marked in green.\n",
    "        \n",
    "When you are ready to submit the assignment, you should create a release of the version you are submitting ([github's directions for how to create a release](https://docs.github.com/en/repositories/releasing-projects-on-github/managing-releases-in-a-repository)) tagged as `submit`. After you've done this, send a message in slack to a channel that includes both team members (so the one sending this message should include the other team member) and all of the course staff (`dave`, `Hyun Jae Cho`, and `Anshuman Suri`) and a link to your repository (feel free to add any other useful comments if you want, but the link to your submission repository is sufficient)."
   ]
  },
  {
   "cell_type": "markdown",
   "id": "6ddc5cc5",
   "metadata": {},
   "source": [
    "## Getting Started"
   ]
  },
  {
   "cell_type": "markdown",
   "id": "65e42801",
   "metadata": {},
   "source": [
    "1. Install basic required packages, should be run only once. You may need to restart the jupyter python kernel (under the Kernel menu) after this. (You can execute this directly in the notebook but running the command below.)"
   ]
  },
  {
   "cell_type": "code",
   "execution_count": 31,
   "id": "9df18fe5",
   "metadata": {},
   "outputs": [
    {
     "name": "stdout",
     "output_type": "stream",
     "text": [
      "Defaulting to user installation because normal site-packages is not writeable\n",
      "Requirement already satisfied: gvmagic in /home/ethan/.local/lib/python3.8/site-packages (from -r requirements.txt (line 1)) (0.5)\n",
      "Requirement already satisfied: numpy in /usr/lib/python3/dist-packages (from -r requirements.txt (line 2)) (1.17.4)\n",
      "Requirement already satisfied: matplotlib in /usr/lib/python3/dist-packages (from -r requirements.txt (line 3)) (3.1.2)\n",
      "Requirement already satisfied: pydot in /home/ethan/.local/lib/python3.8/site-packages (from -r requirements.txt (line 4)) (1.4.2)\n",
      "Requirement already satisfied: pyparsing>=2.1.4 in /usr/lib/python3/dist-packages (from pydot->-r requirements.txt (line 4)) (2.4.6)\n",
      "\u001b[33mWARNING: You are using pip version 22.0; however, version 22.0.3 is available.\n",
      "You should consider upgrading via the '/bin/python3 -m pip install --upgrade pip' command.\u001b[0m\u001b[33m\n",
      "\u001b[0mNote: you may need to restart the kernel to use updated packages.\n"
     ]
    }
   ],
   "source": [
    "%pip install -r requirements.txt"
   ]
  },
  {
   "cell_type": "markdown",
   "id": "68cf7d92",
   "metadata": {},
   "source": [
    "2. Make sure you have [graphviz](https://graphviz.org/) installed on your system. (On a Mac OS X, `brew install graphviz`. For other platforms, see [_https://graphviz.org/download/_](https://graphviz.org/download/).)"
   ]
  },
  {
   "cell_type": "code",
   "execution_count": 32,
   "id": "d39abe1f",
   "metadata": {},
   "outputs": [],
   "source": [
    "import collections\n",
    "import matplotlib.pyplot as plt\n",
    "\n",
    "import utils"
   ]
  },
  {
   "cell_type": "markdown",
   "id": "5554e2bc",
   "metadata": {},
   "source": [
    "## Part 1: Assembling the TeleTubby Genome"
   ]
  },
  {
   "cell_type": "markdown",
   "id": "7985c6cb",
   "metadata": {},
   "source": [
    "For this part, you're given reads generated while trying to sequence the DNA of a mysterious unknown organism with a _tiny_ genome. Some of the course staff is not sure what a TeleTubby is, but I've been assured that no cute creatures were harmed in producing this data (which was generated synthetically).\n",
    "\n",
    "By answering the following questions, you will learn how to assemble the original genome sequence from sequence reads.\n",
    "\n",
    "Sequencing data is often stored in the FASTQ file format, with is a simple ASCII format that is somewhat human-readable. \n",
    "\n",
    "In _TeleTubby.fastq_ (which is included in the repository you forked), you will find the data that was read from the TeleTubby genome. Each four lines of the file repeat the same pattern. For example,\n",
    "```\n",
    "@TeleTubby Genome: Project 1\n",
    "TAAAATGG\n",
    "+\n",
    "HAICDF5I\n",
    "```\n",
    "The first line contains the metadata that encodes the name of the read, the experiment type, the kind of sequencing machine used, etc. \n",
    "\n",
    "The second line is the sequence of bases that was read. \n",
    "\n",
    "The third line is just a placeholder.\n",
    "\n",
    "The fourth line is a sequence of base qualities that encodes the qualities for the corresponding bases in the sequence line. We will discuss and use this for Problem 2."
   ]
  },
  {
   "cell_type": "markdown",
   "id": "744fd5da",
   "metadata": {},
   "source": [
    "Read in the data from `TeleTubby.fastq`:"
   ]
  },
  {
   "cell_type": "code",
   "execution_count": 33,
   "id": "04406782",
   "metadata": {},
   "outputs": [],
   "source": [
    "# Read sequence reads (error-free) from file\n",
    "sequence_reads, qualities = utils.read_fastq('TeleTubby.fastq')"
   ]
  },
  {
   "cell_type": "markdown",
   "id": "69527f9b",
   "metadata": {},
   "source": [
    "### Melting Temperature\n",
    "\n",
    "The GC-content (or the ratio of G and C nucleotides) is related to the melting temperature of a DNA double helix structure. \n",
    "\n",
    "The following equation can be used to estimate the melting temperature (in degrees Celsius) of DNA for a particular sequence:\n",
    "\n",
    "\\begin{equation*}\n",
    "t_m = 64.9+0.41(\\%GC)-\\frac{500}{\\text{length of sequence}}\n",
    "\\end{equation*}\n",
    "\n",
    "As a reference, the human genome is known to have between 35%-60% GC-content. \n",
    "\n",
    "<div class=\"alert alert-success\">\n",
    "\n",
    "**Problem 1.** Calculate the melting temperature for the TeleTubby genome using the formula above. Assume that the sequence is 200 nucleotides long, and that the provided read data has equal coverage everywhere so the G-C distribution in the reads is very close to the actual G-C distribution for the genome. \n",
    "    </div>"
   ]
  },
  {
   "cell_type": "code",
   "execution_count": 34,
   "id": "cd274b8a",
   "metadata": {},
   "outputs": [
    {
     "name": "stdout",
     "output_type": "stream",
     "text": [
      "GC-content: 50%\n"
     ]
    }
   ],
   "source": [
    "# Write code here for calculating the %GC content from the sequence_reads, and computing the estimated melting temperature.\n",
    "def gc_content(sequence):\n",
    "    seq = \"\".join(sequence)\n",
    "    gc = seq.count('C') + seq.count('G')\n",
    "    gc_f = gc/(len(seq))\n",
    "    gc_ratio = gc_f * 100\n",
    "    return round(gc_ratio)\n",
    "def melting_temp(seq):\n",
    "    x = gc_content(seq)/100\n",
    "    return round(64.9 + (0.41*x) - (5/2))\n",
    "gc = gc_content(sequence_reads)\n",
    "print('GC-content:',str(gc) + '%')\n",
    "\n",
    "\n",
    "\n",
    "\n",
    " "
   ]
  },
  {
   "cell_type": "code",
   "execution_count": 35,
   "id": "c5cc58d6",
   "metadata": {},
   "outputs": [
    {
     "name": "stdout",
     "output_type": "stream",
     "text": [
      "63°C\n"
     ]
    }
   ],
   "source": [
    "# Print out temperature in Celsius\n",
    "print(str(melting_temp(sequence_reads)) + '°C')"
   ]
  },
  {
   "cell_type": "markdown",
   "id": "72723374",
   "metadata": {},
   "source": [
    "## Interpreting Read Quality"
   ]
  },
  {
   "cell_type": "markdown",
   "id": "e9a67a93",
   "metadata": {},
   "source": [
    "Phred33 quality scores are represented as the character with an ASCII code equal to its value + 33 (to make them easy to print alongside genome sequences). The Phred scores $Q$ are related to error probabilities $P$ as: $Q = -10 \\log_{10}(P)$. The table linked here provides a mapping from the Phred values provided in a fastq file and the $Q$ values: [Quality Score Encoding](https://support.illumina.com/help/BaseSpace_OLH_009008/Content/Source/Informatics/BS/QualityScoreEncoding_swBS.htm) \n",
    "\n",
    "<div class=\"alert alert-success\">\n",
    "    \n",
    "**Problem 2.** Using the Phred scores, identify the _least likely to be correct_ read in the TeleTubby.fastq data, which is the read with the lowest probability that it contains _no_ errors.\n",
    "\n",
    "</div>"
   ]
  },
  {
   "cell_type": "code",
   "execution_count": 36,
   "id": "76758368",
   "metadata": {},
   "outputs": [
    {
     "name": "stdout",
     "output_type": "stream",
     "text": [
      "The least likely to be correct read (nucleotide sequence) is TTTTTGGT with a 0.00036459716167747125 probability of being incorrect.\n"
     ]
    }
   ],
   "source": [
    "# Write your code for Problem 2 here. \n",
    "# It should output the read (nucleotide sequence) with the lowest probability of containing no errors.\n",
    "\n",
    "\n",
    "def calc_prob(string):\n",
    "    prob_all_correct = 1\n",
    "    for i in string: \n",
    "        encode = ord(i)\n",
    "        q = encode - 33\n",
    "        prob_incorrect = pow(10,(-q/10))\n",
    "        prob_correct = 1 - prob_incorrect\n",
    "        prob_all_correct = prob_all_correct * prob_correct\n",
    "    return 1 - prob_all_correct\n",
    "        \n",
    "x = {} \n",
    "for i in sequence_reads: \n",
    "    x[i] = calc_prob(i)\n",
    "min_read = min(x, key=x.get)\n",
    "print('The least likely to be correct read (nucleotide sequence) is', min_read, \"with a\", x[min_read], \"probability of being incorrect.\")"
   ]
  },
  {
   "cell_type": "markdown",
   "id": "9d9abeb9",
   "metadata": {},
   "source": [
    "Note: For the following problems, you can ignore the read quality scores, and safely assume there are no actual errors in the provided TeleTubby reads."
   ]
  },
  {
   "cell_type": "markdown",
   "id": "8e55395f",
   "metadata": {},
   "source": [
    "## Frequency analysis\n",
    "\n",
    "Looking at repetitions in the sequence can be helpful in estimating the \"redudancy\" in the organisms. Eucaryote genomes have a lot of redundancy, while smaller organisms like bacteria have highly packed genomes. One heuristic to estimate this before actually performing the assembly could be looking at how often certain $k$-mers are repeated.\n",
    "\n",
    "<div class=\"alert alert-success\">\n",
    "    \n",
    "**Problem 3.**\n",
    "    Print out the 3 most frequent <em>k</em>-mers in the TeleTubby reads with their frequencies. (As in Problem 1, doing this from the reads only produces the same result as from the genome if the read coverage is equal everywhere, but it should be a close estimate.)\n",
    "</div>"
   ]
  },
  {
   "cell_type": "code",
   "execution_count": 37,
   "id": "bdbd6bc8",
   "metadata": {},
   "outputs": [
    {
     "name": "stdout",
     "output_type": "stream",
     "text": [
      "1. ATAAAATG: 2\n",
      "2. GTGATAGG: 2\n",
      "3. TAATTTTT: 2\n"
     ]
    }
   ],
   "source": [
    "# Your code here\n",
    "\n",
    "frequencies = {}\n",
    "\n",
    "for i in sequence_reads:\n",
    "    if i in frequencies:\n",
    "        frequencies[i] += 1\n",
    "    else:\n",
    "        frequencies[i] = 1\n",
    "for i in range(1, 4):\n",
    "    read = max(frequencies, key=frequencies.get)\n",
    "    print(str(i) + \".\", read + \":\", frequencies[read])\n",
    "    frequencies.pop(read)\n"
   ]
  },
  {
   "cell_type": "markdown",
   "id": "728a612b",
   "metadata": {},
   "source": [
    "## Greedy Assembly"
   ]
  },
  {
   "cell_type": "markdown",
   "id": "36c041ab",
   "metadata": {},
   "source": [
    "Given a set of sequence fragments, the objective of assembly can be viewed as finding the shortest sequence that contains all the fragments.\n",
    "\n",
    "One of the approaches to assemble the genome from the given reads is a greedy algorithm:\n",
    "\n",
    "```\n",
    "while (len(fragments) > 1):\n",
    "   calculate pairwise alignments of all pairs of fragments\n",
    "   merge the two fragments with the largest overlap\n",
    "genome = fragment[0] # the single remaining fragment is the genome\n",
    "```\n"
   ]
  },
  {
   "cell_type": "markdown",
   "id": "35f6e176",
   "metadata": {},
   "source": [
    "<div class=\"alert alert-success\">\n",
    "    \n",
    "**Problem 4 (a)**. What would the runtime be of this algorithm, given $n$ $k$-mer reads? (If you are not sure how to express your answer to this question, review [_Cost of Computation_](https://computingbiology.github.io/complexity/).)\n",
    "    </div>"
   ]
  },
  {
   "cell_type": "markdown",
   "id": "93985b9f",
   "metadata": {},
   "source": [
    "<i>Answer</i>: The runtime of the algorithm will be O(n) "
   ]
  },
  {
   "cell_type": "markdown",
   "id": "6d868a87",
   "metadata": {},
   "source": [
    "<div class=\"alert alert-success\">\n",
    "\n",
    "**Problem 4 (b)**. Is this algorithm guaranteed to find the correct genome? (A good answer will define what _correct_ means here, and explain why the algorithm is or is not guaranteed to find it.)"
   ]
  },
  {
   "cell_type": "markdown",
   "id": "12bfc75b",
   "metadata": {},
   "source": [
    "<i>Answer</i>: Let S be the set of sequence fragments. The algorithm is correct if it is able to return an output string x which contains as substrings all strings in S AND this output is the shortest possible output for which this condition is true. The algorithm is not guaranteed to find the correct genome because it may not return a sequence that contains all the fragments as substrings. All the fragments may not be returned because the algorithm will only merge fragments with the two largest overlaps, so some fragments may be missing in the final sequence. \n",
    "\n",
    "As an example, consider the set of reads [\"GCCC\", \"CCCG\", \"CAAC\"]\n",
    "Our algorithm will see an overlap of 3 between the first two reads and combine them to form \"GCCCG\". It will then be unable to fit in the last read, \"CAAC\", since it has no overlap with \"GCCCG\". A \"correct\" answer, which the greedy algorithm would be unable to find, would combine the first and third reads to get \"GCCCAAC\" and then combine the resulting string with the second read to get \"GCCCAACCCG\", a string that contains as substrings all of the reads."
   ]
  },
  {
   "cell_type": "markdown",
   "id": "44685e7e",
   "metadata": {},
   "source": [
    "## Graph-based Assembly"
   ]
  },
  {
   "cell_type": "markdown",
   "id": "c9d33cc7",
   "metadata": {},
   "source": [
    "Graphs for genome assembly can be constructed in two ways:\n",
    "\n",
    "- de Bruijn graph: Processing $k-$mers as nodes, with $(k-1)-$mers as edges, and\n",
    "- Overlap graph: Processing $k-$mers as edges, with $(k-1)-$mers as nodes.\n",
    "\n",
    "A de Bruijn graph can be processed to find Euler paths, while Overlap graphs can be processed to find Hamiltonian paths. Both of these methods can be used reconstruct the original genome.\n",
    "\n",
    "<div class=\"alert alert-success\">\n",
    "    \n",
    "**Problem 5.**  Use one of these two techniques to reconstruct the TeleTubby genome from the provided sequence reads. \n",
    "    \n",
    "</div>\n",
    "    \n",
    "We have provided some template code below that may be helpful (but feel free to ignore this is you prefer)."
   ]
  },
  {
   "cell_type": "code",
   "execution_count": 38,
   "id": "c50bc332",
   "metadata": {},
   "outputs": [],
   "source": [
    "# Read reads into graph\n",
    "\n",
    "def build_graph(k_mers):\n",
    "    edges = set()\n",
    "    nodes = set()\n",
    "    for s in k_mers:\n",
    "        edges.add((s[:-1],s[1:]))\n",
    "        nodes.add(s[:-1])\n",
    "        nodes.add(s[1:])\n",
    "    nodes, edges, start_node = make_fully_balanced(nodes, edges)\n",
    "    return nodes, edges, start_node\n",
    "\n",
    "def make_fully_balanced(nodes, edges):\n",
    "    start_node = ''\n",
    "    end_node = ''\n",
    "    for node in nodes:\n",
    "        edges_in = 0\n",
    "        edges_out = 0\n",
    "        for edge in edges:\n",
    "            if edge[1] == node:\n",
    "                edges_in += 1\n",
    "            if edge[0] == node:\n",
    "                edges_out += 1\n",
    "        if (edges_in == 0):\n",
    "            start_node = node\n",
    "        elif (edges_out == 0):\n",
    "            end_node = node\n",
    "    edges.add((end_node, start_node))\n",
    "    return nodes, edges, start_node"
   ]
  },
  {
   "cell_type": "code",
   "execution_count": 39,
   "id": "f60e36d1",
   "metadata": {},
   "outputs": [
    {
     "name": "stdout",
     "output_type": "stream",
     "text": [
      "{'TCGGAGG', 'CCAACGC', 'CCACGGA', 'GATAAAA', 'TGACTCG', 'CGAGTGA', 'ATCGTGT', 'ATGCCAA', 'TTTTGGT', 'ACGTATC', 'ACGGACT', 'ACTCGGA', 'TAGGTGA', 'TGGCCCC', 'GGTCGTA', 'AACGCTT', 'CTCGGAG', 'CGACGAA', 'TGGCCAC', 'TGTGTCG', 'CGGAGGA', 'ATTTTTG', 'GGTGTCG', 'ACCACGG', 'CGCATCG', 'CTTACAT', 'ACCTGTT', 'ATCGTAC', 'CCCCCGC', 'ATGGCCC', 'ACGAATG', 'TCCATCG', 'CAGGTGT', 'GTCATGC', 'GGGATTG', 'GACTCCG', 'TGTTATG', 'TCGTACA', 'CACATGG', 'GTGATAG', 'GATCACT', 'TCATGCA', 'AATGGCC', 'CTTTAAC', 'CGGTAGA', 'CAACGCT', 'ATGTCAT', 'GCCAACG', 'AGGTGAC', 'ATAAAAT', 'CACGTAT', 'ACATGGC', 'TGGTCGT', 'TAATTTT', 'GCCCCAC', 'CGTACAG', 'TTTAACG', 'AAAATGG', 'ATGCACA', 'CCCCGCG', 'ACTTTAA', 'ATCCATC', 'CACATAA', 'AATTTTT', 'CCCCACC', 'AAACCTG', 'GCCACAT', 'CCACATA', 'AGTGATA', 'GCTTACA', 'TTATGCC', 'TAAACCT', 'ATTGTGT', 'TATCCAT', 'ACATAAT', 'CCGCGCA', 'CACGGAC', 'CCTACCG', 'GTTGATA', 'TTGATAA', 'CATCGTA', 'GGCCACA', 'TTTGGTC', 'AGGATCA', 'TGTTGAT', 'ACAGGTG', 'CATAGGG', 'ATAATTT', 'GTTATGC', 'GAGTGAT', 'ATGGCCA', 'TTAACGA', 'AGGTGTC', 'TGCCAAC', 'GTAAACC', 'GGTAAAC', 'GACCACG', 'GCGCATC', 'ATCCCCC', 'AACGACC', 'GATTGTG', 'CCCGCGC', 'ATAGGTG', 'TGTCGAT', 'AATGTCA', 'GACTCGG', 'CCGACGA', 'GACGAAT', 'TGGTAAA', 'GGTGACT', 'CCGGTAG', 'TAGGGGA', 'TCCGGTA', 'AGGGGAT', 'ACGACCA', 'TCGTGTT', 'TGTCGAG', 'CCACGTA', 'ACCGACG', 'CGAATGT', 'TACAGGT', 'TCGATGG', 'ATAGGGG', 'CATAATT', 'GTACATC', 'CGGACTC', 'GAATGTC', 'CATCCCC', 'CCACCAC', 'CGTATCC', 'CATCGTG', 'CTACCGA', 'TGCACAT', 'GTACAGG', 'AACCTGT', 'CATGCAC', 'ACATCCC', 'GATGGTA', 'TCGAGTG', 'CGACCAC', 'GAGGATC', 'TCCCCCG', 'GTGACTC', 'GTGTCGA', 'TGATAAA', 'CGATGGT', 'GGATTGT', 'TACCGAC', 'TACATAG', 'TTGGTCG', 'CCATCGT', 'AAATGGC', 'TAAAATG', 'GGAGGAT', 'GATAGGT', 'TTGTGTC', 'GTATCCA', 'GCACATG', 'TATGCCA', 'CGCGCAT', 'ACCACGT', 'CCCACCA', 'GTCGTAC', 'GTCGATG', 'GTCGAGT', 'CGCTTAC', 'TCACTTT', 'CATGGCC', 'CACCACG', 'ATGGTAA', 'GTGTTAT', 'GGCCCCA', 'TTTTTGG', 'ATCACTT', 'TGATAGG', 'TGTCATG', 'GGACTCC', 'CTCCGGT', 'TAACGAC', 'CCTGTTG', 'ACTCCGG', 'ACATAGG', 'TACATCC', 'CGTACAT', 'CTGTTGA', 'CACTTTA', 'GGGGATT', 'GGATCAC', 'CGTGTTA', 'TTACATA', 'ACGCTTA', 'GCATCGT'}\n",
      "{('ACTCGGA', 'CTCGGAG'), ('TTTAACG', 'TTAACGA'), ('GTATCCA', 'TATCCAT'), ('TAAAATG', 'AAAATGG'), ('TCCCCCG', 'CCCCCGC'), ('CCACGGA', 'CACGGAC'), ('TGCCAAC', 'GCCAACG'), ('CGACCAC', 'GACCACG'), ('GGCCCCA', 'GCCCCAC'), ('GACGAAT', 'ACGAATG'), ('GATGGTA', 'ATGGTAA'), ('ATGCACA', 'TGCACAT'), ('GGCCACA', 'GCCACAT'), ('CACATAA', 'ACATAAT'), ('CACGTAT', 'ACGTATC'), ('CATGCAC', 'ATGCACA'), ('CGCTTAC', 'GCTTACA'), ('GGACTCC', 'GACTCCG'), ('TGTTATG', 'GTTATGC'), ('TCGAGTG', 'CGAGTGA'), ('ACTCCGG', 'CTCCGGT'), ('GACCACG', 'ACCACGG'), ('ACCACGG', 'CCACGGA'), ('GTCGATG', 'TCGATGG'), ('GATAGGT', 'ATAGGTG'), ('TACATCC', 'ACATCCC'), ('ATAATTT', 'TAATTTT'), ('GATAAAA', 'ATAAAAT'), ('AACGACC', 'ACGACCA'), ('CTTACAT', 'TTACATA'), ('AAACCTG', 'AACCTGT'), ('ATGGTAA', 'TGGTAAA'), ('GCCAACG', 'CCAACGC'), ('TGTTGAT', 'GTTGATA'), ('TGTCGAT', 'GTCGATG'), ('CGATGGT', 'GATGGTA'), ('AACCTGT', 'ACCTGTT'), ('CTGTTGA', 'TGTTGAT'), ('CCCCACC', 'CCCACCA'), ('GGTCGTA', 'GTCGTAC'), ('GAGTGAT', 'AGTGATA'), ('CATGGCC', 'ATGGCCC'), ('AATTTTT', 'ATTTTTG'), ('GTCGAGT', 'TCGAGTG'), ('TGGTAAA', 'GGTAAAC'), ('TGGCCCC', 'GGCCCCA'), ('ATGGCCA', 'TGGCCAC'), ('GTTATGC', 'TTATGCC'), ('AGTGATA', 'GTGATAG'), ('CACTTTA', 'ACTTTAA'), ('GCCCCAC', 'CCCCACC'), ('TCACTTT', 'CACTTTA'), ('GTGTTAT', 'TGTTATG'), ('ACAGGTG', 'CAGGTGT'), ('CCATCGT', 'CATCGTA'), ('GGTAAAC', 'GTAAACC'), ('GTACATC', 'TACATCC'), ('ATGCCAA', 'TGCCAAC'), ('CCTACCG', 'CTACCGA'), ('AGGATCA', 'GGATCAC'), ('TAGGGGA', 'AGGGGAT'), ('AGGTGTC', 'GGTGTCG'), ('TGTCATG', 'GTCATGC'), ('TTACATA', 'TACATAG'), ('CACATGG', 'ACATGGC'), ('ACATAAT', 'CATAATT'), ('TAGGTGA', 'AGGTGAC'), ('AAAATGG', 'AAATGGC'), ('TCGTGTT', 'CGTGTTA'), ('ATAGGTG', 'TAGGTGA'), ('CATAATT', 'ATAATTT'), ('ATCGTAC', 'TCGTACA'), ('ATGGCCC', 'TGGCCCC'), ('CGTACAG', 'GTACAGG'), ('GTGATAG', 'TGATAGG'), ('CCGCGCA', 'CGCGCAT'), ('AACGCTT', 'ACGCTTA'), ('CGCATCG', 'GCATCGT'), ('AAATGGC', 'AATGGCC'), ('AATGGCC', 'ATGGCCA'), ('AATGTCA', 'ATGTCAT'), ('TCGTACA', 'CGTACAG'), ('CAACGCT', 'AACGCTT'), ('TGGTCGT', 'GGTCGTA'), ('GTCATGC', 'TCATGCA'), ('GTGACTC', 'TGACTCG'), ('GATCACT', 'ATCACTT'), ('GAATGTC', 'AATGTCA'), ('GTCGTAC', 'TCGTACA'), ('TTGTGTC', 'TGTGTCG'), ('GAGGATC', 'AGGATCA'), ('CCGACGA', 'CGACGAA'), ('CATCGTG', 'ATCGTGT'), ('GTACAGG', 'TACAGGT'), ('CGGTAGA', 'CCTACCG'), ('AGGGGAT', 'GGGGATT'), ('CCCGCGC', 'CCGCGCA'), ('GTAAACC', 'TAAACCT'), ('TACCGAC', 'ACCGACG'), ('CGTACAT', 'GTACATC'), ('TGCACAT', 'GCACATG'), ('TGTCGAG', 'GTCGAGT'), ('ACATGGC', 'CATGGCC'), ('GATTGTG', 'ATTGTGT'), ('CTACCGA', 'TACCGAC'), ('CCACATA', 'CACATAA'), ('TTGATAA', 'TGATAAA'), ('TTTGGTC', 'TTGGTCG'), ('ACCACGT', 'CCACGTA'), ('ACGAATG', 'CGAATGT'), ('CGTGTTA', 'GTGTTAT'), ('TGGCCAC', 'GGCCACA'), ('CCCCGCG', 'CCCGCGC'), ('GGATCAC', 'GATCACT'), ('ACGCTTA', 'CGCTTAC'), ('CCAACGC', 'CAACGCT'), ('ACATCCC', 'CATCCCC'), ('CGGAGGA', 'GGAGGAT'), ('TAAACCT', 'AAACCTG'), ('TCGTACA', 'CGTACAT'), ('CGCGCAT', 'GCGCATC'), ('GCGCATC', 'CGCATCG'), ('TCGATGG', 'CGATGGT'), ('CACCACG', 'ACCACGT'), ('CGGACTC', 'GGACTCC'), ('TATGCCA', 'ATGCCAA'), ('ATCACTT', 'TCACTTT'), ('ATAGGGG', 'TAGGGGA'), ('GGAGGAT', 'GAGGATC'), ('ATCCATC', 'TCCATCG'), ('TTTTTGG', 'TTTTGGT'), ('TGACTCG', 'GACTCGG'), ('CTTTAAC', 'TTTAACG'), ('CTCGGAG', 'TCGGAGG'), ('CTCCGGT', 'TCCGGTA'), ('GACTCCG', 'ACTCCGG'), ('GTGTCGA', 'TGTCGAG'), ('GACTCGG', 'ACTCGGA'), ('TGATAAA', 'GATAAAA'), ('TCATGCA', 'CATGCAC'), ('GCCACAT', 'CCACATA'), ('TCCGGTA', 'CCGGTAG'), ('CATCCCC', 'ATCCCCC'), ('TTATGCC', 'TATGCCA'), ('GGTGACT', 'GTGACTC'), ('ATAAAAT', 'TAAAATG'), ('TCGGAGG', 'CGGAGGA'), ('GGGGATT', 'GGGATTG'), ('GCTTACA', 'CTTACAT'), ('GGATTGT', 'GATTGTG'), ('ACCTGTT', 'CCTGTTG'), ('CGTATCC', 'GTATCCA'), ('TGTGTCG', 'GTGTCGA'), ('CCACCAC', 'CACCACG'), ('ACGACCA', 'CGACCAC'), ('CAGGTGT', 'AGGTGTC'), ('ATTTTTG', 'TTTTTGG'), ('GGTGTCG', 'GTGTCGA'), ('GTGTCGA', 'TGTCGAT'), ('ATCCCCC', 'TCCCCCG'), ('CGAGTGA', 'GAGTGAT'), ('TGATAGG', 'GATAGGT'), ('CCTGTTG', 'CTGTTGA'), ('GCACATG', 'CACATGG'), ('CCCCCGC', 'CCCCGCG'), ('CGAATGT', 'GAATGTC'), ('ATTGTGT', 'TTGTGTC'), ('ATCGTGT', 'TCGTGTT'), ('TATCCAT', 'ATCCATC'), ('CGACGAA', 'GACGAAT'), ('TAATTTT', 'AATTTTT'), ('GCATCGT', 'CATCGTG'), ('TTGGTCG', 'TGGTCGT'), ('CCCACCA', 'CCACCAC'), ('GGGATTG', 'GGATTGT'), ('TACATAG', 'ACATAGG'), ('ACGGACT', 'CGGACTC'), ('CATAGGG', 'ATAGGGG'), ('GTTGATA', 'TTGATAA'), ('AGGTGAC', 'GGTGACT'), ('TTTTGGT', 'TTTGGTC'), ('TACAGGT', 'ACAGGTG'), ('ACATAGG', 'CATAGGG'), ('ACCGACG', 'CCGACGA'), ('ACTTTAA', 'CTTTAAC'), ('ACGTATC', 'CGTATCC'), ('TTAACGA', 'TAACGAC'), ('CATCGTA', 'ATCGTAC'), ('CCACGTA', 'CACGTAT'), ('CCGGTAG', 'CGGTAGA'), ('TAACGAC', 'AACGACC'), ('TCCATCG', 'CCATCGT'), ('CACGGAC', 'ACGGACT'), ('ATGTCAT', 'TGTCATG')}\n"
     ]
    }
   ],
   "source": [
    "\n",
    "nodes, edges, start_node = build_graph(sequence_reads)\n",
    "print(nodes)\n",
    "print(edges)"
   ]
  },
  {
   "cell_type": "code",
   "execution_count": 40,
   "id": "93131d20",
   "metadata": {},
   "outputs": [
    {
     "name": "stdout",
     "output_type": "stream",
     "text": [
      "The gvmagic extension is already loaded. To reload it, use:\n",
      "  %reload_ext gvmagic\n"
     ]
    }
   ],
   "source": [
    "# Needed to properly visualize graphs\n",
    "%load_ext gvmagic"
   ]
  },
  {
   "cell_type": "code",
   "execution_count": 41,
   "id": "a238b91e",
   "metadata": {},
   "outputs": [
    {
     "data": {
      "image/svg+xml": "<svg xmlns=\"http://www.w3.org/2000/svg\" xmlns:xlink=\"http://www.w3.org/1999/xlink\" width=\"347pt\" height=\"12140pt\" viewBox=\"0.00 0.00 346.69 12140.00\">\n<g id=\"graph0\" class=\"graph\" transform=\"scale(1 1) rotate(0) translate(4 12136)\">\n<title>Assembly graph</title>\n<polygon fill=\"white\" stroke=\"transparent\" points=\"-4,4 -4,-12136 342.69,-12136 342.69,4 -4,4\"/>\n<!-- ACTCGGA -->\n<g id=\"node1\" class=\"node\">\n<title>ACTCGGA</title>\n<ellipse fill=\"none\" stroke=\"black\" cx=\"280.19\" cy=\"-12114\" rx=\"57.69\" ry=\"18\"/>\n<text text-anchor=\"middle\" x=\"280.19\" y=\"-12110.3\" font-family=\"Times,serif\" font-size=\"14.00\">ACTCGGA</text>\n</g>\n<!-- CTCGGAG -->\n<g id=\"node2\" class=\"node\">\n<title>CTCGGAG</title>\n<ellipse fill=\"none\" stroke=\"black\" cx=\"237.19\" cy=\"-12042\" rx=\"58.49\" ry=\"18\"/>\n<text text-anchor=\"middle\" x=\"237.19\" y=\"-12038.3\" font-family=\"Times,serif\" font-size=\"14.00\">CTCGGAG</text>\n</g>\n<!-- ACTCGGA&#45;&gt;CTCGGAG -->\n<g id=\"edge1\" class=\"edge\">\n<title>ACTCGGA-&gt;CTCGGAG</title>\n<path fill=\"none\" stroke=\"black\" d=\"M269.79,-12096.05C264.72,-12087.8 258.51,-12077.7 252.88,-12068.54\"/>\n<polygon fill=\"black\" stroke=\"black\" points=\"255.72,-12066.48 247.51,-12059.79 249.76,-12070.14 255.72,-12066.48\"/>\n</g>\n<!-- TCGGAGG -->\n<g id=\"node178\" class=\"node\">\n<title>TCGGAGG</title>\n<ellipse fill=\"none\" stroke=\"black\" cx=\"236.19\" cy=\"-11970\" rx=\"59.29\" ry=\"18\"/>\n<text text-anchor=\"middle\" x=\"236.19\" y=\"-11966.3\" font-family=\"Times,serif\" font-size=\"14.00\">TCGGAGG</text>\n</g>\n<!-- CTCGGAG&#45;&gt;TCGGAGG -->\n<g id=\"edge134\" class=\"edge\">\n<title>CTCGGAG-&gt;TCGGAGG</title>\n<path fill=\"none\" stroke=\"black\" d=\"M236.95,-12023.7C236.84,-12015.98 236.71,-12006.71 236.58,-11998.11\"/>\n<polygon fill=\"black\" stroke=\"black\" points=\"240.08,-11998.05 236.44,-11988.1 233.08,-11998.15 240.08,-11998.05\"/>\n</g>\n<!-- TTTAACG -->\n<g id=\"node3\" class=\"node\">\n<title>TTTAACG</title>\n<ellipse fill=\"none\" stroke=\"black\" cx=\"235.19\" cy=\"-11106\" rx=\"55.79\" ry=\"18\"/>\n<text text-anchor=\"middle\" x=\"235.19\" y=\"-11102.3\" font-family=\"Times,serif\" font-size=\"14.00\">TTTAACG</text>\n</g>\n<!-- TTAACGA -->\n<g id=\"node4\" class=\"node\">\n<title>TTAACGA</title>\n<ellipse fill=\"none\" stroke=\"black\" cx=\"235.19\" cy=\"-11034\" rx=\"55.79\" ry=\"18\"/>\n<text text-anchor=\"middle\" x=\"235.19\" y=\"-11030.3\" font-family=\"Times,serif\" font-size=\"14.00\">TTAACGA</text>\n</g>\n<!-- TTTAACG&#45;&gt;TTAACGA -->\n<g id=\"edge2\" class=\"edge\">\n<title>TTTAACG-&gt;TTAACGA</title>\n<path fill=\"none\" stroke=\"black\" d=\"M235.19,-11087.7C235.19,-11079.98 235.19,-11070.71 235.19,-11062.11\"/>\n<polygon fill=\"black\" stroke=\"black\" points=\"238.7,-11062.1 235.19,-11052.1 231.7,-11062.1 238.7,-11062.1\"/>\n</g>\n<!-- TAACGAC -->\n<g id=\"node192\" class=\"node\">\n<title>TAACGAC</title>\n<ellipse fill=\"none\" stroke=\"black\" cx=\"235.19\" cy=\"-10962\" rx=\"56.59\" ry=\"18\"/>\n<text text-anchor=\"middle\" x=\"235.19\" y=\"-10958.3\" font-family=\"Times,serif\" font-size=\"14.00\">TAACGAC</text>\n</g>\n<!-- TTAACGA&#45;&gt;TAACGAC -->\n<g id=\"edge187\" class=\"edge\">\n<title>TTAACGA-&gt;TAACGAC</title>\n<path fill=\"none\" stroke=\"black\" d=\"M235.19,-11015.7C235.19,-11007.98 235.19,-10998.71 235.19,-10990.11\"/>\n<polygon fill=\"black\" stroke=\"black\" points=\"238.7,-10990.1 235.19,-10980.1 231.7,-10990.1 238.7,-10990.1\"/>\n</g>\n<!-- GTATCCA -->\n<g id=\"node5\" class=\"node\">\n<title>GTATCCA</title>\n<ellipse fill=\"none\" stroke=\"black\" cx=\"235.19\" cy=\"-7218\" rx=\"55.79\" ry=\"18\"/>\n<text text-anchor=\"middle\" x=\"235.19\" y=\"-7214.3\" font-family=\"Times,serif\" font-size=\"14.00\">GTATCCA</text>\n</g>\n<!-- TATCCAT -->\n<g id=\"node6\" class=\"node\">\n<title>TATCCAT</title>\n<ellipse fill=\"none\" stroke=\"black\" cx=\"235.19\" cy=\"-7146\" rx=\"53.89\" ry=\"18\"/>\n<text text-anchor=\"middle\" x=\"235.19\" y=\"-7142.3\" font-family=\"Times,serif\" font-size=\"14.00\">TATCCAT</text>\n</g>\n<!-- GTATCCA&#45;&gt;TATCCAT -->\n<g id=\"edge3\" class=\"edge\">\n<title>GTATCCA-&gt;TATCCAT</title>\n<path fill=\"none\" stroke=\"black\" d=\"M235.19,-7199.7C235.19,-7191.98 235.19,-7182.71 235.19,-7174.11\"/>\n<polygon fill=\"black\" stroke=\"black\" points=\"238.7,-7174.1 235.19,-7164.1 231.7,-7174.1 238.7,-7174.1\"/>\n</g>\n<!-- ATCCATC -->\n<g id=\"node172\" class=\"node\">\n<title>ATCCATC</title>\n<ellipse fill=\"none\" stroke=\"black\" cx=\"235.19\" cy=\"-7074\" rx=\"55.79\" ry=\"18\"/>\n<text text-anchor=\"middle\" x=\"235.19\" y=\"-7070.3\" font-family=\"Times,serif\" font-size=\"14.00\">ATCCATC</text>\n</g>\n<!-- TATCCAT&#45;&gt;ATCCATC -->\n<g id=\"edge169\" class=\"edge\">\n<title>TATCCAT-&gt;ATCCATC</title>\n<path fill=\"none\" stroke=\"black\" d=\"M235.19,-7127.7C235.19,-7119.98 235.19,-7110.71 235.19,-7102.11\"/>\n<polygon fill=\"black\" stroke=\"black\" points=\"238.7,-7102.1 235.19,-7092.1 231.7,-7102.1 238.7,-7102.1\"/>\n</g>\n<!-- TAAAATG -->\n<g id=\"node7\" class=\"node\">\n<title>TAAAATG</title>\n<ellipse fill=\"none\" stroke=\"black\" cx=\"100.19\" cy=\"-1602\" rx=\"55.49\" ry=\"18\"/>\n<text text-anchor=\"middle\" x=\"100.19\" y=\"-1598.3\" font-family=\"Times,serif\" font-size=\"14.00\">TAAAATG</text>\n</g>\n<!-- AAAATGG -->\n<g id=\"node8\" class=\"node\">\n<title>AAAATGG</title>\n<ellipse fill=\"none\" stroke=\"black\" cx=\"100.19\" cy=\"-1530\" rx=\"56.59\" ry=\"18\"/>\n<text text-anchor=\"middle\" x=\"100.19\" y=\"-1526.3\" font-family=\"Times,serif\" font-size=\"14.00\">AAAATGG</text>\n</g>\n<!-- TAAAATG&#45;&gt;AAAATGG -->\n<g id=\"edge4\" class=\"edge\">\n<title>TAAAATG-&gt;AAAATGG</title>\n<path fill=\"none\" stroke=\"black\" d=\"M100.19,-1583.7C100.19,-1575.98 100.19,-1566.71 100.19,-1558.11\"/>\n<polygon fill=\"black\" stroke=\"black\" points=\"103.7,-1558.1 100.19,-1548.1 96.7,-1558.1 103.7,-1558.1\"/>\n</g>\n<!-- AAATGGC -->\n<g id=\"node111\" class=\"node\">\n<title>AAATGGC</title>\n<ellipse fill=\"none\" stroke=\"black\" cx=\"100.19\" cy=\"-1458\" rx=\"57.39\" ry=\"18\"/>\n<text text-anchor=\"middle\" x=\"100.19\" y=\"-1454.3\" font-family=\"Times,serif\" font-size=\"14.00\">AAATGGC</text>\n</g>\n<!-- AAAATGG&#45;&gt;AAATGGC -->\n<g id=\"edge68\" class=\"edge\">\n<title>AAAATGG-&gt;AAATGGC</title>\n<path fill=\"none\" stroke=\"black\" d=\"M100.19,-1511.7C100.19,-1503.98 100.19,-1494.71 100.19,-1486.11\"/>\n<polygon fill=\"black\" stroke=\"black\" points=\"103.7,-1486.1 100.19,-1476.1 96.7,-1486.1 103.7,-1486.1\"/>\n</g>\n<!-- TCCCCCG -->\n<g id=\"node9\" class=\"node\">\n<title>TCCCCCG</title>\n<ellipse fill=\"none\" stroke=\"black\" cx=\"235.19\" cy=\"-6210\" rx=\"57.69\" ry=\"18\"/>\n<text text-anchor=\"middle\" x=\"235.19\" y=\"-6206.3\" font-family=\"Times,serif\" font-size=\"14.00\">TCCCCCG</text>\n</g>\n<!-- CCCCCGC -->\n<g id=\"node10\" class=\"node\">\n<title>CCCCCGC</title>\n<ellipse fill=\"none\" stroke=\"black\" cx=\"236.19\" cy=\"-6138\" rx=\"59.29\" ry=\"18\"/>\n<text text-anchor=\"middle\" x=\"236.19\" y=\"-6134.3\" font-family=\"Times,serif\" font-size=\"14.00\">CCCCCGC</text>\n</g>\n<!-- TCCCCCG&#45;&gt;CCCCCGC -->\n<g id=\"edge5\" class=\"edge\">\n<title>TCCCCCG-&gt;CCCCCGC</title>\n<path fill=\"none\" stroke=\"black\" d=\"M235.44,-6191.7C235.55,-6183.98 235.68,-6174.71 235.81,-6166.11\"/>\n<polygon fill=\"black\" stroke=\"black\" points=\"239.31,-6166.15 235.95,-6156.1 232.31,-6166.05 239.31,-6166.15\"/>\n</g>\n<!-- CCCCGCG -->\n<g id=\"node163\" class=\"node\">\n<title>CCCCGCG</title>\n<ellipse fill=\"none\" stroke=\"black\" cx=\"235.19\" cy=\"-6066\" rx=\"59.59\" ry=\"18\"/>\n<text text-anchor=\"middle\" x=\"235.19\" y=\"-6062.3\" font-family=\"Times,serif\" font-size=\"14.00\">CCCCGCG</text>\n</g>\n<!-- CCCCCGC&#45;&gt;CCCCGCG -->\n<g id=\"edge165\" class=\"edge\">\n<title>CCCCCGC-&gt;CCCCGCG</title>\n<path fill=\"none\" stroke=\"black\" d=\"M235.95,-6119.7C235.84,-6111.98 235.71,-6102.71 235.58,-6094.11\"/>\n<polygon fill=\"black\" stroke=\"black\" points=\"239.08,-6094.05 235.44,-6084.1 232.08,-6094.15 239.08,-6094.05\"/>\n</g>\n<!-- CCACGGA -->\n<g id=\"node11\" class=\"node\">\n<title>CCACGGA</title>\n<ellipse fill=\"none\" stroke=\"black\" cx=\"235.19\" cy=\"-10530\" rx=\"58.49\" ry=\"18\"/>\n<text text-anchor=\"middle\" x=\"235.19\" y=\"-10526.3\" font-family=\"Times,serif\" font-size=\"14.00\">CCACGGA</text>\n</g>\n<!-- CACGGAC -->\n<g id=\"node12\" class=\"node\">\n<title>CACGGAC</title>\n<ellipse fill=\"none\" stroke=\"black\" cx=\"235.19\" cy=\"-10458\" rx=\"58.49\" ry=\"18\"/>\n<text text-anchor=\"middle\" x=\"235.19\" y=\"-10454.3\" font-family=\"Times,serif\" font-size=\"14.00\">CACGGAC</text>\n</g>\n<!-- CCACGGA&#45;&gt;CACGGAC -->\n<g id=\"edge6\" class=\"edge\">\n<title>CCACGGA-&gt;CACGGAC</title>\n<path fill=\"none\" stroke=\"black\" d=\"M235.19,-10511.7C235.19,-10503.98 235.19,-10494.71 235.19,-10486.11\"/>\n<polygon fill=\"black\" stroke=\"black\" points=\"238.7,-10486.1 235.19,-10476.1 231.7,-10486.1 238.7,-10486.1\"/>\n</g>\n<!-- ACGGACT -->\n<g id=\"node190\" class=\"node\">\n<title>ACGGACT</title>\n<ellipse fill=\"none\" stroke=\"black\" cx=\"235.19\" cy=\"-10386\" rx=\"57.69\" ry=\"18\"/>\n<text text-anchor=\"middle\" x=\"235.19\" y=\"-10382.3\" font-family=\"Times,serif\" font-size=\"14.00\">ACGGACT</text>\n</g>\n<!-- CACGGAC&#45;&gt;ACGGACT -->\n<g id=\"edge193\" class=\"edge\">\n<title>CACGGAC-&gt;ACGGACT</title>\n<path fill=\"none\" stroke=\"black\" d=\"M235.19,-10439.7C235.19,-10431.98 235.19,-10422.71 235.19,-10414.11\"/>\n<polygon fill=\"black\" stroke=\"black\" points=\"238.7,-10414.1 235.19,-10404.1 231.7,-10414.1 238.7,-10414.1\"/>\n</g>\n<!-- TGCCAAC -->\n<g id=\"node13\" class=\"node\">\n<title>TGCCAAC</title>\n<ellipse fill=\"none\" stroke=\"black\" cx=\"235.19\" cy=\"-4842\" rx=\"57.39\" ry=\"18\"/>\n<text text-anchor=\"middle\" x=\"235.19\" y=\"-4838.3\" font-family=\"Times,serif\" font-size=\"14.00\">TGCCAAC</text>\n</g>\n<!-- GCCAACG -->\n<g id=\"node14\" class=\"node\">\n<title>GCCAACG</title>\n<ellipse fill=\"none\" stroke=\"black\" cx=\"235.19\" cy=\"-4770\" rx=\"58.49\" ry=\"18\"/>\n<text text-anchor=\"middle\" x=\"235.19\" y=\"-4766.3\" font-family=\"Times,serif\" font-size=\"14.00\">GCCAACG</text>\n</g>\n<!-- TGCCAAC&#45;&gt;GCCAACG -->\n<g id=\"edge7\" class=\"edge\">\n<title>TGCCAAC-&gt;GCCAACG</title>\n<path fill=\"none\" stroke=\"black\" d=\"M235.19,-4823.7C235.19,-4815.98 235.19,-4806.71 235.19,-4798.11\"/>\n<polygon fill=\"black\" stroke=\"black\" points=\"238.7,-4798.1 235.19,-4788.1 231.7,-4798.1 238.7,-4798.1\"/>\n</g>\n<!-- CCAACGC -->\n<g id=\"node60\" class=\"node\">\n<title>CCAACGC</title>\n<ellipse fill=\"none\" stroke=\"black\" cx=\"235.19\" cy=\"-4698\" rx=\"57.69\" ry=\"18\"/>\n<text text-anchor=\"middle\" x=\"235.19\" y=\"-4694.3\" font-family=\"Times,serif\" font-size=\"14.00\">CCAACGC</text>\n</g>\n<!-- GCCAACG&#45;&gt;CCAACGC -->\n<g id=\"edge33\" class=\"edge\">\n<title>GCCAACG-&gt;CCAACGC</title>\n<path fill=\"none\" stroke=\"black\" d=\"M235.19,-4751.7C235.19,-4743.98 235.19,-4734.71 235.19,-4726.11\"/>\n<polygon fill=\"black\" stroke=\"black\" points=\"238.7,-4726.1 235.19,-4716.1 231.7,-4726.1 238.7,-4726.1\"/>\n</g>\n<!-- CGACCAC -->\n<g id=\"node15\" class=\"node\">\n<title>CGACCAC</title>\n<ellipse fill=\"none\" stroke=\"black\" cx=\"235.19\" cy=\"-10746\" rx=\"57.69\" ry=\"18\"/>\n<text text-anchor=\"middle\" x=\"235.19\" y=\"-10742.3\" font-family=\"Times,serif\" font-size=\"14.00\">CGACCAC</text>\n</g>\n<!-- GACCACG -->\n<g id=\"node16\" class=\"node\">\n<title>GACCACG</title>\n<ellipse fill=\"none\" stroke=\"black\" cx=\"235.19\" cy=\"-10674\" rx=\"58.49\" ry=\"18\"/>\n<text text-anchor=\"middle\" x=\"235.19\" y=\"-10670.3\" font-family=\"Times,serif\" font-size=\"14.00\">GACCACG</text>\n</g>\n<!-- CGACCAC&#45;&gt;GACCACG -->\n<g id=\"edge8\" class=\"edge\">\n<title>CGACCAC-&gt;GACCACG</title>\n<path fill=\"none\" stroke=\"black\" d=\"M235.19,-10727.7C235.19,-10719.98 235.19,-10710.71 235.19,-10702.11\"/>\n<polygon fill=\"black\" stroke=\"black\" points=\"238.7,-10702.1 235.19,-10692.1 231.7,-10702.1 238.7,-10702.1\"/>\n</g>\n<!-- ACCACGG -->\n<g id=\"node42\" class=\"node\">\n<title>ACCACGG</title>\n<ellipse fill=\"none\" stroke=\"black\" cx=\"235.19\" cy=\"-10602\" rx=\"58.49\" ry=\"18\"/>\n<text text-anchor=\"middle\" x=\"235.19\" y=\"-10598.3\" font-family=\"Times,serif\" font-size=\"14.00\">ACCACGG</text>\n</g>\n<!-- GACCACG&#45;&gt;ACCACGG -->\n<g id=\"edge22\" class=\"edge\">\n<title>GACCACG-&gt;ACCACGG</title>\n<path fill=\"none\" stroke=\"black\" d=\"M235.19,-10655.7C235.19,-10647.98 235.19,-10638.71 235.19,-10630.11\"/>\n<polygon fill=\"black\" stroke=\"black\" points=\"238.7,-10630.1 235.19,-10620.1 231.7,-10630.1 238.7,-10630.1\"/>\n</g>\n<!-- GGCCCCA -->\n<g id=\"node17\" class=\"node\">\n<title>GGCCCCA</title>\n<ellipse fill=\"none\" stroke=\"black\" cx=\"235.19\" cy=\"-8010\" rx=\"59.29\" ry=\"18\"/>\n<text text-anchor=\"middle\" x=\"235.19\" y=\"-8006.3\" font-family=\"Times,serif\" font-size=\"14.00\">GGCCCCA</text>\n</g>\n<!-- GCCCCAC -->\n<g id=\"node18\" class=\"node\">\n<title>GCCCCAC</title>\n<ellipse fill=\"none\" stroke=\"black\" cx=\"235.19\" cy=\"-7938\" rx=\"58.49\" ry=\"18\"/>\n<text text-anchor=\"middle\" x=\"235.19\" y=\"-7934.3\" font-family=\"Times,serif\" font-size=\"14.00\">GCCCCAC</text>\n</g>\n<!-- GGCCCCA&#45;&gt;GCCCCAC -->\n<g id=\"edge9\" class=\"edge\">\n<title>GGCCCCA-&gt;GCCCCAC</title>\n<path fill=\"none\" stroke=\"black\" d=\"M235.19,-7991.7C235.19,-7983.98 235.19,-7974.71 235.19,-7966.11\"/>\n<polygon fill=\"black\" stroke=\"black\" points=\"238.7,-7966.1 235.19,-7956.1 231.7,-7966.1 238.7,-7966.1\"/>\n</g>\n<!-- CCCCACC -->\n<g id=\"node67\" class=\"node\">\n<title>CCCCACC</title>\n<ellipse fill=\"none\" stroke=\"black\" cx=\"235.19\" cy=\"-7866\" rx=\"57.69\" ry=\"18\"/>\n<text text-anchor=\"middle\" x=\"235.19\" y=\"-7862.3\" font-family=\"Times,serif\" font-size=\"14.00\">CCCCACC</text>\n</g>\n<!-- GCCCCAC&#45;&gt;CCCCACC -->\n<g id=\"edge51\" class=\"edge\">\n<title>GCCCCAC-&gt;CCCCACC</title>\n<path fill=\"none\" stroke=\"black\" d=\"M235.19,-7919.7C235.19,-7911.98 235.19,-7902.71 235.19,-7894.11\"/>\n<polygon fill=\"black\" stroke=\"black\" points=\"238.7,-7894.1 235.19,-7884.1 231.7,-7894.1 238.7,-7894.1\"/>\n</g>\n<!-- GACGAAT -->\n<g id=\"node19\" class=\"node\">\n<title>GACGAAT</title>\n<ellipse fill=\"none\" stroke=\"black\" cx=\"235.19\" cy=\"-9306\" rx=\"57.39\" ry=\"18\"/>\n<text text-anchor=\"middle\" x=\"235.19\" y=\"-9302.3\" font-family=\"Times,serif\" font-size=\"14.00\">GACGAAT</text>\n</g>\n<!-- ACGAATG -->\n<g id=\"node20\" class=\"node\">\n<title>ACGAATG</title>\n<ellipse fill=\"none\" stroke=\"black\" cx=\"235.19\" cy=\"-9234\" rx=\"57.39\" ry=\"18\"/>\n<text text-anchor=\"middle\" x=\"235.19\" y=\"-9230.3\" font-family=\"Times,serif\" font-size=\"14.00\">ACGAATG</text>\n</g>\n<!-- GACGAAT&#45;&gt;ACGAATG -->\n<g id=\"edge10\" class=\"edge\">\n<title>GACGAAT-&gt;ACGAATG</title>\n<path fill=\"none\" stroke=\"black\" d=\"M235.19,-9287.7C235.19,-9279.98 235.19,-9270.71 235.19,-9262.11\"/>\n<polygon fill=\"black\" stroke=\"black\" points=\"238.7,-9262.1 235.19,-9252.1 231.7,-9262.1 238.7,-9262.1\"/>\n</g>\n<!-- CGAATGT -->\n<g id=\"node162\" class=\"node\">\n<title>CGAATGT</title>\n<ellipse fill=\"none\" stroke=\"black\" cx=\"235.19\" cy=\"-9162\" rx=\"56.59\" ry=\"18\"/>\n<text text-anchor=\"middle\" x=\"235.19\" y=\"-9158.3\" font-family=\"Times,serif\" font-size=\"14.00\">CGAATGT</text>\n</g>\n<!-- ACGAATG&#45;&gt;CGAATGT -->\n<g id=\"edge110\" class=\"edge\">\n<title>ACGAATG-&gt;CGAATGT</title>\n<path fill=\"none\" stroke=\"black\" d=\"M235.19,-9215.7C235.19,-9207.98 235.19,-9198.71 235.19,-9190.11\"/>\n<polygon fill=\"black\" stroke=\"black\" points=\"238.7,-9190.1 235.19,-9180.1 231.7,-9190.1 238.7,-9190.1\"/>\n</g>\n<!-- GATGGTA -->\n<g id=\"node21\" class=\"node\">\n<title>GATGGTA</title>\n<ellipse fill=\"none\" stroke=\"black\" cx=\"100.19\" cy=\"-2826\" rx=\"57.39\" ry=\"18\"/>\n<text text-anchor=\"middle\" x=\"100.19\" y=\"-2822.3\" font-family=\"Times,serif\" font-size=\"14.00\">GATGGTA</text>\n</g>\n<!-- ATGGTAA -->\n<g id=\"node22\" class=\"node\">\n<title>ATGGTAA</title>\n<ellipse fill=\"none\" stroke=\"black\" cx=\"100.19\" cy=\"-2754\" rx=\"55.79\" ry=\"18\"/>\n<text text-anchor=\"middle\" x=\"100.19\" y=\"-2750.3\" font-family=\"Times,serif\" font-size=\"14.00\">ATGGTAA</text>\n</g>\n<!-- GATGGTA&#45;&gt;ATGGTAA -->\n<g id=\"edge11\" class=\"edge\">\n<title>GATGGTA-&gt;ATGGTAA</title>\n<path fill=\"none\" stroke=\"black\" d=\"M100.19,-2807.7C100.19,-2799.98 100.19,-2790.71 100.19,-2782.11\"/>\n<polygon fill=\"black\" stroke=\"black\" points=\"103.7,-2782.1 100.19,-2772.1 96.7,-2782.1 103.7,-2782.1\"/>\n</g>\n<!-- TGGTAAA -->\n<g id=\"node59\" class=\"node\">\n<title>TGGTAAA</title>\n<ellipse fill=\"none\" stroke=\"black\" cx=\"100.19\" cy=\"-2682\" rx=\"55.79\" ry=\"18\"/>\n<text text-anchor=\"middle\" x=\"100.19\" y=\"-2678.3\" font-family=\"Times,serif\" font-size=\"14.00\">TGGTAAA</text>\n</g>\n<!-- ATGGTAA&#45;&gt;TGGTAAA -->\n<g id=\"edge32\" class=\"edge\">\n<title>ATGGTAA-&gt;TGGTAAA</title>\n<path fill=\"none\" stroke=\"black\" d=\"M100.19,-2735.7C100.19,-2727.98 100.19,-2718.71 100.19,-2710.11\"/>\n<polygon fill=\"black\" stroke=\"black\" points=\"103.7,-2710.1 100.19,-2700.1 96.7,-2710.1 103.7,-2710.1\"/>\n</g>\n<!-- ATGCACA -->\n<g id=\"node23\" class=\"node\">\n<title>ATGCACA</title>\n<ellipse fill=\"none\" stroke=\"black\" cx=\"235.19\" cy=\"-8586\" rx=\"56.59\" ry=\"18\"/>\n<text text-anchor=\"middle\" x=\"235.19\" y=\"-8582.3\" font-family=\"Times,serif\" font-size=\"14.00\">ATGCACA</text>\n</g>\n<!-- TGCACAT -->\n<g id=\"node24\" class=\"node\">\n<title>TGCACAT</title>\n<ellipse fill=\"none\" stroke=\"black\" cx=\"235.19\" cy=\"-8514\" rx=\"55.79\" ry=\"18\"/>\n<text text-anchor=\"middle\" x=\"235.19\" y=\"-8510.3\" font-family=\"Times,serif\" font-size=\"14.00\">TGCACAT</text>\n</g>\n<!-- ATGCACA&#45;&gt;TGCACAT -->\n<g id=\"edge12\" class=\"edge\">\n<title>ATGCACA-&gt;TGCACAT</title>\n<path fill=\"none\" stroke=\"black\" d=\"M235.19,-8567.7C235.19,-8559.98 235.19,-8550.71 235.19,-8542.11\"/>\n<polygon fill=\"black\" stroke=\"black\" points=\"238.7,-8542.1 235.19,-8532.1 231.7,-8542.1 238.7,-8542.1\"/>\n</g>\n<!-- GCACATG -->\n<g id=\"node151\" class=\"node\">\n<title>GCACATG</title>\n<ellipse fill=\"none\" stroke=\"black\" cx=\"235.19\" cy=\"-8442\" rx=\"57.69\" ry=\"18\"/>\n<text text-anchor=\"middle\" x=\"235.19\" y=\"-8438.3\" font-family=\"Times,serif\" font-size=\"14.00\">GCACATG</text>\n</g>\n<!-- TGCACAT&#45;&gt;GCACATG -->\n<g id=\"edge101\" class=\"edge\">\n<title>TGCACAT-&gt;GCACATG</title>\n<path fill=\"none\" stroke=\"black\" d=\"M235.19,-8495.7C235.19,-8487.98 235.19,-8478.71 235.19,-8470.11\"/>\n<polygon fill=\"black\" stroke=\"black\" points=\"238.7,-8470.1 235.19,-8460.1 231.7,-8470.1 238.7,-8470.1\"/>\n</g>\n<!-- GGCCACA -->\n<g id=\"node25\" class=\"node\">\n<title>GGCCACA</title>\n<ellipse fill=\"none\" stroke=\"black\" cx=\"100.19\" cy=\"-1170\" rx=\"58.49\" ry=\"18\"/>\n<text text-anchor=\"middle\" x=\"100.19\" y=\"-1166.3\" font-family=\"Times,serif\" font-size=\"14.00\">GGCCACA</text>\n</g>\n<!-- GCCACAT -->\n<g id=\"node26\" class=\"node\">\n<title>GCCACAT</title>\n<ellipse fill=\"none\" stroke=\"black\" cx=\"100.19\" cy=\"-1098\" rx=\"57.39\" ry=\"18\"/>\n<text text-anchor=\"middle\" x=\"100.19\" y=\"-1094.3\" font-family=\"Times,serif\" font-size=\"14.00\">GCCACAT</text>\n</g>\n<!-- GGCCACA&#45;&gt;GCCACAT -->\n<g id=\"edge13\" class=\"edge\">\n<title>GGCCACA-&gt;GCCACAT</title>\n<path fill=\"none\" stroke=\"black\" d=\"M100.19,-1151.7C100.19,-1143.98 100.19,-1134.71 100.19,-1126.11\"/>\n<polygon fill=\"black\" stroke=\"black\" points=\"103.7,-1126.1 100.19,-1116.1 96.7,-1126.1 103.7,-1126.1\"/>\n</g>\n<!-- CCACATA -->\n<g id=\"node155\" class=\"node\">\n<title>CCACATA</title>\n<ellipse fill=\"none\" stroke=\"black\" cx=\"100.19\" cy=\"-1026\" rx=\"55.79\" ry=\"18\"/>\n<text text-anchor=\"middle\" x=\"100.19\" y=\"-1022.3\" font-family=\"Times,serif\" font-size=\"14.00\">CCACATA</text>\n</g>\n<!-- GCCACAT&#45;&gt;CCACATA -->\n<g id=\"edge141\" class=\"edge\">\n<title>GCCACAT-&gt;CCACATA</title>\n<path fill=\"none\" stroke=\"black\" d=\"M100.19,-1079.7C100.19,-1071.98 100.19,-1062.71 100.19,-1054.11\"/>\n<polygon fill=\"black\" stroke=\"black\" points=\"103.7,-1054.1 100.19,-1044.1 96.7,-1054.1 103.7,-1054.1\"/>\n</g>\n<!-- CACATAA -->\n<g id=\"node27\" class=\"node\">\n<title>CACATAA</title>\n<ellipse fill=\"none\" stroke=\"black\" cx=\"100.19\" cy=\"-954\" rx=\"55.49\" ry=\"18\"/>\n<text text-anchor=\"middle\" x=\"100.19\" y=\"-950.3\" font-family=\"Times,serif\" font-size=\"14.00\">CACATAA</text>\n</g>\n<!-- ACATAAT -->\n<g id=\"node28\" class=\"node\">\n<title>ACATAAT</title>\n<ellipse fill=\"none\" stroke=\"black\" cx=\"100.19\" cy=\"-882\" rx=\"53.89\" ry=\"18\"/>\n<text text-anchor=\"middle\" x=\"100.19\" y=\"-878.3\" font-family=\"Times,serif\" font-size=\"14.00\">ACATAAT</text>\n</g>\n<!-- CACATAA&#45;&gt;ACATAAT -->\n<g id=\"edge14\" class=\"edge\">\n<title>CACATAA-&gt;ACATAAT</title>\n<path fill=\"none\" stroke=\"black\" d=\"M100.19,-935.7C100.19,-927.98 100.19,-918.71 100.19,-910.11\"/>\n<polygon fill=\"black\" stroke=\"black\" points=\"103.7,-910.1 100.19,-900.1 96.7,-910.1 103.7,-910.1\"/>\n</g>\n<!-- CATAATT -->\n<g id=\"node108\" class=\"node\">\n<title>CATAATT</title>\n<ellipse fill=\"none\" stroke=\"black\" cx=\"100.19\" cy=\"-810\" rx=\"53.89\" ry=\"18\"/>\n<text text-anchor=\"middle\" x=\"100.19\" y=\"-806.3\" font-family=\"Times,serif\" font-size=\"14.00\">CATAATT</text>\n</g>\n<!-- ACATAAT&#45;&gt;CATAATT -->\n<g id=\"edge66\" class=\"edge\">\n<title>ACATAAT-&gt;CATAATT</title>\n<path fill=\"none\" stroke=\"black\" d=\"M100.19,-863.7C100.19,-855.98 100.19,-846.71 100.19,-838.11\"/>\n<polygon fill=\"black\" stroke=\"black\" points=\"103.7,-838.1 100.19,-828.1 96.7,-838.1 103.7,-838.1\"/>\n</g>\n<!-- CACGTAT -->\n<g id=\"node29\" class=\"node\">\n<title>CACGTAT</title>\n<ellipse fill=\"none\" stroke=\"black\" cx=\"235.19\" cy=\"-7434\" rx=\"55.79\" ry=\"18\"/>\n<text text-anchor=\"middle\" x=\"235.19\" y=\"-7430.3\" font-family=\"Times,serif\" font-size=\"14.00\">CACGTAT</text>\n</g>\n<!-- ACGTATC -->\n<g id=\"node30\" class=\"node\">\n<title>ACGTATC</title>\n<ellipse fill=\"none\" stroke=\"black\" cx=\"235.19\" cy=\"-7362\" rx=\"55.79\" ry=\"18\"/>\n<text text-anchor=\"middle\" x=\"235.19\" y=\"-7358.3\" font-family=\"Times,serif\" font-size=\"14.00\">ACGTATC</text>\n</g>\n<!-- CACGTAT&#45;&gt;ACGTATC -->\n<g id=\"edge15\" class=\"edge\">\n<title>CACGTAT-&gt;ACGTATC</title>\n<path fill=\"none\" stroke=\"black\" d=\"M235.19,-7415.7C235.19,-7407.98 235.19,-7398.71 235.19,-7390.11\"/>\n<polygon fill=\"black\" stroke=\"black\" points=\"238.7,-7390.1 235.19,-7380.1 231.7,-7390.1 238.7,-7390.1\"/>\n</g>\n<!-- CGTATCC -->\n<g id=\"node187\" class=\"node\">\n<title>CGTATCC</title>\n<ellipse fill=\"none\" stroke=\"black\" cx=\"235.19\" cy=\"-7290\" rx=\"55.79\" ry=\"18\"/>\n<text text-anchor=\"middle\" x=\"235.19\" y=\"-7286.3\" font-family=\"Times,serif\" font-size=\"14.00\">CGTATCC</text>\n</g>\n<!-- ACGTATC&#45;&gt;CGTATCC -->\n<g id=\"edge186\" class=\"edge\">\n<title>ACGTATC-&gt;CGTATCC</title>\n<path fill=\"none\" stroke=\"black\" d=\"M235.19,-7343.7C235.19,-7335.98 235.19,-7326.71 235.19,-7318.11\"/>\n<polygon fill=\"black\" stroke=\"black\" points=\"238.7,-7318.1 235.19,-7308.1 231.7,-7318.1 238.7,-7318.1\"/>\n</g>\n<!-- CATGCAC -->\n<g id=\"node31\" class=\"node\">\n<title>CATGCAC</title>\n<ellipse fill=\"none\" stroke=\"black\" cx=\"235.19\" cy=\"-8658\" rx=\"57.39\" ry=\"18\"/>\n<text text-anchor=\"middle\" x=\"235.19\" y=\"-8654.3\" font-family=\"Times,serif\" font-size=\"14.00\">CATGCAC</text>\n</g>\n<!-- CATGCAC&#45;&gt;ATGCACA -->\n<g id=\"edge16\" class=\"edge\">\n<title>CATGCAC-&gt;ATGCACA</title>\n<path fill=\"none\" stroke=\"black\" d=\"M235.19,-8639.7C235.19,-8631.98 235.19,-8622.71 235.19,-8614.11\"/>\n<polygon fill=\"black\" stroke=\"black\" points=\"238.7,-8614.1 235.19,-8604.1 231.7,-8614.1 238.7,-8614.1\"/>\n</g>\n<!-- CGCTTAC -->\n<g id=\"node32\" class=\"node\">\n<title>CGCTTAC</title>\n<ellipse fill=\"none\" stroke=\"black\" cx=\"235.19\" cy=\"-4410\" rx=\"57.39\" ry=\"18\"/>\n<text text-anchor=\"middle\" x=\"235.19\" y=\"-4406.3\" font-family=\"Times,serif\" font-size=\"14.00\">CGCTTAC</text>\n</g>\n<!-- GCTTACA -->\n<g id=\"node33\" class=\"node\">\n<title>GCTTACA</title>\n<ellipse fill=\"none\" stroke=\"black\" cx=\"235.19\" cy=\"-4338\" rx=\"56.59\" ry=\"18\"/>\n<text text-anchor=\"middle\" x=\"235.19\" y=\"-4334.3\" font-family=\"Times,serif\" font-size=\"14.00\">GCTTACA</text>\n</g>\n<!-- CGCTTAC&#45;&gt;GCTTACA -->\n<g id=\"edge17\" class=\"edge\">\n<title>CGCTTAC-&gt;GCTTACA</title>\n<path fill=\"none\" stroke=\"black\" d=\"M235.19,-4391.7C235.19,-4383.98 235.19,-4374.71 235.19,-4366.11\"/>\n<polygon fill=\"black\" stroke=\"black\" points=\"238.7,-4366.1 235.19,-4356.1 231.7,-4366.1 238.7,-4366.1\"/>\n</g>\n<!-- CTTACAT -->\n<g id=\"node55\" class=\"node\">\n<title>CTTACAT</title>\n<ellipse fill=\"none\" stroke=\"black\" cx=\"235.19\" cy=\"-4266\" rx=\"55.49\" ry=\"18\"/>\n<text text-anchor=\"middle\" x=\"235.19\" y=\"-4262.3\" font-family=\"Times,serif\" font-size=\"14.00\">CTTACAT</text>\n</g>\n<!-- GCTTACA&#45;&gt;CTTACAT -->\n<g id=\"edge149\" class=\"edge\">\n<title>GCTTACA-&gt;CTTACAT</title>\n<path fill=\"none\" stroke=\"black\" d=\"M235.19,-4319.7C235.19,-4311.98 235.19,-4302.71 235.19,-4294.11\"/>\n<polygon fill=\"black\" stroke=\"black\" points=\"238.7,-4294.1 235.19,-4284.1 231.7,-4294.1 238.7,-4294.1\"/>\n</g>\n<!-- GGACTCC -->\n<g id=\"node34\" class=\"node\">\n<title>GGACTCC</title>\n<ellipse fill=\"none\" stroke=\"black\" cx=\"235.19\" cy=\"-10242\" rx=\"57.69\" ry=\"18\"/>\n<text text-anchor=\"middle\" x=\"235.19\" y=\"-10238.3\" font-family=\"Times,serif\" font-size=\"14.00\">GGACTCC</text>\n</g>\n<!-- GACTCCG -->\n<g id=\"node35\" class=\"node\">\n<title>GACTCCG</title>\n<ellipse fill=\"none\" stroke=\"black\" cx=\"235.19\" cy=\"-10170\" rx=\"57.69\" ry=\"18\"/>\n<text text-anchor=\"middle\" x=\"235.19\" y=\"-10166.3\" font-family=\"Times,serif\" font-size=\"14.00\">GACTCCG</text>\n</g>\n<!-- GGACTCC&#45;&gt;GACTCCG -->\n<g id=\"edge18\" class=\"edge\">\n<title>GGACTCC-&gt;GACTCCG</title>\n<path fill=\"none\" stroke=\"black\" d=\"M235.19,-10223.7C235.19,-10215.98 235.19,-10206.71 235.19,-10198.11\"/>\n<polygon fill=\"black\" stroke=\"black\" points=\"238.7,-10198.1 235.19,-10188.1 231.7,-10198.1 238.7,-10198.1\"/>\n</g>\n<!-- ACTCCGG -->\n<g id=\"node40\" class=\"node\">\n<title>ACTCCGG</title>\n<ellipse fill=\"none\" stroke=\"black\" cx=\"235.19\" cy=\"-10098\" rx=\"57.69\" ry=\"18\"/>\n<text text-anchor=\"middle\" x=\"235.19\" y=\"-10094.3\" font-family=\"Times,serif\" font-size=\"14.00\">ACTCCGG</text>\n</g>\n<!-- GACTCCG&#45;&gt;ACTCCGG -->\n<g id=\"edge136\" class=\"edge\">\n<title>GACTCCG-&gt;ACTCCGG</title>\n<path fill=\"none\" stroke=\"black\" d=\"M235.19,-10151.7C235.19,-10143.98 235.19,-10134.71 235.19,-10126.11\"/>\n<polygon fill=\"black\" stroke=\"black\" points=\"238.7,-10126.1 235.19,-10116.1 231.7,-10126.1 238.7,-10126.1\"/>\n</g>\n<!-- TGTTATG -->\n<g id=\"node36\" class=\"node\">\n<title>TGTTATG</title>\n<ellipse fill=\"none\" stroke=\"black\" cx=\"235.19\" cy=\"-5202\" rx=\"55.49\" ry=\"18\"/>\n<text text-anchor=\"middle\" x=\"235.19\" y=\"-5198.3\" font-family=\"Times,serif\" font-size=\"14.00\">TGTTATG</text>\n</g>\n<!-- GTTATGC -->\n<g id=\"node37\" class=\"node\">\n<title>GTTATGC</title>\n<ellipse fill=\"none\" stroke=\"black\" cx=\"235.19\" cy=\"-5130\" rx=\"55.79\" ry=\"18\"/>\n<text text-anchor=\"middle\" x=\"235.19\" y=\"-5126.3\" font-family=\"Times,serif\" font-size=\"14.00\">GTTATGC</text>\n</g>\n<!-- TGTTATG&#45;&gt;GTTATGC -->\n<g id=\"edge19\" class=\"edge\">\n<title>TGTTATG-&gt;GTTATGC</title>\n<path fill=\"none\" stroke=\"black\" d=\"M235.19,-5183.7C235.19,-5175.98 235.19,-5166.71 235.19,-5158.11\"/>\n<polygon fill=\"black\" stroke=\"black\" points=\"238.7,-5158.1 235.19,-5148.1 231.7,-5158.1 238.7,-5158.1\"/>\n</g>\n<!-- TTATGCC -->\n<g id=\"node82\" class=\"node\">\n<title>TTATGCC</title>\n<ellipse fill=\"none\" stroke=\"black\" cx=\"235.19\" cy=\"-5058\" rx=\"55.79\" ry=\"18\"/>\n<text text-anchor=\"middle\" x=\"235.19\" y=\"-5054.3\" font-family=\"Times,serif\" font-size=\"14.00\">TTATGCC</text>\n</g>\n<!-- GTTATGC&#45;&gt;TTATGCC -->\n<g id=\"edge48\" class=\"edge\">\n<title>GTTATGC-&gt;TTATGCC</title>\n<path fill=\"none\" stroke=\"black\" d=\"M235.19,-5111.7C235.19,-5103.98 235.19,-5094.71 235.19,-5086.11\"/>\n<polygon fill=\"black\" stroke=\"black\" points=\"238.7,-5086.1 235.19,-5076.1 231.7,-5086.1 238.7,-5086.1\"/>\n</g>\n<!-- TCGAGTG -->\n<g id=\"node38\" class=\"node\">\n<title>TCGAGTG</title>\n<ellipse fill=\"none\" stroke=\"black\" cx=\"234.19\" cy=\"-2970\" rx=\"57.69\" ry=\"18\"/>\n<text text-anchor=\"middle\" x=\"234.19\" y=\"-2966.3\" font-family=\"Times,serif\" font-size=\"14.00\">TCGAGTG</text>\n</g>\n<!-- CGAGTGA -->\n<g id=\"node39\" class=\"node\">\n<title>CGAGTGA</title>\n<ellipse fill=\"none\" stroke=\"black\" cx=\"234.19\" cy=\"-2898\" rx=\"57.69\" ry=\"18\"/>\n<text text-anchor=\"middle\" x=\"234.19\" y=\"-2894.3\" font-family=\"Times,serif\" font-size=\"14.00\">CGAGTGA</text>\n</g>\n<!-- TCGAGTG&#45;&gt;CGAGTGA -->\n<g id=\"edge20\" class=\"edge\">\n<title>TCGAGTG-&gt;CGAGTGA</title>\n<path fill=\"none\" stroke=\"black\" d=\"M234.19,-2951.7C234.19,-2943.98 234.19,-2934.71 234.19,-2926.11\"/>\n<polygon fill=\"black\" stroke=\"black\" points=\"237.7,-2926.1 234.19,-2916.1 230.7,-2926.1 237.7,-2926.1\"/>\n</g>\n<!-- GAGTGAT -->\n<g id=\"node71\" class=\"node\">\n<title>GAGTGAT</title>\n<ellipse fill=\"none\" stroke=\"black\" cx=\"234.19\" cy=\"-2826\" rx=\"57.39\" ry=\"18\"/>\n<text text-anchor=\"middle\" x=\"234.19\" y=\"-2822.3\" font-family=\"Times,serif\" font-size=\"14.00\">GAGTGAT</text>\n</g>\n<!-- CGAGTGA&#45;&gt;GAGTGAT -->\n<g id=\"edge161\" class=\"edge\">\n<title>CGAGTGA-&gt;GAGTGAT</title>\n<path fill=\"none\" stroke=\"black\" d=\"M234.19,-2879.7C234.19,-2871.98 234.19,-2862.71 234.19,-2854.11\"/>\n<polygon fill=\"black\" stroke=\"black\" points=\"237.7,-2854.1 234.19,-2844.1 230.7,-2854.1 237.7,-2854.1\"/>\n</g>\n<!-- CTCCGGT -->\n<g id=\"node41\" class=\"node\">\n<title>CTCCGGT</title>\n<ellipse fill=\"none\" stroke=\"black\" cx=\"235.19\" cy=\"-10026\" rx=\"57.69\" ry=\"18\"/>\n<text text-anchor=\"middle\" x=\"235.19\" y=\"-10022.3\" font-family=\"Times,serif\" font-size=\"14.00\">CTCCGGT</text>\n</g>\n<!-- ACTCCGG&#45;&gt;CTCCGGT -->\n<g id=\"edge21\" class=\"edge\">\n<title>ACTCCGG-&gt;CTCCGGT</title>\n<path fill=\"none\" stroke=\"black\" d=\"M235.19,-10079.7C235.19,-10071.98 235.19,-10062.71 235.19,-10054.11\"/>\n<polygon fill=\"black\" stroke=\"black\" points=\"238.7,-10054.1 235.19,-10044.1 231.7,-10054.1 238.7,-10054.1\"/>\n</g>\n<!-- TCCGGTA -->\n<g id=\"node179\" class=\"node\">\n<title>TCCGGTA</title>\n<ellipse fill=\"none\" stroke=\"black\" cx=\"235.19\" cy=\"-9954\" rx=\"57.39\" ry=\"18\"/>\n<text text-anchor=\"middle\" x=\"235.19\" y=\"-9950.3\" font-family=\"Times,serif\" font-size=\"14.00\">TCCGGTA</text>\n</g>\n<!-- CTCCGGT&#45;&gt;TCCGGTA -->\n<g id=\"edge135\" class=\"edge\">\n<title>CTCCGGT-&gt;TCCGGTA</title>\n<path fill=\"none\" stroke=\"black\" d=\"M235.19,-10007.7C235.19,-9999.98 235.19,-9990.71 235.19,-9982.11\"/>\n<polygon fill=\"black\" stroke=\"black\" points=\"238.7,-9982.1 235.19,-9972.1 231.7,-9982.1 238.7,-9982.1\"/>\n</g>\n<!-- ACCACGG&#45;&gt;CCACGGA -->\n<g id=\"edge23\" class=\"edge\">\n<title>ACCACGG-&gt;CCACGGA</title>\n<path fill=\"none\" stroke=\"black\" d=\"M235.19,-10583.7C235.19,-10575.98 235.19,-10566.71 235.19,-10558.11\"/>\n<polygon fill=\"black\" stroke=\"black\" points=\"238.7,-10558.1 235.19,-10548.1 231.7,-10558.1 238.7,-10558.1\"/>\n</g>\n<!-- GTCGATG -->\n<g id=\"node43\" class=\"node\">\n<title>GTCGATG</title>\n<ellipse fill=\"none\" stroke=\"black\" cx=\"100.19\" cy=\"-3042\" rx=\"57.69\" ry=\"18\"/>\n<text text-anchor=\"middle\" x=\"100.19\" y=\"-3038.3\" font-family=\"Times,serif\" font-size=\"14.00\">GTCGATG</text>\n</g>\n<!-- TCGATGG -->\n<g id=\"node44\" class=\"node\">\n<title>TCGATGG</title>\n<ellipse fill=\"none\" stroke=\"black\" cx=\"100.19\" cy=\"-2970\" rx=\"57.69\" ry=\"18\"/>\n<text text-anchor=\"middle\" x=\"100.19\" y=\"-2966.3\" font-family=\"Times,serif\" font-size=\"14.00\">TCGATGG</text>\n</g>\n<!-- GTCGATG&#45;&gt;TCGATGG -->\n<g id=\"edge24\" class=\"edge\">\n<title>GTCGATG-&gt;TCGATGG</title>\n<path fill=\"none\" stroke=\"black\" d=\"M100.19,-3023.7C100.19,-3015.98 100.19,-3006.71 100.19,-2998.11\"/>\n<polygon fill=\"black\" stroke=\"black\" points=\"103.7,-2998.1 100.19,-2988.1 96.7,-2998.1 103.7,-2998.1\"/>\n</g>\n<!-- CGATGGT -->\n<g id=\"node64\" class=\"node\">\n<title>CGATGGT</title>\n<ellipse fill=\"none\" stroke=\"black\" cx=\"100.19\" cy=\"-2898\" rx=\"57.69\" ry=\"18\"/>\n<text text-anchor=\"middle\" x=\"100.19\" y=\"-2894.3\" font-family=\"Times,serif\" font-size=\"14.00\">CGATGGT</text>\n</g>\n<!-- TCGATGG&#45;&gt;CGATGGT -->\n<g id=\"edge123\" class=\"edge\">\n<title>TCGATGG-&gt;CGATGGT</title>\n<path fill=\"none\" stroke=\"black\" d=\"M100.19,-2951.7C100.19,-2943.98 100.19,-2934.71 100.19,-2926.11\"/>\n<polygon fill=\"black\" stroke=\"black\" points=\"103.7,-2926.1 100.19,-2916.1 96.7,-2926.1 103.7,-2926.1\"/>\n</g>\n<!-- GATAGGT -->\n<g id=\"node45\" class=\"node\">\n<title>GATAGGT</title>\n<ellipse fill=\"none\" stroke=\"black\" cx=\"235.19\" cy=\"-2538\" rx=\"56.59\" ry=\"18\"/>\n<text text-anchor=\"middle\" x=\"235.19\" y=\"-2534.3\" font-family=\"Times,serif\" font-size=\"14.00\">GATAGGT</text>\n</g>\n<!-- ATAGGTG -->\n<g id=\"node46\" class=\"node\">\n<title>ATAGGTG</title>\n<ellipse fill=\"none\" stroke=\"black\" cx=\"235.19\" cy=\"-2466\" rx=\"56.59\" ry=\"18\"/>\n<text text-anchor=\"middle\" x=\"235.19\" y=\"-2462.3\" font-family=\"Times,serif\" font-size=\"14.00\">ATAGGTG</text>\n</g>\n<!-- GATAGGT&#45;&gt;ATAGGTG -->\n<g id=\"edge25\" class=\"edge\">\n<title>GATAGGT-&gt;ATAGGTG</title>\n<path fill=\"none\" stroke=\"black\" d=\"M235.19,-2519.7C235.19,-2511.98 235.19,-2502.71 235.19,-2494.11\"/>\n<polygon fill=\"black\" stroke=\"black\" points=\"238.7,-2494.1 235.19,-2484.1 231.7,-2494.1 238.7,-2494.1\"/>\n</g>\n<!-- TAGGTGA -->\n<g id=\"node109\" class=\"node\">\n<title>TAGGTGA</title>\n<ellipse fill=\"none\" stroke=\"black\" cx=\"236.19\" cy=\"-2394\" rx=\"57.39\" ry=\"18\"/>\n<text text-anchor=\"middle\" x=\"236.19\" y=\"-2390.3\" font-family=\"Times,serif\" font-size=\"14.00\">TAGGTGA</text>\n</g>\n<!-- ATAGGTG&#45;&gt;TAGGTGA -->\n<g id=\"edge70\" class=\"edge\">\n<title>ATAGGTG-&gt;TAGGTGA</title>\n<path fill=\"none\" stroke=\"black\" d=\"M235.44,-2447.7C235.55,-2439.98 235.68,-2430.71 235.81,-2422.11\"/>\n<polygon fill=\"black\" stroke=\"black\" points=\"239.31,-2422.15 235.95,-2412.1 232.31,-2422.05 239.31,-2422.15\"/>\n</g>\n<!-- TACATCC -->\n<g id=\"node47\" class=\"node\">\n<title>TACATCC</title>\n<ellipse fill=\"none\" stroke=\"black\" cx=\"233.19\" cy=\"-6498\" rx=\"55.79\" ry=\"18\"/>\n<text text-anchor=\"middle\" x=\"233.19\" y=\"-6494.3\" font-family=\"Times,serif\" font-size=\"14.00\">TACATCC</text>\n</g>\n<!-- ACATCCC -->\n<g id=\"node48\" class=\"node\">\n<title>ACATCCC</title>\n<ellipse fill=\"none\" stroke=\"black\" cx=\"233.19\" cy=\"-6426\" rx=\"56.59\" ry=\"18\"/>\n<text text-anchor=\"middle\" x=\"233.19\" y=\"-6422.3\" font-family=\"Times,serif\" font-size=\"14.00\">ACATCCC</text>\n</g>\n<!-- TACATCC&#45;&gt;ACATCCC -->\n<g id=\"edge26\" class=\"edge\">\n<title>TACATCC-&gt;ACATCCC</title>\n<path fill=\"none\" stroke=\"black\" d=\"M233.19,-6479.7C233.19,-6471.98 233.19,-6462.71 233.19,-6454.11\"/>\n<polygon fill=\"black\" stroke=\"black\" points=\"236.7,-6454.1 233.19,-6444.1 229.7,-6454.1 236.7,-6454.1\"/>\n</g>\n<!-- CATCCCC -->\n<g id=\"node164\" class=\"node\">\n<title>CATCCCC</title>\n<ellipse fill=\"none\" stroke=\"black\" cx=\"233.19\" cy=\"-6354\" rx=\"57.39\" ry=\"18\"/>\n<text text-anchor=\"middle\" x=\"233.19\" y=\"-6350.3\" font-family=\"Times,serif\" font-size=\"14.00\">CATCCCC</text>\n</g>\n<!-- ACATCCC&#45;&gt;CATCCCC -->\n<g id=\"edge117\" class=\"edge\">\n<title>ACATCCC-&gt;CATCCCC</title>\n<path fill=\"none\" stroke=\"black\" d=\"M233.19,-6407.7C233.19,-6399.98 233.19,-6390.71 233.19,-6382.11\"/>\n<polygon fill=\"black\" stroke=\"black\" points=\"236.7,-6382.1 233.19,-6372.1 229.7,-6382.1 236.7,-6382.1\"/>\n</g>\n<!-- ATAATTT -->\n<g id=\"node49\" class=\"node\">\n<title>ATAATTT</title>\n<ellipse fill=\"none\" stroke=\"black\" cx=\"100.19\" cy=\"-738\" rx=\"53.89\" ry=\"18\"/>\n<text text-anchor=\"middle\" x=\"100.19\" y=\"-734.3\" font-family=\"Times,serif\" font-size=\"14.00\">ATAATTT</text>\n</g>\n<!-- TAATTTT -->\n<g id=\"node50\" class=\"node\">\n<title>TAATTTT</title>\n<ellipse fill=\"none\" stroke=\"black\" cx=\"100.19\" cy=\"-666\" rx=\"53.89\" ry=\"18\"/>\n<text text-anchor=\"middle\" x=\"100.19\" y=\"-662.3\" font-family=\"Times,serif\" font-size=\"14.00\">TAATTTT</text>\n</g>\n<!-- ATAATTT&#45;&gt;TAATTTT -->\n<g id=\"edge27\" class=\"edge\">\n<title>ATAATTT-&gt;TAATTTT</title>\n<path fill=\"none\" stroke=\"black\" d=\"M100.19,-719.7C100.19,-711.98 100.19,-702.71 100.19,-694.11\"/>\n<polygon fill=\"black\" stroke=\"black\" points=\"103.7,-694.1 100.19,-684.1 96.7,-694.1 103.7,-694.1\"/>\n</g>\n<!-- AATTTTT -->\n<g id=\"node75\" class=\"node\">\n<title>AATTTTT</title>\n<ellipse fill=\"none\" stroke=\"black\" cx=\"100.19\" cy=\"-594\" rx=\"54.69\" ry=\"18\"/>\n<text text-anchor=\"middle\" x=\"100.19\" y=\"-590.3\" font-family=\"Times,serif\" font-size=\"14.00\">AATTTTT</text>\n</g>\n<!-- TAATTTT&#45;&gt;AATTTTT -->\n<g id=\"edge171\" class=\"edge\">\n<title>TAATTTT-&gt;AATTTTT</title>\n<path fill=\"none\" stroke=\"black\" d=\"M100.19,-647.7C100.19,-639.98 100.19,-630.71 100.19,-622.11\"/>\n<polygon fill=\"black\" stroke=\"black\" points=\"103.7,-622.1 100.19,-612.1 96.7,-622.1 103.7,-622.1\"/>\n</g>\n<!-- GATAAAA -->\n<g id=\"node51\" class=\"node\">\n<title>GATAAAA</title>\n<ellipse fill=\"none\" stroke=\"black\" cx=\"100.19\" cy=\"-1746\" rx=\"55.49\" ry=\"18\"/>\n<text text-anchor=\"middle\" x=\"100.19\" y=\"-1742.3\" font-family=\"Times,serif\" font-size=\"14.00\">GATAAAA</text>\n</g>\n<!-- ATAAAAT -->\n<g id=\"node52\" class=\"node\">\n<title>ATAAAAT</title>\n<ellipse fill=\"none\" stroke=\"black\" cx=\"100.19\" cy=\"-1674\" rx=\"53.89\" ry=\"18\"/>\n<text text-anchor=\"middle\" x=\"100.19\" y=\"-1670.3\" font-family=\"Times,serif\" font-size=\"14.00\">ATAAAAT</text>\n</g>\n<!-- GATAAAA&#45;&gt;ATAAAAT -->\n<g id=\"edge28\" class=\"edge\">\n<title>GATAAAA-&gt;ATAAAAT</title>\n<path fill=\"none\" stroke=\"black\" d=\"M100.19,-1727.7C100.19,-1719.98 100.19,-1710.71 100.19,-1702.11\"/>\n<polygon fill=\"black\" stroke=\"black\" points=\"103.7,-1702.1 100.19,-1692.1 96.7,-1702.1 103.7,-1702.1\"/>\n</g>\n<!-- ATAAAAT&#45;&gt;TAAAATG -->\n<g id=\"edge146\" class=\"edge\">\n<title>ATAAAAT-&gt;TAAAATG</title>\n<path fill=\"none\" stroke=\"black\" d=\"M100.19,-1655.7C100.19,-1647.98 100.19,-1638.71 100.19,-1630.11\"/>\n<polygon fill=\"black\" stroke=\"black\" points=\"103.7,-1630.1 100.19,-1620.1 96.7,-1630.1 103.7,-1630.1\"/>\n</g>\n<!-- AACGACC -->\n<g id=\"node53\" class=\"node\">\n<title>AACGACC</title>\n<ellipse fill=\"none\" stroke=\"black\" cx=\"235.19\" cy=\"-10890\" rx=\"57.69\" ry=\"18\"/>\n<text text-anchor=\"middle\" x=\"235.19\" y=\"-10886.3\" font-family=\"Times,serif\" font-size=\"14.00\">AACGACC</text>\n</g>\n<!-- ACGACCA -->\n<g id=\"node54\" class=\"node\">\n<title>ACGACCA</title>\n<ellipse fill=\"none\" stroke=\"black\" cx=\"235.19\" cy=\"-10818\" rx=\"57.69\" ry=\"18\"/>\n<text text-anchor=\"middle\" x=\"235.19\" y=\"-10814.3\" font-family=\"Times,serif\" font-size=\"14.00\">ACGACCA</text>\n</g>\n<!-- AACGACC&#45;&gt;ACGACCA -->\n<g id=\"edge29\" class=\"edge\">\n<title>AACGACC-&gt;ACGACCA</title>\n<path fill=\"none\" stroke=\"black\" d=\"M235.19,-10871.7C235.19,-10863.98 235.19,-10854.71 235.19,-10846.11\"/>\n<polygon fill=\"black\" stroke=\"black\" points=\"238.7,-10846.1 235.19,-10836.1 231.7,-10846.1 238.7,-10846.1\"/>\n</g>\n<!-- ACGACCA&#45;&gt;CGACCAC -->\n<g id=\"edge155\" class=\"edge\">\n<title>ACGACCA-&gt;CGACCAC</title>\n<path fill=\"none\" stroke=\"black\" d=\"M235.19,-10799.7C235.19,-10791.98 235.19,-10782.71 235.19,-10774.11\"/>\n<polygon fill=\"black\" stroke=\"black\" points=\"238.7,-10774.1 235.19,-10764.1 231.7,-10774.1 238.7,-10774.1\"/>\n</g>\n<!-- TTACATA -->\n<g id=\"node56\" class=\"node\">\n<title>TTACATA</title>\n<ellipse fill=\"none\" stroke=\"black\" cx=\"228.19\" cy=\"-4194\" rx=\"53.89\" ry=\"18\"/>\n<text text-anchor=\"middle\" x=\"228.19\" y=\"-4190.3\" font-family=\"Times,serif\" font-size=\"14.00\">TTACATA</text>\n</g>\n<!-- CTTACAT&#45;&gt;TTACATA -->\n<g id=\"edge30\" class=\"edge\">\n<title>CTTACAT-&gt;TTACATA</title>\n<path fill=\"none\" stroke=\"black\" d=\"M233.46,-4247.7C232.69,-4239.98 231.77,-4230.71 230.91,-4222.11\"/>\n<polygon fill=\"black\" stroke=\"black\" points=\"234.38,-4221.71 229.91,-4212.1 227.42,-4222.4 234.38,-4221.71\"/>\n</g>\n<!-- TACATAG -->\n<g id=\"node105\" class=\"node\">\n<title>TACATAG</title>\n<ellipse fill=\"none\" stroke=\"black\" cx=\"228.19\" cy=\"-4122\" rx=\"55.49\" ry=\"18\"/>\n<text text-anchor=\"middle\" x=\"228.19\" y=\"-4118.3\" font-family=\"Times,serif\" font-size=\"14.00\">TACATAG</text>\n</g>\n<!-- TTACATA&#45;&gt;TACATAG -->\n<g id=\"edge64\" class=\"edge\">\n<title>TTACATA-&gt;TACATAG</title>\n<path fill=\"none\" stroke=\"black\" d=\"M228.19,-4175.7C228.19,-4167.98 228.19,-4158.71 228.19,-4150.11\"/>\n<polygon fill=\"black\" stroke=\"black\" points=\"231.7,-4150.1 228.19,-4140.1 224.7,-4150.1 231.7,-4150.1\"/>\n</g>\n<!-- AAACCTG -->\n<g id=\"node57\" class=\"node\">\n<title>AAACCTG</title>\n<ellipse fill=\"none\" stroke=\"black\" cx=\"100.19\" cy=\"-2394\" rx=\"56.59\" ry=\"18\"/>\n<text text-anchor=\"middle\" x=\"100.19\" y=\"-2390.3\" font-family=\"Times,serif\" font-size=\"14.00\">AAACCTG</text>\n</g>\n<!-- AACCTGT -->\n<g id=\"node58\" class=\"node\">\n<title>AACCTGT</title>\n<ellipse fill=\"none\" stroke=\"black\" cx=\"100.19\" cy=\"-2322\" rx=\"55.79\" ry=\"18\"/>\n<text text-anchor=\"middle\" x=\"100.19\" y=\"-2318.3\" font-family=\"Times,serif\" font-size=\"14.00\">AACCTGT</text>\n</g>\n<!-- AAACCTG&#45;&gt;AACCTGT -->\n<g id=\"edge31\" class=\"edge\">\n<title>AAACCTG-&gt;AACCTGT</title>\n<path fill=\"none\" stroke=\"black\" d=\"M100.19,-2375.7C100.19,-2367.98 100.19,-2358.71 100.19,-2350.11\"/>\n<polygon fill=\"black\" stroke=\"black\" points=\"103.7,-2350.1 100.19,-2340.1 96.7,-2350.1 103.7,-2350.1\"/>\n</g>\n<!-- ACCTGTT -->\n<g id=\"node65\" class=\"node\">\n<title>ACCTGTT</title>\n<ellipse fill=\"none\" stroke=\"black\" cx=\"100.19\" cy=\"-2250\" rx=\"56.59\" ry=\"18\"/>\n<text text-anchor=\"middle\" x=\"100.19\" y=\"-2246.3\" font-family=\"Times,serif\" font-size=\"14.00\">ACCTGTT</text>\n</g>\n<!-- AACCTGT&#45;&gt;ACCTGTT -->\n<g id=\"edge37\" class=\"edge\">\n<title>AACCTGT-&gt;ACCTGTT</title>\n<path fill=\"none\" stroke=\"black\" d=\"M100.19,-2303.7C100.19,-2295.98 100.19,-2286.71 100.19,-2278.11\"/>\n<polygon fill=\"black\" stroke=\"black\" points=\"103.7,-2278.1 100.19,-2268.1 96.7,-2278.1 103.7,-2278.1\"/>\n</g>\n<!-- GGTAAAC -->\n<g id=\"node78\" class=\"node\">\n<title>GGTAAAC</title>\n<ellipse fill=\"none\" stroke=\"black\" cx=\"100.19\" cy=\"-2610\" rx=\"57.39\" ry=\"18\"/>\n<text text-anchor=\"middle\" x=\"100.19\" y=\"-2606.3\" font-family=\"Times,serif\" font-size=\"14.00\">GGTAAAC</text>\n</g>\n<!-- TGGTAAA&#45;&gt;GGTAAAC -->\n<g id=\"edge45\" class=\"edge\">\n<title>TGGTAAA-&gt;GGTAAAC</title>\n<path fill=\"none\" stroke=\"black\" d=\"M100.19,-2663.7C100.19,-2655.98 100.19,-2646.71 100.19,-2638.11\"/>\n<polygon fill=\"black\" stroke=\"black\" points=\"103.7,-2638.1 100.19,-2628.1 96.7,-2638.1 103.7,-2638.1\"/>\n</g>\n<!-- CAACGCT -->\n<g id=\"node128\" class=\"node\">\n<title>CAACGCT</title>\n<ellipse fill=\"none\" stroke=\"black\" cx=\"235.19\" cy=\"-4626\" rx=\"57.39\" ry=\"18\"/>\n<text text-anchor=\"middle\" x=\"235.19\" y=\"-4622.3\" font-family=\"Times,serif\" font-size=\"14.00\">CAACGCT</text>\n</g>\n<!-- CCAACGC&#45;&gt;CAACGCT -->\n<g id=\"edge116\" class=\"edge\">\n<title>CCAACGC-&gt;CAACGCT</title>\n<path fill=\"none\" stroke=\"black\" d=\"M235.19,-4679.7C235.19,-4671.98 235.19,-4662.71 235.19,-4654.11\"/>\n<polygon fill=\"black\" stroke=\"black\" points=\"238.7,-4654.1 235.19,-4644.1 231.7,-4654.1 238.7,-4654.1\"/>\n</g>\n<!-- TGTTGAT -->\n<g id=\"node61\" class=\"node\">\n<title>TGTTGAT</title>\n<ellipse fill=\"none\" stroke=\"black\" cx=\"100.19\" cy=\"-2034\" rx=\"55.79\" ry=\"18\"/>\n<text text-anchor=\"middle\" x=\"100.19\" y=\"-2030.3\" font-family=\"Times,serif\" font-size=\"14.00\">TGTTGAT</text>\n</g>\n<!-- GTTGATA -->\n<g id=\"node62\" class=\"node\">\n<title>GTTGATA</title>\n<ellipse fill=\"none\" stroke=\"black\" cx=\"100.19\" cy=\"-1962\" rx=\"55.79\" ry=\"18\"/>\n<text text-anchor=\"middle\" x=\"100.19\" y=\"-1958.3\" font-family=\"Times,serif\" font-size=\"14.00\">GTTGATA</text>\n</g>\n<!-- TGTTGAT&#45;&gt;GTTGATA -->\n<g id=\"edge34\" class=\"edge\">\n<title>TGTTGAT-&gt;GTTGATA</title>\n<path fill=\"none\" stroke=\"black\" d=\"M100.19,-2015.7C100.19,-2007.98 100.19,-1998.71 100.19,-1990.11\"/>\n<polygon fill=\"black\" stroke=\"black\" points=\"103.7,-1990.1 100.19,-1980.1 96.7,-1990.1 103.7,-1990.1\"/>\n</g>\n<!-- TTGATAA -->\n<g id=\"node156\" class=\"node\">\n<title>TTGATAA</title>\n<ellipse fill=\"none\" stroke=\"black\" cx=\"100.19\" cy=\"-1890\" rx=\"55.49\" ry=\"18\"/>\n<text text-anchor=\"middle\" x=\"100.19\" y=\"-1886.3\" font-family=\"Times,serif\" font-size=\"14.00\">TTGATAA</text>\n</g>\n<!-- GTTGATA&#45;&gt;TTGATAA -->\n<g id=\"edge179\" class=\"edge\">\n<title>GTTGATA-&gt;TTGATAA</title>\n<path fill=\"none\" stroke=\"black\" d=\"M100.19,-1943.7C100.19,-1935.98 100.19,-1926.71 100.19,-1918.11\"/>\n<polygon fill=\"black\" stroke=\"black\" points=\"103.7,-1918.1 100.19,-1908.1 96.7,-1918.1 103.7,-1918.1\"/>\n</g>\n<!-- TGTCGAT -->\n<g id=\"node63\" class=\"node\">\n<title>TGTCGAT</title>\n<ellipse fill=\"none\" stroke=\"black\" cx=\"100.19\" cy=\"-3114\" rx=\"55.79\" ry=\"18\"/>\n<text text-anchor=\"middle\" x=\"100.19\" y=\"-3110.3\" font-family=\"Times,serif\" font-size=\"14.00\">TGTCGAT</text>\n</g>\n<!-- TGTCGAT&#45;&gt;GTCGATG -->\n<g id=\"edge35\" class=\"edge\">\n<title>TGTCGAT-&gt;GTCGATG</title>\n<path fill=\"none\" stroke=\"black\" d=\"M100.19,-3095.7C100.19,-3087.98 100.19,-3078.71 100.19,-3070.11\"/>\n<polygon fill=\"black\" stroke=\"black\" points=\"103.7,-3070.1 100.19,-3060.1 96.7,-3070.1 103.7,-3070.1\"/>\n</g>\n<!-- CGATGGT&#45;&gt;GATGGTA -->\n<g id=\"edge36\" class=\"edge\">\n<title>CGATGGT-&gt;GATGGTA</title>\n<path fill=\"none\" stroke=\"black\" d=\"M100.19,-2879.7C100.19,-2871.98 100.19,-2862.71 100.19,-2854.11\"/>\n<polygon fill=\"black\" stroke=\"black\" points=\"103.7,-2854.1 100.19,-2844.1 96.7,-2854.1 103.7,-2854.1\"/>\n</g>\n<!-- CCTGTTG -->\n<g id=\"node186\" class=\"node\">\n<title>CCTGTTG</title>\n<ellipse fill=\"none\" stroke=\"black\" cx=\"100.19\" cy=\"-2178\" rx=\"57.69\" ry=\"18\"/>\n<text text-anchor=\"middle\" x=\"100.19\" y=\"-2174.3\" font-family=\"Times,serif\" font-size=\"14.00\">CCTGTTG</text>\n</g>\n<!-- ACCTGTT&#45;&gt;CCTGTTG -->\n<g id=\"edge151\" class=\"edge\">\n<title>ACCTGTT-&gt;CCTGTTG</title>\n<path fill=\"none\" stroke=\"black\" d=\"M100.19,-2231.7C100.19,-2223.98 100.19,-2214.71 100.19,-2206.11\"/>\n<polygon fill=\"black\" stroke=\"black\" points=\"103.7,-2206.1 100.19,-2196.1 96.7,-2206.1 103.7,-2206.1\"/>\n</g>\n<!-- CTGTTGA -->\n<g id=\"node66\" class=\"node\">\n<title>CTGTTGA</title>\n<ellipse fill=\"none\" stroke=\"black\" cx=\"100.19\" cy=\"-2106\" rx=\"57.39\" ry=\"18\"/>\n<text text-anchor=\"middle\" x=\"100.19\" y=\"-2102.3\" font-family=\"Times,serif\" font-size=\"14.00\">CTGTTGA</text>\n</g>\n<!-- CTGTTGA&#45;&gt;TGTTGAT -->\n<g id=\"edge38\" class=\"edge\">\n<title>CTGTTGA-&gt;TGTTGAT</title>\n<path fill=\"none\" stroke=\"black\" d=\"M100.19,-2087.7C100.19,-2079.98 100.19,-2070.71 100.19,-2062.11\"/>\n<polygon fill=\"black\" stroke=\"black\" points=\"103.7,-2062.1 100.19,-2052.1 96.7,-2062.1 103.7,-2062.1\"/>\n</g>\n<!-- CCCACCA -->\n<g id=\"node68\" class=\"node\">\n<title>CCCACCA</title>\n<ellipse fill=\"none\" stroke=\"black\" cx=\"235.19\" cy=\"-7794\" rx=\"57.69\" ry=\"18\"/>\n<text text-anchor=\"middle\" x=\"235.19\" y=\"-7790.3\" font-family=\"Times,serif\" font-size=\"14.00\">CCCACCA</text>\n</g>\n<!-- CCCCACC&#45;&gt;CCCACCA -->\n<g id=\"edge39\" class=\"edge\">\n<title>CCCCACC-&gt;CCCACCA</title>\n<path fill=\"none\" stroke=\"black\" d=\"M235.19,-7847.7C235.19,-7839.98 235.19,-7830.71 235.19,-7822.11\"/>\n<polygon fill=\"black\" stroke=\"black\" points=\"238.7,-7822.1 235.19,-7812.1 231.7,-7822.1 238.7,-7822.1\"/>\n</g>\n<!-- CCACCAC -->\n<g id=\"node188\" class=\"node\">\n<title>CCACCAC</title>\n<ellipse fill=\"none\" stroke=\"black\" cx=\"235.19\" cy=\"-7722\" rx=\"57.69\" ry=\"18\"/>\n<text text-anchor=\"middle\" x=\"235.19\" y=\"-7718.3\" font-family=\"Times,serif\" font-size=\"14.00\">CCACCAC</text>\n</g>\n<!-- CCCACCA&#45;&gt;CCACCAC -->\n<g id=\"edge174\" class=\"edge\">\n<title>CCCACCA-&gt;CCACCAC</title>\n<path fill=\"none\" stroke=\"black\" d=\"M235.19,-7775.7C235.19,-7767.98 235.19,-7758.71 235.19,-7750.11\"/>\n<polygon fill=\"black\" stroke=\"black\" points=\"238.7,-7750.1 235.19,-7740.1 231.7,-7750.1 238.7,-7750.1\"/>\n</g>\n<!-- GGTCGTA -->\n<g id=\"node69\" class=\"node\">\n<title>GGTCGTA</title>\n<ellipse fill=\"none\" stroke=\"black\" cx=\"100.19\" cy=\"-90\" rx=\"57.69\" ry=\"18\"/>\n<text text-anchor=\"middle\" x=\"100.19\" y=\"-86.3\" font-family=\"Times,serif\" font-size=\"14.00\">GGTCGTA</text>\n</g>\n<!-- GTCGTAC -->\n<g id=\"node70\" class=\"node\">\n<title>GTCGTAC</title>\n<ellipse fill=\"none\" stroke=\"black\" cx=\"57.19\" cy=\"-18\" rx=\"57.39\" ry=\"18\"/>\n<text text-anchor=\"middle\" x=\"57.19\" y=\"-14.3\" font-family=\"Times,serif\" font-size=\"14.00\">GTCGTAC</text>\n</g>\n<!-- GGTCGTA&#45;&gt;GTCGTAC -->\n<g id=\"edge40\" class=\"edge\">\n<title>GGTCGTA-&gt;GTCGTAC</title>\n<path fill=\"none\" stroke=\"black\" d=\"M89.79,-72.05C84.72,-63.8 78.51,-53.7 72.88,-44.54\"/>\n<polygon fill=\"black\" stroke=\"black\" points=\"75.72,-42.48 67.51,-35.79 69.76,-46.14 75.72,-42.48\"/>\n</g>\n<!-- TCGTACA -->\n<g id=\"node115\" class=\"node\">\n<title>TCGTACA</title>\n<ellipse fill=\"none\" stroke=\"black\" cx=\"167.19\" cy=\"-6714\" rx=\"55.79\" ry=\"18\"/>\n<text text-anchor=\"middle\" x=\"167.19\" y=\"-6710.3\" font-family=\"Times,serif\" font-size=\"14.00\">TCGTACA</text>\n</g>\n<!-- GTCGTAC&#45;&gt;TCGTACA -->\n<g id=\"edge89\" class=\"edge\">\n<title>GTCGTAC-&gt;TCGTACA</title>\n<path fill=\"none\" stroke=\"black\" d=\"M48.49,-35.98C35.93,-62.13 14.19,-114.12 14.19,-161 14.19,-6571 14.19,-6571 14.19,-6571 14.19,-6611.54 7.88,-6629.16 34.19,-6660 52.93,-6681.97 82.05,-6694.91 108.27,-6702.5\"/>\n<polygon fill=\"black\" stroke=\"black\" points=\"107.58,-6705.94 118.15,-6705.15 109.4,-6699.18 107.58,-6705.94\"/>\n</g>\n<!-- AGTGATA -->\n<g id=\"node72\" class=\"node\">\n<title>AGTGATA</title>\n<ellipse fill=\"none\" stroke=\"black\" cx=\"234.19\" cy=\"-2754\" rx=\"55.79\" ry=\"18\"/>\n<text text-anchor=\"middle\" x=\"234.19\" y=\"-2750.3\" font-family=\"Times,serif\" font-size=\"14.00\">AGTGATA</text>\n</g>\n<!-- GAGTGAT&#45;&gt;AGTGATA -->\n<g id=\"edge41\" class=\"edge\">\n<title>GAGTGAT-&gt;AGTGATA</title>\n<path fill=\"none\" stroke=\"black\" d=\"M234.19,-2807.7C234.19,-2799.98 234.19,-2790.71 234.19,-2782.11\"/>\n<polygon fill=\"black\" stroke=\"black\" points=\"237.7,-2782.1 234.19,-2772.1 230.7,-2782.1 237.7,-2782.1\"/>\n</g>\n<!-- GTGATAG -->\n<g id=\"node83\" class=\"node\">\n<title>GTGATAG</title>\n<ellipse fill=\"none\" stroke=\"black\" cx=\"235.19\" cy=\"-2682\" rx=\"56.59\" ry=\"18\"/>\n<text text-anchor=\"middle\" x=\"235.19\" y=\"-2678.3\" font-family=\"Times,serif\" font-size=\"14.00\">GTGATAG</text>\n</g>\n<!-- AGTGATA&#45;&gt;GTGATAG -->\n<g id=\"edge49\" class=\"edge\">\n<title>AGTGATA-&gt;GTGATAG</title>\n<path fill=\"none\" stroke=\"black\" d=\"M234.44,-2735.7C234.55,-2727.98 234.68,-2718.71 234.81,-2710.11\"/>\n<polygon fill=\"black\" stroke=\"black\" points=\"238.31,-2710.15 234.95,-2700.1 231.31,-2710.05 238.31,-2710.15\"/>\n</g>\n<!-- CATGGCC -->\n<g id=\"node73\" class=\"node\">\n<title>CATGGCC</title>\n<ellipse fill=\"none\" stroke=\"black\" cx=\"235.19\" cy=\"-8226\" rx=\"57.69\" ry=\"18\"/>\n<text text-anchor=\"middle\" x=\"235.19\" y=\"-8222.3\" font-family=\"Times,serif\" font-size=\"14.00\">CATGGCC</text>\n</g>\n<!-- ATGGCCC -->\n<g id=\"node74\" class=\"node\">\n<title>ATGGCCC</title>\n<ellipse fill=\"none\" stroke=\"black\" cx=\"235.19\" cy=\"-8154\" rx=\"57.69\" ry=\"18\"/>\n<text text-anchor=\"middle\" x=\"235.19\" y=\"-8150.3\" font-family=\"Times,serif\" font-size=\"14.00\">ATGGCCC</text>\n</g>\n<!-- CATGGCC&#45;&gt;ATGGCCC -->\n<g id=\"edge42\" class=\"edge\">\n<title>CATGGCC-&gt;ATGGCCC</title>\n<path fill=\"none\" stroke=\"black\" d=\"M235.19,-8207.7C235.19,-8199.98 235.19,-8190.71 235.19,-8182.11\"/>\n<polygon fill=\"black\" stroke=\"black\" points=\"238.7,-8182.1 235.19,-8172.1 231.7,-8182.1 238.7,-8182.1\"/>\n</g>\n<!-- TGGCCCC -->\n<g id=\"node79\" class=\"node\">\n<title>TGGCCCC</title>\n<ellipse fill=\"none\" stroke=\"black\" cx=\"235.19\" cy=\"-8082\" rx=\"58.49\" ry=\"18\"/>\n<text text-anchor=\"middle\" x=\"235.19\" y=\"-8078.3\" font-family=\"Times,serif\" font-size=\"14.00\">TGGCCCC</text>\n</g>\n<!-- ATGGCCC&#45;&gt;TGGCCCC -->\n<g id=\"edge73\" class=\"edge\">\n<title>ATGGCCC-&gt;TGGCCCC</title>\n<path fill=\"none\" stroke=\"black\" d=\"M235.19,-8135.7C235.19,-8127.98 235.19,-8118.71 235.19,-8110.11\"/>\n<polygon fill=\"black\" stroke=\"black\" points=\"238.7,-8110.1 235.19,-8100.1 231.7,-8110.1 238.7,-8110.1\"/>\n</g>\n<!-- ATTTTTG -->\n<g id=\"node76\" class=\"node\">\n<title>ATTTTTG</title>\n<ellipse fill=\"none\" stroke=\"black\" cx=\"100.19\" cy=\"-522\" rx=\"55.79\" ry=\"18\"/>\n<text text-anchor=\"middle\" x=\"100.19\" y=\"-518.3\" font-family=\"Times,serif\" font-size=\"14.00\">ATTTTTG</text>\n</g>\n<!-- AATTTTT&#45;&gt;ATTTTTG -->\n<g id=\"edge43\" class=\"edge\">\n<title>AATTTTT-&gt;ATTTTTG</title>\n<path fill=\"none\" stroke=\"black\" d=\"M100.19,-575.7C100.19,-567.98 100.19,-558.71 100.19,-550.11\"/>\n<polygon fill=\"black\" stroke=\"black\" points=\"103.7,-550.1 100.19,-540.1 96.7,-550.1 103.7,-550.1\"/>\n</g>\n<!-- TTTTTGG -->\n<g id=\"node174\" class=\"node\">\n<title>TTTTTGG</title>\n<ellipse fill=\"none\" stroke=\"black\" cx=\"100.19\" cy=\"-450\" rx=\"57.39\" ry=\"18\"/>\n<text text-anchor=\"middle\" x=\"100.19\" y=\"-446.3\" font-family=\"Times,serif\" font-size=\"14.00\">TTTTTGG</text>\n</g>\n<!-- ATTTTTG&#45;&gt;TTTTTGG -->\n<g id=\"edge157\" class=\"edge\">\n<title>ATTTTTG-&gt;TTTTTGG</title>\n<path fill=\"none\" stroke=\"black\" d=\"M100.19,-503.7C100.19,-495.98 100.19,-486.71 100.19,-478.11\"/>\n<polygon fill=\"black\" stroke=\"black\" points=\"103.7,-478.1 100.19,-468.1 96.7,-478.1 103.7,-478.1\"/>\n</g>\n<!-- GTCGAGT -->\n<g id=\"node77\" class=\"node\">\n<title>GTCGAGT</title>\n<ellipse fill=\"none\" stroke=\"black\" cx=\"234.19\" cy=\"-3042\" rx=\"57.69\" ry=\"18\"/>\n<text text-anchor=\"middle\" x=\"234.19\" y=\"-3038.3\" font-family=\"Times,serif\" font-size=\"14.00\">GTCGAGT</text>\n</g>\n<!-- GTCGAGT&#45;&gt;TCGAGTG -->\n<g id=\"edge44\" class=\"edge\">\n<title>GTCGAGT-&gt;TCGAGTG</title>\n<path fill=\"none\" stroke=\"black\" d=\"M234.19,-3023.7C234.19,-3015.98 234.19,-3006.71 234.19,-2998.11\"/>\n<polygon fill=\"black\" stroke=\"black\" points=\"237.7,-2998.1 234.19,-2988.1 230.7,-2998.1 237.7,-2998.1\"/>\n</g>\n<!-- GTAAACC -->\n<g id=\"node92\" class=\"node\">\n<title>GTAAACC</title>\n<ellipse fill=\"none\" stroke=\"black\" cx=\"100.19\" cy=\"-2538\" rx=\"56.59\" ry=\"18\"/>\n<text text-anchor=\"middle\" x=\"100.19\" y=\"-2534.3\" font-family=\"Times,serif\" font-size=\"14.00\">GTAAACC</text>\n</g>\n<!-- GGTAAAC&#45;&gt;GTAAACC -->\n<g id=\"edge56\" class=\"edge\">\n<title>GGTAAAC-&gt;GTAAACC</title>\n<path fill=\"none\" stroke=\"black\" d=\"M100.19,-2591.7C100.19,-2583.98 100.19,-2574.71 100.19,-2566.11\"/>\n<polygon fill=\"black\" stroke=\"black\" points=\"103.7,-2566.1 100.19,-2556.1 96.7,-2566.1 103.7,-2566.1\"/>\n</g>\n<!-- TGGCCCC&#45;&gt;GGCCCCA -->\n<g id=\"edge46\" class=\"edge\">\n<title>TGGCCCC-&gt;GGCCCCA</title>\n<path fill=\"none\" stroke=\"black\" d=\"M235.19,-8063.7C235.19,-8055.98 235.19,-8046.71 235.19,-8038.11\"/>\n<polygon fill=\"black\" stroke=\"black\" points=\"238.7,-8038.1 235.19,-8028.1 231.7,-8038.1 238.7,-8038.1\"/>\n</g>\n<!-- ATGGCCA -->\n<g id=\"node80\" class=\"node\">\n<title>ATGGCCA</title>\n<ellipse fill=\"none\" stroke=\"black\" cx=\"100.19\" cy=\"-1314\" rx=\"57.69\" ry=\"18\"/>\n<text text-anchor=\"middle\" x=\"100.19\" y=\"-1310.3\" font-family=\"Times,serif\" font-size=\"14.00\">ATGGCCA</text>\n</g>\n<!-- TGGCCAC -->\n<g id=\"node81\" class=\"node\">\n<title>TGGCCAC</title>\n<ellipse fill=\"none\" stroke=\"black\" cx=\"100.19\" cy=\"-1242\" rx=\"57.69\" ry=\"18\"/>\n<text text-anchor=\"middle\" x=\"100.19\" y=\"-1238.3\" font-family=\"Times,serif\" font-size=\"14.00\">TGGCCAC</text>\n</g>\n<!-- ATGGCCA&#45;&gt;TGGCCAC -->\n<g id=\"edge47\" class=\"edge\">\n<title>ATGGCCA-&gt;TGGCCAC</title>\n<path fill=\"none\" stroke=\"black\" d=\"M100.19,-1295.7C100.19,-1287.98 100.19,-1278.71 100.19,-1270.11\"/>\n<polygon fill=\"black\" stroke=\"black\" points=\"103.7,-1270.1 100.19,-1260.1 96.7,-1270.1 103.7,-1270.1\"/>\n</g>\n<!-- TGGCCAC&#45;&gt;GGCCACA -->\n<g id=\"edge112\" class=\"edge\">\n<title>TGGCCAC-&gt;GGCCACA</title>\n<path fill=\"none\" stroke=\"black\" d=\"M100.19,-1223.7C100.19,-1215.98 100.19,-1206.71 100.19,-1198.11\"/>\n<polygon fill=\"black\" stroke=\"black\" points=\"103.7,-1198.1 100.19,-1188.1 96.7,-1198.1 103.7,-1198.1\"/>\n</g>\n<!-- TATGCCA -->\n<g id=\"node170\" class=\"node\">\n<title>TATGCCA</title>\n<ellipse fill=\"none\" stroke=\"black\" cx=\"235.19\" cy=\"-4986\" rx=\"55.79\" ry=\"18\"/>\n<text text-anchor=\"middle\" x=\"235.19\" y=\"-4982.3\" font-family=\"Times,serif\" font-size=\"14.00\">TATGCCA</text>\n</g>\n<!-- TTATGCC&#45;&gt;TATGCCA -->\n<g id=\"edge144\" class=\"edge\">\n<title>TTATGCC-&gt;TATGCCA</title>\n<path fill=\"none\" stroke=\"black\" d=\"M235.19,-5039.7C235.19,-5031.98 235.19,-5022.71 235.19,-5014.11\"/>\n<polygon fill=\"black\" stroke=\"black\" points=\"238.7,-5014.1 235.19,-5004.1 231.7,-5014.1 238.7,-5014.1\"/>\n</g>\n<!-- TGATAGG -->\n<g id=\"node118\" class=\"node\">\n<title>TGATAGG</title>\n<ellipse fill=\"none\" stroke=\"black\" cx=\"235.19\" cy=\"-2610\" rx=\"56.59\" ry=\"18\"/>\n<text text-anchor=\"middle\" x=\"235.19\" y=\"-2606.3\" font-family=\"Times,serif\" font-size=\"14.00\">TGATAGG</text>\n</g>\n<!-- GTGATAG&#45;&gt;TGATAGG -->\n<g id=\"edge75\" class=\"edge\">\n<title>GTGATAG-&gt;TGATAGG</title>\n<path fill=\"none\" stroke=\"black\" d=\"M235.19,-2663.7C235.19,-2655.98 235.19,-2646.71 235.19,-2638.11\"/>\n<polygon fill=\"black\" stroke=\"black\" points=\"238.7,-2638.1 235.19,-2628.1 231.7,-2638.1 238.7,-2638.1\"/>\n</g>\n<!-- CACTTTA -->\n<g id=\"node84\" class=\"node\">\n<title>CACTTTA</title>\n<ellipse fill=\"none\" stroke=\"black\" cx=\"235.19\" cy=\"-11322\" rx=\"55.79\" ry=\"18\"/>\n<text text-anchor=\"middle\" x=\"235.19\" y=\"-11318.3\" font-family=\"Times,serif\" font-size=\"14.00\">CACTTTA</text>\n</g>\n<!-- ACTTTAA -->\n<g id=\"node85\" class=\"node\">\n<title>ACTTTAA</title>\n<ellipse fill=\"none\" stroke=\"black\" cx=\"235.19\" cy=\"-11250\" rx=\"55.49\" ry=\"18\"/>\n<text text-anchor=\"middle\" x=\"235.19\" y=\"-11246.3\" font-family=\"Times,serif\" font-size=\"14.00\">ACTTTAA</text>\n</g>\n<!-- CACTTTA&#45;&gt;ACTTTAA -->\n<g id=\"edge50\" class=\"edge\">\n<title>CACTTTA-&gt;ACTTTAA</title>\n<path fill=\"none\" stroke=\"black\" d=\"M235.19,-11303.7C235.19,-11295.98 235.19,-11286.71 235.19,-11278.11\"/>\n<polygon fill=\"black\" stroke=\"black\" points=\"238.7,-11278.1 235.19,-11268.1 231.7,-11278.1 238.7,-11278.1\"/>\n</g>\n<!-- CTTTAAC -->\n<g id=\"node177\" class=\"node\">\n<title>CTTTAAC</title>\n<ellipse fill=\"none\" stroke=\"black\" cx=\"235.19\" cy=\"-11178\" rx=\"55.79\" ry=\"18\"/>\n<text text-anchor=\"middle\" x=\"235.19\" y=\"-11174.3\" font-family=\"Times,serif\" font-size=\"14.00\">CTTTAAC</text>\n</g>\n<!-- ACTTTAA&#45;&gt;CTTTAAC -->\n<g id=\"edge185\" class=\"edge\">\n<title>ACTTTAA-&gt;CTTTAAC</title>\n<path fill=\"none\" stroke=\"black\" d=\"M235.19,-11231.7C235.19,-11223.98 235.19,-11214.71 235.19,-11206.11\"/>\n<polygon fill=\"black\" stroke=\"black\" points=\"238.7,-11206.1 235.19,-11196.1 231.7,-11206.1 238.7,-11206.1\"/>\n</g>\n<!-- TCACTTT -->\n<g id=\"node86\" class=\"node\">\n<title>TCACTTT</title>\n<ellipse fill=\"none\" stroke=\"black\" cx=\"235.19\" cy=\"-11394\" rx=\"55.79\" ry=\"18\"/>\n<text text-anchor=\"middle\" x=\"235.19\" y=\"-11390.3\" font-family=\"Times,serif\" font-size=\"14.00\">TCACTTT</text>\n</g>\n<!-- TCACTTT&#45;&gt;CACTTTA -->\n<g id=\"edge52\" class=\"edge\">\n<title>TCACTTT-&gt;CACTTTA</title>\n<path fill=\"none\" stroke=\"black\" d=\"M235.19,-11375.7C235.19,-11367.98 235.19,-11358.71 235.19,-11350.11\"/>\n<polygon fill=\"black\" stroke=\"black\" points=\"238.7,-11350.1 235.19,-11340.1 231.7,-11350.1 238.7,-11350.1\"/>\n</g>\n<!-- GTGTTAT -->\n<g id=\"node87\" class=\"node\">\n<title>GTGTTAT</title>\n<ellipse fill=\"none\" stroke=\"black\" cx=\"235.19\" cy=\"-5274\" rx=\"55.49\" ry=\"18\"/>\n<text text-anchor=\"middle\" x=\"235.19\" y=\"-5270.3\" font-family=\"Times,serif\" font-size=\"14.00\">GTGTTAT</text>\n</g>\n<!-- GTGTTAT&#45;&gt;TGTTATG -->\n<g id=\"edge53\" class=\"edge\">\n<title>GTGTTAT-&gt;TGTTATG</title>\n<path fill=\"none\" stroke=\"black\" d=\"M235.19,-5255.7C235.19,-5247.98 235.19,-5238.71 235.19,-5230.11\"/>\n<polygon fill=\"black\" stroke=\"black\" points=\"238.7,-5230.1 235.19,-5220.1 231.7,-5230.1 238.7,-5230.1\"/>\n</g>\n<!-- ACAGGTG -->\n<g id=\"node88\" class=\"node\">\n<title>ACAGGTG</title>\n<ellipse fill=\"none\" stroke=\"black\" cx=\"101.19\" cy=\"-6426\" rx=\"57.69\" ry=\"18\"/>\n<text text-anchor=\"middle\" x=\"101.19\" y=\"-6422.3\" font-family=\"Times,serif\" font-size=\"14.00\">ACAGGTG</text>\n</g>\n<!-- CAGGTGT -->\n<g id=\"node89\" class=\"node\">\n<title>CAGGTGT</title>\n<ellipse fill=\"none\" stroke=\"black\" cx=\"100.19\" cy=\"-6354\" rx=\"57.69\" ry=\"18\"/>\n<text text-anchor=\"middle\" x=\"100.19\" y=\"-6350.3\" font-family=\"Times,serif\" font-size=\"14.00\">CAGGTGT</text>\n</g>\n<!-- ACAGGTG&#45;&gt;CAGGTGT -->\n<g id=\"edge54\" class=\"edge\">\n<title>ACAGGTG-&gt;CAGGTGT</title>\n<path fill=\"none\" stroke=\"black\" d=\"M100.95,-6407.7C100.84,-6399.98 100.71,-6390.71 100.58,-6382.11\"/>\n<polygon fill=\"black\" stroke=\"black\" points=\"104.08,-6382.05 100.44,-6372.1 97.08,-6382.15 104.08,-6382.05\"/>\n</g>\n<!-- AGGTGTC -->\n<g id=\"node101\" class=\"node\">\n<title>AGGTGTC</title>\n<ellipse fill=\"none\" stroke=\"black\" cx=\"100.19\" cy=\"-6282\" rx=\"57.69\" ry=\"18\"/>\n<text text-anchor=\"middle\" x=\"100.19\" y=\"-6278.3\" font-family=\"Times,serif\" font-size=\"14.00\">AGGTGTC</text>\n</g>\n<!-- CAGGTGT&#45;&gt;AGGTGTC -->\n<g id=\"edge156\" class=\"edge\">\n<title>CAGGTGT-&gt;AGGTGTC</title>\n<path fill=\"none\" stroke=\"black\" d=\"M100.19,-6335.7C100.19,-6327.98 100.19,-6318.71 100.19,-6310.11\"/>\n<polygon fill=\"black\" stroke=\"black\" points=\"103.7,-6310.1 100.19,-6300.1 96.7,-6310.1 103.7,-6310.1\"/>\n</g>\n<!-- CCATCGT -->\n<g id=\"node90\" class=\"node\">\n<title>CCATCGT</title>\n<ellipse fill=\"none\" stroke=\"black\" cx=\"235.19\" cy=\"-6930\" rx=\"56.59\" ry=\"18\"/>\n<text text-anchor=\"middle\" x=\"235.19\" y=\"-6926.3\" font-family=\"Times,serif\" font-size=\"14.00\">CCATCGT</text>\n</g>\n<!-- CATCGTA -->\n<g id=\"node91\" class=\"node\">\n<title>CATCGTA</title>\n<ellipse fill=\"none\" stroke=\"black\" cx=\"235.19\" cy=\"-6858\" rx=\"55.79\" ry=\"18\"/>\n<text text-anchor=\"middle\" x=\"235.19\" y=\"-6854.3\" font-family=\"Times,serif\" font-size=\"14.00\">CATCGTA</text>\n</g>\n<!-- CCATCGT&#45;&gt;CATCGTA -->\n<g id=\"edge55\" class=\"edge\">\n<title>CCATCGT-&gt;CATCGTA</title>\n<path fill=\"none\" stroke=\"black\" d=\"M235.19,-6911.7C235.19,-6903.98 235.19,-6894.71 235.19,-6886.11\"/>\n<polygon fill=\"black\" stroke=\"black\" points=\"238.7,-6886.1 235.19,-6876.1 231.7,-6886.1 238.7,-6886.1\"/>\n</g>\n<!-- ATCGTAC -->\n<g id=\"node114\" class=\"node\">\n<title>ATCGTAC</title>\n<ellipse fill=\"none\" stroke=\"black\" cx=\"234.19\" cy=\"-6786\" rx=\"55.79\" ry=\"18\"/>\n<text text-anchor=\"middle\" x=\"234.19\" y=\"-6782.3\" font-family=\"Times,serif\" font-size=\"14.00\">ATCGTAC</text>\n</g>\n<!-- CATCGTA&#45;&gt;ATCGTAC -->\n<g id=\"edge188\" class=\"edge\">\n<title>CATCGTA-&gt;ATCGTAC</title>\n<path fill=\"none\" stroke=\"black\" d=\"M234.95,-6839.7C234.84,-6831.98 234.71,-6822.71 234.58,-6814.11\"/>\n<polygon fill=\"black\" stroke=\"black\" points=\"238.08,-6814.05 234.44,-6804.1 231.08,-6814.15 238.08,-6814.05\"/>\n</g>\n<!-- TAAACCT -->\n<g id=\"node147\" class=\"node\">\n<title>TAAACCT</title>\n<ellipse fill=\"none\" stroke=\"black\" cx=\"100.19\" cy=\"-2466\" rx=\"55.49\" ry=\"18\"/>\n<text text-anchor=\"middle\" x=\"100.19\" y=\"-2462.3\" font-family=\"Times,serif\" font-size=\"14.00\">TAAACCT</text>\n</g>\n<!-- GTAAACC&#45;&gt;TAAACCT -->\n<g id=\"edge98\" class=\"edge\">\n<title>GTAAACC-&gt;TAAACCT</title>\n<path fill=\"none\" stroke=\"black\" d=\"M100.19,-2519.7C100.19,-2511.98 100.19,-2502.71 100.19,-2494.11\"/>\n<polygon fill=\"black\" stroke=\"black\" points=\"103.7,-2494.1 100.19,-2484.1 96.7,-2494.1 103.7,-2494.1\"/>\n</g>\n<!-- GTACATC -->\n<g id=\"node93\" class=\"node\">\n<title>GTACATC</title>\n<ellipse fill=\"none\" stroke=\"black\" cx=\"233.19\" cy=\"-6570\" rx=\"55.79\" ry=\"18\"/>\n<text text-anchor=\"middle\" x=\"233.19\" y=\"-6566.3\" font-family=\"Times,serif\" font-size=\"14.00\">GTACATC</text>\n</g>\n<!-- GTACATC&#45;&gt;TACATCC -->\n<g id=\"edge57\" class=\"edge\">\n<title>GTACATC-&gt;TACATCC</title>\n<path fill=\"none\" stroke=\"black\" d=\"M233.19,-6551.7C233.19,-6543.98 233.19,-6534.71 233.19,-6526.11\"/>\n<polygon fill=\"black\" stroke=\"black\" points=\"236.7,-6526.1 233.19,-6516.1 229.7,-6526.1 236.7,-6526.1\"/>\n</g>\n<!-- ATGCCAA -->\n<g id=\"node94\" class=\"node\">\n<title>ATGCCAA</title>\n<ellipse fill=\"none\" stroke=\"black\" cx=\"235.19\" cy=\"-4914\" rx=\"56.59\" ry=\"18\"/>\n<text text-anchor=\"middle\" x=\"235.19\" y=\"-4910.3\" font-family=\"Times,serif\" font-size=\"14.00\">ATGCCAA</text>\n</g>\n<!-- ATGCCAA&#45;&gt;TGCCAAC -->\n<g id=\"edge58\" class=\"edge\">\n<title>ATGCCAA-&gt;TGCCAAC</title>\n<path fill=\"none\" stroke=\"black\" d=\"M235.19,-4895.7C235.19,-4887.98 235.19,-4878.71 235.19,-4870.11\"/>\n<polygon fill=\"black\" stroke=\"black\" points=\"238.7,-4870.1 235.19,-4860.1 231.7,-4870.1 238.7,-4870.1\"/>\n</g>\n<!-- CCTACCG -->\n<g id=\"node95\" class=\"node\">\n<title>CCTACCG</title>\n<ellipse fill=\"none\" stroke=\"black\" cx=\"235.19\" cy=\"-9738\" rx=\"57.69\" ry=\"18\"/>\n<text text-anchor=\"middle\" x=\"235.19\" y=\"-9734.3\" font-family=\"Times,serif\" font-size=\"14.00\">CCTACCG</text>\n</g>\n<!-- CTACCGA -->\n<g id=\"node96\" class=\"node\">\n<title>CTACCGA</title>\n<ellipse fill=\"none\" stroke=\"black\" cx=\"235.19\" cy=\"-9666\" rx=\"57.39\" ry=\"18\"/>\n<text text-anchor=\"middle\" x=\"235.19\" y=\"-9662.3\" font-family=\"Times,serif\" font-size=\"14.00\">CTACCGA</text>\n</g>\n<!-- CCTACCG&#45;&gt;CTACCGA -->\n<g id=\"edge59\" class=\"edge\">\n<title>CCTACCG-&gt;CTACCGA</title>\n<path fill=\"none\" stroke=\"black\" d=\"M235.19,-9719.7C235.19,-9711.98 235.19,-9702.71 235.19,-9694.11\"/>\n<polygon fill=\"black\" stroke=\"black\" points=\"238.7,-9694.1 235.19,-9684.1 231.7,-9694.1 238.7,-9694.1\"/>\n</g>\n<!-- TACCGAC -->\n<g id=\"node148\" class=\"node\">\n<title>TACCGAC</title>\n<ellipse fill=\"none\" stroke=\"black\" cx=\"235.19\" cy=\"-9594\" rx=\"57.39\" ry=\"18\"/>\n<text text-anchor=\"middle\" x=\"235.19\" y=\"-9590.3\" font-family=\"Times,serif\" font-size=\"14.00\">TACCGAC</text>\n</g>\n<!-- CTACCGA&#45;&gt;TACCGAC -->\n<g id=\"edge105\" class=\"edge\">\n<title>CTACCGA-&gt;TACCGAC</title>\n<path fill=\"none\" stroke=\"black\" d=\"M235.19,-9647.7C235.19,-9639.98 235.19,-9630.71 235.19,-9622.11\"/>\n<polygon fill=\"black\" stroke=\"black\" points=\"238.7,-9622.1 235.19,-9612.1 231.7,-9622.1 238.7,-9622.1\"/>\n</g>\n<!-- AGGATCA -->\n<g id=\"node97\" class=\"node\">\n<title>AGGATCA</title>\n<ellipse fill=\"none\" stroke=\"black\" cx=\"235.19\" cy=\"-11682\" rx=\"57.39\" ry=\"18\"/>\n<text text-anchor=\"middle\" x=\"235.19\" y=\"-11678.3\" font-family=\"Times,serif\" font-size=\"14.00\">AGGATCA</text>\n</g>\n<!-- GGATCAC -->\n<g id=\"node98\" class=\"node\">\n<title>GGATCAC</title>\n<ellipse fill=\"none\" stroke=\"black\" cx=\"235.19\" cy=\"-11610\" rx=\"57.69\" ry=\"18\"/>\n<text text-anchor=\"middle\" x=\"235.19\" y=\"-11606.3\" font-family=\"Times,serif\" font-size=\"14.00\">GGATCAC</text>\n</g>\n<!-- AGGATCA&#45;&gt;GGATCAC -->\n<g id=\"edge60\" class=\"edge\">\n<title>AGGATCA-&gt;GGATCAC</title>\n<path fill=\"none\" stroke=\"black\" d=\"M235.19,-11663.7C235.19,-11655.98 235.19,-11646.71 235.19,-11638.11\"/>\n<polygon fill=\"black\" stroke=\"black\" points=\"238.7,-11638.1 235.19,-11628.1 231.7,-11638.1 238.7,-11638.1\"/>\n</g>\n<!-- GATCACT -->\n<g id=\"node133\" class=\"node\">\n<title>GATCACT</title>\n<ellipse fill=\"none\" stroke=\"black\" cx=\"235.19\" cy=\"-11538\" rx=\"55.79\" ry=\"18\"/>\n<text text-anchor=\"middle\" x=\"235.19\" y=\"-11534.3\" font-family=\"Times,serif\" font-size=\"14.00\">GATCACT</text>\n</g>\n<!-- GGATCAC&#45;&gt;GATCACT -->\n<g id=\"edge114\" class=\"edge\">\n<title>GGATCAC-&gt;GATCACT</title>\n<path fill=\"none\" stroke=\"black\" d=\"M235.19,-11591.7C235.19,-11583.98 235.19,-11574.71 235.19,-11566.11\"/>\n<polygon fill=\"black\" stroke=\"black\" points=\"238.7,-11566.1 235.19,-11556.1 231.7,-11566.1 238.7,-11566.1\"/>\n</g>\n<!-- TAGGGGA -->\n<g id=\"node99\" class=\"node\">\n<title>TAGGGGA</title>\n<ellipse fill=\"none\" stroke=\"black\" cx=\"228.19\" cy=\"-3834\" rx=\"58.49\" ry=\"18\"/>\n<text text-anchor=\"middle\" x=\"228.19\" y=\"-3830.3\" font-family=\"Times,serif\" font-size=\"14.00\">TAGGGGA</text>\n</g>\n<!-- AGGGGAT -->\n<g id=\"node100\" class=\"node\">\n<title>AGGGGAT</title>\n<ellipse fill=\"none\" stroke=\"black\" cx=\"228.19\" cy=\"-3762\" rx=\"58.49\" ry=\"18\"/>\n<text text-anchor=\"middle\" x=\"228.19\" y=\"-3758.3\" font-family=\"Times,serif\" font-size=\"14.00\">AGGGGAT</text>\n</g>\n<!-- TAGGGGA&#45;&gt;AGGGGAT -->\n<g id=\"edge61\" class=\"edge\">\n<title>TAGGGGA-&gt;AGGGGAT</title>\n<path fill=\"none\" stroke=\"black\" d=\"M228.19,-3815.7C228.19,-3807.98 228.19,-3798.71 228.19,-3790.11\"/>\n<polygon fill=\"black\" stroke=\"black\" points=\"231.7,-3790.1 228.19,-3780.1 224.7,-3790.1 231.7,-3790.1\"/>\n</g>\n<!-- GGGGATT -->\n<g id=\"node145\" class=\"node\">\n<title>GGGGATT</title>\n<ellipse fill=\"none\" stroke=\"black\" cx=\"228.19\" cy=\"-3690\" rx=\"58.49\" ry=\"18\"/>\n<text text-anchor=\"middle\" x=\"228.19\" y=\"-3686.3\" font-family=\"Times,serif\" font-size=\"14.00\">GGGGATT</text>\n</g>\n<!-- AGGGGAT&#45;&gt;GGGGATT -->\n<g id=\"edge96\" class=\"edge\">\n<title>AGGGGAT-&gt;GGGGATT</title>\n<path fill=\"none\" stroke=\"black\" d=\"M228.19,-3743.7C228.19,-3735.98 228.19,-3726.71 228.19,-3718.11\"/>\n<polygon fill=\"black\" stroke=\"black\" points=\"231.7,-3718.1 228.19,-3708.1 224.7,-3718.1 231.7,-3718.1\"/>\n</g>\n<!-- GGTGTCG -->\n<g id=\"node102\" class=\"node\">\n<title>GGTGTCG</title>\n<ellipse fill=\"none\" stroke=\"black\" cx=\"100.19\" cy=\"-6138\" rx=\"58.49\" ry=\"18\"/>\n<text text-anchor=\"middle\" x=\"100.19\" y=\"-6134.3\" font-family=\"Times,serif\" font-size=\"14.00\">GGTGTCG</text>\n</g>\n<!-- AGGTGTC&#45;&gt;GGTGTCG -->\n<g id=\"edge62\" class=\"edge\">\n<title>AGGTGTC-&gt;GGTGTCG</title>\n<path fill=\"none\" stroke=\"black\" d=\"M100.19,-6263.87C100.19,-6239.67 100.19,-6195.21 100.19,-6166.39\"/>\n<polygon fill=\"black\" stroke=\"black\" points=\"103.7,-6166.19 100.19,-6156.19 96.7,-6166.19 103.7,-6166.19\"/>\n</g>\n<!-- GTGTCGA -->\n<g id=\"node180\" class=\"node\">\n<title>GTGTCGA</title>\n<ellipse fill=\"none\" stroke=\"black\" cx=\"221.19\" cy=\"-3186\" rx=\"57.69\" ry=\"18\"/>\n<text text-anchor=\"middle\" x=\"221.19\" y=\"-3182.3\" font-family=\"Times,serif\" font-size=\"14.00\">GTGTCGA</text>\n</g>\n<!-- GGTGTCG&#45;&gt;GTGTCGA -->\n<g id=\"edge158\" class=\"edge\">\n<title>GGTGTCG-&gt;GTGTCGA</title>\n<path fill=\"none\" stroke=\"black\" d=\"M105.05,-6119.67C112.06,-6093.08 124.19,-6040.5 124.19,-5995 124.19,-5995 124.19,-5995 124.19,-3329 124.19,-3286.81 132.78,-3274.41 157.19,-3240 165.64,-3228.09 177.41,-3217.32 188.56,-3208.64\"/>\n<polygon fill=\"black\" stroke=\"black\" points=\"190.97,-3211.21 196.9,-3202.43 186.79,-3205.6 190.97,-3211.21\"/>\n</g>\n<!-- TGTCATG -->\n<g id=\"node103\" class=\"node\">\n<title>TGTCATG</title>\n<ellipse fill=\"none\" stroke=\"black\" cx=\"235.19\" cy=\"-8874\" rx=\"55.79\" ry=\"18\"/>\n<text text-anchor=\"middle\" x=\"235.19\" y=\"-8870.3\" font-family=\"Times,serif\" font-size=\"14.00\">TGTCATG</text>\n</g>\n<!-- GTCATGC -->\n<g id=\"node104\" class=\"node\">\n<title>GTCATGC</title>\n<ellipse fill=\"none\" stroke=\"black\" cx=\"235.19\" cy=\"-8802\" rx=\"57.39\" ry=\"18\"/>\n<text text-anchor=\"middle\" x=\"235.19\" y=\"-8798.3\" font-family=\"Times,serif\" font-size=\"14.00\">GTCATGC</text>\n</g>\n<!-- TGTCATG&#45;&gt;GTCATGC -->\n<g id=\"edge63\" class=\"edge\">\n<title>TGTCATG-&gt;GTCATGC</title>\n<path fill=\"none\" stroke=\"black\" d=\"M235.19,-8855.7C235.19,-8847.98 235.19,-8838.71 235.19,-8830.11\"/>\n<polygon fill=\"black\" stroke=\"black\" points=\"238.7,-8830.1 235.19,-8820.1 231.7,-8830.1 238.7,-8830.1\"/>\n</g>\n<!-- TCATGCA -->\n<g id=\"node130\" class=\"node\">\n<title>TCATGCA</title>\n<ellipse fill=\"none\" stroke=\"black\" cx=\"235.19\" cy=\"-8730\" rx=\"55.79\" ry=\"18\"/>\n<text text-anchor=\"middle\" x=\"235.19\" y=\"-8726.3\" font-family=\"Times,serif\" font-size=\"14.00\">TCATGCA</text>\n</g>\n<!-- GTCATGC&#45;&gt;TCATGCA -->\n<g id=\"edge85\" class=\"edge\">\n<title>GTCATGC-&gt;TCATGCA</title>\n<path fill=\"none\" stroke=\"black\" d=\"M235.19,-8783.7C235.19,-8775.98 235.19,-8766.71 235.19,-8758.11\"/>\n<polygon fill=\"black\" stroke=\"black\" points=\"238.7,-8758.1 235.19,-8748.1 231.7,-8758.1 238.7,-8758.1\"/>\n</g>\n<!-- ACATAGG -->\n<g id=\"node189\" class=\"node\">\n<title>ACATAGG</title>\n<ellipse fill=\"none\" stroke=\"black\" cx=\"228.19\" cy=\"-4050\" rx=\"56.59\" ry=\"18\"/>\n<text text-anchor=\"middle\" x=\"228.19\" y=\"-4046.3\" font-family=\"Times,serif\" font-size=\"14.00\">ACATAGG</text>\n</g>\n<!-- TACATAG&#45;&gt;ACATAGG -->\n<g id=\"edge176\" class=\"edge\">\n<title>TACATAG-&gt;ACATAGG</title>\n<path fill=\"none\" stroke=\"black\" d=\"M228.19,-4103.7C228.19,-4095.98 228.19,-4086.71 228.19,-4078.11\"/>\n<polygon fill=\"black\" stroke=\"black\" points=\"231.7,-4078.1 228.19,-4068.1 224.7,-4078.1 231.7,-4078.1\"/>\n</g>\n<!-- CACATGG -->\n<g id=\"node106\" class=\"node\">\n<title>CACATGG</title>\n<ellipse fill=\"none\" stroke=\"black\" cx=\"235.19\" cy=\"-8370\" rx=\"57.69\" ry=\"18\"/>\n<text text-anchor=\"middle\" x=\"235.19\" y=\"-8366.3\" font-family=\"Times,serif\" font-size=\"14.00\">CACATGG</text>\n</g>\n<!-- ACATGGC -->\n<g id=\"node107\" class=\"node\">\n<title>ACATGGC</title>\n<ellipse fill=\"none\" stroke=\"black\" cx=\"235.19\" cy=\"-8298\" rx=\"57.69\" ry=\"18\"/>\n<text text-anchor=\"middle\" x=\"235.19\" y=\"-8294.3\" font-family=\"Times,serif\" font-size=\"14.00\">ACATGGC</text>\n</g>\n<!-- CACATGG&#45;&gt;ACATGGC -->\n<g id=\"edge65\" class=\"edge\">\n<title>CACATGG-&gt;ACATGGC</title>\n<path fill=\"none\" stroke=\"black\" d=\"M235.19,-8351.7C235.19,-8343.98 235.19,-8334.71 235.19,-8326.11\"/>\n<polygon fill=\"black\" stroke=\"black\" points=\"238.7,-8326.1 235.19,-8316.1 231.7,-8326.1 238.7,-8326.1\"/>\n</g>\n<!-- ACATGGC&#45;&gt;CATGGCC -->\n<g id=\"edge103\" class=\"edge\">\n<title>ACATGGC-&gt;CATGGCC</title>\n<path fill=\"none\" stroke=\"black\" d=\"M235.19,-8279.7C235.19,-8271.98 235.19,-8262.71 235.19,-8254.11\"/>\n<polygon fill=\"black\" stroke=\"black\" points=\"238.7,-8254.1 235.19,-8244.1 231.7,-8254.1 238.7,-8254.1\"/>\n</g>\n<!-- CATAATT&#45;&gt;ATAATTT -->\n<g id=\"edge71\" class=\"edge\">\n<title>CATAATT-&gt;ATAATTT</title>\n<path fill=\"none\" stroke=\"black\" d=\"M100.19,-791.7C100.19,-783.98 100.19,-774.71 100.19,-766.11\"/>\n<polygon fill=\"black\" stroke=\"black\" points=\"103.7,-766.1 100.19,-756.1 96.7,-766.1 103.7,-766.1\"/>\n</g>\n<!-- AGGTGAC -->\n<g id=\"node110\" class=\"node\">\n<title>AGGTGAC</title>\n<ellipse fill=\"none\" stroke=\"black\" cx=\"236.19\" cy=\"-2322\" rx=\"57.69\" ry=\"18\"/>\n<text text-anchor=\"middle\" x=\"236.19\" y=\"-2318.3\" font-family=\"Times,serif\" font-size=\"14.00\">AGGTGAC</text>\n</g>\n<!-- TAGGTGA&#45;&gt;AGGTGAC -->\n<g id=\"edge67\" class=\"edge\">\n<title>TAGGTGA-&gt;AGGTGAC</title>\n<path fill=\"none\" stroke=\"black\" d=\"M236.19,-2375.7C236.19,-2367.98 236.19,-2358.71 236.19,-2350.11\"/>\n<polygon fill=\"black\" stroke=\"black\" points=\"239.7,-2350.1 236.19,-2340.1 232.7,-2350.1 239.7,-2350.1\"/>\n</g>\n<!-- GGTGACT -->\n<g id=\"node183\" class=\"node\">\n<title>GGTGACT</title>\n<ellipse fill=\"none\" stroke=\"black\" cx=\"236.19\" cy=\"-2250\" rx=\"57.69\" ry=\"18\"/>\n<text text-anchor=\"middle\" x=\"236.19\" y=\"-2246.3\" font-family=\"Times,serif\" font-size=\"14.00\">GGTGACT</text>\n</g>\n<!-- AGGTGAC&#45;&gt;GGTGACT -->\n<g id=\"edge180\" class=\"edge\">\n<title>AGGTGAC-&gt;GGTGACT</title>\n<path fill=\"none\" stroke=\"black\" d=\"M236.19,-2303.7C236.19,-2295.98 236.19,-2286.71 236.19,-2278.11\"/>\n<polygon fill=\"black\" stroke=\"black\" points=\"239.7,-2278.1 236.19,-2268.1 232.7,-2278.1 239.7,-2278.1\"/>\n</g>\n<!-- AATGGCC -->\n<g id=\"node125\" class=\"node\">\n<title>AATGGCC</title>\n<ellipse fill=\"none\" stroke=\"black\" cx=\"100.19\" cy=\"-1386\" rx=\"57.69\" ry=\"18\"/>\n<text text-anchor=\"middle\" x=\"100.19\" y=\"-1382.3\" font-family=\"Times,serif\" font-size=\"14.00\">AATGGCC</text>\n</g>\n<!-- AAATGGC&#45;&gt;AATGGCC -->\n<g id=\"edge79\" class=\"edge\">\n<title>AAATGGC-&gt;AATGGCC</title>\n<path fill=\"none\" stroke=\"black\" d=\"M100.19,-1439.7C100.19,-1431.98 100.19,-1422.71 100.19,-1414.11\"/>\n<polygon fill=\"black\" stroke=\"black\" points=\"103.7,-1414.1 100.19,-1404.1 96.7,-1414.1 103.7,-1414.1\"/>\n</g>\n<!-- TCGTGTT -->\n<g id=\"node112\" class=\"node\">\n<title>TCGTGTT</title>\n<ellipse fill=\"none\" stroke=\"black\" cx=\"235.19\" cy=\"-5418\" rx=\"56.59\" ry=\"18\"/>\n<text text-anchor=\"middle\" x=\"235.19\" y=\"-5414.3\" font-family=\"Times,serif\" font-size=\"14.00\">TCGTGTT</text>\n</g>\n<!-- CGTGTTA -->\n<g id=\"node113\" class=\"node\">\n<title>CGTGTTA</title>\n<ellipse fill=\"none\" stroke=\"black\" cx=\"235.19\" cy=\"-5346\" rx=\"56.59\" ry=\"18\"/>\n<text text-anchor=\"middle\" x=\"235.19\" y=\"-5342.3\" font-family=\"Times,serif\" font-size=\"14.00\">CGTGTTA</text>\n</g>\n<!-- TCGTGTT&#45;&gt;CGTGTTA -->\n<g id=\"edge69\" class=\"edge\">\n<title>TCGTGTT-&gt;CGTGTTA</title>\n<path fill=\"none\" stroke=\"black\" d=\"M235.19,-5399.7C235.19,-5391.98 235.19,-5382.71 235.19,-5374.11\"/>\n<polygon fill=\"black\" stroke=\"black\" points=\"238.7,-5374.1 235.19,-5364.1 231.7,-5374.1 238.7,-5374.1\"/>\n</g>\n<!-- CGTGTTA&#45;&gt;GTGTTAT -->\n<g id=\"edge111\" class=\"edge\">\n<title>CGTGTTA-&gt;GTGTTAT</title>\n<path fill=\"none\" stroke=\"black\" d=\"M235.19,-5327.7C235.19,-5319.98 235.19,-5310.71 235.19,-5302.11\"/>\n<polygon fill=\"black\" stroke=\"black\" points=\"238.7,-5302.1 235.19,-5292.1 231.7,-5302.1 238.7,-5302.1\"/>\n</g>\n<!-- ATCGTAC&#45;&gt;TCGTACA -->\n<g id=\"edge72\" class=\"edge\">\n<title>ATCGTAC-&gt;TCGTACA</title>\n<path fill=\"none\" stroke=\"black\" d=\"M218.32,-6768.41C209.89,-6759.61 199.38,-6748.63 190.09,-6738.92\"/>\n<polygon fill=\"black\" stroke=\"black\" points=\"192.4,-6736.27 182.96,-6731.47 187.35,-6741.11 192.4,-6736.27\"/>\n</g>\n<!-- CGTACAG -->\n<g id=\"node116\" class=\"node\">\n<title>CGTACAG</title>\n<ellipse fill=\"none\" stroke=\"black\" cx=\"101.19\" cy=\"-6642\" rx=\"57.69\" ry=\"18\"/>\n<text text-anchor=\"middle\" x=\"101.19\" y=\"-6638.3\" font-family=\"Times,serif\" font-size=\"14.00\">CGTACAG</text>\n</g>\n<!-- TCGTACA&#45;&gt;CGTACAG -->\n<g id=\"edge82\" class=\"edge\">\n<title>TCGTACA-&gt;CGTACAG</title>\n<path fill=\"none\" stroke=\"black\" d=\"M151.55,-6696.41C143.25,-6687.61 132.9,-6676.63 123.75,-6666.92\"/>\n<polygon fill=\"black\" stroke=\"black\" points=\"126.13,-6664.34 116.72,-6659.47 121.04,-6669.15 126.13,-6664.34\"/>\n</g>\n<!-- CGTACAT -->\n<g id=\"node150\" class=\"node\">\n<title>CGTACAT</title>\n<ellipse fill=\"none\" stroke=\"black\" cx=\"233.19\" cy=\"-6642\" rx=\"55.79\" ry=\"18\"/>\n<text text-anchor=\"middle\" x=\"233.19\" y=\"-6638.3\" font-family=\"Times,serif\" font-size=\"14.00\">CGTACAT</text>\n</g>\n<!-- TCGTACA&#45;&gt;CGTACAT -->\n<g id=\"edge120\" class=\"edge\">\n<title>TCGTACA-&gt;CGTACAT</title>\n<path fill=\"none\" stroke=\"black\" d=\"M182.84,-6696.41C191.14,-6687.61 201.49,-6676.63 210.64,-6666.92\"/>\n<polygon fill=\"black\" stroke=\"black\" points=\"213.35,-6669.15 217.67,-6659.47 208.26,-6664.34 213.35,-6669.15\"/>\n</g>\n<!-- GTACAGG -->\n<g id=\"node117\" class=\"node\">\n<title>GTACAGG</title>\n<ellipse fill=\"none\" stroke=\"black\" cx=\"101.19\" cy=\"-6570\" rx=\"57.69\" ry=\"18\"/>\n<text text-anchor=\"middle\" x=\"101.19\" y=\"-6566.3\" font-family=\"Times,serif\" font-size=\"14.00\">GTACAGG</text>\n</g>\n<!-- CGTACAG&#45;&gt;GTACAGG -->\n<g id=\"edge74\" class=\"edge\">\n<title>CGTACAG-&gt;GTACAGG</title>\n<path fill=\"none\" stroke=\"black\" d=\"M101.19,-6623.7C101.19,-6615.98 101.19,-6606.71 101.19,-6598.11\"/>\n<polygon fill=\"black\" stroke=\"black\" points=\"104.7,-6598.1 101.19,-6588.1 97.7,-6598.1 104.7,-6598.1\"/>\n</g>\n<!-- TACAGGT -->\n<g id=\"node143\" class=\"node\">\n<title>TACAGGT</title>\n<ellipse fill=\"none\" stroke=\"black\" cx=\"101.19\" cy=\"-6498\" rx=\"56.59\" ry=\"18\"/>\n<text text-anchor=\"middle\" x=\"101.19\" y=\"-6494.3\" font-family=\"Times,serif\" font-size=\"14.00\">TACAGGT</text>\n</g>\n<!-- GTACAGG&#45;&gt;TACAGGT -->\n<g id=\"edge94\" class=\"edge\">\n<title>GTACAGG-&gt;TACAGGT</title>\n<path fill=\"none\" stroke=\"black\" d=\"M101.19,-6551.7C101.19,-6543.98 101.19,-6534.71 101.19,-6526.11\"/>\n<polygon fill=\"black\" stroke=\"black\" points=\"104.7,-6526.1 101.19,-6516.1 97.7,-6526.1 104.7,-6526.1\"/>\n</g>\n<!-- TGATAGG&#45;&gt;GATAGGT -->\n<g id=\"edge162\" class=\"edge\">\n<title>TGATAGG-&gt;GATAGGT</title>\n<path fill=\"none\" stroke=\"black\" d=\"M235.19,-2591.7C235.19,-2583.98 235.19,-2574.71 235.19,-2566.11\"/>\n<polygon fill=\"black\" stroke=\"black\" points=\"238.7,-2566.1 235.19,-2556.1 231.7,-2566.1 238.7,-2566.1\"/>\n</g>\n<!-- CCGCGCA -->\n<g id=\"node119\" class=\"node\">\n<title>CCGCGCA</title>\n<ellipse fill=\"none\" stroke=\"black\" cx=\"235.19\" cy=\"-5922\" rx=\"59.29\" ry=\"18\"/>\n<text text-anchor=\"middle\" x=\"235.19\" y=\"-5918.3\" font-family=\"Times,serif\" font-size=\"14.00\">CCGCGCA</text>\n</g>\n<!-- CGCGCAT -->\n<g id=\"node120\" class=\"node\">\n<title>CGCGCAT</title>\n<ellipse fill=\"none\" stroke=\"black\" cx=\"235.19\" cy=\"-5850\" rx=\"57.69\" ry=\"18\"/>\n<text text-anchor=\"middle\" x=\"235.19\" y=\"-5846.3\" font-family=\"Times,serif\" font-size=\"14.00\">CGCGCAT</text>\n</g>\n<!-- CCGCGCA&#45;&gt;CGCGCAT -->\n<g id=\"edge76\" class=\"edge\">\n<title>CCGCGCA-&gt;CGCGCAT</title>\n<path fill=\"none\" stroke=\"black\" d=\"M235.19,-5903.7C235.19,-5895.98 235.19,-5886.71 235.19,-5878.11\"/>\n<polygon fill=\"black\" stroke=\"black\" points=\"238.7,-5878.1 235.19,-5868.1 231.7,-5878.1 238.7,-5878.1\"/>\n</g>\n<!-- GCGCATC -->\n<g id=\"node167\" class=\"node\">\n<title>GCGCATC</title>\n<ellipse fill=\"none\" stroke=\"black\" cx=\"235.19\" cy=\"-5778\" rx=\"57.69\" ry=\"18\"/>\n<text text-anchor=\"middle\" x=\"235.19\" y=\"-5774.3\" font-family=\"Times,serif\" font-size=\"14.00\">GCGCATC</text>\n</g>\n<!-- CGCGCAT&#45;&gt;GCGCATC -->\n<g id=\"edge121\" class=\"edge\">\n<title>CGCGCAT-&gt;GCGCATC</title>\n<path fill=\"none\" stroke=\"black\" d=\"M235.19,-5831.7C235.19,-5823.98 235.19,-5814.71 235.19,-5806.11\"/>\n<polygon fill=\"black\" stroke=\"black\" points=\"238.7,-5806.1 235.19,-5796.1 231.7,-5806.1 238.7,-5806.1\"/>\n</g>\n<!-- AACGCTT -->\n<g id=\"node121\" class=\"node\">\n<title>AACGCTT</title>\n<ellipse fill=\"none\" stroke=\"black\" cx=\"235.19\" cy=\"-4554\" rx=\"57.39\" ry=\"18\"/>\n<text text-anchor=\"middle\" x=\"235.19\" y=\"-4550.3\" font-family=\"Times,serif\" font-size=\"14.00\">AACGCTT</text>\n</g>\n<!-- ACGCTTA -->\n<g id=\"node122\" class=\"node\">\n<title>ACGCTTA</title>\n<ellipse fill=\"none\" stroke=\"black\" cx=\"235.19\" cy=\"-4482\" rx=\"56.59\" ry=\"18\"/>\n<text text-anchor=\"middle\" x=\"235.19\" y=\"-4478.3\" font-family=\"Times,serif\" font-size=\"14.00\">ACGCTTA</text>\n</g>\n<!-- AACGCTT&#45;&gt;ACGCTTA -->\n<g id=\"edge77\" class=\"edge\">\n<title>AACGCTT-&gt;ACGCTTA</title>\n<path fill=\"none\" stroke=\"black\" d=\"M235.19,-4535.7C235.19,-4527.98 235.19,-4518.71 235.19,-4510.11\"/>\n<polygon fill=\"black\" stroke=\"black\" points=\"238.7,-4510.1 235.19,-4500.1 231.7,-4510.1 238.7,-4510.1\"/>\n</g>\n<!-- ACGCTTA&#45;&gt;CGCTTAC -->\n<g id=\"edge115\" class=\"edge\">\n<title>ACGCTTA-&gt;CGCTTAC</title>\n<path fill=\"none\" stroke=\"black\" d=\"M235.19,-4463.7C235.19,-4455.98 235.19,-4446.71 235.19,-4438.11\"/>\n<polygon fill=\"black\" stroke=\"black\" points=\"238.7,-4438.1 235.19,-4428.1 231.7,-4438.1 238.7,-4438.1\"/>\n</g>\n<!-- CGCATCG -->\n<g id=\"node123\" class=\"node\">\n<title>CGCATCG</title>\n<ellipse fill=\"none\" stroke=\"black\" cx=\"235.19\" cy=\"-5706\" rx=\"57.69\" ry=\"18\"/>\n<text text-anchor=\"middle\" x=\"235.19\" y=\"-5702.3\" font-family=\"Times,serif\" font-size=\"14.00\">CGCATCG</text>\n</g>\n<!-- GCATCGT -->\n<g id=\"node124\" class=\"node\">\n<title>GCATCGT</title>\n<ellipse fill=\"none\" stroke=\"black\" cx=\"235.19\" cy=\"-5634\" rx=\"57.39\" ry=\"18\"/>\n<text text-anchor=\"middle\" x=\"235.19\" y=\"-5630.3\" font-family=\"Times,serif\" font-size=\"14.00\">GCATCGT</text>\n</g>\n<!-- CGCATCG&#45;&gt;GCATCGT -->\n<g id=\"edge78\" class=\"edge\">\n<title>CGCATCG-&gt;GCATCGT</title>\n<path fill=\"none\" stroke=\"black\" d=\"M235.19,-5687.7C235.19,-5679.98 235.19,-5670.71 235.19,-5662.11\"/>\n<polygon fill=\"black\" stroke=\"black\" points=\"238.7,-5662.1 235.19,-5652.1 231.7,-5662.1 238.7,-5662.1\"/>\n</g>\n<!-- CATCGTG -->\n<g id=\"node141\" class=\"node\">\n<title>CATCGTG</title>\n<ellipse fill=\"none\" stroke=\"black\" cx=\"235.19\" cy=\"-5562\" rx=\"57.39\" ry=\"18\"/>\n<text text-anchor=\"middle\" x=\"235.19\" y=\"-5558.3\" font-family=\"Times,serif\" font-size=\"14.00\">CATCGTG</text>\n</g>\n<!-- GCATCGT&#45;&gt;CATCGTG -->\n<g id=\"edge172\" class=\"edge\">\n<title>GCATCGT-&gt;CATCGTG</title>\n<path fill=\"none\" stroke=\"black\" d=\"M235.19,-5615.7C235.19,-5607.98 235.19,-5598.71 235.19,-5590.11\"/>\n<polygon fill=\"black\" stroke=\"black\" points=\"238.7,-5590.1 235.19,-5580.1 231.7,-5590.1 238.7,-5590.1\"/>\n</g>\n<!-- AATGGCC&#45;&gt;ATGGCCA -->\n<g id=\"edge80\" class=\"edge\">\n<title>AATGGCC-&gt;ATGGCCA</title>\n<path fill=\"none\" stroke=\"black\" d=\"M100.19,-1367.7C100.19,-1359.98 100.19,-1350.71 100.19,-1342.11\"/>\n<polygon fill=\"black\" stroke=\"black\" points=\"103.7,-1342.1 100.19,-1332.1 96.7,-1342.1 103.7,-1342.1\"/>\n</g>\n<!-- AATGTCA -->\n<g id=\"node126\" class=\"node\">\n<title>AATGTCA</title>\n<ellipse fill=\"none\" stroke=\"black\" cx=\"235.19\" cy=\"-9018\" rx=\"55.79\" ry=\"18\"/>\n<text text-anchor=\"middle\" x=\"235.19\" y=\"-9014.3\" font-family=\"Times,serif\" font-size=\"14.00\">AATGTCA</text>\n</g>\n<!-- ATGTCAT -->\n<g id=\"node127\" class=\"node\">\n<title>ATGTCAT</title>\n<ellipse fill=\"none\" stroke=\"black\" cx=\"235.19\" cy=\"-8946\" rx=\"55.49\" ry=\"18\"/>\n<text text-anchor=\"middle\" x=\"235.19\" y=\"-8942.3\" font-family=\"Times,serif\" font-size=\"14.00\">ATGTCAT</text>\n</g>\n<!-- AATGTCA&#45;&gt;ATGTCAT -->\n<g id=\"edge81\" class=\"edge\">\n<title>AATGTCA-&gt;ATGTCAT</title>\n<path fill=\"none\" stroke=\"black\" d=\"M235.19,-8999.7C235.19,-8991.98 235.19,-8982.71 235.19,-8974.11\"/>\n<polygon fill=\"black\" stroke=\"black\" points=\"238.7,-8974.1 235.19,-8964.1 231.7,-8974.1 238.7,-8974.1\"/>\n</g>\n<!-- ATGTCAT&#45;&gt;TGTCATG -->\n<g id=\"edge194\" class=\"edge\">\n<title>ATGTCAT-&gt;TGTCATG</title>\n<path fill=\"none\" stroke=\"black\" d=\"M235.19,-8927.7C235.19,-8919.98 235.19,-8910.71 235.19,-8902.11\"/>\n<polygon fill=\"black\" stroke=\"black\" points=\"238.7,-8902.1 235.19,-8892.1 231.7,-8902.1 238.7,-8902.1\"/>\n</g>\n<!-- CAACGCT&#45;&gt;AACGCTT -->\n<g id=\"edge83\" class=\"edge\">\n<title>CAACGCT-&gt;AACGCTT</title>\n<path fill=\"none\" stroke=\"black\" d=\"M235.19,-4607.7C235.19,-4599.98 235.19,-4590.71 235.19,-4582.11\"/>\n<polygon fill=\"black\" stroke=\"black\" points=\"238.7,-4582.1 235.19,-4572.1 231.7,-4582.1 238.7,-4582.1\"/>\n</g>\n<!-- TGGTCGT -->\n<g id=\"node129\" class=\"node\">\n<title>TGGTCGT</title>\n<ellipse fill=\"none\" stroke=\"black\" cx=\"100.19\" cy=\"-162\" rx=\"57.39\" ry=\"18\"/>\n<text text-anchor=\"middle\" x=\"100.19\" y=\"-158.3\" font-family=\"Times,serif\" font-size=\"14.00\">TGGTCGT</text>\n</g>\n<!-- TGGTCGT&#45;&gt;GGTCGTA -->\n<g id=\"edge84\" class=\"edge\">\n<title>TGGTCGT-&gt;GGTCGTA</title>\n<path fill=\"none\" stroke=\"black\" d=\"M100.19,-143.7C100.19,-135.98 100.19,-126.71 100.19,-118.11\"/>\n<polygon fill=\"black\" stroke=\"black\" points=\"103.7,-118.1 100.19,-108.1 96.7,-118.1 103.7,-118.1\"/>\n</g>\n<!-- TCATGCA&#45;&gt;CATGCAC -->\n<g id=\"edge140\" class=\"edge\">\n<title>TCATGCA-&gt;CATGCAC</title>\n<path fill=\"none\" stroke=\"black\" d=\"M235.19,-8711.7C235.19,-8703.98 235.19,-8694.71 235.19,-8686.11\"/>\n<polygon fill=\"black\" stroke=\"black\" points=\"238.7,-8686.1 235.19,-8676.1 231.7,-8686.1 238.7,-8686.1\"/>\n</g>\n<!-- GTGACTC -->\n<g id=\"node131\" class=\"node\">\n<title>GTGACTC</title>\n<ellipse fill=\"none\" stroke=\"black\" cx=\"237.19\" cy=\"-2178\" rx=\"57.39\" ry=\"18\"/>\n<text text-anchor=\"middle\" x=\"237.19\" y=\"-2174.3\" font-family=\"Times,serif\" font-size=\"14.00\">GTGACTC</text>\n</g>\n<!-- TGACTCG -->\n<g id=\"node132\" class=\"node\">\n<title>TGACTCG</title>\n<ellipse fill=\"none\" stroke=\"black\" cx=\"237.19\" cy=\"-2106\" rx=\"57.39\" ry=\"18\"/>\n<text text-anchor=\"middle\" x=\"237.19\" y=\"-2102.3\" font-family=\"Times,serif\" font-size=\"14.00\">TGACTCG</text>\n</g>\n<!-- GTGACTC&#45;&gt;TGACTCG -->\n<g id=\"edge86\" class=\"edge\">\n<title>GTGACTC-&gt;TGACTCG</title>\n<path fill=\"none\" stroke=\"black\" d=\"M237.19,-2159.7C237.19,-2151.98 237.19,-2142.71 237.19,-2134.11\"/>\n<polygon fill=\"black\" stroke=\"black\" points=\"240.7,-2134.1 237.19,-2124.1 233.7,-2134.1 240.7,-2134.1\"/>\n</g>\n<!-- GACTCGG -->\n<g id=\"node176\" class=\"node\">\n<title>GACTCGG</title>\n<ellipse fill=\"none\" stroke=\"black\" cx=\"280.19\" cy=\"-2034\" rx=\"58.49\" ry=\"18\"/>\n<text text-anchor=\"middle\" x=\"280.19\" y=\"-2030.3\" font-family=\"Times,serif\" font-size=\"14.00\">GACTCGG</text>\n</g>\n<!-- TGACTCG&#45;&gt;GACTCGG -->\n<g id=\"edge132\" class=\"edge\">\n<title>TGACTCG-&gt;GACTCGG</title>\n<path fill=\"none\" stroke=\"black\" d=\"M247.6,-2088.05C252.67,-2079.8 258.88,-2069.7 264.51,-2060.54\"/>\n<polygon fill=\"black\" stroke=\"black\" points=\"267.63,-2062.14 269.88,-2051.79 261.67,-2058.48 267.63,-2062.14\"/>\n</g>\n<!-- ATCACTT -->\n<g id=\"node134\" class=\"node\">\n<title>ATCACTT</title>\n<ellipse fill=\"none\" stroke=\"black\" cx=\"235.19\" cy=\"-11466\" rx=\"55.79\" ry=\"18\"/>\n<text text-anchor=\"middle\" x=\"235.19\" y=\"-11462.3\" font-family=\"Times,serif\" font-size=\"14.00\">ATCACTT</text>\n</g>\n<!-- GATCACT&#45;&gt;ATCACTT -->\n<g id=\"edge87\" class=\"edge\">\n<title>GATCACT-&gt;ATCACTT</title>\n<path fill=\"none\" stroke=\"black\" d=\"M235.19,-11519.7C235.19,-11511.98 235.19,-11502.71 235.19,-11494.11\"/>\n<polygon fill=\"black\" stroke=\"black\" points=\"238.7,-11494.1 235.19,-11484.1 231.7,-11494.1 238.7,-11494.1\"/>\n</g>\n<!-- ATCACTT&#45;&gt;TCACTTT -->\n<g id=\"edge127\" class=\"edge\">\n<title>ATCACTT-&gt;TCACTTT</title>\n<path fill=\"none\" stroke=\"black\" d=\"M235.19,-11447.7C235.19,-11439.98 235.19,-11430.71 235.19,-11422.11\"/>\n<polygon fill=\"black\" stroke=\"black\" points=\"238.7,-11422.1 235.19,-11412.1 231.7,-11422.1 238.7,-11422.1\"/>\n</g>\n<!-- GAATGTC -->\n<g id=\"node135\" class=\"node\">\n<title>GAATGTC</title>\n<ellipse fill=\"none\" stroke=\"black\" cx=\"235.19\" cy=\"-9090\" rx=\"56.59\" ry=\"18\"/>\n<text text-anchor=\"middle\" x=\"235.19\" y=\"-9086.3\" font-family=\"Times,serif\" font-size=\"14.00\">GAATGTC</text>\n</g>\n<!-- GAATGTC&#45;&gt;AATGTCA -->\n<g id=\"edge88\" class=\"edge\">\n<title>GAATGTC-&gt;AATGTCA</title>\n<path fill=\"none\" stroke=\"black\" d=\"M235.19,-9071.7C235.19,-9063.98 235.19,-9054.71 235.19,-9046.11\"/>\n<polygon fill=\"black\" stroke=\"black\" points=\"238.7,-9046.1 235.19,-9036.1 231.7,-9046.1 238.7,-9046.1\"/>\n</g>\n<!-- TTGTGTC -->\n<g id=\"node136\" class=\"node\">\n<title>TTGTGTC</title>\n<ellipse fill=\"none\" stroke=\"black\" cx=\"224.19\" cy=\"-3330\" rx=\"56.59\" ry=\"18\"/>\n<text text-anchor=\"middle\" x=\"224.19\" y=\"-3326.3\" font-family=\"Times,serif\" font-size=\"14.00\">TTGTGTC</text>\n</g>\n<!-- TGTGTCG -->\n<g id=\"node137\" class=\"node\">\n<title>TGTGTCG</title>\n<ellipse fill=\"none\" stroke=\"black\" cx=\"223.19\" cy=\"-3258\" rx=\"57.39\" ry=\"18\"/>\n<text text-anchor=\"middle\" x=\"223.19\" y=\"-3254.3\" font-family=\"Times,serif\" font-size=\"14.00\">TGTGTCG</text>\n</g>\n<!-- TTGTGTC&#45;&gt;TGTGTCG -->\n<g id=\"edge90\" class=\"edge\">\n<title>TTGTGTC-&gt;TGTGTCG</title>\n<path fill=\"none\" stroke=\"black\" d=\"M223.95,-3311.7C223.84,-3303.98 223.71,-3294.71 223.58,-3286.11\"/>\n<polygon fill=\"black\" stroke=\"black\" points=\"227.08,-3286.05 223.44,-3276.1 220.08,-3286.15 227.08,-3286.05\"/>\n</g>\n<!-- TGTGTCG&#45;&gt;GTGTCGA -->\n<g id=\"edge153\" class=\"edge\">\n<title>TGTGTCG-&gt;GTGTCGA</title>\n<path fill=\"none\" stroke=\"black\" d=\"M222.7,-3239.7C222.48,-3231.98 222.22,-3222.71 221.97,-3214.11\"/>\n<polygon fill=\"black\" stroke=\"black\" points=\"225.47,-3214 221.68,-3204.1 218.47,-3214.2 225.47,-3214\"/>\n</g>\n<!-- GAGGATC -->\n<g id=\"node138\" class=\"node\">\n<title>GAGGATC</title>\n<ellipse fill=\"none\" stroke=\"black\" cx=\"235.19\" cy=\"-11754\" rx=\"57.69\" ry=\"18\"/>\n<text text-anchor=\"middle\" x=\"235.19\" y=\"-11750.3\" font-family=\"Times,serif\" font-size=\"14.00\">GAGGATC</text>\n</g>\n<!-- GAGGATC&#45;&gt;AGGATCA -->\n<g id=\"edge91\" class=\"edge\">\n<title>GAGGATC-&gt;AGGATCA</title>\n<path fill=\"none\" stroke=\"black\" d=\"M235.19,-11735.7C235.19,-11727.98 235.19,-11718.71 235.19,-11710.11\"/>\n<polygon fill=\"black\" stroke=\"black\" points=\"238.7,-11710.1 235.19,-11700.1 231.7,-11710.1 238.7,-11710.1\"/>\n</g>\n<!-- CCGACGA -->\n<g id=\"node139\" class=\"node\">\n<title>CCGACGA</title>\n<ellipse fill=\"none\" stroke=\"black\" cx=\"235.19\" cy=\"-9450\" rx=\"58.49\" ry=\"18\"/>\n<text text-anchor=\"middle\" x=\"235.19\" y=\"-9446.3\" font-family=\"Times,serif\" font-size=\"14.00\">CCGACGA</text>\n</g>\n<!-- CGACGAA -->\n<g id=\"node140\" class=\"node\">\n<title>CGACGAA</title>\n<ellipse fill=\"none\" stroke=\"black\" cx=\"235.19\" cy=\"-9378\" rx=\"57.69\" ry=\"18\"/>\n<text text-anchor=\"middle\" x=\"235.19\" y=\"-9374.3\" font-family=\"Times,serif\" font-size=\"14.00\">CGACGAA</text>\n</g>\n<!-- CCGACGA&#45;&gt;CGACGAA -->\n<g id=\"edge92\" class=\"edge\">\n<title>CCGACGA-&gt;CGACGAA</title>\n<path fill=\"none\" stroke=\"black\" d=\"M235.19,-9431.7C235.19,-9423.98 235.19,-9414.71 235.19,-9406.11\"/>\n<polygon fill=\"black\" stroke=\"black\" points=\"238.7,-9406.1 235.19,-9396.1 231.7,-9406.1 238.7,-9406.1\"/>\n</g>\n<!-- CGACGAA&#45;&gt;GACGAAT -->\n<g id=\"edge170\" class=\"edge\">\n<title>CGACGAA-&gt;GACGAAT</title>\n<path fill=\"none\" stroke=\"black\" d=\"M235.19,-9359.7C235.19,-9351.98 235.19,-9342.71 235.19,-9334.11\"/>\n<polygon fill=\"black\" stroke=\"black\" points=\"238.7,-9334.1 235.19,-9324.1 231.7,-9334.1 238.7,-9334.1\"/>\n</g>\n<!-- ATCGTGT -->\n<g id=\"node142\" class=\"node\">\n<title>ATCGTGT</title>\n<ellipse fill=\"none\" stroke=\"black\" cx=\"235.19\" cy=\"-5490\" rx=\"55.79\" ry=\"18\"/>\n<text text-anchor=\"middle\" x=\"235.19\" y=\"-5486.3\" font-family=\"Times,serif\" font-size=\"14.00\">ATCGTGT</text>\n</g>\n<!-- CATCGTG&#45;&gt;ATCGTGT -->\n<g id=\"edge93\" class=\"edge\">\n<title>CATCGTG-&gt;ATCGTGT</title>\n<path fill=\"none\" stroke=\"black\" d=\"M235.19,-5543.7C235.19,-5535.98 235.19,-5526.71 235.19,-5518.11\"/>\n<polygon fill=\"black\" stroke=\"black\" points=\"238.7,-5518.1 235.19,-5508.1 231.7,-5518.1 238.7,-5518.1\"/>\n</g>\n<!-- ATCGTGT&#45;&gt;TCGTGTT -->\n<g id=\"edge168\" class=\"edge\">\n<title>ATCGTGT-&gt;TCGTGTT</title>\n<path fill=\"none\" stroke=\"black\" d=\"M235.19,-5471.7C235.19,-5463.98 235.19,-5454.71 235.19,-5446.11\"/>\n<polygon fill=\"black\" stroke=\"black\" points=\"238.7,-5446.1 235.19,-5436.1 231.7,-5446.1 238.7,-5446.1\"/>\n</g>\n<!-- TACAGGT&#45;&gt;ACAGGTG -->\n<g id=\"edge182\" class=\"edge\">\n<title>TACAGGT-&gt;ACAGGTG</title>\n<path fill=\"none\" stroke=\"black\" d=\"M101.19,-6479.7C101.19,-6471.98 101.19,-6462.71 101.19,-6454.11\"/>\n<polygon fill=\"black\" stroke=\"black\" points=\"104.7,-6454.1 101.19,-6444.1 97.7,-6454.1 104.7,-6454.1\"/>\n</g>\n<!-- CGGTAGA -->\n<g id=\"node144\" class=\"node\">\n<title>CGGTAGA</title>\n<ellipse fill=\"none\" stroke=\"black\" cx=\"235.19\" cy=\"-9810\" rx=\"57.69\" ry=\"18\"/>\n<text text-anchor=\"middle\" x=\"235.19\" y=\"-9806.3\" font-family=\"Times,serif\" font-size=\"14.00\">CGGTAGA</text>\n</g>\n<!-- CGGTAGA&#45;&gt;CCTACCG -->\n<g id=\"edge95\" class=\"edge\">\n<title>CGGTAGA-&gt;CCTACCG</title>\n<path fill=\"none\" stroke=\"black\" d=\"M235.19,-9791.7C235.19,-9783.98 235.19,-9774.71 235.19,-9766.11\"/>\n<polygon fill=\"black\" stroke=\"black\" points=\"238.7,-9766.1 235.19,-9756.1 231.7,-9766.1 238.7,-9766.1\"/>\n</g>\n<!-- GGGATTG -->\n<g id=\"node184\" class=\"node\">\n<title>GGGATTG</title>\n<ellipse fill=\"none\" stroke=\"black\" cx=\"227.19\" cy=\"-3618\" rx=\"58.49\" ry=\"18\"/>\n<text text-anchor=\"middle\" x=\"227.19\" y=\"-3614.3\" font-family=\"Times,serif\" font-size=\"14.00\">GGGATTG</text>\n</g>\n<!-- GGGGATT&#45;&gt;GGGATTG -->\n<g id=\"edge148\" class=\"edge\">\n<title>GGGGATT-&gt;GGGATTG</title>\n<path fill=\"none\" stroke=\"black\" d=\"M227.95,-3671.7C227.84,-3663.98 227.71,-3654.71 227.58,-3646.11\"/>\n<polygon fill=\"black\" stroke=\"black\" points=\"231.08,-3646.05 227.44,-3636.1 224.08,-3646.15 231.08,-3646.05\"/>\n</g>\n<!-- CCCGCGC -->\n<g id=\"node146\" class=\"node\">\n<title>CCCGCGC</title>\n<ellipse fill=\"none\" stroke=\"black\" cx=\"235.19\" cy=\"-5994\" rx=\"59.59\" ry=\"18\"/>\n<text text-anchor=\"middle\" x=\"235.19\" y=\"-5990.3\" font-family=\"Times,serif\" font-size=\"14.00\">CCCGCGC</text>\n</g>\n<!-- CCCGCGC&#45;&gt;CCGCGCA -->\n<g id=\"edge97\" class=\"edge\">\n<title>CCCGCGC-&gt;CCGCGCA</title>\n<path fill=\"none\" stroke=\"black\" d=\"M235.19,-5975.7C235.19,-5967.98 235.19,-5958.71 235.19,-5950.11\"/>\n<polygon fill=\"black\" stroke=\"black\" points=\"238.7,-5950.1 235.19,-5940.1 231.7,-5950.1 238.7,-5950.1\"/>\n</g>\n<!-- TAAACCT&#45;&gt;AAACCTG -->\n<g id=\"edge119\" class=\"edge\">\n<title>TAAACCT-&gt;AAACCTG</title>\n<path fill=\"none\" stroke=\"black\" d=\"M100.19,-2447.7C100.19,-2439.98 100.19,-2430.71 100.19,-2422.11\"/>\n<polygon fill=\"black\" stroke=\"black\" points=\"103.7,-2422.1 100.19,-2412.1 96.7,-2422.1 103.7,-2422.1\"/>\n</g>\n<!-- ACCGACG -->\n<g id=\"node149\" class=\"node\">\n<title>ACCGACG</title>\n<ellipse fill=\"none\" stroke=\"black\" cx=\"235.19\" cy=\"-9522\" rx=\"58.49\" ry=\"18\"/>\n<text text-anchor=\"middle\" x=\"235.19\" y=\"-9518.3\" font-family=\"Times,serif\" font-size=\"14.00\">ACCGACG</text>\n</g>\n<!-- TACCGAC&#45;&gt;ACCGACG -->\n<g id=\"edge99\" class=\"edge\">\n<title>TACCGAC-&gt;ACCGACG</title>\n<path fill=\"none\" stroke=\"black\" d=\"M235.19,-9575.7C235.19,-9567.98 235.19,-9558.71 235.19,-9550.11\"/>\n<polygon fill=\"black\" stroke=\"black\" points=\"238.7,-9550.1 235.19,-9540.1 231.7,-9550.1 238.7,-9550.1\"/>\n</g>\n<!-- ACCGACG&#45;&gt;CCGACGA -->\n<g id=\"edge184\" class=\"edge\">\n<title>ACCGACG-&gt;CCGACGA</title>\n<path fill=\"none\" stroke=\"black\" d=\"M235.19,-9503.7C235.19,-9495.98 235.19,-9486.71 235.19,-9478.11\"/>\n<polygon fill=\"black\" stroke=\"black\" points=\"238.7,-9478.1 235.19,-9468.1 231.7,-9478.1 238.7,-9478.1\"/>\n</g>\n<!-- CGTACAT&#45;&gt;GTACATC -->\n<g id=\"edge100\" class=\"edge\">\n<title>CGTACAT-&gt;GTACATC</title>\n<path fill=\"none\" stroke=\"black\" d=\"M233.19,-6623.7C233.19,-6615.98 233.19,-6606.71 233.19,-6598.11\"/>\n<polygon fill=\"black\" stroke=\"black\" points=\"236.7,-6598.1 233.19,-6588.1 229.7,-6598.1 236.7,-6598.1\"/>\n</g>\n<!-- GCACATG&#45;&gt;CACATGG -->\n<g id=\"edge164\" class=\"edge\">\n<title>GCACATG-&gt;CACATGG</title>\n<path fill=\"none\" stroke=\"black\" d=\"M235.19,-8423.7C235.19,-8415.98 235.19,-8406.71 235.19,-8398.11\"/>\n<polygon fill=\"black\" stroke=\"black\" points=\"238.7,-8398.1 235.19,-8388.1 231.7,-8398.1 238.7,-8398.1\"/>\n</g>\n<!-- TGTCGAG -->\n<g id=\"node152\" class=\"node\">\n<title>TGTCGAG</title>\n<ellipse fill=\"none\" stroke=\"black\" cx=\"233.19\" cy=\"-3114\" rx=\"57.69\" ry=\"18\"/>\n<text text-anchor=\"middle\" x=\"233.19\" y=\"-3110.3\" font-family=\"Times,serif\" font-size=\"14.00\">TGTCGAG</text>\n</g>\n<!-- TGTCGAG&#45;&gt;GTCGAGT -->\n<g id=\"edge102\" class=\"edge\">\n<title>TGTCGAG-&gt;GTCGAGT</title>\n<path fill=\"none\" stroke=\"black\" d=\"M233.44,-3095.7C233.55,-3087.98 233.68,-3078.71 233.81,-3070.11\"/>\n<polygon fill=\"black\" stroke=\"black\" points=\"237.31,-3070.15 233.95,-3060.1 230.31,-3070.05 237.31,-3070.15\"/>\n</g>\n<!-- GATTGTG -->\n<g id=\"node153\" class=\"node\">\n<title>GATTGTG</title>\n<ellipse fill=\"none\" stroke=\"black\" cx=\"227.19\" cy=\"-3474\" rx=\"57.39\" ry=\"18\"/>\n<text text-anchor=\"middle\" x=\"227.19\" y=\"-3470.3\" font-family=\"Times,serif\" font-size=\"14.00\">GATTGTG</text>\n</g>\n<!-- ATTGTGT -->\n<g id=\"node154\" class=\"node\">\n<title>ATTGTGT</title>\n<ellipse fill=\"none\" stroke=\"black\" cx=\"224.19\" cy=\"-3402\" rx=\"55.79\" ry=\"18\"/>\n<text text-anchor=\"middle\" x=\"224.19\" y=\"-3398.3\" font-family=\"Times,serif\" font-size=\"14.00\">ATTGTGT</text>\n</g>\n<!-- GATTGTG&#45;&gt;ATTGTGT -->\n<g id=\"edge104\" class=\"edge\">\n<title>GATTGTG-&gt;ATTGTGT</title>\n<path fill=\"none\" stroke=\"black\" d=\"M226.45,-3455.7C226.12,-3447.98 225.73,-3438.71 225.36,-3430.11\"/>\n<polygon fill=\"black\" stroke=\"black\" points=\"228.85,-3429.95 224.93,-3420.1 221.86,-3430.25 228.85,-3429.95\"/>\n</g>\n<!-- ATTGTGT&#45;&gt;TTGTGTC -->\n<g id=\"edge167\" class=\"edge\">\n<title>ATTGTGT-&gt;TTGTGTC</title>\n<path fill=\"none\" stroke=\"black\" d=\"M224.19,-3383.7C224.19,-3375.98 224.19,-3366.71 224.19,-3358.11\"/>\n<polygon fill=\"black\" stroke=\"black\" points=\"227.7,-3358.1 224.19,-3348.1 220.7,-3358.1 227.7,-3358.1\"/>\n</g>\n<!-- CCACATA&#45;&gt;CACATAA -->\n<g id=\"edge106\" class=\"edge\">\n<title>CCACATA-&gt;CACATAA</title>\n<path fill=\"none\" stroke=\"black\" d=\"M100.19,-1007.7C100.19,-999.98 100.19,-990.71 100.19,-982.11\"/>\n<polygon fill=\"black\" stroke=\"black\" points=\"103.7,-982.1 100.19,-972.1 96.7,-982.1 103.7,-982.1\"/>\n</g>\n<!-- TGATAAA -->\n<g id=\"node157\" class=\"node\">\n<title>TGATAAA</title>\n<ellipse fill=\"none\" stroke=\"black\" cx=\"100.19\" cy=\"-1818\" rx=\"54.69\" ry=\"18\"/>\n<text text-anchor=\"middle\" x=\"100.19\" y=\"-1814.3\" font-family=\"Times,serif\" font-size=\"14.00\">TGATAAA</text>\n</g>\n<!-- TTGATAA&#45;&gt;TGATAAA -->\n<g id=\"edge107\" class=\"edge\">\n<title>TTGATAA-&gt;TGATAAA</title>\n<path fill=\"none\" stroke=\"black\" d=\"M100.19,-1871.7C100.19,-1863.98 100.19,-1854.71 100.19,-1846.11\"/>\n<polygon fill=\"black\" stroke=\"black\" points=\"103.7,-1846.1 100.19,-1836.1 96.7,-1846.1 103.7,-1846.1\"/>\n</g>\n<!-- TGATAAA&#45;&gt;GATAAAA -->\n<g id=\"edge139\" class=\"edge\">\n<title>TGATAAA-&gt;GATAAAA</title>\n<path fill=\"none\" stroke=\"black\" d=\"M100.19,-1799.7C100.19,-1791.98 100.19,-1782.71 100.19,-1774.11\"/>\n<polygon fill=\"black\" stroke=\"black\" points=\"103.7,-1774.1 100.19,-1764.1 96.7,-1774.1 103.7,-1774.1\"/>\n</g>\n<!-- TTTGGTC -->\n<g id=\"node158\" class=\"node\">\n<title>TTTGGTC</title>\n<ellipse fill=\"none\" stroke=\"black\" cx=\"100.19\" cy=\"-306\" rx=\"57.39\" ry=\"18\"/>\n<text text-anchor=\"middle\" x=\"100.19\" y=\"-302.3\" font-family=\"Times,serif\" font-size=\"14.00\">TTTGGTC</text>\n</g>\n<!-- TTGGTCG -->\n<g id=\"node159\" class=\"node\">\n<title>TTGGTCG</title>\n<ellipse fill=\"none\" stroke=\"black\" cx=\"100.19\" cy=\"-234\" rx=\"57.69\" ry=\"18\"/>\n<text text-anchor=\"middle\" x=\"100.19\" y=\"-230.3\" font-family=\"Times,serif\" font-size=\"14.00\">TTGGTCG</text>\n</g>\n<!-- TTTGGTC&#45;&gt;TTGGTCG -->\n<g id=\"edge108\" class=\"edge\">\n<title>TTTGGTC-&gt;TTGGTCG</title>\n<path fill=\"none\" stroke=\"black\" d=\"M100.19,-287.7C100.19,-279.98 100.19,-270.71 100.19,-262.11\"/>\n<polygon fill=\"black\" stroke=\"black\" points=\"103.7,-262.1 100.19,-252.1 96.7,-262.1 103.7,-262.1\"/>\n</g>\n<!-- TTGGTCG&#45;&gt;TGGTCGT -->\n<g id=\"edge173\" class=\"edge\">\n<title>TTGGTCG-&gt;TGGTCGT</title>\n<path fill=\"none\" stroke=\"black\" d=\"M100.19,-215.7C100.19,-207.98 100.19,-198.71 100.19,-190.11\"/>\n<polygon fill=\"black\" stroke=\"black\" points=\"103.7,-190.1 100.19,-180.1 96.7,-190.1 103.7,-190.1\"/>\n</g>\n<!-- ACCACGT -->\n<g id=\"node160\" class=\"node\">\n<title>ACCACGT</title>\n<ellipse fill=\"none\" stroke=\"black\" cx=\"235.19\" cy=\"-7578\" rx=\"57.39\" ry=\"18\"/>\n<text text-anchor=\"middle\" x=\"235.19\" y=\"-7574.3\" font-family=\"Times,serif\" font-size=\"14.00\">ACCACGT</text>\n</g>\n<!-- CCACGTA -->\n<g id=\"node161\" class=\"node\">\n<title>CCACGTA</title>\n<ellipse fill=\"none\" stroke=\"black\" cx=\"235.19\" cy=\"-7506\" rx=\"57.39\" ry=\"18\"/>\n<text text-anchor=\"middle\" x=\"235.19\" y=\"-7502.3\" font-family=\"Times,serif\" font-size=\"14.00\">CCACGTA</text>\n</g>\n<!-- ACCACGT&#45;&gt;CCACGTA -->\n<g id=\"edge109\" class=\"edge\">\n<title>ACCACGT-&gt;CCACGTA</title>\n<path fill=\"none\" stroke=\"black\" d=\"M235.19,-7559.7C235.19,-7551.98 235.19,-7542.71 235.19,-7534.11\"/>\n<polygon fill=\"black\" stroke=\"black\" points=\"238.7,-7534.1 235.19,-7524.1 231.7,-7534.1 238.7,-7534.1\"/>\n</g>\n<!-- CCACGTA&#45;&gt;CACGTAT -->\n<g id=\"edge189\" class=\"edge\">\n<title>CCACGTA-&gt;CACGTAT</title>\n<path fill=\"none\" stroke=\"black\" d=\"M235.19,-7487.7C235.19,-7479.98 235.19,-7470.71 235.19,-7462.11\"/>\n<polygon fill=\"black\" stroke=\"black\" points=\"238.7,-7462.1 235.19,-7452.1 231.7,-7462.1 238.7,-7462.1\"/>\n</g>\n<!-- CGAATGT&#45;&gt;GAATGTC -->\n<g id=\"edge166\" class=\"edge\">\n<title>CGAATGT-&gt;GAATGTC</title>\n<path fill=\"none\" stroke=\"black\" d=\"M235.19,-9143.7C235.19,-9135.98 235.19,-9126.71 235.19,-9118.11\"/>\n<polygon fill=\"black\" stroke=\"black\" points=\"238.7,-9118.1 235.19,-9108.1 231.7,-9118.1 238.7,-9118.1\"/>\n</g>\n<!-- CCCCGCG&#45;&gt;CCCGCGC -->\n<g id=\"edge113\" class=\"edge\">\n<title>CCCCGCG-&gt;CCCGCGC</title>\n<path fill=\"none\" stroke=\"black\" d=\"M235.19,-6047.7C235.19,-6039.98 235.19,-6030.71 235.19,-6022.11\"/>\n<polygon fill=\"black\" stroke=\"black\" points=\"238.7,-6022.1 235.19,-6012.1 231.7,-6022.1 238.7,-6022.1\"/>\n</g>\n<!-- ATCCCCC -->\n<g id=\"node182\" class=\"node\">\n<title>ATCCCCC</title>\n<ellipse fill=\"none\" stroke=\"black\" cx=\"233.19\" cy=\"-6282\" rx=\"57.39\" ry=\"18\"/>\n<text text-anchor=\"middle\" x=\"233.19\" y=\"-6278.3\" font-family=\"Times,serif\" font-size=\"14.00\">ATCCCCC</text>\n</g>\n<!-- CATCCCC&#45;&gt;ATCCCCC -->\n<g id=\"edge143\" class=\"edge\">\n<title>CATCCCC-&gt;ATCCCCC</title>\n<path fill=\"none\" stroke=\"black\" d=\"M233.19,-6335.7C233.19,-6327.98 233.19,-6318.71 233.19,-6310.11\"/>\n<polygon fill=\"black\" stroke=\"black\" points=\"236.7,-6310.1 233.19,-6300.1 229.7,-6310.1 236.7,-6310.1\"/>\n</g>\n<!-- CGGAGGA -->\n<g id=\"node165\" class=\"node\">\n<title>CGGAGGA</title>\n<ellipse fill=\"none\" stroke=\"black\" cx=\"235.19\" cy=\"-11898\" rx=\"59.59\" ry=\"18\"/>\n<text text-anchor=\"middle\" x=\"235.19\" y=\"-11894.3\" font-family=\"Times,serif\" font-size=\"14.00\">CGGAGGA</text>\n</g>\n<!-- GGAGGAT -->\n<g id=\"node166\" class=\"node\">\n<title>GGAGGAT</title>\n<ellipse fill=\"none\" stroke=\"black\" cx=\"235.19\" cy=\"-11826\" rx=\"58.49\" ry=\"18\"/>\n<text text-anchor=\"middle\" x=\"235.19\" y=\"-11822.3\" font-family=\"Times,serif\" font-size=\"14.00\">GGAGGAT</text>\n</g>\n<!-- CGGAGGA&#45;&gt;GGAGGAT -->\n<g id=\"edge118\" class=\"edge\">\n<title>CGGAGGA-&gt;GGAGGAT</title>\n<path fill=\"none\" stroke=\"black\" d=\"M235.19,-11879.7C235.19,-11871.98 235.19,-11862.71 235.19,-11854.11\"/>\n<polygon fill=\"black\" stroke=\"black\" points=\"238.7,-11854.1 235.19,-11844.1 231.7,-11854.1 238.7,-11854.1\"/>\n</g>\n<!-- GGAGGAT&#45;&gt;GAGGATC -->\n<g id=\"edge129\" class=\"edge\">\n<title>GGAGGAT-&gt;GAGGATC</title>\n<path fill=\"none\" stroke=\"black\" d=\"M235.19,-11807.7C235.19,-11799.98 235.19,-11790.71 235.19,-11782.11\"/>\n<polygon fill=\"black\" stroke=\"black\" points=\"238.7,-11782.1 235.19,-11772.1 231.7,-11782.1 238.7,-11782.1\"/>\n</g>\n<!-- GCGCATC&#45;&gt;CGCATCG -->\n<g id=\"edge122\" class=\"edge\">\n<title>GCGCATC-&gt;CGCATCG</title>\n<path fill=\"none\" stroke=\"black\" d=\"M235.19,-5759.7C235.19,-5751.98 235.19,-5742.71 235.19,-5734.11\"/>\n<polygon fill=\"black\" stroke=\"black\" points=\"238.7,-5734.1 235.19,-5724.1 231.7,-5734.1 238.7,-5734.1\"/>\n</g>\n<!-- CACCACG -->\n<g id=\"node168\" class=\"node\">\n<title>CACCACG</title>\n<ellipse fill=\"none\" stroke=\"black\" cx=\"235.19\" cy=\"-7650\" rx=\"57.69\" ry=\"18\"/>\n<text text-anchor=\"middle\" x=\"235.19\" y=\"-7646.3\" font-family=\"Times,serif\" font-size=\"14.00\">CACCACG</text>\n</g>\n<!-- CACCACG&#45;&gt;ACCACGT -->\n<g id=\"edge124\" class=\"edge\">\n<title>CACCACG-&gt;ACCACGT</title>\n<path fill=\"none\" stroke=\"black\" d=\"M235.19,-7631.7C235.19,-7623.98 235.19,-7614.71 235.19,-7606.11\"/>\n<polygon fill=\"black\" stroke=\"black\" points=\"238.7,-7606.1 235.19,-7596.1 231.7,-7606.1 238.7,-7606.1\"/>\n</g>\n<!-- CGGACTC -->\n<g id=\"node169\" class=\"node\">\n<title>CGGACTC</title>\n<ellipse fill=\"none\" stroke=\"black\" cx=\"235.19\" cy=\"-10314\" rx=\"57.69\" ry=\"18\"/>\n<text text-anchor=\"middle\" x=\"235.19\" y=\"-10310.3\" font-family=\"Times,serif\" font-size=\"14.00\">CGGACTC</text>\n</g>\n<!-- CGGACTC&#45;&gt;GGACTCC -->\n<g id=\"edge125\" class=\"edge\">\n<title>CGGACTC-&gt;GGACTCC</title>\n<path fill=\"none\" stroke=\"black\" d=\"M235.19,-10295.7C235.19,-10287.98 235.19,-10278.71 235.19,-10270.11\"/>\n<polygon fill=\"black\" stroke=\"black\" points=\"238.7,-10270.1 235.19,-10260.1 231.7,-10270.1 238.7,-10270.1\"/>\n</g>\n<!-- TATGCCA&#45;&gt;ATGCCAA -->\n<g id=\"edge126\" class=\"edge\">\n<title>TATGCCA-&gt;ATGCCAA</title>\n<path fill=\"none\" stroke=\"black\" d=\"M235.19,-4967.7C235.19,-4959.98 235.19,-4950.71 235.19,-4942.11\"/>\n<polygon fill=\"black\" stroke=\"black\" points=\"238.7,-4942.1 235.19,-4932.1 231.7,-4942.1 238.7,-4942.1\"/>\n</g>\n<!-- ATAGGGG -->\n<g id=\"node171\" class=\"node\">\n<title>ATAGGGG</title>\n<ellipse fill=\"none\" stroke=\"black\" cx=\"228.19\" cy=\"-3906\" rx=\"57.69\" ry=\"18\"/>\n<text text-anchor=\"middle\" x=\"228.19\" y=\"-3902.3\" font-family=\"Times,serif\" font-size=\"14.00\">ATAGGGG</text>\n</g>\n<!-- ATAGGGG&#45;&gt;TAGGGGA -->\n<g id=\"edge128\" class=\"edge\">\n<title>ATAGGGG-&gt;TAGGGGA</title>\n<path fill=\"none\" stroke=\"black\" d=\"M228.19,-3887.7C228.19,-3879.98 228.19,-3870.71 228.19,-3862.11\"/>\n<polygon fill=\"black\" stroke=\"black\" points=\"231.7,-3862.1 228.19,-3852.1 224.7,-3862.1 231.7,-3862.1\"/>\n</g>\n<!-- TCCATCG -->\n<g id=\"node173\" class=\"node\">\n<title>TCCATCG</title>\n<ellipse fill=\"none\" stroke=\"black\" cx=\"235.19\" cy=\"-7002\" rx=\"56.59\" ry=\"18\"/>\n<text text-anchor=\"middle\" x=\"235.19\" y=\"-6998.3\" font-family=\"Times,serif\" font-size=\"14.00\">TCCATCG</text>\n</g>\n<!-- ATCCATC&#45;&gt;TCCATCG -->\n<g id=\"edge130\" class=\"edge\">\n<title>ATCCATC-&gt;TCCATCG</title>\n<path fill=\"none\" stroke=\"black\" d=\"M235.19,-7055.7C235.19,-7047.98 235.19,-7038.71 235.19,-7030.11\"/>\n<polygon fill=\"black\" stroke=\"black\" points=\"238.7,-7030.1 235.19,-7020.1 231.7,-7030.1 238.7,-7030.1\"/>\n</g>\n<!-- TCCATCG&#45;&gt;CCATCGT -->\n<g id=\"edge192\" class=\"edge\">\n<title>TCCATCG-&gt;CCATCGT</title>\n<path fill=\"none\" stroke=\"black\" d=\"M235.19,-6983.7C235.19,-6975.98 235.19,-6966.71 235.19,-6958.11\"/>\n<polygon fill=\"black\" stroke=\"black\" points=\"238.7,-6958.1 235.19,-6948.1 231.7,-6958.1 238.7,-6958.1\"/>\n</g>\n<!-- TTTTGGT -->\n<g id=\"node175\" class=\"node\">\n<title>TTTTGGT</title>\n<ellipse fill=\"none\" stroke=\"black\" cx=\"100.19\" cy=\"-378\" rx=\"56.59\" ry=\"18\"/>\n<text text-anchor=\"middle\" x=\"100.19\" y=\"-374.3\" font-family=\"Times,serif\" font-size=\"14.00\">TTTTGGT</text>\n</g>\n<!-- TTTTTGG&#45;&gt;TTTTGGT -->\n<g id=\"edge131\" class=\"edge\">\n<title>TTTTTGG-&gt;TTTTGGT</title>\n<path fill=\"none\" stroke=\"black\" d=\"M100.19,-431.7C100.19,-423.98 100.19,-414.71 100.19,-406.11\"/>\n<polygon fill=\"black\" stroke=\"black\" points=\"103.7,-406.1 100.19,-396.1 96.7,-406.1 103.7,-406.1\"/>\n</g>\n<!-- TTTTGGT&#45;&gt;TTTGGTC -->\n<g id=\"edge181\" class=\"edge\">\n<title>TTTTGGT-&gt;TTTGGTC</title>\n<path fill=\"none\" stroke=\"black\" d=\"M100.19,-359.7C100.19,-351.98 100.19,-342.71 100.19,-334.11\"/>\n<polygon fill=\"black\" stroke=\"black\" points=\"103.7,-334.1 100.19,-324.1 96.7,-334.1 103.7,-334.1\"/>\n</g>\n<!-- GACTCGG&#45;&gt;ACTCGGA -->\n<g id=\"edge138\" class=\"edge\">\n<title>GACTCGG-&gt;ACTCGGA</title>\n<path fill=\"none\" stroke=\"black\" d=\"M288.9,-2051.98C301.46,-2078.13 323.19,-2130.12 323.19,-2177 323.19,-11971 323.19,-11971 323.19,-11971 323.19,-12012.94 305.8,-12058.96 293.14,-12086.92\"/>\n<polygon fill=\"black\" stroke=\"black\" points=\"289.95,-12085.47 288.9,-12096.02 296.3,-12088.43 289.95,-12085.47\"/>\n</g>\n<!-- CTTTAAC&#45;&gt;TTTAACG -->\n<g id=\"edge133\" class=\"edge\">\n<title>CTTTAAC-&gt;TTTAACG</title>\n<path fill=\"none\" stroke=\"black\" d=\"M235.19,-11159.7C235.19,-11151.98 235.19,-11142.71 235.19,-11134.11\"/>\n<polygon fill=\"black\" stroke=\"black\" points=\"238.7,-11134.1 235.19,-11124.1 231.7,-11134.1 238.7,-11134.1\"/>\n</g>\n<!-- TCGGAGG&#45;&gt;CGGAGGA -->\n<g id=\"edge147\" class=\"edge\">\n<title>TCGGAGG-&gt;CGGAGGA</title>\n<path fill=\"none\" stroke=\"black\" d=\"M235.95,-11951.7C235.84,-11943.98 235.71,-11934.71 235.58,-11926.11\"/>\n<polygon fill=\"black\" stroke=\"black\" points=\"239.08,-11926.05 235.44,-11916.1 232.08,-11926.15 239.08,-11926.05\"/>\n</g>\n<!-- CCGGTAG -->\n<g id=\"node181\" class=\"node\">\n<title>CCGGTAG</title>\n<ellipse fill=\"none\" stroke=\"black\" cx=\"235.19\" cy=\"-9882\" rx=\"58.49\" ry=\"18\"/>\n<text text-anchor=\"middle\" x=\"235.19\" y=\"-9878.3\" font-family=\"Times,serif\" font-size=\"14.00\">CCGGTAG</text>\n</g>\n<!-- TCCGGTA&#45;&gt;CCGGTAG -->\n<g id=\"edge142\" class=\"edge\">\n<title>TCCGGTA-&gt;CCGGTAG</title>\n<path fill=\"none\" stroke=\"black\" d=\"M235.19,-9935.7C235.19,-9927.98 235.19,-9918.71 235.19,-9910.11\"/>\n<polygon fill=\"black\" stroke=\"black\" points=\"238.7,-9910.1 235.19,-9900.1 231.7,-9910.1 238.7,-9910.1\"/>\n</g>\n<!-- GTGTCGA&#45;&gt;TGTCGAT -->\n<g id=\"edge159\" class=\"edge\">\n<title>GTGTCGA-&gt;TGTCGAT</title>\n<path fill=\"none\" stroke=\"black\" d=\"M194.94,-3169.81C177.42,-3159.67 154.18,-3146.23 135.11,-3135.2\"/>\n<polygon fill=\"black\" stroke=\"black\" points=\"136.81,-3132.14 126.4,-3130.16 133.3,-3138.2 136.81,-3132.14\"/>\n</g>\n<!-- GTGTCGA&#45;&gt;TGTCGAG -->\n<g id=\"edge137\" class=\"edge\">\n<title>GTGTCGA-&gt;TGTCGAG</title>\n<path fill=\"none\" stroke=\"black\" d=\"M224.16,-3167.7C225.48,-3159.98 227.07,-3150.71 228.55,-3142.11\"/>\n<polygon fill=\"black\" stroke=\"black\" points=\"232.02,-3142.55 230.26,-3132.1 225.12,-3141.37 232.02,-3142.55\"/>\n</g>\n<!-- CCGGTAG&#45;&gt;CGGTAGA -->\n<g id=\"edge190\" class=\"edge\">\n<title>CCGGTAG-&gt;CGGTAGA</title>\n<path fill=\"none\" stroke=\"black\" d=\"M235.19,-9863.7C235.19,-9855.98 235.19,-9846.71 235.19,-9838.11\"/>\n<polygon fill=\"black\" stroke=\"black\" points=\"238.7,-9838.1 235.19,-9828.1 231.7,-9838.1 238.7,-9838.1\"/>\n</g>\n<!-- ATCCCCC&#45;&gt;TCCCCCG -->\n<g id=\"edge160\" class=\"edge\">\n<title>ATCCCCC-&gt;TCCCCCG</title>\n<path fill=\"none\" stroke=\"black\" d=\"M233.69,-6263.7C233.91,-6255.98 234.17,-6246.71 234.42,-6238.11\"/>\n<polygon fill=\"black\" stroke=\"black\" points=\"237.92,-6238.2 234.71,-6228.1 230.92,-6238 237.92,-6238.2\"/>\n</g>\n<!-- GGTGACT&#45;&gt;GTGACTC -->\n<g id=\"edge145\" class=\"edge\">\n<title>GGTGACT-&gt;GTGACTC</title>\n<path fill=\"none\" stroke=\"black\" d=\"M236.44,-2231.7C236.55,-2223.98 236.68,-2214.71 236.81,-2206.11\"/>\n<polygon fill=\"black\" stroke=\"black\" points=\"240.31,-2206.15 236.95,-2196.1 233.31,-2206.05 240.31,-2206.15\"/>\n</g>\n<!-- GGATTGT -->\n<g id=\"node185\" class=\"node\">\n<title>GGATTGT</title>\n<ellipse fill=\"none\" stroke=\"black\" cx=\"227.19\" cy=\"-3546\" rx=\"57.39\" ry=\"18\"/>\n<text text-anchor=\"middle\" x=\"227.19\" y=\"-3542.3\" font-family=\"Times,serif\" font-size=\"14.00\">GGATTGT</text>\n</g>\n<!-- GGGATTG&#45;&gt;GGATTGT -->\n<g id=\"edge175\" class=\"edge\">\n<title>GGGATTG-&gt;GGATTGT</title>\n<path fill=\"none\" stroke=\"black\" d=\"M227.19,-3599.7C227.19,-3591.98 227.19,-3582.71 227.19,-3574.11\"/>\n<polygon fill=\"black\" stroke=\"black\" points=\"230.7,-3574.1 227.19,-3564.1 223.7,-3574.1 230.7,-3574.1\"/>\n</g>\n<!-- GGATTGT&#45;&gt;GATTGTG -->\n<g id=\"edge150\" class=\"edge\">\n<title>GGATTGT-&gt;GATTGTG</title>\n<path fill=\"none\" stroke=\"black\" d=\"M227.19,-3527.7C227.19,-3519.98 227.19,-3510.71 227.19,-3502.11\"/>\n<polygon fill=\"black\" stroke=\"black\" points=\"230.7,-3502.1 227.19,-3492.1 223.7,-3502.1 230.7,-3502.1\"/>\n</g>\n<!-- CCTGTTG&#45;&gt;CTGTTGA -->\n<g id=\"edge163\" class=\"edge\">\n<title>CCTGTTG-&gt;CTGTTGA</title>\n<path fill=\"none\" stroke=\"black\" d=\"M100.19,-2159.7C100.19,-2151.98 100.19,-2142.71 100.19,-2134.11\"/>\n<polygon fill=\"black\" stroke=\"black\" points=\"103.7,-2134.1 100.19,-2124.1 96.7,-2134.1 103.7,-2134.1\"/>\n</g>\n<!-- CGTATCC&#45;&gt;GTATCCA -->\n<g id=\"edge152\" class=\"edge\">\n<title>CGTATCC-&gt;GTATCCA</title>\n<path fill=\"none\" stroke=\"black\" d=\"M235.19,-7271.7C235.19,-7263.98 235.19,-7254.71 235.19,-7246.11\"/>\n<polygon fill=\"black\" stroke=\"black\" points=\"238.7,-7246.1 235.19,-7236.1 231.7,-7246.1 238.7,-7246.1\"/>\n</g>\n<!-- CCACCAC&#45;&gt;CACCACG -->\n<g id=\"edge154\" class=\"edge\">\n<title>CCACCAC-&gt;CACCACG</title>\n<path fill=\"none\" stroke=\"black\" d=\"M235.19,-7703.7C235.19,-7695.98 235.19,-7686.71 235.19,-7678.11\"/>\n<polygon fill=\"black\" stroke=\"black\" points=\"238.7,-7678.1 235.19,-7668.1 231.7,-7678.1 238.7,-7678.1\"/>\n</g>\n<!-- CATAGGG -->\n<g id=\"node191\" class=\"node\">\n<title>CATAGGG</title>\n<ellipse fill=\"none\" stroke=\"black\" cx=\"228.19\" cy=\"-3978\" rx=\"57.69\" ry=\"18\"/>\n<text text-anchor=\"middle\" x=\"228.19\" y=\"-3974.3\" font-family=\"Times,serif\" font-size=\"14.00\">CATAGGG</text>\n</g>\n<!-- ACATAGG&#45;&gt;CATAGGG -->\n<g id=\"edge183\" class=\"edge\">\n<title>ACATAGG-&gt;CATAGGG</title>\n<path fill=\"none\" stroke=\"black\" d=\"M228.19,-4031.7C228.19,-4023.98 228.19,-4014.71 228.19,-4006.11\"/>\n<polygon fill=\"black\" stroke=\"black\" points=\"231.7,-4006.1 228.19,-3996.1 224.7,-4006.1 231.7,-4006.1\"/>\n</g>\n<!-- ACGGACT&#45;&gt;CGGACTC -->\n<g id=\"edge177\" class=\"edge\">\n<title>ACGGACT-&gt;CGGACTC</title>\n<path fill=\"none\" stroke=\"black\" d=\"M235.19,-10367.7C235.19,-10359.98 235.19,-10350.71 235.19,-10342.11\"/>\n<polygon fill=\"black\" stroke=\"black\" points=\"238.7,-10342.1 235.19,-10332.1 231.7,-10342.1 238.7,-10342.1\"/>\n</g>\n<!-- CATAGGG&#45;&gt;ATAGGGG -->\n<g id=\"edge178\" class=\"edge\">\n<title>CATAGGG-&gt;ATAGGGG</title>\n<path fill=\"none\" stroke=\"black\" d=\"M228.19,-3959.7C228.19,-3951.98 228.19,-3942.71 228.19,-3934.11\"/>\n<polygon fill=\"black\" stroke=\"black\" points=\"231.7,-3934.1 228.19,-3924.1 224.7,-3934.1 231.7,-3934.1\"/>\n</g>\n<!-- TAACGAC&#45;&gt;AACGACC -->\n<g id=\"edge191\" class=\"edge\">\n<title>TAACGAC-&gt;AACGACC</title>\n<path fill=\"none\" stroke=\"black\" d=\"M235.19,-10943.7C235.19,-10935.98 235.19,-10926.71 235.19,-10918.11\"/>\n<polygon fill=\"black\" stroke=\"black\" points=\"238.7,-10918.1 235.19,-10908.1 231.7,-10918.1 238.7,-10918.1\"/>\n</g>\n</g>\n</svg>",
      "text/plain": [
       "<IPython.core.display.SVG object>"
      ]
     },
     "metadata": {},
     "output_type": "display_data"
    }
   ],
   "source": [
    "# Helper function to visualize graphs\n",
    "%dotstr utils.viz_graph(nodes, edges)"
   ]
  },
  {
   "cell_type": "code",
   "execution_count": 42,
   "id": "3c4f6bfc",
   "metadata": {},
   "outputs": [],
   "source": [
    "# Main assembly algorithm\n",
    "\n",
    "def assemble_sequence(nodes, edges):\n",
    "    # Assemble the nodes and edges into a format that can be more efficiently processed\n",
    "    graph = {}\n",
    "    for node in nodes:\n",
    "        graph[node] = [edge for edge in edges if edge[0] == node]\n",
    "\n",
    "    # First node was determined when we first assembled the graph based on which node had no in-neighbors\n",
    "    curr_node = start_node\n",
    "\n",
    "    # Find a first cycle\n",
    "    edges_traversed = 0\n",
    "    path, graph, edges_traversed = find_cycle(graph, curr_node, edges_traversed)\n",
    "\n",
    "    # Continue finding cycles until every edge has been traversed\n",
    "    while edges_traversed < len(edges):\n",
    "        # Find a node in the path that still has unvisited edges\n",
    "        # Record the index of that node in the path so that we can splice in the new path later\n",
    "        insert_index = 0\n",
    "        for i in range(len(path)):\n",
    "            if len(graph[path[i]]) > 0:\n",
    "                curr_node = path[i]\n",
    "                insert_index = i\n",
    "                break\n",
    "        \n",
    "        # Find a new cycle starting from the new node we've found.\n",
    "        newPath, graph, edges_traversed = find_cycle(graph, curr_node, edges_traversed)\n",
    "\n",
    "        # Splice in the newly found path with the old one\n",
    "        path[insert_index+1:insert_index+1] = newPath\n",
    "\n",
    "    # From the path we've found, go back and assemble the sequence\n",
    "    # This is obviously inefficient, but doesn't impact overall complexity class so whatever\n",
    "    assembled_sequence = \"\"\n",
    "    assembled_sequence = path[0]\n",
    "    for node in path[1:]:\n",
    "        assembled_sequence += node[-1]\n",
    "\n",
    "    return assembled_sequence\n",
    "\n",
    "def find_cycle(graph, curr_node, edges_traversed):\n",
    "    cycle = []\n",
    "    while len(graph[curr_node]) > 0:\n",
    "        cycle.append(curr_node)\n",
    "        temp = curr_node\n",
    "        curr_node = graph[curr_node][0][1]\n",
    "        graph[temp].pop(0)\n",
    "        edges_traversed += 1\n",
    "    return cycle, graph, edges_traversed"
   ]
  },
  {
   "cell_type": "code",
   "execution_count": 43,
   "id": "a5b1b2e3",
   "metadata": {},
   "outputs": [
    {
     "name": "stdout",
     "output_type": "stream",
     "text": [
      "CCTACCGACGAATGTCATGCACATGGCCCCACCACGTATCCATCGTACAATCCCCCGCGCATCGTGTTATGCCAACGCTTACATAGGGGATTGTGTCGATGGTAAACCTGTTGATAAAATGGCCACATAATTTTTGGTCGTACGGTGTCGAGTGATAGGTGACTCGGAGGATCACTTTAACGACCACGGACTCCGGTAGA\n",
      "200\n"
     ]
    }
   ],
   "source": [
    "# Output assembled sequence\n",
    "# Hint: Sequence is 200 nucleotides long\n",
    "\n",
    "seq = assemble_sequence(nodes, edges)\n",
    "print(seq)"
   ]
  },
  {
   "cell_type": "markdown",
   "id": "91454973",
   "metadata": {},
   "source": [
    "<div class=\"alert alert-success\"> \n",
    "    \n",
    "**Problem 6.** Which of the two assembly methods did you use for problem 5, and why? (Hint: consider how the costs scale with the number of reads.)\n",
    "   We chose to use the de Bruijn graph method, which can be processed to find Euler paths, and we can use these paths to construct the genome. We chose the Eulerian method because ompared to using the hamiltonian path with the overlap graph, the cost of emplpying the Eulerian method will scale in polynomial time with the number of reads. On the other hand, the cost of using the hamiltonian path algorithm would scale in exponemtial time with the number of reads. Therefore, using the de Bruijn graph and the Euler paths would be more efficient.   \n",
    "</div>"
   ]
  },
  {
   "cell_type": "markdown",
   "id": "9c68ae0c",
   "metadata": {},
   "source": [
    "## Part 2: Sequencing SARS-CoV-2 virus"
   ]
  },
  {
   "cell_type": "markdown",
   "id": "bb9104f8",
   "metadata": {},
   "source": [
    "Let's move on from TeleTubbies to real-world organisms. For this problem, you'll assemble a genome for a variant of the SARS-CoV-2 virus. You're given reads from <i>actual</i> genome sequencing runs in the provided `SARS-CoV2.fastq` file. The file is based on the first Covid genome that was submitted on 5 January 2020: [https://www.ncbi.nlm.nih.gov/nuccore/NC_045512](https://www.ncbi.nlm.nih.gov/nuccore/NC_045512) But, you should be reconstructing a sequence from the provided reads without looking at the source sequence.\n",
    "\n",
    "<div class=\"alert alert-success\">\n",
    "    \n",
    "**Problem 7.**  Reconstruct the SATS-CoV2 genome from the provided sequence reads using $k=25$. \n",
    "    \n",
    "</div>\n",
    "\n",
    "You can re-use your implementation from Problem 5 and simply run it on the new data (depending on what you did for Problem 5, that might be enough to solve this problem). \n",
    "\n",
    "Print out your reconstructed sequence to a file `output.txt` (and add this file to the repo you submit). For this part, we will still assume that all the reads are error-free. "
   ]
  },
  {
   "cell_type": "code",
   "execution_count": 44,
   "id": "490daca9",
   "metadata": {},
   "outputs": [],
   "source": [
    "# Read sequence reads\n",
    "sequence_reads_covid, qualities_covid = utils.read_fastq('SARS-CoV2.fastq')"
   ]
  },
  {
   "cell_type": "code",
   "execution_count": 45,
   "id": "3dfbe110",
   "metadata": {},
   "outputs": [
    {
     "ename": "KeyboardInterrupt",
     "evalue": "",
     "output_type": "error",
     "traceback": [
      "\u001b[0;31m---------------------------------------------------------------------------\u001b[0m",
      "\u001b[0;31mKeyboardInterrupt\u001b[0m                         Traceback (most recent call last)",
      "\u001b[1;32m/home/ethan/SchoolStuff/Project-1-Genome-Assembly/project1.ipynb Cell 41'\u001b[0m in \u001b[0;36m<module>\u001b[0;34m\u001b[0m\n\u001b[1;32m      <a href='vscode-notebook-cell://wsl%2Bubuntu/home/ethan/SchoolStuff/Project-1-Genome-Assembly/project1.ipynb#ch0000040vscode-remote?line=0'>1</a>\u001b[0m \u001b[39m# Read reads into graph\u001b[39;00m\n\u001b[0;32m----> <a href='vscode-notebook-cell://wsl%2Bubuntu/home/ethan/SchoolStuff/Project-1-Genome-Assembly/project1.ipynb#ch0000040vscode-remote?line=1'>2</a>\u001b[0m nodes_covid, edges_covid, start_node \u001b[39m=\u001b[39m build_graph(sequence_reads_covid)\n",
      "\u001b[1;32m/home/ethan/SchoolStuff/Project-1-Genome-Assembly/project1.ipynb Cell 31'\u001b[0m in \u001b[0;36mbuild_graph\u001b[0;34m(k_mers)\u001b[0m\n\u001b[1;32m     <a href='vscode-notebook-cell://wsl%2Bubuntu/home/ethan/SchoolStuff/Project-1-Genome-Assembly/project1.ipynb#ch0000030vscode-remote?line=14'>15</a>\u001b[0m     nodes\u001b[39m.\u001b[39madd(s[:\u001b[39m-\u001b[39m\u001b[39m1\u001b[39m])\n\u001b[1;32m     <a href='vscode-notebook-cell://wsl%2Bubuntu/home/ethan/SchoolStuff/Project-1-Genome-Assembly/project1.ipynb#ch0000030vscode-remote?line=15'>16</a>\u001b[0m     nodes\u001b[39m.\u001b[39madd(s[\u001b[39m1\u001b[39m:])\n\u001b[0;32m---> <a href='vscode-notebook-cell://wsl%2Bubuntu/home/ethan/SchoolStuff/Project-1-Genome-Assembly/project1.ipynb#ch0000030vscode-remote?line=16'>17</a>\u001b[0m nodes, edges, start_node \u001b[39m=\u001b[39m make_fully_balanced(nodes, edges)\n\u001b[1;32m     <a href='vscode-notebook-cell://wsl%2Bubuntu/home/ethan/SchoolStuff/Project-1-Genome-Assembly/project1.ipynb#ch0000030vscode-remote?line=17'>18</a>\u001b[0m \u001b[39mreturn\u001b[39;00m nodes, edges, start_node\n",
      "\u001b[1;32m/home/ethan/SchoolStuff/Project-1-Genome-Assembly/project1.ipynb Cell 31'\u001b[0m in \u001b[0;36mmake_fully_balanced\u001b[0;34m(nodes, edges)\u001b[0m\n\u001b[1;32m     <a href='vscode-notebook-cell://wsl%2Bubuntu/home/ethan/SchoolStuff/Project-1-Genome-Assembly/project1.ipynb#ch0000030vscode-remote?line=23'>24</a>\u001b[0m edges_in \u001b[39m=\u001b[39m \u001b[39m0\u001b[39m\n\u001b[1;32m     <a href='vscode-notebook-cell://wsl%2Bubuntu/home/ethan/SchoolStuff/Project-1-Genome-Assembly/project1.ipynb#ch0000030vscode-remote?line=24'>25</a>\u001b[0m edges_out \u001b[39m=\u001b[39m \u001b[39m0\u001b[39m\n\u001b[0;32m---> <a href='vscode-notebook-cell://wsl%2Bubuntu/home/ethan/SchoolStuff/Project-1-Genome-Assembly/project1.ipynb#ch0000030vscode-remote?line=25'>26</a>\u001b[0m \u001b[39mfor\u001b[39;00m edge \u001b[39min\u001b[39;00m edges:\n\u001b[1;32m     <a href='vscode-notebook-cell://wsl%2Bubuntu/home/ethan/SchoolStuff/Project-1-Genome-Assembly/project1.ipynb#ch0000030vscode-remote?line=26'>27</a>\u001b[0m     \u001b[39mif\u001b[39;00m edge[\u001b[39m1\u001b[39m] \u001b[39m==\u001b[39m node:\n\u001b[1;32m     <a href='vscode-notebook-cell://wsl%2Bubuntu/home/ethan/SchoolStuff/Project-1-Genome-Assembly/project1.ipynb#ch0000030vscode-remote?line=27'>28</a>\u001b[0m         edges_in \u001b[39m+\u001b[39m\u001b[39m=\u001b[39m \u001b[39m1\u001b[39m\n",
      "\u001b[0;31mKeyboardInterrupt\u001b[0m: "
     ]
    }
   ],
   "source": [
    "# Read reads into graph\n",
    "nodes_covid, edges_covid, start_node = build_graph(sequence_reads_covid)"
   ]
  },
  {
   "cell_type": "code",
   "execution_count": null,
   "id": "011414e6",
   "metadata": {},
   "outputs": [
    {
     "ename": "KeyboardInterrupt",
     "evalue": "",
     "output_type": "error",
     "traceback": [
      "\u001b[0;31m---------------------------------------------------------------------------\u001b[0m",
      "\u001b[0;31mKeyboardInterrupt\u001b[0m                         Traceback (most recent call last)",
      "Input \u001b[0;32mIn [158]\u001b[0m, in \u001b[0;36m<module>\u001b[0;34m\u001b[0m\n\u001b[1;32m      1\u001b[0m \u001b[38;5;66;03m# Call main assembly algorithm\u001b[39;00m\n\u001b[0;32m----> 2\u001b[0m assmebled_covid_seq \u001b[38;5;241m=\u001b[39m \u001b[43massemble_sequence\u001b[49m\u001b[43m(\u001b[49m\u001b[43mnodes_covid\u001b[49m\u001b[43m,\u001b[49m\u001b[43m \u001b[49m\u001b[43medges_covid\u001b[49m\u001b[43m)\u001b[49m\n",
      "Input \u001b[0;32mIn [154]\u001b[0m, in \u001b[0;36massemble_sequence\u001b[0;34m(nodes, edges)\u001b[0m\n\u001b[1;32m      3\u001b[0m \u001b[38;5;28;01mdef\u001b[39;00m \u001b[38;5;21massemble_sequence\u001b[39m(nodes, edges):\n\u001b[1;32m      4\u001b[0m     \u001b[38;5;66;03m# Assemble the nodes and edges into a format that can be more efficiently processed\u001b[39;00m\n\u001b[0;32m----> 5\u001b[0m     nodes, edges \u001b[38;5;241m=\u001b[39m \u001b[43mmake_fully_balanced\u001b[49m\u001b[43m(\u001b[49m\u001b[43mnodes\u001b[49m\u001b[43m,\u001b[49m\u001b[43m \u001b[49m\u001b[43medges\u001b[49m\u001b[43m)\u001b[49m\n\u001b[1;32m      6\u001b[0m     processed_graph \u001b[38;5;241m=\u001b[39m {}\n\u001b[1;32m      7\u001b[0m     \u001b[38;5;28;01mfor\u001b[39;00m node \u001b[38;5;129;01min\u001b[39;00m nodes:\n",
      "Input \u001b[0;32mIn [151]\u001b[0m, in \u001b[0;36mmake_fully_balanced\u001b[0;34m(nodes, edges)\u001b[0m\n\u001b[1;32m      6\u001b[0m edges_out \u001b[38;5;241m=\u001b[39m \u001b[38;5;241m0\u001b[39m\n\u001b[1;32m      7\u001b[0m \u001b[38;5;28;01mfor\u001b[39;00m edge \u001b[38;5;129;01min\u001b[39;00m edges:\n\u001b[0;32m----> 8\u001b[0m     \u001b[38;5;28;01mif\u001b[39;00m \u001b[43medge\u001b[49m\u001b[43m[\u001b[49m\u001b[38;5;241;43m1\u001b[39;49m\u001b[43m]\u001b[49m\u001b[43m \u001b[49m\u001b[38;5;241;43m==\u001b[39;49m\u001b[43m \u001b[49m\u001b[43mnode\u001b[49m:\n\u001b[1;32m      9\u001b[0m         edges_in \u001b[38;5;241m+\u001b[39m\u001b[38;5;241m=\u001b[39m \u001b[38;5;241m1\u001b[39m\n\u001b[1;32m     10\u001b[0m     \u001b[38;5;28;01mif\u001b[39;00m edge[\u001b[38;5;241m0\u001b[39m] \u001b[38;5;241m==\u001b[39m node:\n",
      "\u001b[0;31mKeyboardInterrupt\u001b[0m: "
     ]
    }
   ],
   "source": [
    "# Call main assembly algorithm\n",
    "assmebled_covid_seq = assemble_sequence(nodes_covid, edges_covid)"
   ]
  },
  {
   "cell_type": "code",
   "execution_count": null,
   "id": "b8818bf5",
   "metadata": {},
   "outputs": [],
   "source": [
    "# Write assembled sequence to file\n",
    "with open(\"output.txt\", \"w\") as f:\n",
    "    f.write(assmebled_covid_seq)"
   ]
  },
  {
   "cell_type": "markdown",
   "id": "a3cc7d97",
   "metadata": {},
   "source": [
    "# Part 3: Error-Aware Assembly (Challenge Problem)"
   ]
  },
  {
   "cell_type": "markdown",
   "id": "9c03fa24",
   "metadata": {},
   "source": [
    "<div class=\"alert alert-warning\">\n",
    "    This problem is a \"Challenge Problem\". This means it is a problem of unknown difficulty that might be quite challenging (unlike the earlier problems, we don't have a reference solution for this one, or a clear idea how hard it might be). We do hope all students will at least attempt this and that more ambitious students will work hard to solve it and learn interesting things by the attempt (whether or not it is successful), but not get frustrated if you can't get to the desired answer.  As a \"Challenge Problem\" it means that you shouldn't be worried if you are not able to solve this, though, and you can get full expected credit on this assignment without answering it.\n",
    "</div>\n",
    "\n",
    "\n",
    "In the parts above, we assumed error-free reads while assembling $k$-mers. As much as we'd like that, actual reads can (and do) have errors, captured by their Phred scores. \n",
    "\n",
    "For this question, you're given raw, actual reads from sequencing runs. Download the reads from this file:\n",
    "https://sra-pub-sars-cov2.s3.amazonaws.com/sra-src/SRR11528307/ABS2-LN-R1_cleaned_paired.fastq.gz.  \n",
    "\n",
    "\n",
    "<div class=\"alert alert-success\">\n",
    "    \n",
    "**Problem 8 (Challenge).** Give the reads in the linked fastq file above, including their Phred33 quality score, assemble the most likely genome. Your solution should output the assembled sequence in `challenge.txt`. Provide a brief explantion of how your algorithm works and interesting things you learned in developing it.\n",
    "    \n",
    "</div>\n",
    "    \n",
    "This is an open-ended question. You are free to use any approach to deal with the issue. Make sure you provide your code, along with any assumptions you may have."
   ]
  },
  {
   "cell_type": "markdown",
   "id": "5d7e82e1",
   "metadata": {},
   "source": [
    "_Write a description of your algorithm, and things you learned from working on this here._"
   ]
  },
  {
   "cell_type": "code",
   "execution_count": null,
   "id": "4594e10b",
   "metadata": {},
   "outputs": [],
   "source": [
    "# implementation "
   ]
  },
  {
   "cell_type": "markdown",
   "id": "89a97c21",
   "metadata": {},
   "source": [
    "   <div class=\"alert alert-block alert-danger\">\n",
    "    <center>\n",
    "        \n",
    " **Remember to follow the submission directions above to submit your assignment by 4:59pm on Tuesday, 8 February.**\n",
    "    \n",
    " </center>\n",
    " </div>"
   ]
  }
 ],
 "metadata": {
  "kernelspec": {
   "display_name": "Python 3",
   "language": "python",
   "name": "python3"
  },
  "language_info": {
   "codemirror_mode": {
    "name": "ipython",
    "version": 3
   },
   "file_extension": ".py",
   "mimetype": "text/x-python",
   "name": "python",
   "nbconvert_exporter": "python",
   "pygments_lexer": "ipython3",
   "version": "3.8.2"
  }
 },
 "nbformat": 4,
 "nbformat_minor": 5
}
