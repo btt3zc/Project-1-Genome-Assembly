{
 "cells": [
  {
   "cell_type": "markdown",
   "id": "a9645da6",
   "metadata": {},
   "source": [
    "\n",
    "   <div class=\"alert alert-block alert-danger\">\n",
    "    <center>Due: <b>Tuesday, 8 February, 4:59pm</b>.</center> \n",
    "   </div>\n",
    "   \n",
    "   <div class=\"alert alert-block alert-warning\">\n",
    "   <center>\n",
    "       <b>Collaboration and Resource Policy</b>\n",
    "    </center>\n",
    "    For this assignment, you are encouraged to work with one other person. Your team must satisfy the constraints mentioned in <a href=\"https://www.dropbox.com/s/g6z2xncwc4jsplp/csbio-class2-inked.pdf?dl=0\">Class 2</a>.\n",
    "    \n",
    "   1. You went to different high schools.\n",
    "   2. You and your partner have different answers to <em>at least one</em> of these questions:\n",
    "       - What country were you born in?\n",
    "       - Have you taken any biology courses at UVA?\n",
    "       - Have you taken cs3102?\n",
    "       - Have you taken cs4102?\n",
    "    \n",
    "We expect most students will have the best learning experience on this assignment by working with a partner, but if you prefer to work alone it is okay to do this assignment on your own.\n",
    "    \n",
    "You are permitted (actually _encouraged_) to discuss these problems with anyone you want, including other students in the class. If you do discuss the specific questions in the assignment with anyone other than your assignment partner and the course staff, though, you should list them in the _External resources used_ section below.\n",
    "    \n",
    "You are welcome to use any resources you want for this assignment, other than ones that would defeat the purpose of the assignment. This means you should not look at answers or code from any other students in the class (other than your collaboration with your partner), and if you find code that implements the problem you are being asked to do for the assignment, you should not use that code. You should document all external resource you use that are not part of the course materials in the _External resources used_ section below."
   ]
  },
  {
   "cell_type": "markdown",
   "id": "14179769",
   "metadata": {},
   "source": [
    "**Team submitting this assignment:**  \n",
    "<div class=\"alert alert-success\">\n",
    "    <b><em>list each member of your team here, including both your name and UVA computing id</em></b>\n",
    "</div>\n",
    "\n",
    "**External resources used:** \n",
    "<div class=\"alert alert-success\">\n",
    "<em>It is not necessary to list the course materials, but if you used any other resources, including discussing problems with students not on your team, list them here.\n",
    "    https://www.zymoresearch.com/blogs/blog/what-are-phred-scores, used this source to figure out the error computation of a sequence\n",
    "    </em>\n",
    "</div>"
   ]
  },
  {
   "cell_type": "markdown",
   "id": "57bc46a1",
   "metadata": {},
   "source": [
    "In this project, we will explore genome assembly — the process of determining the order of nucleotides from fragmented reads that are produced by sequencing machines. \n",
    "\n",
    "Genome assembly maps to a very well defined computer science problem, but can get quite complicated, as problems such as full sequence coverage, finding a good length for reads (the $k$ in $k$-mer), and sequencing errors present challenges for sequencing analysis and accuracy. For the required problems (ones everyone is expected to solve), you will be able to assume perfect coverage and no read errors; for the \"challenge\" problem (that is considered a bonus, and not something we expect everyone to be able to solve, and perhaps may not even be feasible for anyone to solve) you will not be able to rely on such assumptions."
   ]
  },
  {
   "cell_type": "markdown",
   "id": "b701651a",
   "metadata": {},
   "source": [
    " <div class=\"alert alert-block alert-warning\">\n",
    "    \n",
    "<b>Submission</b>: You should work on this assignment by forking the provided Project 1 repository (you probably already did this, following the instructions posted at [https://computingbiology.github.io/project1](https://computingbiology.github.io/project1). Add the other teammate to as a collaborator with write access (also under the Settings tab) to this repository.\n",
    "    \n",
    "You should answer the questions and write your code in this Jupyter Notebook. (We don't expect you to need to use any external files or organize your code outside of the notebook, but if you do, make sure to put everything needed to run your code in your repository.) Parts where you are expected to provide and answer (which could be text that can be written in markdown format in the notebook or Python code that runs in the notebook) are marked in green.\n",
    "        \n",
    "When you are ready to submit the assignment, you should create a release of the version you are submitting ([github's directions for how to create a release](https://docs.github.com/en/repositories/releasing-projects-on-github/managing-releases-in-a-repository)) tagged as `submit`. After you've done this, send a message in slack to a channel that includes both team members (so the one sending this message should include the other team member) and all of the course staff (`dave`, `Hyun Jae Cho`, and `Anshuman Suri`) and a link to your repository (feel free to add any other useful comments if you want, but the link to your submission repository is sufficient)."
   ]
  },
  {
   "cell_type": "markdown",
   "id": "6ddc5cc5",
   "metadata": {},
   "source": [
    "## Getting Started"
   ]
  },
  {
   "cell_type": "markdown",
   "id": "65e42801",
   "metadata": {},
   "source": [
    "1. Install basic required packages, should be run only once. You may need to restart the jupyter python kernel (under the Kernel menu) after this. (You can execute this directly in the notebook but running the command below.)"
   ]
  },
  {
   "cell_type": "code",
   "execution_count": 1,
   "id": "9df18fe5",
   "metadata": {},
   "outputs": [
    {
     "name": "stdout",
     "output_type": "stream",
     "text": [
      "Defaulting to user installation because normal site-packages is not writeable\n",
      "Requirement already satisfied: gvmagic in /home/ethan/.local/lib/python3.8/site-packages (from -r requirements.txt (line 1)) (0.5)\n",
      "Requirement already satisfied: numpy in /usr/lib/python3/dist-packages (from -r requirements.txt (line 2)) (1.17.4)\n",
      "Requirement already satisfied: matplotlib in /usr/lib/python3/dist-packages (from -r requirements.txt (line 3)) (3.1.2)\n",
      "Requirement already satisfied: pydot in /home/ethan/.local/lib/python3.8/site-packages (from -r requirements.txt (line 4)) (1.4.2)\n",
      "Requirement already satisfied: pyparsing>=2.1.4 in /usr/lib/python3/dist-packages (from pydot->-r requirements.txt (line 4)) (2.4.6)\n",
      "\u001b[33mWARNING: You are using pip version 22.0; however, version 22.0.3 is available.\n",
      "You should consider upgrading via the '/bin/python3 -m pip install --upgrade pip' command.\u001b[0m\u001b[33m\n",
      "\u001b[0mNote: you may need to restart the kernel to use updated packages.\n"
     ]
    }
   ],
   "source": [
    "%pip install -r requirements.txt"
   ]
  },
  {
   "cell_type": "markdown",
   "id": "68cf7d92",
   "metadata": {},
   "source": [
    "2. Make sure you have [graphviz](https://graphviz.org/) installed on your system. (On a Mac OS X, `brew install graphviz`. For other platforms, see [_https://graphviz.org/download/_](https://graphviz.org/download/).)"
   ]
  },
  {
   "cell_type": "code",
   "execution_count": 2,
   "id": "d39abe1f",
   "metadata": {},
   "outputs": [],
   "source": [
    "import collections\n",
    "import matplotlib.pyplot as plt\n",
    "\n",
    "import utils"
   ]
  },
  {
   "cell_type": "markdown",
   "id": "5554e2bc",
   "metadata": {},
   "source": [
    "## Part 1: Assembling the TeleTubby Genome"
   ]
  },
  {
   "cell_type": "markdown",
   "id": "7985c6cb",
   "metadata": {},
   "source": [
    "For this part, you're given reads generated while trying to sequence the DNA of a mysterious unknown organism with a _tiny_ genome. Some of the course staff is not sure what a TeleTubby is, but I've been assured that no cute creatures were harmed in producing this data (which was generated synthetically).\n",
    "\n",
    "By answering the following questions, you will learn how to assemble the original genome sequence from sequence reads.\n",
    "\n",
    "Sequencing data is often stored in the FASTQ file format, with is a simple ASCII format that is somewhat human-readable. \n",
    "\n",
    "In _TeleTubby.fastq_ (which is included in the repository you forked), you will find the data that was read from the TeleTubby genome. Each four lines of the file repeat the same pattern. For example,\n",
    "```\n",
    "@TeleTubby Genome: Project 1\n",
    "TAAAATGG\n",
    "+\n",
    "HAICDF5I\n",
    "```\n",
    "The first line contains the metadata that encodes the name of the read, the experiment type, the kind of sequencing machine used, etc. \n",
    "\n",
    "The second line is the sequence of bases that was read. \n",
    "\n",
    "The third line is just a placeholder.\n",
    "\n",
    "The fourth line is a sequence of base qualities that encodes the qualities for the corresponding bases in the sequence line. We will discuss and use this for Problem 2."
   ]
  },
  {
   "cell_type": "markdown",
   "id": "744fd5da",
   "metadata": {},
   "source": [
    "Read in the data from `TeleTubby.fastq`:"
   ]
  },
  {
   "cell_type": "code",
   "execution_count": 3,
   "id": "04406782",
   "metadata": {},
   "outputs": [],
   "source": [
    "# Read sequence reads (error-free) from file\n",
    "sequence_reads, qualities = utils.read_fastq('TeleTubby.fastq')"
   ]
  },
  {
   "cell_type": "markdown",
   "id": "69527f9b",
   "metadata": {},
   "source": [
    "### Melting Temperature\n",
    "\n",
    "The GC-content (or the ratio of G and C nucleotides) is related to the melting temperature of a DNA double helix structure. \n",
    "\n",
    "The following equation can be used to estimate the melting temperature (in degrees Celsius) of DNA for a particular sequence:\n",
    "\n",
    "\\begin{equation*}\n",
    "t_m = 64.9+0.41(\\%GC)-\\frac{500}{\\text{length of sequence}}\n",
    "\\end{equation*}\n",
    "\n",
    "As a reference, the human genome is known to have between 35%-60% GC-content. \n",
    "\n",
    "<div class=\"alert alert-success\">\n",
    "\n",
    "**Problem 1.** Calculate the melting temperature for the TeleTubby genome using the formula above. Assume that the sequence is 200 nucleotides long, and that the provided read data has equal coverage everywhere so the G-C distribution in the reads is very close to the actual G-C distribution for the genome. \n",
    "    </div>"
   ]
  },
  {
   "cell_type": "code",
   "execution_count": 4,
   "id": "cd274b8a",
   "metadata": {},
   "outputs": [
    {
     "name": "stdout",
     "output_type": "stream",
     "text": [
      "GC-content: 50%\n"
     ]
    }
   ],
   "source": [
    "# Write code here for calculating the %GC content from the sequence_reads, and computing the estimated melting temperature.\n",
    "\n",
    "def gc_content(sequence):\n",
    "    seq = \"\".join(sequence)\n",
    "    gc = seq.count('C') + seq.count('G')\n",
    "    gc_f = gc/(len(seq))\n",
    "    gc_ratio = gc_f * 100\n",
    "    return round(gc_ratio)\n",
    "\n",
    "def melting_temp(seq):\n",
    "    x = gc_content(seq)/100\n",
    "    return round(64.9 + (0.41*x) - (5/2))\n",
    "\n",
    "gc = gc_content(sequence_reads)\n",
    "print('GC-content:',str(gc) + '%')\n",
    "\n",
    "\n",
    "\n",
    "\n",
    " "
   ]
  },
  {
   "cell_type": "code",
   "execution_count": 5,
   "id": "c5cc58d6",
   "metadata": {},
   "outputs": [
    {
     "name": "stdout",
     "output_type": "stream",
     "text": [
      "63°C\n"
     ]
    }
   ],
   "source": [
    "# Print out temperature in Celsius\n",
    "print(str(melting_temp(sequence_reads)) + '°C')"
   ]
  },
  {
   "cell_type": "markdown",
   "id": "72723374",
   "metadata": {},
   "source": [
    "## Interpreting Read Quality"
   ]
  },
  {
   "cell_type": "markdown",
   "id": "e9a67a93",
   "metadata": {},
   "source": [
    "Phred33 quality scores are represented as the character with an ASCII code equal to its value + 33 (to make them easy to print alongside genome sequences). The Phred scores $Q$ are related to error probabilities $P$ as: $Q = -10 \\log_{10}(P)$. The table linked here provides a mapping from the Phred values provided in a fastq file and the $Q$ values: [Quality Score Encoding](https://support.illumina.com/help/BaseSpace_OLH_009008/Content/Source/Informatics/BS/QualityScoreEncoding_swBS.htm) \n",
    "\n",
    "<div class=\"alert alert-success\">\n",
    "    \n",
    "**Problem 2.** Using the Phred scores, identify the _least likely to be correct_ read in the TeleTubby.fastq data, which is the read with the lowest probability that it contains _no_ errors.\n",
    "\n",
    "</div>"
   ]
  },
  {
   "cell_type": "code",
   "execution_count": 6,
   "id": "76758368",
   "metadata": {},
   "outputs": [
    {
     "name": "stdout",
     "output_type": "stream",
     "text": [
      "The least likely to be correct read (nucleotide sequence) is TTTTTGGT with a 0.00036459716167747125 probability of being incorrect.\n"
     ]
    }
   ],
   "source": [
    "# Write your code for Problem 2 here. \n",
    "# It should output the read (nucleotide sequence) with the lowest probability of containing no errors.\n",
    "\n",
    "# Function calculates probability that the input contains no errors, then subtracts this value from 1.\n",
    "def calc_prob(string):\n",
    "    prob_all_correct = 1\n",
    "\n",
    "    for i in string: \n",
    "        encode = ord(i)                                     # returns the numerical ascii value of i the character\n",
    "        q = encode - 33     \n",
    "        prob_incorrect = pow(10,(-q/10))\n",
    "        prob_correct = 1 - prob_incorrect                   \n",
    "        prob_all_correct = prob_all_correct * prob_correct  # multiply together the probabilities of each character being correct to find probability that whole string is correct\n",
    "    return 1 - prob_all_correct                             # return 1 - probabiliy that all characters are correct\n",
    "        \n",
    "x = {} \n",
    "for i in sequence_reads: \n",
    "    x[i] = calc_prob(i)                                     # calculate probability of each read being correct\n",
    "min_read = min(x, key=x.get)                                 \n",
    "print('The least likely to be correct read (nucleotide sequence) is', min_read, \"with a\", x[min_read], \"probability of being incorrect.\")"
   ]
  },
  {
   "cell_type": "markdown",
   "id": "9d9abeb9",
   "metadata": {},
   "source": [
    "Note: For the following problems, you can ignore the read quality scores, and safely assume there are no actual errors in the provided TeleTubby reads."
   ]
  },
  {
   "cell_type": "markdown",
   "id": "8e55395f",
   "metadata": {},
   "source": [
    "## Frequency analysis\n",
    "\n",
    "Looking at repetitions in the sequence can be helpful in estimating the \"redudancy\" in the organisms. Eucaryote genomes have a lot of redundancy, while smaller organisms like bacteria have highly packed genomes. One heuristic to estimate this before actually performing the assembly could be looking at how often certain $k$-mers are repeated.\n",
    "\n",
    "<div class=\"alert alert-success\">\n",
    "    \n",
    "**Problem 3.**\n",
    "    Print out the 3 most frequent <em>k</em>-mers in the TeleTubby reads with their frequencies. (As in Problem 1, doing this from the reads only produces the same result as from the genome if the read coverage is equal everywhere, but it should be a close estimate.)\n",
    "</div>"
   ]
  },
  {
   "cell_type": "code",
   "execution_count": 7,
   "id": "bdbd6bc8",
   "metadata": {},
   "outputs": [
    {
     "name": "stdout",
     "output_type": "stream",
     "text": [
      "1. ATAAAATG: 2\n",
      "2. GTGATAGG: 2\n",
      "3. TAATTTTT: 2\n"
     ]
    }
   ],
   "source": [
    "# Your code here\n",
    "\n",
    "frequencies = {}\n",
    "\n",
    "for i in sequence_reads:\n",
    "    if i in frequencies:\n",
    "        frequencies[i] += 1\n",
    "    else:\n",
    "        frequencies[i] = 1\n",
    "for i in range(1, 4):\n",
    "    read = max(frequencies, key=frequencies.get)\n",
    "    print(str(i) + \".\", read + \":\", frequencies[read])\n",
    "    frequencies.pop(read)\n"
   ]
  },
  {
   "cell_type": "markdown",
   "id": "728a612b",
   "metadata": {},
   "source": [
    "## Greedy Assembly"
   ]
  },
  {
   "cell_type": "markdown",
   "id": "36c041ab",
   "metadata": {},
   "source": [
    "Given a set of sequence fragments, the objective of assembly can be viewed as finding the shortest sequence that contains all the fragments.\n",
    "\n",
    "One of the approaches to assemble the genome from the given reads is a greedy algorithm:\n",
    "\n",
    "```\n",
    "while (len(fragments) > 1):\n",
    "   calculate pairwise alignments of all pairs of fragments\n",
    "   merge the two fragments with the largest overlap\n",
    "genome = fragment[0] # the single remaining fragment is the genome\n",
    "```\n"
   ]
  },
  {
   "cell_type": "markdown",
   "id": "35f6e176",
   "metadata": {},
   "source": [
    "<div class=\"alert alert-success\">\n",
    "    \n",
    "**Problem 4 (a)**. What would the runtime be of this algorithm, given $n$ $k$-mer reads? (If you are not sure how to express your answer to this question, review [_Cost of Computation_](https://computingbiology.github.io/complexity/).)\n",
    "    </div>"
   ]
  },
  {
   "cell_type": "markdown",
   "id": "93985b9f",
   "metadata": {},
   "source": [
    "<i>Answer</i>: The runtime of the algorithm will be O(n) "
   ]
  },
  {
   "cell_type": "markdown",
   "id": "6d868a87",
   "metadata": {},
   "source": [
    "<div class=\"alert alert-success\">\n",
    "\n",
    "**Problem 4 (b)**. Is this algorithm guaranteed to find the correct genome? (A good answer will define what _correct_ means here, and explain why the algorithm is or is not guaranteed to find it.)"
   ]
  },
  {
   "cell_type": "markdown",
   "id": "12bfc75b",
   "metadata": {},
   "source": [
    "<i>Answer</i>: Let S be the set of sequence fragments. The algorithm is correct if it is able to return an output string x which contains as substrings all strings in S AND this output is the shortest possible output for which this condition is true. The algorithm is not guaranteed to find the correct genome because it may not return a sequence that contains all the fragments as substrings. All the fragments may not be returned because the algorithm will only merge fragments with the two largest overlaps, so some fragments may be missing in the final sequence. \n",
    "\n",
    "As an example, consider the set of reads [\"GCCC\", \"CCCG\", \"CAAC\"]\n",
    "Our algorithm will see an overlap of 3 between the first two reads and combine them to form \"GCCCG\". It will then be unable to fit in the last read, \"CAAC\", since it has no overlap with \"GCCCG\". A \"correct\" answer, which the greedy algorithm would be unable to find, would combine the first and third reads to get \"GCCCAAC\" and then combine the resulting string with the second read to get \"GCCCAACCCG\", a string that contains as substrings all of the reads."
   ]
  },
  {
   "cell_type": "markdown",
   "id": "44685e7e",
   "metadata": {},
   "source": [
    "## Graph-based Assembly"
   ]
  },
  {
   "cell_type": "markdown",
   "id": "c9d33cc7",
   "metadata": {},
   "source": [
    "Graphs for genome assembly can be constructed in two ways:\n",
    "\n",
    "- de Bruijn graph: Processing $k-$mers as nodes, with $(k-1)-$mers as edges, and\n",
    "- Overlap graph: Processing $k-$mers as edges, with $(k-1)-$mers as nodes.\n",
    "\n",
    "A de Bruijn graph can be processed to find Euler paths, while Overlap graphs can be processed to find Hamiltonian paths. Both of these methods can be used reconstruct the original genome.\n",
    "\n",
    "<div class=\"alert alert-success\">\n",
    "    \n",
    "**Problem 5.**  Use one of these two techniques to reconstruct the TeleTubby genome from the provided sequence reads. \n",
    "    \n",
    "</div>\n",
    "    \n",
    "We have provided some template code below that may be helpful (but feel free to ignore this is you prefer)."
   ]
  },
  {
   "cell_type": "code",
   "execution_count": 8,
   "id": "c50bc332",
   "metadata": {},
   "outputs": [],
   "source": [
    "# Read reads into graph\n",
    "\n",
    "#### NOTE ####\n",
    "# We are using the outdated version of the TeleTubby.fastq file which contains duplicate edges.\n",
    "# We address this by storing the edges as a set, thus removing duplicates.\n",
    "\n",
    "def build_graph(k_mers):\n",
    "    edges = set()\n",
    "    nodes = set()\n",
    "    for s in k_mers:\n",
    "        edges.add((s[:-1],s[1:]))\n",
    "        nodes.add(s[:-1])\n",
    "        nodes.add(s[1:])\n",
    "    nodes, edges, start_node = make_fully_balanced(nodes, edges)        # grabs the start node from the make_fully_balanced function\n",
    "    return nodes, edges, start_node                                     # returns the start node so that we can know where to start when we begin sequencing\n",
    "\n",
    "# This function finds the \"start\" and \"end\" nodes where the start node is a node with no in-neighbors and the end node\n",
    "# is a node with no out-neighbors and connects these two nodes with a new edge.\n",
    "def make_fully_balanced(nodes, edges):\n",
    "    in_counts = {}\n",
    "    out_counts = {}\n",
    "\n",
    "    # Initialize in-neighbor and out-neighbor counts for each node to zero\n",
    "    for node in nodes:\n",
    "        in_counts[node] = 0\n",
    "        out_counts[node] = 0\n",
    "    \n",
    "    # Calculate the number of in-neighbors and out-neighbors for each node\n",
    "    for edge in edges:\n",
    "        in_counts[edge[1]] += 1\n",
    "        out_counts[edge[0]] += 1\n",
    "\n",
    "\n",
    "    start_node = min(in_counts, key=in_counts.get)      # start node is node with fewest in-neighbors\n",
    "    end_node = min(out_counts, key=in_counts.get)       # end node is node with fewest out-neighbors\n",
    "\n",
    "    edges.add((end_node, start_node))\n",
    "    \n",
    "    return nodes, edges, start_node         # returns the start node so that we can know where to begin our sequence"
   ]
  },
  {
   "cell_type": "code",
   "execution_count": 9,
   "id": "f60e36d1",
   "metadata": {},
   "outputs": [
    {
     "name": "stdout",
     "output_type": "stream",
     "text": [
      "{'CTGTTGA', 'GGACTCC', 'TTTAACG', 'TGGTCGT', 'CGGTAGA', 'ATGTCAT', 'GACCACG', 'ACTTTAA', 'AACGACC', 'CACGGAC', 'CCCCACC', 'CCACGTA', 'CCCCCGC', 'GTACAGG', 'ACGAATG', 'ATCGTGT', 'TAATTTT', 'CTCCGGT', 'AGGTGAC', 'TCACTTT', 'ATGCACA', 'ACGGACT', 'ATAGGTG', 'CGCATCG', 'ACTCGGA', 'TAGGTGA', 'CATGGCC', 'CATAATT', 'TGGTAAA', 'CCTACCG', 'CCCGCGC', 'CACATAA', 'ATCACTT', 'TACAGGT', 'CATCGTA', 'TCCATCG', 'TTTGGTC', 'TCGATGG', 'CGTATCC', 'ACCGACG', 'CCAACGC', 'ACATAGG', 'ATGGCCA', 'TAAAATG', 'GAGGATC', 'TGGCCAC', 'GATCACT', 'TCCGGTA', 'GCCAACG', 'CACATGG', 'AAACCTG', 'GCTTACA', 'ACGTATC', 'GGCCACA', 'ATAAAAT', 'CTTTAAC', 'AGGTGTC', 'ACCACGG', 'ACAGGTG', 'GTCGTAC', 'TTATGCC', 'GTTGATA', 'CACCACG', 'AAATGGC', 'TCGGAGG', 'TTTTGGT', 'TTACATA', 'CGAGTGA', 'CGATGGT', 'TTTTTGG', 'GTCGAGT', 'ACATCCC', 'AATTTTT', 'ACTCCGG', 'TTGGTCG', 'TGGCCCC', 'GACTCGG', 'TGACTCG', 'AAAATGG', 'GTTATGC', 'TGCACAT', 'CCCACCA', 'GGTAAAC', 'GATAAAA', 'CTACCGA', 'TGTCGAT', 'TACCGAC', 'ACCTGTT', 'GCATCGT', 'TACATAG', 'GATTGTG', 'GCACATG', 'GGATTGT', 'GACGAAT', 'TGATAGG', 'CACTTTA', 'CGCGCAT', 'CCGGTAG', 'TCGTACA', 'TAAACCT', 'ATAGGGG', 'CATCCCC', 'ATGCCAA', 'TGTTGAT', 'GGATCAC', 'CAACGCT', 'CGCTTAC', 'GGGATTG', 'CGACCAC', 'CGGACTC', 'GGGGATT', 'CCTGTTG', 'CGTACAG', 'AACGCTT', 'CGGAGGA', 'GTCATGC', 'TGATAAA', 'GACTCCG', 'CGACGAA', 'TAACGAC', 'CGTGTTA', 'GATAGGT', 'ACGCTTA', 'CCACATA', 'GTAAACC', 'GGTGACT', 'CACGTAT', 'TTAACGA', 'GTACATC', 'GGTGTCG', 'GGCCCCA', 'TTGATAA', 'CATAGGG', 'CATGCAC', 'TCGTGTT', 'ATCGTAC', 'GGTCGTA', 'TGTCATG', 'TGTGTCG', 'CAGGTGT', 'ATTGTGT', 'CCGACGA', 'AACCTGT', 'GAGTGAT', 'ACATAAT', 'ATCCCCC', 'ACGACCA', 'GCGCATC', 'CCACCAC', 'AATGTCA', 'CTTACAT', 'TATCCAT', 'AATGGCC', 'ATTTTTG', 'GGAGGAT', 'ATGGTAA', 'CGTACAT', 'ATGGCCC', 'GCCACAT', 'TTGTGTC', 'CGAATGT', 'TCATGCA', 'TGTCGAG', 'GTGTTAT', 'GATGGTA', 'GTGTCGA', 'GTCGATG', 'GTGACTC', 'TACATCC', 'AGTGATA', 'TATGCCA', 'GAATGTC', 'ATAATTT', 'AGGATCA', 'CCATCGT', 'ACATGGC', 'CCGCGCA', 'GCCCCAC', 'TAGGGGA', 'TCGAGTG', 'CCCCGCG', 'TGTTATG', 'TCCCCCG', 'ATCCATC', 'TGCCAAC', 'CTCGGAG', 'CATCGTG', 'AGGGGAT', 'CCACGGA', 'GTATCCA', 'GTGATAG', 'ACCACGT'}\n",
      "{('AGGTGAC', 'GGTGACT'), ('TTGTGTC', 'TGTGTCG'), ('TGTGTCG', 'GTGTCGA'), ('GGGATTG', 'GGATTGT'), ('CCCACCA', 'CCACCAC'), ('CATCCCC', 'ATCCCCC'), ('ACAGGTG', 'CAGGTGT'), ('GATCACT', 'ATCACTT'), ('AAACCTG', 'AACCTGT'), ('TACATCC', 'ACATCCC'), ('TTTAACG', 'TTAACGA'), ('CCATCGT', 'CATCGTA'), ('TGATAAA', 'GATAAAA'), ('GATAAAA', 'ATAAAAT'), ('ACCACGG', 'CCACGGA'), ('TAGGTGA', 'AGGTGAC'), ('ATCCATC', 'TCCATCG'), ('GACCACG', 'ACCACGG'), ('TCATGCA', 'CATGCAC'), ('TCCGGTA', 'CCGGTAG'), ('GTACATC', 'TACATCC'), ('ACATGGC', 'CATGGCC'), ('TGCCAAC', 'GCCAACG'), ('ATAATTT', 'TAATTTT'), ('CTTACAT', 'TTACATA'), ('GACTCGG', 'ACTCGGA'), ('TAGGGGA', 'AGGGGAT'), ('CGAATGT', 'GAATGTC'), ('GCACATG', 'CACATGG'), ('ACATAAT', 'CATAATT'), ('AACCTGT', 'ACCTGTT'), ('AGGTGTC', 'GGTGTCG'), ('GGCCCCA', 'GCCCCAC'), ('CGATGGT', 'GATGGTA'), ('TGATAGG', 'GATAGGT'), ('TCGTACA', 'CGTACAT'), ('CCACGTA', 'CACGTAT'), ('GTCGATG', 'TCGATGG'), ('GATTGTG', 'ATTGTGT'), ('GGCCACA', 'GCCACAT'), ('CCTACCG', 'CCTACCG'), ('GCCCCAC', 'CCCCACC'), ('ACATCCC', 'CATCCCC'), ('CCTGTTG', 'CTGTTGA'), ('GTGTTAT', 'TGTTATG'), ('GTGACTC', 'TGACTCG'), ('CCGGTAG', 'CGGTAGA'), ('GAGTGAT', 'AGTGATA'), ('GGAGGAT', 'GAGGATC'), ('GATAGGT', 'ATAGGTG'), ('TACCGAC', 'ACCGACG'), ('CATAGGG', 'ATAGGGG'), ('TGTTGAT', 'GTTGATA'), ('TGGTAAA', 'GGTAAAC'), ('TGGTCGT', 'GGTCGTA'), ('GGTGACT', 'GTGACTC'), ('GTTGATA', 'TTGATAA'), ('GCGCATC', 'CGCATCG'), ('TAACGAC', 'AACGACC'), ('CGAGTGA', 'GAGTGAT'), ('TTTTGGT', 'TTTGGTC'), ('ATGTCAT', 'TGTCATG'), ('TGGCCAC', 'GGCCACA'), ('TTTTTGG', 'TTTTGGT'), ('CACCACG', 'ACCACGT'), ('GCTTACA', 'CTTACAT'), ('ACGCTTA', 'CGCTTAC'), ('CATCGTA', 'ATCGTAC'), ('TTGGTCG', 'TGGTCGT'), ('CCCGCGC', 'CCGCGCA'), ('CATCGTG', 'ATCGTGT'), ('ATTGTGT', 'TTGTGTC'), ('AAAATGG', 'AAATGGC'), ('ATAGGGG', 'TAGGGGA'), ('CTGTTGA', 'TGTTGAT'), ('ATGCCAA', 'TGCCAAC'), ('ATTTTTG', 'TTTTTGG'), ('AGTGATA', 'GTGATAG'), ('TACATAG', 'ACATAGG'), ('CGGAGGA', 'GGAGGAT'), ('GGTCGTA', 'GTCGTAC'), ('GTGTCGA', 'TGTCGAT'), ('ACGAATG', 'CGAATGT'), ('CGCTTAC', 'GCTTACA'), ('CTCCGGT', 'TCCGGTA'), ('CGACCAC', 'GACCACG'), ('TTATGCC', 'TATGCCA'), ('CCACCAC', 'CACCACG'), ('AATGTCA', 'ATGTCAT'), ('GTTATGC', 'TTATGCC'), ('TGACTCG', 'GACTCGG'), ('CCGACGA', 'CGACGAA'), ('TTACATA', 'TACATAG'), ('GTCATGC', 'TCATGCA'), ('CCACATA', 'CACATAA'), ('ATAAAAT', 'TAAAATG'), ('CATGCAC', 'ATGCACA'), ('AATTTTT', 'ATTTTTG'), ('CACGGAC', 'ACGGACT'), ('AACGCTT', 'ACGCTTA'), ('CGTGTTA', 'GTGTTAT'), ('ATGGCCC', 'TGGCCCC'), ('ACCTGTT', 'CCTGTTG'), ('GGTGTCG', 'GTGTCGA'), ('GTCGTAC', 'TCGTACA'), ('ATCGTGT', 'TCGTGTT'), ('ACTCCGG', 'CTCCGGT'), ('TTTGGTC', 'TTGGTCG'), ('TGTTATG', 'GTTATGC'), ('CCCCCGC', 'CCCCGCG'), ('CACTTTA', 'ACTTTAA'), ('ACGGACT', 'CGGACTC'), ('CCGCGCA', 'CGCGCAT'), ('CACATAA', 'ACATAAT'), ('ATCGTAC', 'TCGTACA'), ('CACATGG', 'ACATGGC'), ('CAGGTGT', 'AGGTGTC'), ('TCCCCCG', 'CCCCCGC'), ('CGACGAA', 'GACGAAT'), ('CTCGGAG', 'TCGGAGG'), ('TATCCAT', 'ATCCATC'), ('TAAAATG', 'AAAATGG'), ('ATAGGTG', 'TAGGTGA'), ('ATGGTAA', 'TGGTAAA'), ('TCGGAGG', 'CGGAGGA'), ('ATCACTT', 'TCACTTT'), ('CGCATCG', 'GCATCGT'), ('GGGGATT', 'GGGATTG'), ('GTAAACC', 'TAAACCT'), ('ATCCCCC', 'TCCCCCG'), ('CATAATT', 'ATAATTT'), ('TGCACAT', 'GCACATG'), ('CCAACGC', 'CAACGCT'), ('CATGGCC', 'ATGGCCC'), ('CGCGCAT', 'GCGCATC'), ('CGTATCC', 'GTATCCA'), ('ACATAGG', 'CATAGGG'), ('GGACTCC', 'GACTCCG'), ('TACAGGT', 'ACAGGTG'), ('TGTCGAG', 'GTCGAGT'), ('CCCCGCG', 'CCCGCGC'), ('AACGACC', 'ACGACCA'), ('TCGTGTT', 'CGTGTTA'), ('GATGGTA', 'ATGGTAA'), ('GCCAACG', 'CCAACGC'), ('TCACTTT', 'CACTTTA'), ('TAAACCT', 'AAACCTG'), ('TTAACGA', 'TAACGAC'), ('TCGAGTG', 'CGAGTGA'), ('CACGTAT', 'ACGTATC'), ('CGGACTC', 'GGACTCC'), ('CAACGCT', 'AACGCTT'), ('TATGCCA', 'ATGCCAA'), ('GTGTCGA', 'TGTCGAG'), ('GTCGAGT', 'TCGAGTG'), ('GGATCAC', 'GATCACT'), ('ATGCACA', 'TGCACAT'), ('GTATCCA', 'TATCCAT'), ('TCGATGG', 'CGATGGT'), ('GTGATAG', 'TGATAGG'), ('AATGGCC', 'ATGGCCA'), ('ACCACGT', 'CCACGTA'), ('ATGGCCA', 'TGGCCAC'), ('ACCGACG', 'CCGACGA'), ('TGGCCCC', 'GGCCCCA'), ('TTGATAA', 'TGATAAA'), ('CGTACAG', 'GTACAGG'), ('TAATTTT', 'AATTTTT'), ('ACTCGGA', 'CTCGGAG'), ('TCCATCG', 'CCATCGT'), ('TGTCGAT', 'GTCGATG'), ('GCCACAT', 'CCACATA'), ('CCACGGA', 'CACGGAC'), ('ACGACCA', 'CGACCAC'), ('GAGGATC', 'AGGATCA'), ('GTACAGG', 'TACAGGT'), ('CGTACAT', 'GTACATC'), ('TGTCATG', 'GTCATGC'), ('CTACCGA', 'TACCGAC'), ('AGGATCA', 'GGATCAC'), ('GAATGTC', 'AATGTCA'), ('GACTCCG', 'ACTCCGG'), ('GGATTGT', 'GATTGTG'), ('ACTTTAA', 'CTTTAAC'), ('AAATGGC', 'AATGGCC'), ('ACGTATC', 'CGTATCC'), ('GACGAAT', 'ACGAATG'), ('TCGTACA', 'CGTACAG'), ('CTTTAAC', 'TTTAACG'), ('CCCCACC', 'CCCACCA'), ('GGTAAAC', 'GTAAACC'), ('AGGGGAT', 'GGGGATT'), ('GCATCGT', 'CATCGTG'), ('CCTACCG', 'CTACCGA')}\n"
     ]
    }
   ],
   "source": [
    "\n",
    "nodes, edges, start_node = build_graph(sequence_reads)\n",
    "print(nodes)\n",
    "print(edges)"
   ]
  },
  {
   "cell_type": "code",
   "execution_count": 10,
   "id": "93131d20",
   "metadata": {},
   "outputs": [],
   "source": [
    "# Needed to properly visualize graphs\n",
    "%load_ext gvmagic"
   ]
  },
  {
   "cell_type": "code",
   "execution_count": 11,
   "id": "a238b91e",
   "metadata": {},
   "outputs": [
    {
     "data": {
      "image/svg+xml": "<svg xmlns=\"http://www.w3.org/2000/svg\" xmlns:xlink=\"http://www.w3.org/1999/xlink\" width=\"495pt\" height=\"6740pt\" viewBox=\"0.00 0.00 495.04 6740.00\">\n<g id=\"graph0\" class=\"graph\" transform=\"scale(1 1) rotate(0) translate(4 6736)\">\n<title>Assembly graph</title>\n<polygon fill=\"white\" stroke=\"transparent\" points=\"-4,4 -4,-6736 491.04,-6736 491.04,4 -4,4\"/>\n<!-- AGGTGAC -->\n<g id=\"node1\" class=\"node\">\n<title>AGGTGAC</title>\n<ellipse fill=\"none\" stroke=\"black\" cx=\"104.19\" cy=\"-5850\" rx=\"57.69\" ry=\"18\"/>\n<text text-anchor=\"middle\" x=\"104.19\" y=\"-5846.3\" font-family=\"Times,serif\" font-size=\"14.00\">AGGTGAC</text>\n</g>\n<!-- GGTGACT -->\n<g id=\"node2\" class=\"node\">\n<title>GGTGACT</title>\n<ellipse fill=\"none\" stroke=\"black\" cx=\"104.19\" cy=\"-5778\" rx=\"57.69\" ry=\"18\"/>\n<text text-anchor=\"middle\" x=\"104.19\" y=\"-5774.3\" font-family=\"Times,serif\" font-size=\"14.00\">GGTGACT</text>\n</g>\n<!-- AGGTGAC&#45;&gt;GGTGACT -->\n<g id=\"edge1\" class=\"edge\">\n<title>AGGTGAC-&gt;GGTGACT</title>\n<path fill=\"none\" stroke=\"black\" d=\"M104.19,-5831.7C104.19,-5823.98 104.19,-5814.71 104.19,-5806.11\"/>\n<polygon fill=\"black\" stroke=\"black\" points=\"107.7,-5806.1 104.19,-5796.1 100.7,-5806.1 107.7,-5806.1\"/>\n</g>\n<!-- GTGACTC -->\n<g id=\"node81\" class=\"node\">\n<title>GTGACTC</title>\n<ellipse fill=\"none\" stroke=\"black\" cx=\"104.19\" cy=\"-5706\" rx=\"57.39\" ry=\"18\"/>\n<text text-anchor=\"middle\" x=\"104.19\" y=\"-5702.3\" font-family=\"Times,serif\" font-size=\"14.00\">GTGACTC</text>\n</g>\n<!-- GGTGACT&#45;&gt;GTGACTC -->\n<g id=\"edge56\" class=\"edge\">\n<title>GGTGACT-&gt;GTGACTC</title>\n<path fill=\"none\" stroke=\"black\" d=\"M104.19,-5759.7C104.19,-5751.98 104.19,-5742.71 104.19,-5734.11\"/>\n<polygon fill=\"black\" stroke=\"black\" points=\"107.7,-5734.1 104.19,-5724.1 100.7,-5734.1 107.7,-5734.1\"/>\n</g>\n<!-- TTGTGTC -->\n<g id=\"node3\" class=\"node\">\n<title>TTGTGTC</title>\n<ellipse fill=\"none\" stroke=\"black\" cx=\"100.19\" cy=\"-90\" rx=\"56.59\" ry=\"18\"/>\n<text text-anchor=\"middle\" x=\"100.19\" y=\"-86.3\" font-family=\"Times,serif\" font-size=\"14.00\">TTGTGTC</text>\n</g>\n<!-- TGTGTCG -->\n<g id=\"node4\" class=\"node\">\n<title>TGTGTCG</title>\n<ellipse fill=\"none\" stroke=\"black\" cx=\"57.19\" cy=\"-18\" rx=\"57.39\" ry=\"18\"/>\n<text text-anchor=\"middle\" x=\"57.19\" y=\"-14.3\" font-family=\"Times,serif\" font-size=\"14.00\">TGTGTCG</text>\n</g>\n<!-- TTGTGTC&#45;&gt;TGTGTCG -->\n<g id=\"edge2\" class=\"edge\">\n<title>TTGTGTC-&gt;TGTGTCG</title>\n<path fill=\"none\" stroke=\"black\" d=\"M89.79,-72.05C84.72,-63.8 78.51,-53.7 72.88,-44.54\"/>\n<polygon fill=\"black\" stroke=\"black\" points=\"75.72,-42.48 67.51,-35.79 69.76,-46.14 75.72,-42.48\"/>\n</g>\n<!-- GTGTCGA -->\n<g id=\"node5\" class=\"node\">\n<title>GTGTCGA</title>\n<ellipse fill=\"none\" stroke=\"black\" cx=\"147.19\" cy=\"-6714\" rx=\"57.69\" ry=\"18\"/>\n<text text-anchor=\"middle\" x=\"147.19\" y=\"-6710.3\" font-family=\"Times,serif\" font-size=\"14.00\">GTGTCGA</text>\n</g>\n<!-- TGTGTCG&#45;&gt;GTGTCGA -->\n<g id=\"edge3\" class=\"edge\">\n<title>TGTGTCG-&gt;GTGTCGA</title>\n<path fill=\"none\" stroke=\"black\" d=\"M48.7,-36.01C36.42,-62.18 15.19,-114.21 15.19,-161 15.19,-6571 15.19,-6571 15.19,-6571 15.19,-6611.75 11.51,-6628.37 37.19,-6660 51.73,-6677.9 73.77,-6690.16 94.32,-6698.33\"/>\n<polygon fill=\"black\" stroke=\"black\" points=\"93.34,-6701.7 103.93,-6701.92 95.79,-6695.15 93.34,-6701.7\"/>\n</g>\n<!-- TGTCGAT -->\n<g id=\"node131\" class=\"node\">\n<title>TGTCGAT</title>\n<ellipse fill=\"none\" stroke=\"black\" cx=\"276.19\" cy=\"-6642\" rx=\"55.79\" ry=\"18\"/>\n<text text-anchor=\"middle\" x=\"276.19\" y=\"-6638.3\" font-family=\"Times,serif\" font-size=\"14.00\">TGTCGAT</text>\n</g>\n<!-- GTGTCGA&#45;&gt;TGTCGAT -->\n<g id=\"edge82\" class=\"edge\">\n<title>GTGTCGA-&gt;TGTCGAT</title>\n<path fill=\"none\" stroke=\"black\" d=\"M174.87,-6697.98C193.96,-6687.63 219.52,-6673.76 240.19,-6662.54\"/>\n<polygon fill=\"black\" stroke=\"black\" points=\"241.89,-6665.6 249.01,-6657.75 238.55,-6659.44 241.89,-6665.6\"/>\n</g>\n<!-- TGTCGAG -->\n<g id=\"node180\" class=\"node\">\n<title>TGTCGAG</title>\n<ellipse fill=\"none\" stroke=\"black\" cx=\"104.19\" cy=\"-6642\" rx=\"57.69\" ry=\"18\"/>\n<text text-anchor=\"middle\" x=\"104.19\" y=\"-6638.3\" font-family=\"Times,serif\" font-size=\"14.00\">TGTCGAG</text>\n</g>\n<!-- GTGTCGA&#45;&gt;TGTCGAG -->\n<g id=\"edge154\" class=\"edge\">\n<title>GTGTCGA-&gt;TGTCGAG</title>\n<path fill=\"none\" stroke=\"black\" d=\"M136.79,-6696.05C131.72,-6687.8 125.51,-6677.7 119.88,-6668.54\"/>\n<polygon fill=\"black\" stroke=\"black\" points=\"122.72,-6666.48 114.51,-6659.79 116.76,-6670.14 122.72,-6666.48\"/>\n</g>\n<!-- GGGATTG -->\n<g id=\"node6\" class=\"node\">\n<title>GGGATTG</title>\n<ellipse fill=\"none\" stroke=\"black\" cx=\"101.19\" cy=\"-378\" rx=\"58.49\" ry=\"18\"/>\n<text text-anchor=\"middle\" x=\"101.19\" y=\"-374.3\" font-family=\"Times,serif\" font-size=\"14.00\">GGGATTG</text>\n</g>\n<!-- GGATTGT -->\n<g id=\"node7\" class=\"node\">\n<title>GGATTGT</title>\n<ellipse fill=\"none\" stroke=\"black\" cx=\"100.19\" cy=\"-306\" rx=\"57.39\" ry=\"18\"/>\n<text text-anchor=\"middle\" x=\"100.19\" y=\"-302.3\" font-family=\"Times,serif\" font-size=\"14.00\">GGATTGT</text>\n</g>\n<!-- GGGATTG&#45;&gt;GGATTGT -->\n<g id=\"edge4\" class=\"edge\">\n<title>GGGATTG-&gt;GGATTGT</title>\n<path fill=\"none\" stroke=\"black\" d=\"M100.95,-359.7C100.84,-351.98 100.71,-342.71 100.58,-334.11\"/>\n<polygon fill=\"black\" stroke=\"black\" points=\"104.08,-334.05 100.44,-324.1 97.08,-334.15 104.08,-334.05\"/>\n</g>\n<!-- GATTGTG -->\n<g id=\"node71\" class=\"node\">\n<title>GATTGTG</title>\n<ellipse fill=\"none\" stroke=\"black\" cx=\"100.19\" cy=\"-234\" rx=\"57.39\" ry=\"18\"/>\n<text text-anchor=\"middle\" x=\"100.19\" y=\"-230.3\" font-family=\"Times,serif\" font-size=\"14.00\">GATTGTG</text>\n</g>\n<!-- GGATTGT&#45;&gt;GATTGTG -->\n<g id=\"edge183\" class=\"edge\">\n<title>GGATTGT-&gt;GATTGTG</title>\n<path fill=\"none\" stroke=\"black\" d=\"M100.19,-287.7C100.19,-279.98 100.19,-270.71 100.19,-262.11\"/>\n<polygon fill=\"black\" stroke=\"black\" points=\"103.7,-262.1 100.19,-252.1 96.7,-262.1 103.7,-262.1\"/>\n</g>\n<!-- CCCACCA -->\n<g id=\"node8\" class=\"node\">\n<title>CCCACCA</title>\n<ellipse fill=\"none\" stroke=\"black\" cx=\"278.19\" cy=\"-4554\" rx=\"57.69\" ry=\"18\"/>\n<text text-anchor=\"middle\" x=\"278.19\" y=\"-4550.3\" font-family=\"Times,serif\" font-size=\"14.00\">CCCACCA</text>\n</g>\n<!-- CCACCAC -->\n<g id=\"node9\" class=\"node\">\n<title>CCACCAC</title>\n<ellipse fill=\"none\" stroke=\"black\" cx=\"278.19\" cy=\"-4482\" rx=\"57.69\" ry=\"18\"/>\n<text text-anchor=\"middle\" x=\"278.19\" y=\"-4478.3\" font-family=\"Times,serif\" font-size=\"14.00\">CCACCAC</text>\n</g>\n<!-- CCCACCA&#45;&gt;CCACCAC -->\n<g id=\"edge5\" class=\"edge\">\n<title>CCCACCA-&gt;CCACCAC</title>\n<path fill=\"none\" stroke=\"black\" d=\"M278.19,-4535.7C278.19,-4527.98 278.19,-4518.71 278.19,-4510.11\"/>\n<polygon fill=\"black\" stroke=\"black\" points=\"281.7,-4510.1 278.19,-4500.1 274.7,-4510.1 281.7,-4510.1\"/>\n</g>\n<!-- CACCACG -->\n<g id=\"node111\" class=\"node\">\n<title>CACCACG</title>\n<ellipse fill=\"none\" stroke=\"black\" cx=\"279.19\" cy=\"-4410\" rx=\"57.69\" ry=\"18\"/>\n<text text-anchor=\"middle\" x=\"279.19\" y=\"-4406.3\" font-family=\"Times,serif\" font-size=\"14.00\">CACCACG</text>\n</g>\n<!-- CCACCAC&#45;&gt;CACCACG -->\n<g id=\"edge88\" class=\"edge\">\n<title>CCACCAC-&gt;CACCACG</title>\n<path fill=\"none\" stroke=\"black\" d=\"M278.44,-4463.7C278.55,-4455.98 278.68,-4446.71 278.81,-4438.11\"/>\n<polygon fill=\"black\" stroke=\"black\" points=\"282.31,-4438.15 278.95,-4428.1 275.31,-4438.05 282.31,-4438.15\"/>\n</g>\n<!-- CATCCCC -->\n<g id=\"node10\" class=\"node\">\n<title>CATCCCC</title>\n<ellipse fill=\"none\" stroke=\"black\" cx=\"410.19\" cy=\"-3114\" rx=\"57.39\" ry=\"18\"/>\n<text text-anchor=\"middle\" x=\"410.19\" y=\"-3110.3\" font-family=\"Times,serif\" font-size=\"14.00\">CATCCCC</text>\n</g>\n<!-- ATCCCCC -->\n<g id=\"node11\" class=\"node\">\n<title>ATCCCCC</title>\n<ellipse fill=\"none\" stroke=\"black\" cx=\"410.19\" cy=\"-3042\" rx=\"57.39\" ry=\"18\"/>\n<text text-anchor=\"middle\" x=\"410.19\" y=\"-3038.3\" font-family=\"Times,serif\" font-size=\"14.00\">ATCCCCC</text>\n</g>\n<!-- CATCCCC&#45;&gt;ATCCCCC -->\n<g id=\"edge6\" class=\"edge\">\n<title>CATCCCC-&gt;ATCCCCC</title>\n<path fill=\"none\" stroke=\"black\" d=\"M410.19,-3095.7C410.19,-3087.98 410.19,-3078.71 410.19,-3070.11\"/>\n<polygon fill=\"black\" stroke=\"black\" points=\"413.7,-3070.1 410.19,-3060.1 406.7,-3070.1 413.7,-3070.1\"/>\n</g>\n<!-- TCCCCCG -->\n<g id=\"node161\" class=\"node\">\n<title>TCCCCCG</title>\n<ellipse fill=\"none\" stroke=\"black\" cx=\"388.19\" cy=\"-2970\" rx=\"57.69\" ry=\"18\"/>\n<text text-anchor=\"middle\" x=\"388.19\" y=\"-2966.3\" font-family=\"Times,serif\" font-size=\"14.00\">TCCCCCG</text>\n</g>\n<!-- ATCCCCC&#45;&gt;TCCCCCG -->\n<g id=\"edge130\" class=\"edge\">\n<title>ATCCCCC-&gt;TCCCCCG</title>\n<path fill=\"none\" stroke=\"black\" d=\"M404.87,-3024.05C402.42,-3016.26 399.45,-3006.82 396.71,-2998.08\"/>\n<polygon fill=\"black\" stroke=\"black\" points=\"399.96,-2996.77 393.62,-2988.28 393.28,-2998.86 399.96,-2996.77\"/>\n</g>\n<!-- ACAGGTG -->\n<g id=\"node12\" class=\"node\">\n<title>ACAGGTG</title>\n<ellipse fill=\"none\" stroke=\"black\" cx=\"278.19\" cy=\"-3186\" rx=\"57.69\" ry=\"18\"/>\n<text text-anchor=\"middle\" x=\"278.19\" y=\"-3182.3\" font-family=\"Times,serif\" font-size=\"14.00\">ACAGGTG</text>\n</g>\n<!-- CAGGTGT -->\n<g id=\"node13\" class=\"node\">\n<title>CAGGTGT</title>\n<ellipse fill=\"none\" stroke=\"black\" cx=\"277.19\" cy=\"-3114\" rx=\"57.69\" ry=\"18\"/>\n<text text-anchor=\"middle\" x=\"277.19\" y=\"-3110.3\" font-family=\"Times,serif\" font-size=\"14.00\">CAGGTGT</text>\n</g>\n<!-- ACAGGTG&#45;&gt;CAGGTGT -->\n<g id=\"edge7\" class=\"edge\">\n<title>ACAGGTG-&gt;CAGGTGT</title>\n<path fill=\"none\" stroke=\"black\" d=\"M277.95,-3167.7C277.84,-3159.98 277.71,-3150.71 277.58,-3142.11\"/>\n<polygon fill=\"black\" stroke=\"black\" points=\"281.08,-3142.05 277.44,-3132.1 274.08,-3142.15 281.08,-3142.05\"/>\n</g>\n<!-- AGGTGTC -->\n<g id=\"node57\" class=\"node\">\n<title>AGGTGTC</title>\n<ellipse fill=\"none\" stroke=\"black\" cx=\"277.19\" cy=\"-3042\" rx=\"57.69\" ry=\"18\"/>\n<text text-anchor=\"middle\" x=\"277.19\" y=\"-3038.3\" font-family=\"Times,serif\" font-size=\"14.00\">AGGTGTC</text>\n</g>\n<!-- CAGGTGT&#45;&gt;AGGTGTC -->\n<g id=\"edge117\" class=\"edge\">\n<title>CAGGTGT-&gt;AGGTGTC</title>\n<path fill=\"none\" stroke=\"black\" d=\"M277.19,-3095.7C277.19,-3087.98 277.19,-3078.71 277.19,-3070.11\"/>\n<polygon fill=\"black\" stroke=\"black\" points=\"280.7,-3070.1 277.19,-3060.1 273.7,-3070.1 280.7,-3070.1\"/>\n</g>\n<!-- GATCACT -->\n<g id=\"node14\" class=\"node\">\n<title>GATCACT</title>\n<ellipse fill=\"none\" stroke=\"black\" cx=\"103.19\" cy=\"-4914\" rx=\"55.79\" ry=\"18\"/>\n<text text-anchor=\"middle\" x=\"103.19\" y=\"-4910.3\" font-family=\"Times,serif\" font-size=\"14.00\">GATCACT</text>\n</g>\n<!-- ATCACTT -->\n<g id=\"node15\" class=\"node\">\n<title>ATCACTT</title>\n<ellipse fill=\"none\" stroke=\"black\" cx=\"103.19\" cy=\"-4842\" rx=\"55.79\" ry=\"18\"/>\n<text text-anchor=\"middle\" x=\"103.19\" y=\"-4838.3\" font-family=\"Times,serif\" font-size=\"14.00\">ATCACTT</text>\n</g>\n<!-- GATCACT&#45;&gt;ATCACTT -->\n<g id=\"edge8\" class=\"edge\">\n<title>GATCACT-&gt;ATCACTT</title>\n<path fill=\"none\" stroke=\"black\" d=\"M103.19,-4895.7C103.19,-4887.98 103.19,-4878.71 103.19,-4870.11\"/>\n<polygon fill=\"black\" stroke=\"black\" points=\"106.7,-4870.1 103.19,-4860.1 99.7,-4870.1 106.7,-4870.1\"/>\n</g>\n<!-- TCACTTT -->\n<g id=\"node167\" class=\"node\">\n<title>TCACTTT</title>\n<ellipse fill=\"none\" stroke=\"black\" cx=\"103.19\" cy=\"-4770\" rx=\"55.79\" ry=\"18\"/>\n<text text-anchor=\"middle\" x=\"103.19\" y=\"-4766.3\" font-family=\"Times,serif\" font-size=\"14.00\">TCACTTT</text>\n</g>\n<!-- ATCACTT&#45;&gt;TCACTTT -->\n<g id=\"edge126\" class=\"edge\">\n<title>ATCACTT-&gt;TCACTTT</title>\n<path fill=\"none\" stroke=\"black\" d=\"M103.19,-4823.7C103.19,-4815.98 103.19,-4806.71 103.19,-4798.11\"/>\n<polygon fill=\"black\" stroke=\"black\" points=\"106.7,-4798.1 103.19,-4788.1 99.7,-4798.1 106.7,-4798.1\"/>\n</g>\n<!-- AAACCTG -->\n<g id=\"node16\" class=\"node\">\n<title>AAACCTG</title>\n<ellipse fill=\"none\" stroke=\"black\" cx=\"414.19\" cy=\"-5922\" rx=\"56.59\" ry=\"18\"/>\n<text text-anchor=\"middle\" x=\"414.19\" y=\"-5918.3\" font-family=\"Times,serif\" font-size=\"14.00\">AAACCTG</text>\n</g>\n<!-- AACCTGT -->\n<g id=\"node17\" class=\"node\">\n<title>AACCTGT</title>\n<ellipse fill=\"none\" stroke=\"black\" cx=\"414.19\" cy=\"-5850\" rx=\"55.79\" ry=\"18\"/>\n<text text-anchor=\"middle\" x=\"414.19\" y=\"-5846.3\" font-family=\"Times,serif\" font-size=\"14.00\">AACCTGT</text>\n</g>\n<!-- AAACCTG&#45;&gt;AACCTGT -->\n<g id=\"edge9\" class=\"edge\">\n<title>AAACCTG-&gt;AACCTGT</title>\n<path fill=\"none\" stroke=\"black\" d=\"M414.19,-5903.7C414.19,-5895.98 414.19,-5886.71 414.19,-5878.11\"/>\n<polygon fill=\"black\" stroke=\"black\" points=\"417.7,-5878.1 414.19,-5868.1 410.7,-5878.1 417.7,-5878.1\"/>\n</g>\n<!-- ACCTGTT -->\n<g id=\"node56\" class=\"node\">\n<title>ACCTGTT</title>\n<ellipse fill=\"none\" stroke=\"black\" cx=\"414.19\" cy=\"-5778\" rx=\"56.59\" ry=\"18\"/>\n<text text-anchor=\"middle\" x=\"414.19\" y=\"-5774.3\" font-family=\"Times,serif\" font-size=\"14.00\">ACCTGTT</text>\n</g>\n<!-- AACCTGT&#45;&gt;ACCTGTT -->\n<g id=\"edge31\" class=\"edge\">\n<title>AACCTGT-&gt;ACCTGTT</title>\n<path fill=\"none\" stroke=\"black\" d=\"M414.19,-5831.7C414.19,-5823.98 414.19,-5814.71 414.19,-5806.11\"/>\n<polygon fill=\"black\" stroke=\"black\" points=\"417.7,-5806.1 414.19,-5796.1 410.7,-5806.1 417.7,-5806.1\"/>\n</g>\n<!-- TACATCC -->\n<g id=\"node18\" class=\"node\">\n<title>TACATCC</title>\n<ellipse fill=\"none\" stroke=\"black\" cx=\"410.19\" cy=\"-3258\" rx=\"55.79\" ry=\"18\"/>\n<text text-anchor=\"middle\" x=\"410.19\" y=\"-3254.3\" font-family=\"Times,serif\" font-size=\"14.00\">TACATCC</text>\n</g>\n<!-- ACATCCC -->\n<g id=\"node19\" class=\"node\">\n<title>ACATCCC</title>\n<ellipse fill=\"none\" stroke=\"black\" cx=\"410.19\" cy=\"-3186\" rx=\"56.59\" ry=\"18\"/>\n<text text-anchor=\"middle\" x=\"410.19\" y=\"-3182.3\" font-family=\"Times,serif\" font-size=\"14.00\">ACATCCC</text>\n</g>\n<!-- TACATCC&#45;&gt;ACATCCC -->\n<g id=\"edge10\" class=\"edge\">\n<title>TACATCC-&gt;ACATCCC</title>\n<path fill=\"none\" stroke=\"black\" d=\"M410.19,-3239.7C410.19,-3231.98 410.19,-3222.71 410.19,-3214.11\"/>\n<polygon fill=\"black\" stroke=\"black\" points=\"413.7,-3214.1 410.19,-3204.1 406.7,-3214.1 413.7,-3214.1\"/>\n</g>\n<!-- ACATCCC&#45;&gt;CATCCCC -->\n<g id=\"edge43\" class=\"edge\">\n<title>ACATCCC-&gt;CATCCCC</title>\n<path fill=\"none\" stroke=\"black\" d=\"M410.19,-3167.7C410.19,-3159.98 410.19,-3150.71 410.19,-3142.11\"/>\n<polygon fill=\"black\" stroke=\"black\" points=\"413.7,-3142.1 410.19,-3132.1 406.7,-3142.1 413.7,-3142.1\"/>\n</g>\n<!-- TTTAACG -->\n<g id=\"node20\" class=\"node\">\n<title>TTTAACG</title>\n<ellipse fill=\"none\" stroke=\"black\" cx=\"103.19\" cy=\"-4482\" rx=\"55.79\" ry=\"18\"/>\n<text text-anchor=\"middle\" x=\"103.19\" y=\"-4478.3\" font-family=\"Times,serif\" font-size=\"14.00\">TTTAACG</text>\n</g>\n<!-- TTAACGA -->\n<g id=\"node21\" class=\"node\">\n<title>TTAACGA</title>\n<ellipse fill=\"none\" stroke=\"black\" cx=\"103.19\" cy=\"-4410\" rx=\"55.79\" ry=\"18\"/>\n<text text-anchor=\"middle\" x=\"103.19\" y=\"-4406.3\" font-family=\"Times,serif\" font-size=\"14.00\">TTAACGA</text>\n</g>\n<!-- TTTAACG&#45;&gt;TTAACGA -->\n<g id=\"edge11\" class=\"edge\">\n<title>TTTAACG-&gt;TTAACGA</title>\n<path fill=\"none\" stroke=\"black\" d=\"M103.19,-4463.7C103.19,-4455.98 103.19,-4446.71 103.19,-4438.11\"/>\n<polygon fill=\"black\" stroke=\"black\" points=\"106.7,-4438.1 103.19,-4428.1 99.7,-4438.1 106.7,-4438.1\"/>\n</g>\n<!-- TAACGAC -->\n<g id=\"node102\" class=\"node\">\n<title>TAACGAC</title>\n<ellipse fill=\"none\" stroke=\"black\" cx=\"103.19\" cy=\"-4338\" rx=\"56.59\" ry=\"18\"/>\n<text text-anchor=\"middle\" x=\"103.19\" y=\"-4334.3\" font-family=\"Times,serif\" font-size=\"14.00\">TAACGAC</text>\n</g>\n<!-- TTAACGA&#45;&gt;TAACGAC -->\n<g id=\"edge148\" class=\"edge\">\n<title>TTAACGA-&gt;TAACGAC</title>\n<path fill=\"none\" stroke=\"black\" d=\"M103.19,-4391.7C103.19,-4383.98 103.19,-4374.71 103.19,-4366.11\"/>\n<polygon fill=\"black\" stroke=\"black\" points=\"106.7,-4366.1 103.19,-4356.1 99.7,-4366.1 106.7,-4366.1\"/>\n</g>\n<!-- CCATCGT -->\n<g id=\"node22\" class=\"node\">\n<title>CCATCGT</title>\n<ellipse fill=\"none\" stroke=\"black\" cx=\"279.19\" cy=\"-3690\" rx=\"56.59\" ry=\"18\"/>\n<text text-anchor=\"middle\" x=\"279.19\" y=\"-3686.3\" font-family=\"Times,serif\" font-size=\"14.00\">CCATCGT</text>\n</g>\n<!-- CATCGTA -->\n<g id=\"node23\" class=\"node\">\n<title>CATCGTA</title>\n<ellipse fill=\"none\" stroke=\"black\" cx=\"279.19\" cy=\"-3618\" rx=\"55.79\" ry=\"18\"/>\n<text text-anchor=\"middle\" x=\"279.19\" y=\"-3614.3\" font-family=\"Times,serif\" font-size=\"14.00\">CATCGTA</text>\n</g>\n<!-- CCATCGT&#45;&gt;CATCGTA -->\n<g id=\"edge12\" class=\"edge\">\n<title>CCATCGT-&gt;CATCGTA</title>\n<path fill=\"none\" stroke=\"black\" d=\"M279.19,-3671.7C279.19,-3663.98 279.19,-3654.71 279.19,-3646.11\"/>\n<polygon fill=\"black\" stroke=\"black\" points=\"282.7,-3646.1 279.19,-3636.1 275.7,-3646.1 282.7,-3646.1\"/>\n</g>\n<!-- ATCGTAC -->\n<g id=\"node116\" class=\"node\">\n<title>ATCGTAC</title>\n<ellipse fill=\"none\" stroke=\"black\" cx=\"279.19\" cy=\"-3546\" rx=\"55.79\" ry=\"18\"/>\n<text text-anchor=\"middle\" x=\"279.19\" y=\"-3542.3\" font-family=\"Times,serif\" font-size=\"14.00\">ATCGTAC</text>\n</g>\n<!-- CATCGTA&#45;&gt;ATCGTAC -->\n<g id=\"edge68\" class=\"edge\">\n<title>CATCGTA-&gt;ATCGTAC</title>\n<path fill=\"none\" stroke=\"black\" d=\"M279.19,-3599.7C279.19,-3591.98 279.19,-3582.71 279.19,-3574.11\"/>\n<polygon fill=\"black\" stroke=\"black\" points=\"282.7,-3574.1 279.19,-3564.1 275.7,-3574.1 282.7,-3574.1\"/>\n</g>\n<!-- TGATAAA -->\n<g id=\"node24\" class=\"node\">\n<title>TGATAAA</title>\n<ellipse fill=\"none\" stroke=\"black\" cx=\"413.19\" cy=\"-5346\" rx=\"54.69\" ry=\"18\"/>\n<text text-anchor=\"middle\" x=\"413.19\" y=\"-5342.3\" font-family=\"Times,serif\" font-size=\"14.00\">TGATAAA</text>\n</g>\n<!-- GATAAAA -->\n<g id=\"node25\" class=\"node\">\n<title>GATAAAA</title>\n<ellipse fill=\"none\" stroke=\"black\" cx=\"413.19\" cy=\"-5274\" rx=\"55.49\" ry=\"18\"/>\n<text text-anchor=\"middle\" x=\"413.19\" y=\"-5270.3\" font-family=\"Times,serif\" font-size=\"14.00\">GATAAAA</text>\n</g>\n<!-- TGATAAA&#45;&gt;GATAAAA -->\n<g id=\"edge13\" class=\"edge\">\n<title>TGATAAA-&gt;GATAAAA</title>\n<path fill=\"none\" stroke=\"black\" d=\"M413.19,-5327.7C413.19,-5319.98 413.19,-5310.71 413.19,-5302.11\"/>\n<polygon fill=\"black\" stroke=\"black\" points=\"416.7,-5302.1 413.19,-5292.1 409.7,-5302.1 416.7,-5302.1\"/>\n</g>\n<!-- ATAAAAT -->\n<g id=\"node26\" class=\"node\">\n<title>ATAAAAT</title>\n<ellipse fill=\"none\" stroke=\"black\" cx=\"413.19\" cy=\"-5202\" rx=\"53.89\" ry=\"18\"/>\n<text text-anchor=\"middle\" x=\"413.19\" y=\"-5198.3\" font-family=\"Times,serif\" font-size=\"14.00\">ATAAAAT</text>\n</g>\n<!-- GATAAAA&#45;&gt;ATAAAAT -->\n<g id=\"edge14\" class=\"edge\">\n<title>GATAAAA-&gt;ATAAAAT</title>\n<path fill=\"none\" stroke=\"black\" d=\"M413.19,-5255.7C413.19,-5247.98 413.19,-5238.71 413.19,-5230.11\"/>\n<polygon fill=\"black\" stroke=\"black\" points=\"416.7,-5230.1 413.19,-5220.1 409.7,-5230.1 416.7,-5230.1\"/>\n</g>\n<!-- TAAAATG -->\n<g id=\"node144\" class=\"node\">\n<title>TAAAATG</title>\n<ellipse fill=\"none\" stroke=\"black\" cx=\"413.19\" cy=\"-5130\" rx=\"55.49\" ry=\"18\"/>\n<text text-anchor=\"middle\" x=\"413.19\" y=\"-5126.3\" font-family=\"Times,serif\" font-size=\"14.00\">TAAAATG</text>\n</g>\n<!-- ATAAAAT&#45;&gt;TAAAATG -->\n<g id=\"edge96\" class=\"edge\">\n<title>ATAAAAT-&gt;TAAAATG</title>\n<path fill=\"none\" stroke=\"black\" d=\"M413.19,-5183.7C413.19,-5175.98 413.19,-5166.71 413.19,-5158.11\"/>\n<polygon fill=\"black\" stroke=\"black\" points=\"416.7,-5158.1 413.19,-5148.1 409.7,-5158.1 416.7,-5158.1\"/>\n</g>\n<!-- ACCACGG -->\n<g id=\"node27\" class=\"node\">\n<title>ACCACGG</title>\n<ellipse fill=\"none\" stroke=\"black\" cx=\"103.19\" cy=\"-3978\" rx=\"58.49\" ry=\"18\"/>\n<text text-anchor=\"middle\" x=\"103.19\" y=\"-3974.3\" font-family=\"Times,serif\" font-size=\"14.00\">ACCACGG</text>\n</g>\n<!-- CCACGGA -->\n<g id=\"node28\" class=\"node\">\n<title>CCACGGA</title>\n<ellipse fill=\"none\" stroke=\"black\" cx=\"103.19\" cy=\"-3906\" rx=\"58.49\" ry=\"18\"/>\n<text text-anchor=\"middle\" x=\"103.19\" y=\"-3902.3\" font-family=\"Times,serif\" font-size=\"14.00\">CCACGGA</text>\n</g>\n<!-- ACCACGG&#45;&gt;CCACGGA -->\n<g id=\"edge15\" class=\"edge\">\n<title>ACCACGG-&gt;CCACGGA</title>\n<path fill=\"none\" stroke=\"black\" d=\"M103.19,-3959.7C103.19,-3951.98 103.19,-3942.71 103.19,-3934.11\"/>\n<polygon fill=\"black\" stroke=\"black\" points=\"106.7,-3934.1 103.19,-3924.1 99.7,-3934.1 106.7,-3934.1\"/>\n</g>\n<!-- CACGGAC -->\n<g id=\"node147\" class=\"node\">\n<title>CACGGAC</title>\n<ellipse fill=\"none\" stroke=\"black\" cx=\"103.19\" cy=\"-3834\" rx=\"58.49\" ry=\"18\"/>\n<text text-anchor=\"middle\" x=\"103.19\" y=\"-3830.3\" font-family=\"Times,serif\" font-size=\"14.00\">CACGGAC</text>\n</g>\n<!-- CCACGGA&#45;&gt;CACGGAC -->\n<g id=\"edge173\" class=\"edge\">\n<title>CCACGGA-&gt;CACGGAC</title>\n<path fill=\"none\" stroke=\"black\" d=\"M103.19,-3887.7C103.19,-3879.98 103.19,-3870.71 103.19,-3862.11\"/>\n<polygon fill=\"black\" stroke=\"black\" points=\"106.7,-3862.1 103.19,-3852.1 99.7,-3862.1 106.7,-3862.1\"/>\n</g>\n<!-- TAGGTGA -->\n<g id=\"node29\" class=\"node\">\n<title>TAGGTGA</title>\n<ellipse fill=\"none\" stroke=\"black\" cx=\"104.19\" cy=\"-5922\" rx=\"57.39\" ry=\"18\"/>\n<text text-anchor=\"middle\" x=\"104.19\" y=\"-5918.3\" font-family=\"Times,serif\" font-size=\"14.00\">TAGGTGA</text>\n</g>\n<!-- TAGGTGA&#45;&gt;AGGTGAC -->\n<g id=\"edge16\" class=\"edge\">\n<title>TAGGTGA-&gt;AGGTGAC</title>\n<path fill=\"none\" stroke=\"black\" d=\"M104.19,-5903.7C104.19,-5895.98 104.19,-5886.71 104.19,-5878.11\"/>\n<polygon fill=\"black\" stroke=\"black\" points=\"107.7,-5878.1 104.19,-5868.1 100.7,-5878.1 107.7,-5878.1\"/>\n</g>\n<!-- ATCCATC -->\n<g id=\"node30\" class=\"node\">\n<title>ATCCATC</title>\n<ellipse fill=\"none\" stroke=\"black\" cx=\"279.19\" cy=\"-3834\" rx=\"55.79\" ry=\"18\"/>\n<text text-anchor=\"middle\" x=\"279.19\" y=\"-3830.3\" font-family=\"Times,serif\" font-size=\"14.00\">ATCCATC</text>\n</g>\n<!-- TCCATCG -->\n<g id=\"node31\" class=\"node\">\n<title>TCCATCG</title>\n<ellipse fill=\"none\" stroke=\"black\" cx=\"279.19\" cy=\"-3762\" rx=\"56.59\" ry=\"18\"/>\n<text text-anchor=\"middle\" x=\"279.19\" y=\"-3758.3\" font-family=\"Times,serif\" font-size=\"14.00\">TCCATCG</text>\n</g>\n<!-- ATCCATC&#45;&gt;TCCATCG -->\n<g id=\"edge17\" class=\"edge\">\n<title>ATCCATC-&gt;TCCATCG</title>\n<path fill=\"none\" stroke=\"black\" d=\"M279.19,-3815.7C279.19,-3807.98 279.19,-3798.71 279.19,-3790.11\"/>\n<polygon fill=\"black\" stroke=\"black\" points=\"282.7,-3790.1 279.19,-3780.1 275.7,-3790.1 282.7,-3790.1\"/>\n</g>\n<!-- TCCATCG&#45;&gt;CCATCGT -->\n<g id=\"edge170\" class=\"edge\">\n<title>TCCATCG-&gt;CCATCGT</title>\n<path fill=\"none\" stroke=\"black\" d=\"M279.19,-3743.7C279.19,-3735.98 279.19,-3726.71 279.19,-3718.11\"/>\n<polygon fill=\"black\" stroke=\"black\" points=\"282.7,-3718.1 279.19,-3708.1 275.7,-3718.1 282.7,-3718.1\"/>\n</g>\n<!-- GACCACG -->\n<g id=\"node32\" class=\"node\">\n<title>GACCACG</title>\n<ellipse fill=\"none\" stroke=\"black\" cx=\"103.19\" cy=\"-4050\" rx=\"58.49\" ry=\"18\"/>\n<text text-anchor=\"middle\" x=\"103.19\" y=\"-4046.3\" font-family=\"Times,serif\" font-size=\"14.00\">GACCACG</text>\n</g>\n<!-- GACCACG&#45;&gt;ACCACGG -->\n<g id=\"edge18\" class=\"edge\">\n<title>GACCACG-&gt;ACCACGG</title>\n<path fill=\"none\" stroke=\"black\" d=\"M103.19,-4031.7C103.19,-4023.98 103.19,-4014.71 103.19,-4006.11\"/>\n<polygon fill=\"black\" stroke=\"black\" points=\"106.7,-4006.1 103.19,-3996.1 99.7,-4006.1 106.7,-4006.1\"/>\n</g>\n<!-- TCATGCA -->\n<g id=\"node33\" class=\"node\">\n<title>TCATGCA</title>\n<ellipse fill=\"none\" stroke=\"black\" cx=\"278.19\" cy=\"-5490\" rx=\"55.79\" ry=\"18\"/>\n<text text-anchor=\"middle\" x=\"278.19\" y=\"-5486.3\" font-family=\"Times,serif\" font-size=\"14.00\">TCATGCA</text>\n</g>\n<!-- CATGCAC -->\n<g id=\"node34\" class=\"node\">\n<title>CATGCAC</title>\n<ellipse fill=\"none\" stroke=\"black\" cx=\"278.19\" cy=\"-5418\" rx=\"57.39\" ry=\"18\"/>\n<text text-anchor=\"middle\" x=\"278.19\" y=\"-5414.3\" font-family=\"Times,serif\" font-size=\"14.00\">CATGCAC</text>\n</g>\n<!-- TCATGCA&#45;&gt;CATGCAC -->\n<g id=\"edge19\" class=\"edge\">\n<title>TCATGCA-&gt;CATGCAC</title>\n<path fill=\"none\" stroke=\"black\" d=\"M278.19,-5471.7C278.19,-5463.98 278.19,-5454.71 278.19,-5446.11\"/>\n<polygon fill=\"black\" stroke=\"black\" points=\"281.7,-5446.1 278.19,-5436.1 274.7,-5446.1 281.7,-5446.1\"/>\n</g>\n<!-- ATGCACA -->\n<g id=\"node145\" class=\"node\">\n<title>ATGCACA</title>\n<ellipse fill=\"none\" stroke=\"black\" cx=\"278.19\" cy=\"-5346\" rx=\"56.59\" ry=\"18\"/>\n<text text-anchor=\"middle\" x=\"278.19\" y=\"-5342.3\" font-family=\"Times,serif\" font-size=\"14.00\">ATGCACA</text>\n</g>\n<!-- CATGCAC&#45;&gt;ATGCACA -->\n<g id=\"edge97\" class=\"edge\">\n<title>CATGCAC-&gt;ATGCACA</title>\n<path fill=\"none\" stroke=\"black\" d=\"M278.19,-5399.7C278.19,-5391.98 278.19,-5382.71 278.19,-5374.11\"/>\n<polygon fill=\"black\" stroke=\"black\" points=\"281.7,-5374.1 278.19,-5364.1 274.7,-5374.1 281.7,-5374.1\"/>\n</g>\n<!-- TCCGGTA -->\n<g id=\"node35\" class=\"node\">\n<title>TCCGGTA</title>\n<ellipse fill=\"none\" stroke=\"black\" cx=\"103.19\" cy=\"-3330\" rx=\"57.39\" ry=\"18\"/>\n<text text-anchor=\"middle\" x=\"103.19\" y=\"-3326.3\" font-family=\"Times,serif\" font-size=\"14.00\">TCCGGTA</text>\n</g>\n<!-- CCGGTAG -->\n<g id=\"node36\" class=\"node\">\n<title>CCGGTAG</title>\n<ellipse fill=\"none\" stroke=\"black\" cx=\"103.19\" cy=\"-3258\" rx=\"58.49\" ry=\"18\"/>\n<text text-anchor=\"middle\" x=\"103.19\" y=\"-3254.3\" font-family=\"Times,serif\" font-size=\"14.00\">CCGGTAG</text>\n</g>\n<!-- TCCGGTA&#45;&gt;CCGGTAG -->\n<g id=\"edge20\" class=\"edge\">\n<title>TCCGGTA-&gt;CCGGTAG</title>\n<path fill=\"none\" stroke=\"black\" d=\"M103.19,-3311.7C103.19,-3303.98 103.19,-3294.71 103.19,-3286.11\"/>\n<polygon fill=\"black\" stroke=\"black\" points=\"106.7,-3286.1 103.19,-3276.1 99.7,-3286.1 106.7,-3286.1\"/>\n</g>\n<!-- CGGTAGA -->\n<g id=\"node83\" class=\"node\">\n<title>CGGTAGA</title>\n<ellipse fill=\"none\" stroke=\"black\" cx=\"103.19\" cy=\"-3186\" rx=\"57.69\" ry=\"18\"/>\n<text text-anchor=\"middle\" x=\"103.19\" y=\"-3182.3\" font-family=\"Times,serif\" font-size=\"14.00\">CGGTAGA</text>\n</g>\n<!-- CCGGTAG&#45;&gt;CGGTAGA -->\n<g id=\"edge47\" class=\"edge\">\n<title>CCGGTAG-&gt;CGGTAGA</title>\n<path fill=\"none\" stroke=\"black\" d=\"M103.19,-3239.7C103.19,-3231.98 103.19,-3222.71 103.19,-3214.11\"/>\n<polygon fill=\"black\" stroke=\"black\" points=\"106.7,-3214.1 103.19,-3204.1 99.7,-3214.1 106.7,-3214.1\"/>\n</g>\n<!-- GTACATC -->\n<g id=\"node37\" class=\"node\">\n<title>GTACATC</title>\n<ellipse fill=\"none\" stroke=\"black\" cx=\"410.19\" cy=\"-3330\" rx=\"55.79\" ry=\"18\"/>\n<text text-anchor=\"middle\" x=\"410.19\" y=\"-3326.3\" font-family=\"Times,serif\" font-size=\"14.00\">GTACATC</text>\n</g>\n<!-- GTACATC&#45;&gt;TACATCC -->\n<g id=\"edge21\" class=\"edge\">\n<title>GTACATC-&gt;TACATCC</title>\n<path fill=\"none\" stroke=\"black\" d=\"M410.19,-3311.7C410.19,-3303.98 410.19,-3294.71 410.19,-3286.11\"/>\n<polygon fill=\"black\" stroke=\"black\" points=\"413.7,-3286.1 410.19,-3276.1 406.7,-3286.1 413.7,-3286.1\"/>\n</g>\n<!-- ACATGGC -->\n<g id=\"node38\" class=\"node\">\n<title>ACATGGC</title>\n<ellipse fill=\"none\" stroke=\"black\" cx=\"278.19\" cy=\"-5058\" rx=\"57.69\" ry=\"18\"/>\n<text text-anchor=\"middle\" x=\"278.19\" y=\"-5054.3\" font-family=\"Times,serif\" font-size=\"14.00\">ACATGGC</text>\n</g>\n<!-- CATGGCC -->\n<g id=\"node39\" class=\"node\">\n<title>CATGGCC</title>\n<ellipse fill=\"none\" stroke=\"black\" cx=\"278.19\" cy=\"-4986\" rx=\"57.69\" ry=\"18\"/>\n<text text-anchor=\"middle\" x=\"278.19\" y=\"-4982.3\" font-family=\"Times,serif\" font-size=\"14.00\">CATGGCC</text>\n</g>\n<!-- ACATGGC&#45;&gt;CATGGCC -->\n<g id=\"edge22\" class=\"edge\">\n<title>ACATGGC-&gt;CATGGCC</title>\n<path fill=\"none\" stroke=\"black\" d=\"M278.19,-5039.7C278.19,-5031.98 278.19,-5022.71 278.19,-5014.11\"/>\n<polygon fill=\"black\" stroke=\"black\" points=\"281.7,-5014.1 278.19,-5004.1 274.7,-5014.1 281.7,-5014.1\"/>\n</g>\n<!-- ATGGCCC -->\n<g id=\"node151\" class=\"node\">\n<title>ATGGCCC</title>\n<ellipse fill=\"none\" stroke=\"black\" cx=\"278.19\" cy=\"-4914\" rx=\"57.69\" ry=\"18\"/>\n<text text-anchor=\"middle\" x=\"278.19\" y=\"-4910.3\" font-family=\"Times,serif\" font-size=\"14.00\">ATGGCCC</text>\n</g>\n<!-- CATGGCC&#45;&gt;ATGGCCC -->\n<g id=\"edge134\" class=\"edge\">\n<title>CATGGCC-&gt;ATGGCCC</title>\n<path fill=\"none\" stroke=\"black\" d=\"M278.19,-4967.7C278.19,-4959.98 278.19,-4950.71 278.19,-4942.11\"/>\n<polygon fill=\"black\" stroke=\"black\" points=\"281.7,-4942.1 278.19,-4932.1 274.7,-4942.1 281.7,-4942.1\"/>\n</g>\n<!-- TGCCAAC -->\n<g id=\"node40\" class=\"node\">\n<title>TGCCAAC</title>\n<ellipse fill=\"none\" stroke=\"black\" cx=\"108.19\" cy=\"-1602\" rx=\"57.39\" ry=\"18\"/>\n<text text-anchor=\"middle\" x=\"108.19\" y=\"-1598.3\" font-family=\"Times,serif\" font-size=\"14.00\">TGCCAAC</text>\n</g>\n<!-- GCCAACG -->\n<g id=\"node41\" class=\"node\">\n<title>GCCAACG</title>\n<ellipse fill=\"none\" stroke=\"black\" cx=\"107.19\" cy=\"-1530\" rx=\"58.49\" ry=\"18\"/>\n<text text-anchor=\"middle\" x=\"107.19\" y=\"-1526.3\" font-family=\"Times,serif\" font-size=\"14.00\">GCCAACG</text>\n</g>\n<!-- TGCCAAC&#45;&gt;GCCAACG -->\n<g id=\"edge23\" class=\"edge\">\n<title>TGCCAAC-&gt;GCCAACG</title>\n<path fill=\"none\" stroke=\"black\" d=\"M107.95,-1583.7C107.84,-1575.98 107.71,-1566.71 107.58,-1558.11\"/>\n<polygon fill=\"black\" stroke=\"black\" points=\"111.08,-1558.05 107.44,-1548.1 104.08,-1558.15 111.08,-1558.05\"/>\n</g>\n<!-- CCAACGC -->\n<g id=\"node173\" class=\"node\">\n<title>CCAACGC</title>\n<ellipse fill=\"none\" stroke=\"black\" cx=\"105.19\" cy=\"-1458\" rx=\"57.69\" ry=\"18\"/>\n<text text-anchor=\"middle\" x=\"105.19\" y=\"-1454.3\" font-family=\"Times,serif\" font-size=\"14.00\">CCAACGC</text>\n</g>\n<!-- GCCAACG&#45;&gt;CCAACGC -->\n<g id=\"edge145\" class=\"edge\">\n<title>GCCAACG-&gt;CCAACGC</title>\n<path fill=\"none\" stroke=\"black\" d=\"M106.7,-1511.7C106.48,-1503.98 106.22,-1494.71 105.97,-1486.11\"/>\n<polygon fill=\"black\" stroke=\"black\" points=\"109.47,-1486 105.68,-1476.1 102.47,-1486.2 109.47,-1486\"/>\n</g>\n<!-- ATAATTT -->\n<g id=\"node42\" class=\"node\">\n<title>ATAATTT</title>\n<ellipse fill=\"none\" stroke=\"black\" cx=\"411.19\" cy=\"-4266\" rx=\"53.89\" ry=\"18\"/>\n<text text-anchor=\"middle\" x=\"411.19\" y=\"-4262.3\" font-family=\"Times,serif\" font-size=\"14.00\">ATAATTT</text>\n</g>\n<!-- TAATTTT -->\n<g id=\"node43\" class=\"node\">\n<title>TAATTTT</title>\n<ellipse fill=\"none\" stroke=\"black\" cx=\"411.19\" cy=\"-4194\" rx=\"53.89\" ry=\"18\"/>\n<text text-anchor=\"middle\" x=\"411.19\" y=\"-4190.3\" font-family=\"Times,serif\" font-size=\"14.00\">TAATTTT</text>\n</g>\n<!-- ATAATTT&#45;&gt;TAATTTT -->\n<g id=\"edge24\" class=\"edge\">\n<title>ATAATTT-&gt;TAATTTT</title>\n<path fill=\"none\" stroke=\"black\" d=\"M411.19,-4247.7C411.19,-4239.98 411.19,-4230.71 411.19,-4222.11\"/>\n<polygon fill=\"black\" stroke=\"black\" points=\"414.7,-4222.1 411.19,-4212.1 407.7,-4222.1 414.7,-4222.1\"/>\n</g>\n<!-- AATTTTT -->\n<g id=\"node146\" class=\"node\">\n<title>AATTTTT</title>\n<ellipse fill=\"none\" stroke=\"black\" cx=\"411.19\" cy=\"-4122\" rx=\"54.69\" ry=\"18\"/>\n<text text-anchor=\"middle\" x=\"411.19\" y=\"-4118.3\" font-family=\"Times,serif\" font-size=\"14.00\">AATTTTT</text>\n</g>\n<!-- TAATTTT&#45;&gt;AATTTTT -->\n<g id=\"edge168\" class=\"edge\">\n<title>TAATTTT-&gt;AATTTTT</title>\n<path fill=\"none\" stroke=\"black\" d=\"M411.19,-4175.7C411.19,-4167.98 411.19,-4158.71 411.19,-4150.11\"/>\n<polygon fill=\"black\" stroke=\"black\" points=\"414.7,-4150.1 411.19,-4140.1 407.7,-4150.1 414.7,-4150.1\"/>\n</g>\n<!-- CTTACAT -->\n<g id=\"node44\" class=\"node\">\n<title>CTTACAT</title>\n<ellipse fill=\"none\" stroke=\"black\" cx=\"102.19\" cy=\"-1026\" rx=\"55.49\" ry=\"18\"/>\n<text text-anchor=\"middle\" x=\"102.19\" y=\"-1022.3\" font-family=\"Times,serif\" font-size=\"14.00\">CTTACAT</text>\n</g>\n<!-- TTACATA -->\n<g id=\"node45\" class=\"node\">\n<title>TTACATA</title>\n<ellipse fill=\"none\" stroke=\"black\" cx=\"101.19\" cy=\"-954\" rx=\"53.89\" ry=\"18\"/>\n<text text-anchor=\"middle\" x=\"101.19\" y=\"-950.3\" font-family=\"Times,serif\" font-size=\"14.00\">TTACATA</text>\n</g>\n<!-- CTTACAT&#45;&gt;TTACATA -->\n<g id=\"edge25\" class=\"edge\">\n<title>CTTACAT-&gt;TTACATA</title>\n<path fill=\"none\" stroke=\"black\" d=\"M101.95,-1007.7C101.84,-999.98 101.71,-990.71 101.58,-982.11\"/>\n<polygon fill=\"black\" stroke=\"black\" points=\"105.08,-982.05 101.44,-972.1 98.08,-982.15 105.08,-982.05\"/>\n</g>\n<!-- TACATAG -->\n<g id=\"node127\" class=\"node\">\n<title>TACATAG</title>\n<ellipse fill=\"none\" stroke=\"black\" cx=\"101.19\" cy=\"-882\" rx=\"55.49\" ry=\"18\"/>\n<text text-anchor=\"middle\" x=\"101.19\" y=\"-878.3\" font-family=\"Times,serif\" font-size=\"14.00\">TACATAG</text>\n</g>\n<!-- TTACATA&#45;&gt;TACATAG -->\n<g id=\"edge93\" class=\"edge\">\n<title>TTACATA-&gt;TACATAG</title>\n<path fill=\"none\" stroke=\"black\" d=\"M101.19,-935.7C101.19,-927.98 101.19,-918.71 101.19,-910.11\"/>\n<polygon fill=\"black\" stroke=\"black\" points=\"104.7,-910.1 101.19,-900.1 97.7,-910.1 104.7,-910.1\"/>\n</g>\n<!-- GACTCGG -->\n<g id=\"node46\" class=\"node\">\n<title>GACTCGG</title>\n<ellipse fill=\"none\" stroke=\"black\" cx=\"104.19\" cy=\"-5562\" rx=\"58.49\" ry=\"18\"/>\n<text text-anchor=\"middle\" x=\"104.19\" y=\"-5558.3\" font-family=\"Times,serif\" font-size=\"14.00\">GACTCGG</text>\n</g>\n<!-- ACTCGGA -->\n<g id=\"node47\" class=\"node\">\n<title>ACTCGGA</title>\n<ellipse fill=\"none\" stroke=\"black\" cx=\"104.19\" cy=\"-5490\" rx=\"57.69\" ry=\"18\"/>\n<text text-anchor=\"middle\" x=\"104.19\" y=\"-5486.3\" font-family=\"Times,serif\" font-size=\"14.00\">ACTCGGA</text>\n</g>\n<!-- GACTCGG&#45;&gt;ACTCGGA -->\n<g id=\"edge26\" class=\"edge\">\n<title>GACTCGG-&gt;ACTCGGA</title>\n<path fill=\"none\" stroke=\"black\" d=\"M104.19,-5543.7C104.19,-5535.98 104.19,-5526.71 104.19,-5518.11\"/>\n<polygon fill=\"black\" stroke=\"black\" points=\"107.7,-5518.1 104.19,-5508.1 100.7,-5518.1 107.7,-5518.1\"/>\n</g>\n<!-- CTCGGAG -->\n<g id=\"node163\" class=\"node\">\n<title>CTCGGAG</title>\n<ellipse fill=\"none\" stroke=\"black\" cx=\"104.19\" cy=\"-5418\" rx=\"58.49\" ry=\"18\"/>\n<text text-anchor=\"middle\" x=\"104.19\" y=\"-5414.3\" font-family=\"Times,serif\" font-size=\"14.00\">CTCGGAG</text>\n</g>\n<!-- ACTCGGA&#45;&gt;CTCGGAG -->\n<g id=\"edge169\" class=\"edge\">\n<title>ACTCGGA-&gt;CTCGGAG</title>\n<path fill=\"none\" stroke=\"black\" d=\"M104.19,-5471.7C104.19,-5463.98 104.19,-5454.71 104.19,-5446.11\"/>\n<polygon fill=\"black\" stroke=\"black\" points=\"107.7,-5446.1 104.19,-5436.1 100.7,-5446.1 107.7,-5446.1\"/>\n</g>\n<!-- TAGGGGA -->\n<g id=\"node48\" class=\"node\">\n<title>TAGGGGA</title>\n<ellipse fill=\"none\" stroke=\"black\" cx=\"101.19\" cy=\"-594\" rx=\"58.49\" ry=\"18\"/>\n<text text-anchor=\"middle\" x=\"101.19\" y=\"-590.3\" font-family=\"Times,serif\" font-size=\"14.00\">TAGGGGA</text>\n</g>\n<!-- AGGGGAT -->\n<g id=\"node49\" class=\"node\">\n<title>AGGGGAT</title>\n<ellipse fill=\"none\" stroke=\"black\" cx=\"101.19\" cy=\"-522\" rx=\"58.49\" ry=\"18\"/>\n<text text-anchor=\"middle\" x=\"101.19\" y=\"-518.3\" font-family=\"Times,serif\" font-size=\"14.00\">AGGGGAT</text>\n</g>\n<!-- TAGGGGA&#45;&gt;AGGGGAT -->\n<g id=\"edge27\" class=\"edge\">\n<title>TAGGGGA-&gt;AGGGGAT</title>\n<path fill=\"none\" stroke=\"black\" d=\"M101.19,-575.7C101.19,-567.98 101.19,-558.71 101.19,-550.11\"/>\n<polygon fill=\"black\" stroke=\"black\" points=\"104.7,-550.1 101.19,-540.1 97.7,-550.1 104.7,-550.1\"/>\n</g>\n<!-- GGGGATT -->\n<g id=\"node169\" class=\"node\">\n<title>GGGGATT</title>\n<ellipse fill=\"none\" stroke=\"black\" cx=\"101.19\" cy=\"-450\" rx=\"58.49\" ry=\"18\"/>\n<text text-anchor=\"middle\" x=\"101.19\" y=\"-446.3\" font-family=\"Times,serif\" font-size=\"14.00\">GGGGATT</text>\n</g>\n<!-- AGGGGAT&#45;&gt;GGGGATT -->\n<g id=\"edge192\" class=\"edge\">\n<title>AGGGGAT-&gt;GGGGATT</title>\n<path fill=\"none\" stroke=\"black\" d=\"M101.19,-503.7C101.19,-495.98 101.19,-486.71 101.19,-478.11\"/>\n<polygon fill=\"black\" stroke=\"black\" points=\"104.7,-478.1 101.19,-468.1 97.7,-478.1 104.7,-478.1\"/>\n</g>\n<!-- CGAATGT -->\n<g id=\"node50\" class=\"node\">\n<title>CGAATGT</title>\n<ellipse fill=\"none\" stroke=\"black\" cx=\"277.19\" cy=\"-5922\" rx=\"56.59\" ry=\"18\"/>\n<text text-anchor=\"middle\" x=\"277.19\" y=\"-5918.3\" font-family=\"Times,serif\" font-size=\"14.00\">CGAATGT</text>\n</g>\n<!-- GAATGTC -->\n<g id=\"node51\" class=\"node\">\n<title>GAATGTC</title>\n<ellipse fill=\"none\" stroke=\"black\" cx=\"278.19\" cy=\"-5850\" rx=\"56.59\" ry=\"18\"/>\n<text text-anchor=\"middle\" x=\"278.19\" y=\"-5846.3\" font-family=\"Times,serif\" font-size=\"14.00\">GAATGTC</text>\n</g>\n<!-- CGAATGT&#45;&gt;GAATGTC -->\n<g id=\"edge28\" class=\"edge\">\n<title>CGAATGT-&gt;GAATGTC</title>\n<path fill=\"none\" stroke=\"black\" d=\"M277.44,-5903.7C277.55,-5895.98 277.68,-5886.71 277.81,-5878.11\"/>\n<polygon fill=\"black\" stroke=\"black\" points=\"281.31,-5878.15 277.95,-5868.1 274.31,-5878.05 281.31,-5878.15\"/>\n</g>\n<!-- AATGTCA -->\n<g id=\"node137\" class=\"node\">\n<title>AATGTCA</title>\n<ellipse fill=\"none\" stroke=\"black\" cx=\"278.19\" cy=\"-5778\" rx=\"55.79\" ry=\"18\"/>\n<text text-anchor=\"middle\" x=\"278.19\" y=\"-5774.3\" font-family=\"Times,serif\" font-size=\"14.00\">AATGTCA</text>\n</g>\n<!-- GAATGTC&#45;&gt;AATGTCA -->\n<g id=\"edge181\" class=\"edge\">\n<title>GAATGTC-&gt;AATGTCA</title>\n<path fill=\"none\" stroke=\"black\" d=\"M278.19,-5831.7C278.19,-5823.98 278.19,-5814.71 278.19,-5806.11\"/>\n<polygon fill=\"black\" stroke=\"black\" points=\"281.7,-5806.1 278.19,-5796.1 274.7,-5806.1 281.7,-5806.1\"/>\n</g>\n<!-- GCACATG -->\n<g id=\"node52\" class=\"node\">\n<title>GCACATG</title>\n<ellipse fill=\"none\" stroke=\"black\" cx=\"278.19\" cy=\"-5202\" rx=\"57.69\" ry=\"18\"/>\n<text text-anchor=\"middle\" x=\"278.19\" y=\"-5198.3\" font-family=\"Times,serif\" font-size=\"14.00\">GCACATG</text>\n</g>\n<!-- CACATGG -->\n<g id=\"node53\" class=\"node\">\n<title>CACATGG</title>\n<ellipse fill=\"none\" stroke=\"black\" cx=\"278.19\" cy=\"-5130\" rx=\"57.69\" ry=\"18\"/>\n<text text-anchor=\"middle\" x=\"278.19\" y=\"-5126.3\" font-family=\"Times,serif\" font-size=\"14.00\">CACATGG</text>\n</g>\n<!-- GCACATG&#45;&gt;CACATGG -->\n<g id=\"edge29\" class=\"edge\">\n<title>GCACATG-&gt;CACATGG</title>\n<path fill=\"none\" stroke=\"black\" d=\"M278.19,-5183.7C278.19,-5175.98 278.19,-5166.71 278.19,-5158.11\"/>\n<polygon fill=\"black\" stroke=\"black\" points=\"281.7,-5158.1 278.19,-5148.1 274.7,-5158.1 281.7,-5158.1\"/>\n</g>\n<!-- CACATGG&#45;&gt;ACATGGC -->\n<g id=\"edge116\" class=\"edge\">\n<title>CACATGG-&gt;ACATGGC</title>\n<path fill=\"none\" stroke=\"black\" d=\"M278.19,-5111.7C278.19,-5103.98 278.19,-5094.71 278.19,-5086.11\"/>\n<polygon fill=\"black\" stroke=\"black\" points=\"281.7,-5086.1 278.19,-5076.1 274.7,-5086.1 281.7,-5086.1\"/>\n</g>\n<!-- ACATAAT -->\n<g id=\"node54\" class=\"node\">\n<title>ACATAAT</title>\n<ellipse fill=\"none\" stroke=\"black\" cx=\"411.19\" cy=\"-4410\" rx=\"53.89\" ry=\"18\"/>\n<text text-anchor=\"middle\" x=\"411.19\" y=\"-4406.3\" font-family=\"Times,serif\" font-size=\"14.00\">ACATAAT</text>\n</g>\n<!-- CATAATT -->\n<g id=\"node55\" class=\"node\">\n<title>CATAATT</title>\n<ellipse fill=\"none\" stroke=\"black\" cx=\"411.19\" cy=\"-4338\" rx=\"53.89\" ry=\"18\"/>\n<text text-anchor=\"middle\" x=\"411.19\" y=\"-4334.3\" font-family=\"Times,serif\" font-size=\"14.00\">CATAATT</text>\n</g>\n<!-- ACATAAT&#45;&gt;CATAATT -->\n<g id=\"edge30\" class=\"edge\">\n<title>ACATAAT-&gt;CATAATT</title>\n<path fill=\"none\" stroke=\"black\" d=\"M411.19,-4391.7C411.19,-4383.98 411.19,-4374.71 411.19,-4366.11\"/>\n<polygon fill=\"black\" stroke=\"black\" points=\"414.7,-4366.1 411.19,-4356.1 407.7,-4366.1 414.7,-4366.1\"/>\n</g>\n<!-- CATAATT&#45;&gt;ATAATTT -->\n<g id=\"edge131\" class=\"edge\">\n<title>CATAATT-&gt;ATAATTT</title>\n<path fill=\"none\" stroke=\"black\" d=\"M411.19,-4319.7C411.19,-4311.98 411.19,-4302.71 411.19,-4294.11\"/>\n<polygon fill=\"black\" stroke=\"black\" points=\"414.7,-4294.1 411.19,-4284.1 407.7,-4294.1 414.7,-4294.1\"/>\n</g>\n<!-- CCTGTTG -->\n<g id=\"node77\" class=\"node\">\n<title>CCTGTTG</title>\n<ellipse fill=\"none\" stroke=\"black\" cx=\"413.19\" cy=\"-5706\" rx=\"57.69\" ry=\"18\"/>\n<text text-anchor=\"middle\" x=\"413.19\" y=\"-5702.3\" font-family=\"Times,serif\" font-size=\"14.00\">CCTGTTG</text>\n</g>\n<!-- ACCTGTT&#45;&gt;CCTGTTG -->\n<g id=\"edge103\" class=\"edge\">\n<title>ACCTGTT-&gt;CCTGTTG</title>\n<path fill=\"none\" stroke=\"black\" d=\"M413.95,-5759.7C413.84,-5751.98 413.71,-5742.71 413.58,-5734.11\"/>\n<polygon fill=\"black\" stroke=\"black\" points=\"417.08,-5734.05 413.44,-5724.1 410.08,-5734.15 417.08,-5734.05\"/>\n</g>\n<!-- GGTGTCG -->\n<g id=\"node58\" class=\"node\">\n<title>GGTGTCG</title>\n<ellipse fill=\"none\" stroke=\"black\" cx=\"233.19\" cy=\"-2970\" rx=\"58.49\" ry=\"18\"/>\n<text text-anchor=\"middle\" x=\"233.19\" y=\"-2966.3\" font-family=\"Times,serif\" font-size=\"14.00\">GGTGTCG</text>\n</g>\n<!-- AGGTGTC&#45;&gt;GGTGTCG -->\n<g id=\"edge32\" class=\"edge\">\n<title>AGGTGTC-&gt;GGTGTCG</title>\n<path fill=\"none\" stroke=\"black\" d=\"M266.54,-3024.05C261.36,-3015.8 255.01,-3005.7 249.25,-2996.54\"/>\n<polygon fill=\"black\" stroke=\"black\" points=\"252.03,-2994.39 243.75,-2987.79 246.11,-2998.12 252.03,-2994.39\"/>\n</g>\n<!-- GGTGTCG&#45;&gt;GTGTCGA -->\n<g id=\"edge104\" class=\"edge\">\n<title>GGTGTCG-&gt;GTGTCGA</title>\n<path fill=\"none\" stroke=\"black\" d=\"M224.7,-2988.01C212.42,-3014.18 191.19,-3066.21 191.19,-3113 191.19,-6571 191.19,-6571 191.19,-6571 191.19,-6613.02 173.4,-6659.02 160.44,-6686.95\"/>\n<polygon fill=\"black\" stroke=\"black\" points=\"157.25,-6685.51 156.1,-6696.04 163.57,-6688.53 157.25,-6685.51\"/>\n</g>\n<!-- GGCCCCA -->\n<g id=\"node59\" class=\"node\">\n<title>GGCCCCA</title>\n<ellipse fill=\"none\" stroke=\"black\" cx=\"278.19\" cy=\"-4770\" rx=\"59.29\" ry=\"18\"/>\n<text text-anchor=\"middle\" x=\"278.19\" y=\"-4766.3\" font-family=\"Times,serif\" font-size=\"14.00\">GGCCCCA</text>\n</g>\n<!-- GCCCCAC -->\n<g id=\"node60\" class=\"node\">\n<title>GCCCCAC</title>\n<ellipse fill=\"none\" stroke=\"black\" cx=\"278.19\" cy=\"-4698\" rx=\"58.49\" ry=\"18\"/>\n<text text-anchor=\"middle\" x=\"278.19\" y=\"-4694.3\" font-family=\"Times,serif\" font-size=\"14.00\">GCCCCAC</text>\n</g>\n<!-- GGCCCCA&#45;&gt;GCCCCAC -->\n<g id=\"edge33\" class=\"edge\">\n<title>GGCCCCA-&gt;GCCCCAC</title>\n<path fill=\"none\" stroke=\"black\" d=\"M278.19,-4751.7C278.19,-4743.98 278.19,-4734.71 278.19,-4726.11\"/>\n<polygon fill=\"black\" stroke=\"black\" points=\"281.7,-4726.1 278.19,-4716.1 274.7,-4726.1 281.7,-4726.1\"/>\n</g>\n<!-- CCCCACC -->\n<g id=\"node76\" class=\"node\">\n<title>CCCCACC</title>\n<ellipse fill=\"none\" stroke=\"black\" cx=\"278.19\" cy=\"-4626\" rx=\"57.69\" ry=\"18\"/>\n<text text-anchor=\"middle\" x=\"278.19\" y=\"-4622.3\" font-family=\"Times,serif\" font-size=\"14.00\">CCCCACC</text>\n</g>\n<!-- GCCCCAC&#45;&gt;CCCCACC -->\n<g id=\"edge42\" class=\"edge\">\n<title>GCCCCAC-&gt;CCCCACC</title>\n<path fill=\"none\" stroke=\"black\" d=\"M278.19,-4679.7C278.19,-4671.98 278.19,-4662.71 278.19,-4654.11\"/>\n<polygon fill=\"black\" stroke=\"black\" points=\"281.7,-4654.1 278.19,-4644.1 274.7,-4654.1 281.7,-4654.1\"/>\n</g>\n<!-- CGATGGT -->\n<g id=\"node61\" class=\"node\">\n<title>CGATGGT</title>\n<ellipse fill=\"none\" stroke=\"black\" cx=\"428.19\" cy=\"-6426\" rx=\"57.69\" ry=\"18\"/>\n<text text-anchor=\"middle\" x=\"428.19\" y=\"-6422.3\" font-family=\"Times,serif\" font-size=\"14.00\">CGATGGT</text>\n</g>\n<!-- GATGGTA -->\n<g id=\"node62\" class=\"node\">\n<title>GATGGTA</title>\n<ellipse fill=\"none\" stroke=\"black\" cx=\"420.19\" cy=\"-6354\" rx=\"57.39\" ry=\"18\"/>\n<text text-anchor=\"middle\" x=\"420.19\" y=\"-6350.3\" font-family=\"Times,serif\" font-size=\"14.00\">GATGGTA</text>\n</g>\n<!-- CGATGGT&#45;&gt;GATGGTA -->\n<g id=\"edge34\" class=\"edge\">\n<title>CGATGGT-&gt;GATGGTA</title>\n<path fill=\"none\" stroke=\"black\" d=\"M426.22,-6407.7C425.34,-6399.98 424.28,-6390.71 423.29,-6382.11\"/>\n<polygon fill=\"black\" stroke=\"black\" points=\"426.76,-6381.64 422.15,-6372.1 419.81,-6382.44 426.76,-6381.64\"/>\n</g>\n<!-- ATGGTAA -->\n<g id=\"node166\" class=\"node\">\n<title>ATGGTAA</title>\n<ellipse fill=\"none\" stroke=\"black\" cx=\"416.19\" cy=\"-6282\" rx=\"55.79\" ry=\"18\"/>\n<text text-anchor=\"middle\" x=\"416.19\" y=\"-6278.3\" font-family=\"Times,serif\" font-size=\"14.00\">ATGGTAA</text>\n</g>\n<!-- GATGGTA&#45;&gt;ATGGTAA -->\n<g id=\"edge144\" class=\"edge\">\n<title>GATGGTA-&gt;ATGGTAA</title>\n<path fill=\"none\" stroke=\"black\" d=\"M419.21,-6335.7C418.77,-6327.98 418.24,-6318.71 417.74,-6310.11\"/>\n<polygon fill=\"black\" stroke=\"black\" points=\"421.24,-6309.89 417.17,-6300.1 414.25,-6310.29 421.24,-6309.89\"/>\n</g>\n<!-- TGATAGG -->\n<g id=\"node63\" class=\"node\">\n<title>TGATAGG</title>\n<ellipse fill=\"none\" stroke=\"black\" cx=\"104.19\" cy=\"-6138\" rx=\"56.59\" ry=\"18\"/>\n<text text-anchor=\"middle\" x=\"104.19\" y=\"-6134.3\" font-family=\"Times,serif\" font-size=\"14.00\">TGATAGG</text>\n</g>\n<!-- GATAGGT -->\n<g id=\"node64\" class=\"node\">\n<title>GATAGGT</title>\n<ellipse fill=\"none\" stroke=\"black\" cx=\"104.19\" cy=\"-6066\" rx=\"56.59\" ry=\"18\"/>\n<text text-anchor=\"middle\" x=\"104.19\" y=\"-6062.3\" font-family=\"Times,serif\" font-size=\"14.00\">GATAGGT</text>\n</g>\n<!-- TGATAGG&#45;&gt;GATAGGT -->\n<g id=\"edge35\" class=\"edge\">\n<title>TGATAGG-&gt;GATAGGT</title>\n<path fill=\"none\" stroke=\"black\" d=\"M104.19,-6119.7C104.19,-6111.98 104.19,-6102.71 104.19,-6094.11\"/>\n<polygon fill=\"black\" stroke=\"black\" points=\"107.7,-6094.1 104.19,-6084.1 100.7,-6094.1 107.7,-6094.1\"/>\n</g>\n<!-- ATAGGTG -->\n<g id=\"node88\" class=\"node\">\n<title>ATAGGTG</title>\n<ellipse fill=\"none\" stroke=\"black\" cx=\"104.19\" cy=\"-5994\" rx=\"56.59\" ry=\"18\"/>\n<text text-anchor=\"middle\" x=\"104.19\" y=\"-5990.3\" font-family=\"Times,serif\" font-size=\"14.00\">ATAGGTG</text>\n</g>\n<!-- GATAGGT&#45;&gt;ATAGGTG -->\n<g id=\"edge50\" class=\"edge\">\n<title>GATAGGT-&gt;ATAGGTG</title>\n<path fill=\"none\" stroke=\"black\" d=\"M104.19,-6047.7C104.19,-6039.98 104.19,-6030.71 104.19,-6022.11\"/>\n<polygon fill=\"black\" stroke=\"black\" points=\"107.7,-6022.1 104.19,-6012.1 100.7,-6022.1 107.7,-6022.1\"/>\n</g>\n<!-- TCGTACA -->\n<g id=\"node65\" class=\"node\">\n<title>TCGTACA</title>\n<ellipse fill=\"none\" stroke=\"black\" cx=\"344.19\" cy=\"-3474\" rx=\"55.79\" ry=\"18\"/>\n<text text-anchor=\"middle\" x=\"344.19\" y=\"-3470.3\" font-family=\"Times,serif\" font-size=\"14.00\">TCGTACA</text>\n</g>\n<!-- CGTACAT -->\n<g id=\"node66\" class=\"node\">\n<title>CGTACAT</title>\n<ellipse fill=\"none\" stroke=\"black\" cx=\"410.19\" cy=\"-3402\" rx=\"55.79\" ry=\"18\"/>\n<text text-anchor=\"middle\" x=\"410.19\" y=\"-3398.3\" font-family=\"Times,serif\" font-size=\"14.00\">CGTACAT</text>\n</g>\n<!-- TCGTACA&#45;&gt;CGTACAT -->\n<g id=\"edge36\" class=\"edge\">\n<title>TCGTACA-&gt;CGTACAT</title>\n<path fill=\"none\" stroke=\"black\" d=\"M359.84,-3456.41C368.14,-3447.61 378.49,-3436.63 387.64,-3426.92\"/>\n<polygon fill=\"black\" stroke=\"black\" points=\"390.35,-3429.15 394.67,-3419.47 385.26,-3424.34 390.35,-3429.15\"/>\n</g>\n<!-- CGTACAG -->\n<g id=\"node188\" class=\"node\">\n<title>CGTACAG</title>\n<ellipse fill=\"none\" stroke=\"black\" cx=\"278.19\" cy=\"-3402\" rx=\"57.69\" ry=\"18\"/>\n<text text-anchor=\"middle\" x=\"278.19\" y=\"-3398.3\" font-family=\"Times,serif\" font-size=\"14.00\">CGTACAG</text>\n</g>\n<!-- TCGTACA&#45;&gt;CGTACAG -->\n<g id=\"edge188\" class=\"edge\">\n<title>TCGTACA-&gt;CGTACAG</title>\n<path fill=\"none\" stroke=\"black\" d=\"M328.55,-3456.41C320.25,-3447.61 309.9,-3436.63 300.75,-3426.92\"/>\n<polygon fill=\"black\" stroke=\"black\" points=\"303.13,-3424.34 293.72,-3419.47 298.04,-3429.15 303.13,-3424.34\"/>\n</g>\n<!-- CGTACAT&#45;&gt;GTACATC -->\n<g id=\"edge177\" class=\"edge\">\n<title>CGTACAT-&gt;GTACATC</title>\n<path fill=\"none\" stroke=\"black\" d=\"M410.19,-3383.7C410.19,-3375.98 410.19,-3366.71 410.19,-3358.11\"/>\n<polygon fill=\"black\" stroke=\"black\" points=\"413.7,-3358.1 410.19,-3348.1 406.7,-3358.1 413.7,-3358.1\"/>\n</g>\n<!-- CCACGTA -->\n<g id=\"node67\" class=\"node\">\n<title>CCACGTA</title>\n<ellipse fill=\"none\" stroke=\"black\" cx=\"279.19\" cy=\"-4266\" rx=\"57.39\" ry=\"18\"/>\n<text text-anchor=\"middle\" x=\"279.19\" y=\"-4262.3\" font-family=\"Times,serif\" font-size=\"14.00\">CCACGTA</text>\n</g>\n<!-- CACGTAT -->\n<g id=\"node68\" class=\"node\">\n<title>CACGTAT</title>\n<ellipse fill=\"none\" stroke=\"black\" cx=\"279.19\" cy=\"-4194\" rx=\"55.79\" ry=\"18\"/>\n<text text-anchor=\"middle\" x=\"279.19\" y=\"-4190.3\" font-family=\"Times,serif\" font-size=\"14.00\">CACGTAT</text>\n</g>\n<!-- CCACGTA&#45;&gt;CACGTAT -->\n<g id=\"edge37\" class=\"edge\">\n<title>CCACGTA-&gt;CACGTAT</title>\n<path fill=\"none\" stroke=\"black\" d=\"M279.19,-4247.7C279.19,-4239.98 279.19,-4230.71 279.19,-4222.11\"/>\n<polygon fill=\"black\" stroke=\"black\" points=\"282.7,-4222.1 279.19,-4212.1 275.7,-4222.1 282.7,-4222.1\"/>\n</g>\n<!-- ACGTATC -->\n<g id=\"node184\" class=\"node\">\n<title>ACGTATC</title>\n<ellipse fill=\"none\" stroke=\"black\" cx=\"279.19\" cy=\"-4122\" rx=\"55.79\" ry=\"18\"/>\n<text text-anchor=\"middle\" x=\"279.19\" y=\"-4118.3\" font-family=\"Times,serif\" font-size=\"14.00\">ACGTATC</text>\n</g>\n<!-- CACGTAT&#45;&gt;ACGTATC -->\n<g id=\"edge150\" class=\"edge\">\n<title>CACGTAT-&gt;ACGTATC</title>\n<path fill=\"none\" stroke=\"black\" d=\"M279.19,-4175.7C279.19,-4167.98 279.19,-4158.71 279.19,-4150.11\"/>\n<polygon fill=\"black\" stroke=\"black\" points=\"282.7,-4150.1 279.19,-4140.1 275.7,-4150.1 282.7,-4150.1\"/>\n</g>\n<!-- GTCGATG -->\n<g id=\"node69\" class=\"node\">\n<title>GTCGATG</title>\n<ellipse fill=\"none\" stroke=\"black\" cx=\"353.19\" cy=\"-6570\" rx=\"57.69\" ry=\"18\"/>\n<text text-anchor=\"middle\" x=\"353.19\" y=\"-6566.3\" font-family=\"Times,serif\" font-size=\"14.00\">GTCGATG</text>\n</g>\n<!-- TCGATGG -->\n<g id=\"node70\" class=\"node\">\n<title>TCGATGG</title>\n<ellipse fill=\"none\" stroke=\"black\" cx=\"429.19\" cy=\"-6498\" rx=\"57.69\" ry=\"18\"/>\n<text text-anchor=\"middle\" x=\"429.19\" y=\"-6494.3\" font-family=\"Times,serif\" font-size=\"14.00\">TCGATGG</text>\n</g>\n<!-- GTCGATG&#45;&gt;TCGATGG -->\n<g id=\"edge38\" class=\"edge\">\n<title>GTCGATG-&gt;TCGATGG</title>\n<path fill=\"none\" stroke=\"black\" d=\"M370.82,-6552.76C380.63,-6543.73 393.01,-6532.33 403.84,-6522.35\"/>\n<polygon fill=\"black\" stroke=\"black\" points=\"406.42,-6524.74 411.4,-6515.39 401.67,-6519.59 406.42,-6524.74\"/>\n</g>\n<!-- TCGATGG&#45;&gt;CGATGGT -->\n<g id=\"edge159\" class=\"edge\">\n<title>TCGATGG-&gt;CGATGGT</title>\n<path fill=\"none\" stroke=\"black\" d=\"M428.95,-6479.7C428.84,-6471.98 428.71,-6462.71 428.58,-6454.11\"/>\n<polygon fill=\"black\" stroke=\"black\" points=\"432.08,-6454.05 428.44,-6444.1 425.08,-6454.15 432.08,-6454.05\"/>\n</g>\n<!-- ATTGTGT -->\n<g id=\"node72\" class=\"node\">\n<title>ATTGTGT</title>\n<ellipse fill=\"none\" stroke=\"black\" cx=\"100.19\" cy=\"-162\" rx=\"55.79\" ry=\"18\"/>\n<text text-anchor=\"middle\" x=\"100.19\" y=\"-158.3\" font-family=\"Times,serif\" font-size=\"14.00\">ATTGTGT</text>\n</g>\n<!-- GATTGTG&#45;&gt;ATTGTGT -->\n<g id=\"edge39\" class=\"edge\">\n<title>GATTGTG-&gt;ATTGTGT</title>\n<path fill=\"none\" stroke=\"black\" d=\"M100.19,-215.7C100.19,-207.98 100.19,-198.71 100.19,-190.11\"/>\n<polygon fill=\"black\" stroke=\"black\" points=\"103.7,-190.1 100.19,-180.1 96.7,-190.1 103.7,-190.1\"/>\n</g>\n<!-- ATTGTGT&#45;&gt;TTGTGTC -->\n<g id=\"edge72\" class=\"edge\">\n<title>ATTGTGT-&gt;TTGTGTC</title>\n<path fill=\"none\" stroke=\"black\" d=\"M100.19,-143.7C100.19,-135.98 100.19,-126.71 100.19,-118.11\"/>\n<polygon fill=\"black\" stroke=\"black\" points=\"103.7,-118.1 100.19,-108.1 96.7,-118.1 103.7,-118.1\"/>\n</g>\n<!-- GGCCACA -->\n<g id=\"node73\" class=\"node\">\n<title>GGCCACA</title>\n<ellipse fill=\"none\" stroke=\"black\" cx=\"413.19\" cy=\"-4698\" rx=\"58.49\" ry=\"18\"/>\n<text text-anchor=\"middle\" x=\"413.19\" y=\"-4694.3\" font-family=\"Times,serif\" font-size=\"14.00\">GGCCACA</text>\n</g>\n<!-- GCCACAT -->\n<g id=\"node74\" class=\"node\">\n<title>GCCACAT</title>\n<ellipse fill=\"none\" stroke=\"black\" cx=\"412.19\" cy=\"-4626\" rx=\"57.39\" ry=\"18\"/>\n<text text-anchor=\"middle\" x=\"412.19\" y=\"-4622.3\" font-family=\"Times,serif\" font-size=\"14.00\">GCCACAT</text>\n</g>\n<!-- GGCCACA&#45;&gt;GCCACAT -->\n<g id=\"edge40\" class=\"edge\">\n<title>GGCCACA-&gt;GCCACAT</title>\n<path fill=\"none\" stroke=\"black\" d=\"M412.95,-4679.7C412.84,-4671.98 412.71,-4662.71 412.58,-4654.11\"/>\n<polygon fill=\"black\" stroke=\"black\" points=\"416.08,-4654.05 412.44,-4644.1 409.08,-4654.15 416.08,-4654.05\"/>\n</g>\n<!-- CCACATA -->\n<g id=\"node142\" class=\"node\">\n<title>CCACATA</title>\n<ellipse fill=\"none\" stroke=\"black\" cx=\"411.19\" cy=\"-4554\" rx=\"55.79\" ry=\"18\"/>\n<text text-anchor=\"middle\" x=\"411.19\" y=\"-4550.3\" font-family=\"Times,serif\" font-size=\"14.00\">CCACATA</text>\n</g>\n<!-- GCCACAT&#45;&gt;CCACATA -->\n<g id=\"edge172\" class=\"edge\">\n<title>GCCACAT-&gt;CCACATA</title>\n<path fill=\"none\" stroke=\"black\" d=\"M411.95,-4607.7C411.84,-4599.98 411.71,-4590.71 411.58,-4582.11\"/>\n<polygon fill=\"black\" stroke=\"black\" points=\"415.08,-4582.05 411.44,-4572.1 408.08,-4582.15 415.08,-4582.05\"/>\n</g>\n<!-- CCTACCG -->\n<g id=\"node75\" class=\"node\">\n<title>CCTACCG</title>\n<ellipse fill=\"none\" stroke=\"black\" cx=\"277.19\" cy=\"-6498\" rx=\"57.69\" ry=\"18\"/>\n<text text-anchor=\"middle\" x=\"277.19\" y=\"-6494.3\" font-family=\"Times,serif\" font-size=\"14.00\">CCTACCG</text>\n</g>\n<!-- CCTACCG&#45;&gt;CCTACCG -->\n<g id=\"edge41\" class=\"edge\">\n<title>CCTACCG-&gt;CCTACCG</title>\n<path fill=\"none\" stroke=\"black\" d=\"M317,-6511.17C336.14,-6512.8 353.04,-6508.41 353.04,-6498 353.04,-6489.46 341.67,-6484.98 327.01,-6484.54\"/>\n<polygon fill=\"black\" stroke=\"black\" points=\"326.89,-6481.04 317,-6484.83 327.09,-6488.03 326.89,-6481.04\"/>\n</g>\n<!-- CTACCGA -->\n<g id=\"node191\" class=\"node\">\n<title>CTACCGA</title>\n<ellipse fill=\"none\" stroke=\"black\" cx=\"277.19\" cy=\"-6426\" rx=\"57.39\" ry=\"18\"/>\n<text text-anchor=\"middle\" x=\"277.19\" y=\"-6422.3\" font-family=\"Times,serif\" font-size=\"14.00\">CTACCGA</text>\n</g>\n<!-- CCTACCG&#45;&gt;CTACCGA -->\n<g id=\"edge194\" class=\"edge\">\n<title>CCTACCG-&gt;CTACCGA</title>\n<path fill=\"none\" stroke=\"black\" d=\"M277.19,-6479.7C277.19,-6471.98 277.19,-6462.71 277.19,-6454.11\"/>\n<polygon fill=\"black\" stroke=\"black\" points=\"280.7,-6454.1 277.19,-6444.1 273.7,-6454.1 280.7,-6454.1\"/>\n</g>\n<!-- CCCCACC&#45;&gt;CCCACCA -->\n<g id=\"edge190\" class=\"edge\">\n<title>CCCCACC-&gt;CCCACCA</title>\n<path fill=\"none\" stroke=\"black\" d=\"M278.19,-4607.7C278.19,-4599.98 278.19,-4590.71 278.19,-4582.11\"/>\n<polygon fill=\"black\" stroke=\"black\" points=\"281.7,-4582.1 278.19,-4572.1 274.7,-4582.1 281.7,-4582.1\"/>\n</g>\n<!-- CTGTTGA -->\n<g id=\"node78\" class=\"node\">\n<title>CTGTTGA</title>\n<ellipse fill=\"none\" stroke=\"black\" cx=\"413.19\" cy=\"-5634\" rx=\"57.39\" ry=\"18\"/>\n<text text-anchor=\"middle\" x=\"413.19\" y=\"-5630.3\" font-family=\"Times,serif\" font-size=\"14.00\">CTGTTGA</text>\n</g>\n<!-- CCTGTTG&#45;&gt;CTGTTGA -->\n<g id=\"edge44\" class=\"edge\">\n<title>CCTGTTG-&gt;CTGTTGA</title>\n<path fill=\"none\" stroke=\"black\" d=\"M413.19,-5687.7C413.19,-5679.98 413.19,-5670.71 413.19,-5662.11\"/>\n<polygon fill=\"black\" stroke=\"black\" points=\"416.7,-5662.1 413.19,-5652.1 409.7,-5662.1 416.7,-5662.1\"/>\n</g>\n<!-- TGTTGAT -->\n<g id=\"node93\" class=\"node\">\n<title>TGTTGAT</title>\n<ellipse fill=\"none\" stroke=\"black\" cx=\"413.19\" cy=\"-5562\" rx=\"55.79\" ry=\"18\"/>\n<text text-anchor=\"middle\" x=\"413.19\" y=\"-5558.3\" font-family=\"Times,serif\" font-size=\"14.00\">TGTTGAT</text>\n</g>\n<!-- CTGTTGA&#45;&gt;TGTTGAT -->\n<g id=\"edge75\" class=\"edge\">\n<title>CTGTTGA-&gt;TGTTGAT</title>\n<path fill=\"none\" stroke=\"black\" d=\"M413.19,-5615.7C413.19,-5607.98 413.19,-5598.71 413.19,-5590.11\"/>\n<polygon fill=\"black\" stroke=\"black\" points=\"416.7,-5590.1 413.19,-5580.1 409.7,-5590.1 416.7,-5590.1\"/>\n</g>\n<!-- GTGTTAT -->\n<g id=\"node79\" class=\"node\">\n<title>GTGTTAT</title>\n<ellipse fill=\"none\" stroke=\"black\" cx=\"109.19\" cy=\"-2034\" rx=\"55.49\" ry=\"18\"/>\n<text text-anchor=\"middle\" x=\"109.19\" y=\"-2030.3\" font-family=\"Times,serif\" font-size=\"14.00\">GTGTTAT</text>\n</g>\n<!-- TGTTATG -->\n<g id=\"node80\" class=\"node\">\n<title>TGTTATG</title>\n<ellipse fill=\"none\" stroke=\"black\" cx=\"109.19\" cy=\"-1962\" rx=\"55.49\" ry=\"18\"/>\n<text text-anchor=\"middle\" x=\"109.19\" y=\"-1958.3\" font-family=\"Times,serif\" font-size=\"14.00\">TGTTATG</text>\n</g>\n<!-- GTGTTAT&#45;&gt;TGTTATG -->\n<g id=\"edge45\" class=\"edge\">\n<title>GTGTTAT-&gt;TGTTATG</title>\n<path fill=\"none\" stroke=\"black\" d=\"M109.19,-2015.7C109.19,-2007.98 109.19,-1998.71 109.19,-1990.11\"/>\n<polygon fill=\"black\" stroke=\"black\" points=\"112.7,-1990.1 109.19,-1980.1 105.7,-1990.1 112.7,-1990.1\"/>\n</g>\n<!-- GTTATGC -->\n<g id=\"node138\" class=\"node\">\n<title>GTTATGC</title>\n<ellipse fill=\"none\" stroke=\"black\" cx=\"109.19\" cy=\"-1890\" rx=\"55.79\" ry=\"18\"/>\n<text text-anchor=\"middle\" x=\"109.19\" y=\"-1886.3\" font-family=\"Times,serif\" font-size=\"14.00\">GTTATGC</text>\n</g>\n<!-- TGTTATG&#45;&gt;GTTATGC -->\n<g id=\"edge109\" class=\"edge\">\n<title>TGTTATG-&gt;GTTATGC</title>\n<path fill=\"none\" stroke=\"black\" d=\"M109.19,-1943.7C109.19,-1935.98 109.19,-1926.71 109.19,-1918.11\"/>\n<polygon fill=\"black\" stroke=\"black\" points=\"112.7,-1918.1 109.19,-1908.1 105.7,-1918.1 112.7,-1918.1\"/>\n</g>\n<!-- TGACTCG -->\n<g id=\"node82\" class=\"node\">\n<title>TGACTCG</title>\n<ellipse fill=\"none\" stroke=\"black\" cx=\"104.19\" cy=\"-5634\" rx=\"57.39\" ry=\"18\"/>\n<text text-anchor=\"middle\" x=\"104.19\" y=\"-5630.3\" font-family=\"Times,serif\" font-size=\"14.00\">TGACTCG</text>\n</g>\n<!-- GTGACTC&#45;&gt;TGACTCG -->\n<g id=\"edge46\" class=\"edge\">\n<title>GTGACTC-&gt;TGACTCG</title>\n<path fill=\"none\" stroke=\"black\" d=\"M104.19,-5687.7C104.19,-5679.98 104.19,-5670.71 104.19,-5662.11\"/>\n<polygon fill=\"black\" stroke=\"black\" points=\"107.7,-5662.1 104.19,-5652.1 100.7,-5662.1 107.7,-5662.1\"/>\n</g>\n<!-- TGACTCG&#45;&gt;GACTCGG -->\n<g id=\"edge91\" class=\"edge\">\n<title>TGACTCG-&gt;GACTCGG</title>\n<path fill=\"none\" stroke=\"black\" d=\"M104.19,-5615.7C104.19,-5607.98 104.19,-5598.71 104.19,-5590.11\"/>\n<polygon fill=\"black\" stroke=\"black\" points=\"107.7,-5590.1 104.19,-5580.1 100.7,-5590.1 107.7,-5590.1\"/>\n</g>\n<!-- GAGTGAT -->\n<g id=\"node84\" class=\"node\">\n<title>GAGTGAT</title>\n<ellipse fill=\"none\" stroke=\"black\" cx=\"104.19\" cy=\"-6354\" rx=\"57.39\" ry=\"18\"/>\n<text text-anchor=\"middle\" x=\"104.19\" y=\"-6350.3\" font-family=\"Times,serif\" font-size=\"14.00\">GAGTGAT</text>\n</g>\n<!-- AGTGATA -->\n<g id=\"node85\" class=\"node\">\n<title>AGTGATA</title>\n<ellipse fill=\"none\" stroke=\"black\" cx=\"104.19\" cy=\"-6282\" rx=\"55.79\" ry=\"18\"/>\n<text text-anchor=\"middle\" x=\"104.19\" y=\"-6278.3\" font-family=\"Times,serif\" font-size=\"14.00\">AGTGATA</text>\n</g>\n<!-- GAGTGAT&#45;&gt;AGTGATA -->\n<g id=\"edge48\" class=\"edge\">\n<title>GAGTGAT-&gt;AGTGATA</title>\n<path fill=\"none\" stroke=\"black\" d=\"M104.19,-6335.7C104.19,-6327.98 104.19,-6318.71 104.19,-6310.11\"/>\n<polygon fill=\"black\" stroke=\"black\" points=\"107.7,-6310.1 104.19,-6300.1 100.7,-6310.1 107.7,-6310.1\"/>\n</g>\n<!-- GTGATAG -->\n<g id=\"node126\" class=\"node\">\n<title>GTGATAG</title>\n<ellipse fill=\"none\" stroke=\"black\" cx=\"104.19\" cy=\"-6210\" rx=\"56.59\" ry=\"18\"/>\n<text text-anchor=\"middle\" x=\"104.19\" y=\"-6206.3\" font-family=\"Times,serif\" font-size=\"14.00\">GTGATAG</text>\n</g>\n<!-- AGTGATA&#45;&gt;GTGATAG -->\n<g id=\"edge78\" class=\"edge\">\n<title>AGTGATA-&gt;GTGATAG</title>\n<path fill=\"none\" stroke=\"black\" d=\"M104.19,-6263.7C104.19,-6255.98 104.19,-6246.71 104.19,-6238.11\"/>\n<polygon fill=\"black\" stroke=\"black\" points=\"107.7,-6238.1 104.19,-6228.1 100.7,-6238.1 107.7,-6238.1\"/>\n</g>\n<!-- GGAGGAT -->\n<g id=\"node86\" class=\"node\">\n<title>GGAGGAT</title>\n<ellipse fill=\"none\" stroke=\"black\" cx=\"103.19\" cy=\"-5202\" rx=\"58.49\" ry=\"18\"/>\n<text text-anchor=\"middle\" x=\"103.19\" y=\"-5198.3\" font-family=\"Times,serif\" font-size=\"14.00\">GGAGGAT</text>\n</g>\n<!-- GAGGATC -->\n<g id=\"node87\" class=\"node\">\n<title>GAGGATC</title>\n<ellipse fill=\"none\" stroke=\"black\" cx=\"103.19\" cy=\"-5130\" rx=\"57.69\" ry=\"18\"/>\n<text text-anchor=\"middle\" x=\"103.19\" y=\"-5126.3\" font-family=\"Times,serif\" font-size=\"14.00\">GAGGATC</text>\n</g>\n<!-- GGAGGAT&#45;&gt;GAGGATC -->\n<g id=\"edge49\" class=\"edge\">\n<title>GGAGGAT-&gt;GAGGATC</title>\n<path fill=\"none\" stroke=\"black\" d=\"M103.19,-5183.7C103.19,-5175.98 103.19,-5166.71 103.19,-5158.11\"/>\n<polygon fill=\"black\" stroke=\"black\" points=\"106.7,-5158.1 103.19,-5148.1 99.7,-5158.1 106.7,-5158.1\"/>\n</g>\n<!-- AGGATCA -->\n<g id=\"node190\" class=\"node\">\n<title>AGGATCA</title>\n<ellipse fill=\"none\" stroke=\"black\" cx=\"103.19\" cy=\"-5058\" rx=\"57.39\" ry=\"18\"/>\n<text text-anchor=\"middle\" x=\"103.19\" y=\"-5054.3\" font-family=\"Times,serif\" font-size=\"14.00\">AGGATCA</text>\n</g>\n<!-- GAGGATC&#45;&gt;AGGATCA -->\n<g id=\"edge175\" class=\"edge\">\n<title>GAGGATC-&gt;AGGATCA</title>\n<path fill=\"none\" stroke=\"black\" d=\"M103.19,-5111.7C103.19,-5103.98 103.19,-5094.71 103.19,-5086.11\"/>\n<polygon fill=\"black\" stroke=\"black\" points=\"106.7,-5086.1 103.19,-5076.1 99.7,-5086.1 106.7,-5086.1\"/>\n</g>\n<!-- ATAGGTG&#45;&gt;TAGGTGA -->\n<g id=\"edge123\" class=\"edge\">\n<title>ATAGGTG-&gt;TAGGTGA</title>\n<path fill=\"none\" stroke=\"black\" d=\"M104.19,-5975.7C104.19,-5967.98 104.19,-5958.71 104.19,-5950.11\"/>\n<polygon fill=\"black\" stroke=\"black\" points=\"107.7,-5950.1 104.19,-5940.1 100.7,-5950.1 107.7,-5950.1\"/>\n</g>\n<!-- TACCGAC -->\n<g id=\"node89\" class=\"node\">\n<title>TACCGAC</title>\n<ellipse fill=\"none\" stroke=\"black\" cx=\"277.19\" cy=\"-6354\" rx=\"57.39\" ry=\"18\"/>\n<text text-anchor=\"middle\" x=\"277.19\" y=\"-6350.3\" font-family=\"Times,serif\" font-size=\"14.00\">TACCGAC</text>\n</g>\n<!-- ACCGACG -->\n<g id=\"node90\" class=\"node\">\n<title>ACCGACG</title>\n<ellipse fill=\"none\" stroke=\"black\" cx=\"277.19\" cy=\"-6282\" rx=\"58.49\" ry=\"18\"/>\n<text text-anchor=\"middle\" x=\"277.19\" y=\"-6278.3\" font-family=\"Times,serif\" font-size=\"14.00\">ACCGACG</text>\n</g>\n<!-- TACCGAC&#45;&gt;ACCGACG -->\n<g id=\"edge51\" class=\"edge\">\n<title>TACCGAC-&gt;ACCGACG</title>\n<path fill=\"none\" stroke=\"black\" d=\"M277.19,-6335.7C277.19,-6327.98 277.19,-6318.71 277.19,-6310.11\"/>\n<polygon fill=\"black\" stroke=\"black\" points=\"280.7,-6310.1 277.19,-6300.1 273.7,-6310.1 280.7,-6310.1\"/>\n</g>\n<!-- CCGACGA -->\n<g id=\"node139\" class=\"node\">\n<title>CCGACGA</title>\n<ellipse fill=\"none\" stroke=\"black\" cx=\"277.19\" cy=\"-6210\" rx=\"58.49\" ry=\"18\"/>\n<text text-anchor=\"middle\" x=\"277.19\" y=\"-6206.3\" font-family=\"Times,serif\" font-size=\"14.00\">CCGACGA</text>\n</g>\n<!-- ACCGACG&#45;&gt;CCGACGA -->\n<g id=\"edge164\" class=\"edge\">\n<title>ACCGACG-&gt;CCGACGA</title>\n<path fill=\"none\" stroke=\"black\" d=\"M277.19,-6263.7C277.19,-6255.98 277.19,-6246.71 277.19,-6238.11\"/>\n<polygon fill=\"black\" stroke=\"black\" points=\"280.7,-6238.1 277.19,-6228.1 273.7,-6238.1 280.7,-6238.1\"/>\n</g>\n<!-- CATAGGG -->\n<g id=\"node91\" class=\"node\">\n<title>CATAGGG</title>\n<ellipse fill=\"none\" stroke=\"black\" cx=\"101.19\" cy=\"-738\" rx=\"57.69\" ry=\"18\"/>\n<text text-anchor=\"middle\" x=\"101.19\" y=\"-734.3\" font-family=\"Times,serif\" font-size=\"14.00\">CATAGGG</text>\n</g>\n<!-- ATAGGGG -->\n<g id=\"node92\" class=\"node\">\n<title>ATAGGGG</title>\n<ellipse fill=\"none\" stroke=\"black\" cx=\"101.19\" cy=\"-666\" rx=\"57.69\" ry=\"18\"/>\n<text text-anchor=\"middle\" x=\"101.19\" y=\"-662.3\" font-family=\"Times,serif\" font-size=\"14.00\">ATAGGGG</text>\n</g>\n<!-- CATAGGG&#45;&gt;ATAGGGG -->\n<g id=\"edge52\" class=\"edge\">\n<title>CATAGGG-&gt;ATAGGGG</title>\n<path fill=\"none\" stroke=\"black\" d=\"M101.19,-719.7C101.19,-711.98 101.19,-702.71 101.19,-694.11\"/>\n<polygon fill=\"black\" stroke=\"black\" points=\"104.7,-694.1 101.19,-684.1 97.7,-694.1 104.7,-694.1\"/>\n</g>\n<!-- ATAGGGG&#45;&gt;TAGGGGA -->\n<g id=\"edge74\" class=\"edge\">\n<title>ATAGGGG-&gt;TAGGGGA</title>\n<path fill=\"none\" stroke=\"black\" d=\"M101.19,-647.7C101.19,-639.98 101.19,-630.71 101.19,-622.11\"/>\n<polygon fill=\"black\" stroke=\"black\" points=\"104.7,-622.1 101.19,-612.1 97.7,-622.1 104.7,-622.1\"/>\n</g>\n<!-- GTTGATA -->\n<g id=\"node94\" class=\"node\">\n<title>GTTGATA</title>\n<ellipse fill=\"none\" stroke=\"black\" cx=\"413.19\" cy=\"-5490\" rx=\"55.79\" ry=\"18\"/>\n<text text-anchor=\"middle\" x=\"413.19\" y=\"-5486.3\" font-family=\"Times,serif\" font-size=\"14.00\">GTTGATA</text>\n</g>\n<!-- TGTTGAT&#45;&gt;GTTGATA -->\n<g id=\"edge53\" class=\"edge\">\n<title>TGTTGAT-&gt;GTTGATA</title>\n<path fill=\"none\" stroke=\"black\" d=\"M413.19,-5543.7C413.19,-5535.98 413.19,-5526.71 413.19,-5518.11\"/>\n<polygon fill=\"black\" stroke=\"black\" points=\"416.7,-5518.1 413.19,-5508.1 409.7,-5518.1 416.7,-5518.1\"/>\n</g>\n<!-- TTGATAA -->\n<g id=\"node99\" class=\"node\">\n<title>TTGATAA</title>\n<ellipse fill=\"none\" stroke=\"black\" cx=\"413.19\" cy=\"-5418\" rx=\"55.49\" ry=\"18\"/>\n<text text-anchor=\"middle\" x=\"413.19\" y=\"-5414.3\" font-family=\"Times,serif\" font-size=\"14.00\">TTGATAA</text>\n</g>\n<!-- GTTGATA&#45;&gt;TTGATAA -->\n<g id=\"edge57\" class=\"edge\">\n<title>GTTGATA-&gt;TTGATAA</title>\n<path fill=\"none\" stroke=\"black\" d=\"M413.19,-5471.7C413.19,-5463.98 413.19,-5454.71 413.19,-5446.11\"/>\n<polygon fill=\"black\" stroke=\"black\" points=\"416.7,-5446.1 413.19,-5436.1 409.7,-5446.1 416.7,-5446.1\"/>\n</g>\n<!-- TGGTAAA -->\n<g id=\"node95\" class=\"node\">\n<title>TGGTAAA</title>\n<ellipse fill=\"none\" stroke=\"black\" cx=\"416.19\" cy=\"-6210\" rx=\"55.79\" ry=\"18\"/>\n<text text-anchor=\"middle\" x=\"416.19\" y=\"-6206.3\" font-family=\"Times,serif\" font-size=\"14.00\">TGGTAAA</text>\n</g>\n<!-- GGTAAAC -->\n<g id=\"node96\" class=\"node\">\n<title>GGTAAAC</title>\n<ellipse fill=\"none\" stroke=\"black\" cx=\"416.19\" cy=\"-6138\" rx=\"57.39\" ry=\"18\"/>\n<text text-anchor=\"middle\" x=\"416.19\" y=\"-6134.3\" font-family=\"Times,serif\" font-size=\"14.00\">GGTAAAC</text>\n</g>\n<!-- TGGTAAA&#45;&gt;GGTAAAC -->\n<g id=\"edge54\" class=\"edge\">\n<title>TGGTAAA-&gt;GGTAAAC</title>\n<path fill=\"none\" stroke=\"black\" d=\"M416.19,-6191.7C416.19,-6183.98 416.19,-6174.71 416.19,-6166.11\"/>\n<polygon fill=\"black\" stroke=\"black\" points=\"419.7,-6166.1 416.19,-6156.1 412.7,-6166.1 419.7,-6166.1\"/>\n</g>\n<!-- GTAAACC -->\n<g id=\"node170\" class=\"node\">\n<title>GTAAACC</title>\n<ellipse fill=\"none\" stroke=\"black\" cx=\"414.19\" cy=\"-6066\" rx=\"56.59\" ry=\"18\"/>\n<text text-anchor=\"middle\" x=\"414.19\" y=\"-6062.3\" font-family=\"Times,serif\" font-size=\"14.00\">GTAAACC</text>\n</g>\n<!-- GGTAAAC&#45;&gt;GTAAACC -->\n<g id=\"edge191\" class=\"edge\">\n<title>GGTAAAC-&gt;GTAAACC</title>\n<path fill=\"none\" stroke=\"black\" d=\"M415.7,-6119.7C415.48,-6111.98 415.22,-6102.71 414.97,-6094.11\"/>\n<polygon fill=\"black\" stroke=\"black\" points=\"418.47,-6094 414.68,-6084.1 411.47,-6094.2 418.47,-6094\"/>\n</g>\n<!-- TGGTCGT -->\n<g id=\"node97\" class=\"node\">\n<title>TGGTCGT</title>\n<ellipse fill=\"none\" stroke=\"black\" cx=\"411.19\" cy=\"-3690\" rx=\"57.39\" ry=\"18\"/>\n<text text-anchor=\"middle\" x=\"411.19\" y=\"-3686.3\" font-family=\"Times,serif\" font-size=\"14.00\">TGGTCGT</text>\n</g>\n<!-- GGTCGTA -->\n<g id=\"node98\" class=\"node\">\n<title>GGTCGTA</title>\n<ellipse fill=\"none\" stroke=\"black\" cx=\"411.19\" cy=\"-3618\" rx=\"57.69\" ry=\"18\"/>\n<text text-anchor=\"middle\" x=\"411.19\" y=\"-3614.3\" font-family=\"Times,serif\" font-size=\"14.00\">GGTCGTA</text>\n</g>\n<!-- TGGTCGT&#45;&gt;GGTCGTA -->\n<g id=\"edge55\" class=\"edge\">\n<title>TGGTCGT-&gt;GGTCGTA</title>\n<path fill=\"none\" stroke=\"black\" d=\"M411.19,-3671.7C411.19,-3663.98 411.19,-3654.71 411.19,-3646.11\"/>\n<polygon fill=\"black\" stroke=\"black\" points=\"414.7,-3646.1 411.19,-3636.1 407.7,-3646.1 414.7,-3646.1\"/>\n</g>\n<!-- GTCGTAC -->\n<g id=\"node130\" class=\"node\">\n<title>GTCGTAC</title>\n<ellipse fill=\"none\" stroke=\"black\" cx=\"410.19\" cy=\"-3546\" rx=\"57.39\" ry=\"18\"/>\n<text text-anchor=\"middle\" x=\"410.19\" y=\"-3542.3\" font-family=\"Times,serif\" font-size=\"14.00\">GTCGTAC</text>\n</g>\n<!-- GGTCGTA&#45;&gt;GTCGTAC -->\n<g id=\"edge81\" class=\"edge\">\n<title>GGTCGTA-&gt;GTCGTAC</title>\n<path fill=\"none\" stroke=\"black\" d=\"M410.95,-3599.7C410.84,-3591.98 410.71,-3582.71 410.58,-3574.11\"/>\n<polygon fill=\"black\" stroke=\"black\" points=\"414.08,-3574.05 410.44,-3564.1 407.08,-3574.15 414.08,-3574.05\"/>\n</g>\n<!-- TTGATAA&#45;&gt;TGATAAA -->\n<g id=\"edge166\" class=\"edge\">\n<title>TTGATAA-&gt;TGATAAA</title>\n<path fill=\"none\" stroke=\"black\" d=\"M413.19,-5399.7C413.19,-5391.98 413.19,-5382.71 413.19,-5374.11\"/>\n<polygon fill=\"black\" stroke=\"black\" points=\"416.7,-5374.1 413.19,-5364.1 409.7,-5374.1 416.7,-5374.1\"/>\n</g>\n<!-- GCGCATC -->\n<g id=\"node100\" class=\"node\">\n<title>GCGCATC</title>\n<ellipse fill=\"none\" stroke=\"black\" cx=\"172.19\" cy=\"-2538\" rx=\"57.69\" ry=\"18\"/>\n<text text-anchor=\"middle\" x=\"172.19\" y=\"-2534.3\" font-family=\"Times,serif\" font-size=\"14.00\">GCGCATC</text>\n</g>\n<!-- CGCATCG -->\n<g id=\"node101\" class=\"node\">\n<title>CGCATCG</title>\n<ellipse fill=\"none\" stroke=\"black\" cx=\"172.19\" cy=\"-2466\" rx=\"57.69\" ry=\"18\"/>\n<text text-anchor=\"middle\" x=\"172.19\" y=\"-2462.3\" font-family=\"Times,serif\" font-size=\"14.00\">CGCATCG</text>\n</g>\n<!-- GCGCATC&#45;&gt;CGCATCG -->\n<g id=\"edge58\" class=\"edge\">\n<title>GCGCATC-&gt;CGCATCG</title>\n<path fill=\"none\" stroke=\"black\" d=\"M172.19,-2519.7C172.19,-2511.98 172.19,-2502.71 172.19,-2494.11\"/>\n<polygon fill=\"black\" stroke=\"black\" points=\"175.7,-2494.1 172.19,-2484.1 168.7,-2494.1 175.7,-2494.1\"/>\n</g>\n<!-- GCATCGT -->\n<g id=\"node168\" class=\"node\">\n<title>GCATCGT</title>\n<ellipse fill=\"none\" stroke=\"black\" cx=\"136.19\" cy=\"-2394\" rx=\"57.39\" ry=\"18\"/>\n<text text-anchor=\"middle\" x=\"136.19\" y=\"-2390.3\" font-family=\"Times,serif\" font-size=\"14.00\">GCATCGT</text>\n</g>\n<!-- CGCATCG&#45;&gt;GCATCGT -->\n<g id=\"edge127\" class=\"edge\">\n<title>CGCATCG-&gt;GCATCGT</title>\n<path fill=\"none\" stroke=\"black\" d=\"M163.48,-2448.05C159.34,-2440.01 154.3,-2430.2 149.68,-2421.23\"/>\n<polygon fill=\"black\" stroke=\"black\" points=\"152.77,-2419.57 145.08,-2412.28 146.54,-2422.77 152.77,-2419.57\"/>\n</g>\n<!-- AACGACC -->\n<g id=\"node103\" class=\"node\">\n<title>AACGACC</title>\n<ellipse fill=\"none\" stroke=\"black\" cx=\"103.19\" cy=\"-4266\" rx=\"57.69\" ry=\"18\"/>\n<text text-anchor=\"middle\" x=\"103.19\" y=\"-4262.3\" font-family=\"Times,serif\" font-size=\"14.00\">AACGACC</text>\n</g>\n<!-- TAACGAC&#45;&gt;AACGACC -->\n<g id=\"edge59\" class=\"edge\">\n<title>TAACGAC-&gt;AACGACC</title>\n<path fill=\"none\" stroke=\"black\" d=\"M103.19,-4319.7C103.19,-4311.98 103.19,-4302.71 103.19,-4294.11\"/>\n<polygon fill=\"black\" stroke=\"black\" points=\"106.7,-4294.1 103.19,-4284.1 99.7,-4294.1 106.7,-4294.1\"/>\n</g>\n<!-- ACGACCA -->\n<g id=\"node182\" class=\"node\">\n<title>ACGACCA</title>\n<ellipse fill=\"none\" stroke=\"black\" cx=\"103.19\" cy=\"-4194\" rx=\"57.69\" ry=\"18\"/>\n<text text-anchor=\"middle\" x=\"103.19\" y=\"-4190.3\" font-family=\"Times,serif\" font-size=\"14.00\">ACGACCA</text>\n</g>\n<!-- AACGACC&#45;&gt;ACGACCA -->\n<g id=\"edge142\" class=\"edge\">\n<title>AACGACC-&gt;ACGACCA</title>\n<path fill=\"none\" stroke=\"black\" d=\"M103.19,-4247.7C103.19,-4239.98 103.19,-4230.71 103.19,-4222.11\"/>\n<polygon fill=\"black\" stroke=\"black\" points=\"106.7,-4222.1 103.19,-4212.1 99.7,-4222.1 106.7,-4222.1\"/>\n</g>\n<!-- CGAGTGA -->\n<g id=\"node104\" class=\"node\">\n<title>CGAGTGA</title>\n<ellipse fill=\"none\" stroke=\"black\" cx=\"104.19\" cy=\"-6426\" rx=\"57.69\" ry=\"18\"/>\n<text text-anchor=\"middle\" x=\"104.19\" y=\"-6422.3\" font-family=\"Times,serif\" font-size=\"14.00\">CGAGTGA</text>\n</g>\n<!-- CGAGTGA&#45;&gt;GAGTGAT -->\n<g id=\"edge60\" class=\"edge\">\n<title>CGAGTGA-&gt;GAGTGAT</title>\n<path fill=\"none\" stroke=\"black\" d=\"M104.19,-6407.7C104.19,-6399.98 104.19,-6390.71 104.19,-6382.11\"/>\n<polygon fill=\"black\" stroke=\"black\" points=\"107.7,-6382.1 104.19,-6372.1 100.7,-6382.1 107.7,-6382.1\"/>\n</g>\n<!-- TTTTGGT -->\n<g id=\"node105\" class=\"node\">\n<title>TTTTGGT</title>\n<ellipse fill=\"none\" stroke=\"black\" cx=\"411.19\" cy=\"-3906\" rx=\"56.59\" ry=\"18\"/>\n<text text-anchor=\"middle\" x=\"411.19\" y=\"-3902.3\" font-family=\"Times,serif\" font-size=\"14.00\">TTTTGGT</text>\n</g>\n<!-- TTTGGTC -->\n<g id=\"node106\" class=\"node\">\n<title>TTTGGTC</title>\n<ellipse fill=\"none\" stroke=\"black\" cx=\"411.19\" cy=\"-3834\" rx=\"57.39\" ry=\"18\"/>\n<text text-anchor=\"middle\" x=\"411.19\" y=\"-3830.3\" font-family=\"Times,serif\" font-size=\"14.00\">TTTGGTC</text>\n</g>\n<!-- TTTTGGT&#45;&gt;TTTGGTC -->\n<g id=\"edge61\" class=\"edge\">\n<title>TTTTGGT-&gt;TTTGGTC</title>\n<path fill=\"none\" stroke=\"black\" d=\"M411.19,-3887.7C411.19,-3879.98 411.19,-3870.71 411.19,-3862.11\"/>\n<polygon fill=\"black\" stroke=\"black\" points=\"414.7,-3862.1 411.19,-3852.1 407.7,-3862.1 414.7,-3862.1\"/>\n</g>\n<!-- TTGGTCG -->\n<g id=\"node117\" class=\"node\">\n<title>TTGGTCG</title>\n<ellipse fill=\"none\" stroke=\"black\" cx=\"411.19\" cy=\"-3762\" rx=\"57.69\" ry=\"18\"/>\n<text text-anchor=\"middle\" x=\"411.19\" y=\"-3758.3\" font-family=\"Times,serif\" font-size=\"14.00\">TTGGTCG</text>\n</g>\n<!-- TTTGGTC&#45;&gt;TTGGTCG -->\n<g id=\"edge108\" class=\"edge\">\n<title>TTTGGTC-&gt;TTGGTCG</title>\n<path fill=\"none\" stroke=\"black\" d=\"M411.19,-3815.7C411.19,-3807.98 411.19,-3798.71 411.19,-3790.11\"/>\n<polygon fill=\"black\" stroke=\"black\" points=\"414.7,-3790.1 411.19,-3780.1 407.7,-3790.1 414.7,-3790.1\"/>\n</g>\n<!-- ATGTCAT -->\n<g id=\"node107\" class=\"node\">\n<title>ATGTCAT</title>\n<ellipse fill=\"none\" stroke=\"black\" cx=\"278.19\" cy=\"-5706\" rx=\"55.49\" ry=\"18\"/>\n<text text-anchor=\"middle\" x=\"278.19\" y=\"-5702.3\" font-family=\"Times,serif\" font-size=\"14.00\">ATGTCAT</text>\n</g>\n<!-- TGTCATG -->\n<g id=\"node108\" class=\"node\">\n<title>TGTCATG</title>\n<ellipse fill=\"none\" stroke=\"black\" cx=\"278.19\" cy=\"-5634\" rx=\"55.79\" ry=\"18\"/>\n<text text-anchor=\"middle\" x=\"278.19\" y=\"-5630.3\" font-family=\"Times,serif\" font-size=\"14.00\">TGTCATG</text>\n</g>\n<!-- ATGTCAT&#45;&gt;TGTCATG -->\n<g id=\"edge62\" class=\"edge\">\n<title>ATGTCAT-&gt;TGTCATG</title>\n<path fill=\"none\" stroke=\"black\" d=\"M278.19,-5687.7C278.19,-5679.98 278.19,-5670.71 278.19,-5662.11\"/>\n<polygon fill=\"black\" stroke=\"black\" points=\"281.7,-5662.1 278.19,-5652.1 274.7,-5662.1 281.7,-5662.1\"/>\n</g>\n<!-- GTCATGC -->\n<g id=\"node141\" class=\"node\">\n<title>GTCATGC</title>\n<ellipse fill=\"none\" stroke=\"black\" cx=\"278.19\" cy=\"-5562\" rx=\"57.39\" ry=\"18\"/>\n<text text-anchor=\"middle\" x=\"278.19\" y=\"-5558.3\" font-family=\"Times,serif\" font-size=\"14.00\">GTCATGC</text>\n</g>\n<!-- TGTCATG&#45;&gt;GTCATGC -->\n<g id=\"edge178\" class=\"edge\">\n<title>TGTCATG-&gt;GTCATGC</title>\n<path fill=\"none\" stroke=\"black\" d=\"M278.19,-5615.7C278.19,-5607.98 278.19,-5598.71 278.19,-5590.11\"/>\n<polygon fill=\"black\" stroke=\"black\" points=\"281.7,-5590.1 278.19,-5580.1 274.7,-5590.1 281.7,-5590.1\"/>\n</g>\n<!-- TGGCCAC -->\n<g id=\"node109\" class=\"node\">\n<title>TGGCCAC</title>\n<ellipse fill=\"none\" stroke=\"black\" cx=\"413.19\" cy=\"-4770\" rx=\"57.69\" ry=\"18\"/>\n<text text-anchor=\"middle\" x=\"413.19\" y=\"-4766.3\" font-family=\"Times,serif\" font-size=\"14.00\">TGGCCAC</text>\n</g>\n<!-- TGGCCAC&#45;&gt;GGCCACA -->\n<g id=\"edge63\" class=\"edge\">\n<title>TGGCCAC-&gt;GGCCACA</title>\n<path fill=\"none\" stroke=\"black\" d=\"M413.19,-4751.7C413.19,-4743.98 413.19,-4734.71 413.19,-4726.11\"/>\n<polygon fill=\"black\" stroke=\"black\" points=\"416.7,-4726.1 413.19,-4716.1 409.7,-4726.1 416.7,-4726.1\"/>\n</g>\n<!-- TTTTTGG -->\n<g id=\"node110\" class=\"node\">\n<title>TTTTTGG</title>\n<ellipse fill=\"none\" stroke=\"black\" cx=\"411.19\" cy=\"-3978\" rx=\"57.39\" ry=\"18\"/>\n<text text-anchor=\"middle\" x=\"411.19\" y=\"-3974.3\" font-family=\"Times,serif\" font-size=\"14.00\">TTTTTGG</text>\n</g>\n<!-- TTTTTGG&#45;&gt;TTTTGGT -->\n<g id=\"edge64\" class=\"edge\">\n<title>TTTTTGG-&gt;TTTTGGT</title>\n<path fill=\"none\" stroke=\"black\" d=\"M411.19,-3959.7C411.19,-3951.98 411.19,-3942.71 411.19,-3934.11\"/>\n<polygon fill=\"black\" stroke=\"black\" points=\"414.7,-3934.1 411.19,-3924.1 407.7,-3934.1 414.7,-3934.1\"/>\n</g>\n<!-- ACCACGT -->\n<g id=\"node112\" class=\"node\">\n<title>ACCACGT</title>\n<ellipse fill=\"none\" stroke=\"black\" cx=\"279.19\" cy=\"-4338\" rx=\"57.39\" ry=\"18\"/>\n<text text-anchor=\"middle\" x=\"279.19\" y=\"-4334.3\" font-family=\"Times,serif\" font-size=\"14.00\">ACCACGT</text>\n</g>\n<!-- CACCACG&#45;&gt;ACCACGT -->\n<g id=\"edge65\" class=\"edge\">\n<title>CACCACG-&gt;ACCACGT</title>\n<path fill=\"none\" stroke=\"black\" d=\"M279.19,-4391.7C279.19,-4383.98 279.19,-4374.71 279.19,-4366.11\"/>\n<polygon fill=\"black\" stroke=\"black\" points=\"282.7,-4366.1 279.19,-4356.1 275.7,-4366.1 282.7,-4366.1\"/>\n</g>\n<!-- ACCACGT&#45;&gt;CCACGTA -->\n<g id=\"edge162\" class=\"edge\">\n<title>ACCACGT-&gt;CCACGTA</title>\n<path fill=\"none\" stroke=\"black\" d=\"M279.19,-4319.7C279.19,-4311.98 279.19,-4302.71 279.19,-4294.11\"/>\n<polygon fill=\"black\" stroke=\"black\" points=\"282.7,-4294.1 279.19,-4284.1 275.7,-4294.1 282.7,-4294.1\"/>\n</g>\n<!-- GCTTACA -->\n<g id=\"node113\" class=\"node\">\n<title>GCTTACA</title>\n<ellipse fill=\"none\" stroke=\"black\" cx=\"104.19\" cy=\"-1098\" rx=\"56.59\" ry=\"18\"/>\n<text text-anchor=\"middle\" x=\"104.19\" y=\"-1094.3\" font-family=\"Times,serif\" font-size=\"14.00\">GCTTACA</text>\n</g>\n<!-- GCTTACA&#45;&gt;CTTACAT -->\n<g id=\"edge66\" class=\"edge\">\n<title>GCTTACA-&gt;CTTACAT</title>\n<path fill=\"none\" stroke=\"black\" d=\"M103.7,-1079.7C103.48,-1071.98 103.22,-1062.71 102.97,-1054.11\"/>\n<polygon fill=\"black\" stroke=\"black\" points=\"106.47,-1054 102.68,-1044.1 99.47,-1054.2 106.47,-1054\"/>\n</g>\n<!-- ACGCTTA -->\n<g id=\"node114\" class=\"node\">\n<title>ACGCTTA</title>\n<ellipse fill=\"none\" stroke=\"black\" cx=\"104.19\" cy=\"-1242\" rx=\"56.59\" ry=\"18\"/>\n<text text-anchor=\"middle\" x=\"104.19\" y=\"-1238.3\" font-family=\"Times,serif\" font-size=\"14.00\">ACGCTTA</text>\n</g>\n<!-- CGCTTAC -->\n<g id=\"node115\" class=\"node\">\n<title>CGCTTAC</title>\n<ellipse fill=\"none\" stroke=\"black\" cx=\"104.19\" cy=\"-1170\" rx=\"57.39\" ry=\"18\"/>\n<text text-anchor=\"middle\" x=\"104.19\" y=\"-1166.3\" font-family=\"Times,serif\" font-size=\"14.00\">CGCTTAC</text>\n</g>\n<!-- ACGCTTA&#45;&gt;CGCTTAC -->\n<g id=\"edge67\" class=\"edge\">\n<title>ACGCTTA-&gt;CGCTTAC</title>\n<path fill=\"none\" stroke=\"black\" d=\"M104.19,-1223.7C104.19,-1215.98 104.19,-1206.71 104.19,-1198.11\"/>\n<polygon fill=\"black\" stroke=\"black\" points=\"107.7,-1198.1 104.19,-1188.1 100.7,-1198.1 107.7,-1198.1\"/>\n</g>\n<!-- CGCTTAC&#45;&gt;GCTTACA -->\n<g id=\"edge84\" class=\"edge\">\n<title>CGCTTAC-&gt;GCTTACA</title>\n<path fill=\"none\" stroke=\"black\" d=\"M104.19,-1151.7C104.19,-1143.98 104.19,-1134.71 104.19,-1126.11\"/>\n<polygon fill=\"black\" stroke=\"black\" points=\"107.7,-1126.1 104.19,-1116.1 100.7,-1126.1 107.7,-1126.1\"/>\n</g>\n<!-- ATCGTAC&#45;&gt;TCGTACA -->\n<g id=\"edge115\" class=\"edge\">\n<title>ATCGTAC-&gt;TCGTACA</title>\n<path fill=\"none\" stroke=\"black\" d=\"M294.6,-3528.41C302.77,-3519.61 312.97,-3508.63 321.98,-3498.92\"/>\n<polygon fill=\"black\" stroke=\"black\" points=\"324.66,-3501.18 328.9,-3491.47 319.53,-3496.42 324.66,-3501.18\"/>\n</g>\n<!-- TTGGTCG&#45;&gt;TGGTCGT -->\n<g id=\"edge69\" class=\"edge\">\n<title>TTGGTCG-&gt;TGGTCGT</title>\n<path fill=\"none\" stroke=\"black\" d=\"M411.19,-3743.7C411.19,-3735.98 411.19,-3726.71 411.19,-3718.11\"/>\n<polygon fill=\"black\" stroke=\"black\" points=\"414.7,-3718.1 411.19,-3708.1 407.7,-3718.1 414.7,-3718.1\"/>\n</g>\n<!-- CCCGCGC -->\n<g id=\"node118\" class=\"node\">\n<title>CCCGCGC</title>\n<ellipse fill=\"none\" stroke=\"black\" cx=\"245.19\" cy=\"-2754\" rx=\"59.59\" ry=\"18\"/>\n<text text-anchor=\"middle\" x=\"245.19\" y=\"-2750.3\" font-family=\"Times,serif\" font-size=\"14.00\">CCCGCGC</text>\n</g>\n<!-- CCGCGCA -->\n<g id=\"node119\" class=\"node\">\n<title>CCGCGCA</title>\n<ellipse fill=\"none\" stroke=\"black\" cx=\"173.19\" cy=\"-2682\" rx=\"59.29\" ry=\"18\"/>\n<text text-anchor=\"middle\" x=\"173.19\" y=\"-2678.3\" font-family=\"Times,serif\" font-size=\"14.00\">CCGCGCA</text>\n</g>\n<!-- CCCGCGC&#45;&gt;CCGCGCA -->\n<g id=\"edge70\" class=\"edge\">\n<title>CCCGCGC-&gt;CCGCGCA</title>\n<path fill=\"none\" stroke=\"black\" d=\"M228.13,-2736.41C218.99,-2727.52 207.56,-2716.41 197.5,-2706.63\"/>\n<polygon fill=\"black\" stroke=\"black\" points=\"199.75,-2703.93 190.14,-2699.47 194.87,-2708.95 199.75,-2703.93\"/>\n</g>\n<!-- CGCGCAT -->\n<g id=\"node160\" class=\"node\">\n<title>CGCGCAT</title>\n<ellipse fill=\"none\" stroke=\"black\" cx=\"172.19\" cy=\"-2610\" rx=\"57.69\" ry=\"18\"/>\n<text text-anchor=\"middle\" x=\"172.19\" y=\"-2606.3\" font-family=\"Times,serif\" font-size=\"14.00\">CGCGCAT</text>\n</g>\n<!-- CCGCGCA&#45;&gt;CGCGCAT -->\n<g id=\"edge113\" class=\"edge\">\n<title>CCGCGCA-&gt;CGCGCAT</title>\n<path fill=\"none\" stroke=\"black\" d=\"M172.95,-2663.7C172.84,-2655.98 172.71,-2646.71 172.58,-2638.11\"/>\n<polygon fill=\"black\" stroke=\"black\" points=\"176.08,-2638.05 172.44,-2628.1 169.08,-2638.15 176.08,-2638.05\"/>\n</g>\n<!-- CATCGTG -->\n<g id=\"node120\" class=\"node\">\n<title>CATCGTG</title>\n<ellipse fill=\"none\" stroke=\"black\" cx=\"136.19\" cy=\"-2322\" rx=\"57.39\" ry=\"18\"/>\n<text text-anchor=\"middle\" x=\"136.19\" y=\"-2318.3\" font-family=\"Times,serif\" font-size=\"14.00\">CATCGTG</text>\n</g>\n<!-- ATCGTGT -->\n<g id=\"node121\" class=\"node\">\n<title>ATCGTGT</title>\n<ellipse fill=\"none\" stroke=\"black\" cx=\"118.19\" cy=\"-2250\" rx=\"55.79\" ry=\"18\"/>\n<text text-anchor=\"middle\" x=\"118.19\" y=\"-2246.3\" font-family=\"Times,serif\" font-size=\"14.00\">ATCGTGT</text>\n</g>\n<!-- CATCGTG&#45;&gt;ATCGTGT -->\n<g id=\"edge71\" class=\"edge\">\n<title>CATCGTG-&gt;ATCGTGT</title>\n<path fill=\"none\" stroke=\"black\" d=\"M131.75,-2303.7C129.74,-2295.9 127.33,-2286.51 125.09,-2277.83\"/>\n<polygon fill=\"black\" stroke=\"black\" points=\"128.47,-2276.92 122.59,-2268.1 121.69,-2278.66 128.47,-2276.92\"/>\n</g>\n<!-- TCGTGTT -->\n<g id=\"node153\" class=\"node\">\n<title>TCGTGTT</title>\n<ellipse fill=\"none\" stroke=\"black\" cx=\"118.19\" cy=\"-2178\" rx=\"56.59\" ry=\"18\"/>\n<text text-anchor=\"middle\" x=\"118.19\" y=\"-2174.3\" font-family=\"Times,serif\" font-size=\"14.00\">TCGTGTT</text>\n</g>\n<!-- ATCGTGT&#45;&gt;TCGTGTT -->\n<g id=\"edge106\" class=\"edge\">\n<title>ATCGTGT-&gt;TCGTGTT</title>\n<path fill=\"none\" stroke=\"black\" d=\"M118.19,-2231.7C118.19,-2223.98 118.19,-2214.71 118.19,-2206.11\"/>\n<polygon fill=\"black\" stroke=\"black\" points=\"121.7,-2206.1 118.19,-2196.1 114.7,-2206.1 121.7,-2206.1\"/>\n</g>\n<!-- AAAATGG -->\n<g id=\"node122\" class=\"node\">\n<title>AAAATGG</title>\n<ellipse fill=\"none\" stroke=\"black\" cx=\"413.19\" cy=\"-5058\" rx=\"56.59\" ry=\"18\"/>\n<text text-anchor=\"middle\" x=\"413.19\" y=\"-5054.3\" font-family=\"Times,serif\" font-size=\"14.00\">AAAATGG</text>\n</g>\n<!-- AAATGGC -->\n<g id=\"node123\" class=\"node\">\n<title>AAATGGC</title>\n<ellipse fill=\"none\" stroke=\"black\" cx=\"413.19\" cy=\"-4986\" rx=\"57.39\" ry=\"18\"/>\n<text text-anchor=\"middle\" x=\"413.19\" y=\"-4982.3\" font-family=\"Times,serif\" font-size=\"14.00\">AAATGGC</text>\n</g>\n<!-- AAAATGG&#45;&gt;AAATGGC -->\n<g id=\"edge73\" class=\"edge\">\n<title>AAAATGG-&gt;AAATGGC</title>\n<path fill=\"none\" stroke=\"black\" d=\"M413.19,-5039.7C413.19,-5031.98 413.19,-5022.71 413.19,-5014.11\"/>\n<polygon fill=\"black\" stroke=\"black\" points=\"416.7,-5014.1 413.19,-5004.1 409.7,-5014.1 416.7,-5014.1\"/>\n</g>\n<!-- AATGGCC -->\n<g id=\"node186\" class=\"node\">\n<title>AATGGCC</title>\n<ellipse fill=\"none\" stroke=\"black\" cx=\"413.19\" cy=\"-4914\" rx=\"57.69\" ry=\"18\"/>\n<text text-anchor=\"middle\" x=\"413.19\" y=\"-4910.3\" font-family=\"Times,serif\" font-size=\"14.00\">AATGGCC</text>\n</g>\n<!-- AAATGGC&#45;&gt;AATGGCC -->\n<g id=\"edge185\" class=\"edge\">\n<title>AAATGGC-&gt;AATGGCC</title>\n<path fill=\"none\" stroke=\"black\" d=\"M413.19,-4967.7C413.19,-4959.98 413.19,-4950.71 413.19,-4942.11\"/>\n<polygon fill=\"black\" stroke=\"black\" points=\"416.7,-4942.1 413.19,-4932.1 409.7,-4942.1 416.7,-4942.1\"/>\n</g>\n<!-- ATGCCAA -->\n<g id=\"node124\" class=\"node\">\n<title>ATGCCAA</title>\n<ellipse fill=\"none\" stroke=\"black\" cx=\"109.19\" cy=\"-1674\" rx=\"56.59\" ry=\"18\"/>\n<text text-anchor=\"middle\" x=\"109.19\" y=\"-1670.3\" font-family=\"Times,serif\" font-size=\"14.00\">ATGCCAA</text>\n</g>\n<!-- ATGCCAA&#45;&gt;TGCCAAC -->\n<g id=\"edge76\" class=\"edge\">\n<title>ATGCCAA-&gt;TGCCAAC</title>\n<path fill=\"none\" stroke=\"black\" d=\"M108.95,-1655.7C108.84,-1647.98 108.71,-1638.71 108.58,-1630.11\"/>\n<polygon fill=\"black\" stroke=\"black\" points=\"112.08,-1630.05 108.44,-1620.1 105.08,-1630.15 112.08,-1630.05\"/>\n</g>\n<!-- ATTTTTG -->\n<g id=\"node125\" class=\"node\">\n<title>ATTTTTG</title>\n<ellipse fill=\"none\" stroke=\"black\" cx=\"411.19\" cy=\"-4050\" rx=\"55.79\" ry=\"18\"/>\n<text text-anchor=\"middle\" x=\"411.19\" y=\"-4046.3\" font-family=\"Times,serif\" font-size=\"14.00\">ATTTTTG</text>\n</g>\n<!-- ATTTTTG&#45;&gt;TTTTTGG -->\n<g id=\"edge77\" class=\"edge\">\n<title>ATTTTTG-&gt;TTTTTGG</title>\n<path fill=\"none\" stroke=\"black\" d=\"M411.19,-4031.7C411.19,-4023.98 411.19,-4014.71 411.19,-4006.11\"/>\n<polygon fill=\"black\" stroke=\"black\" points=\"414.7,-4006.1 411.19,-3996.1 407.7,-4006.1 414.7,-4006.1\"/>\n</g>\n<!-- GTGATAG&#45;&gt;TGATAGG -->\n<g id=\"edge160\" class=\"edge\">\n<title>GTGATAG-&gt;TGATAGG</title>\n<path fill=\"none\" stroke=\"black\" d=\"M104.19,-6191.7C104.19,-6183.98 104.19,-6174.71 104.19,-6166.11\"/>\n<polygon fill=\"black\" stroke=\"black\" points=\"107.7,-6166.1 104.19,-6156.1 100.7,-6166.1 107.7,-6166.1\"/>\n</g>\n<!-- ACATAGG -->\n<g id=\"node128\" class=\"node\">\n<title>ACATAGG</title>\n<ellipse fill=\"none\" stroke=\"black\" cx=\"101.19\" cy=\"-810\" rx=\"56.59\" ry=\"18\"/>\n<text text-anchor=\"middle\" x=\"101.19\" y=\"-806.3\" font-family=\"Times,serif\" font-size=\"14.00\">ACATAGG</text>\n</g>\n<!-- TACATAG&#45;&gt;ACATAGG -->\n<g id=\"edge79\" class=\"edge\">\n<title>TACATAG-&gt;ACATAGG</title>\n<path fill=\"none\" stroke=\"black\" d=\"M101.19,-863.7C101.19,-855.98 101.19,-846.71 101.19,-838.11\"/>\n<polygon fill=\"black\" stroke=\"black\" points=\"104.7,-838.1 101.19,-828.1 97.7,-838.1 104.7,-838.1\"/>\n</g>\n<!-- ACATAGG&#45;&gt;CATAGGG -->\n<g id=\"edge137\" class=\"edge\">\n<title>ACATAGG-&gt;CATAGGG</title>\n<path fill=\"none\" stroke=\"black\" d=\"M101.19,-791.7C101.19,-783.98 101.19,-774.71 101.19,-766.11\"/>\n<polygon fill=\"black\" stroke=\"black\" points=\"104.7,-766.1 101.19,-756.1 97.7,-766.1 104.7,-766.1\"/>\n</g>\n<!-- CGGAGGA -->\n<g id=\"node129\" class=\"node\">\n<title>CGGAGGA</title>\n<ellipse fill=\"none\" stroke=\"black\" cx=\"103.19\" cy=\"-5274\" rx=\"59.59\" ry=\"18\"/>\n<text text-anchor=\"middle\" x=\"103.19\" y=\"-5270.3\" font-family=\"Times,serif\" font-size=\"14.00\">CGGAGGA</text>\n</g>\n<!-- CGGAGGA&#45;&gt;GGAGGAT -->\n<g id=\"edge80\" class=\"edge\">\n<title>CGGAGGA-&gt;GGAGGAT</title>\n<path fill=\"none\" stroke=\"black\" d=\"M103.19,-5255.7C103.19,-5247.98 103.19,-5238.71 103.19,-5230.11\"/>\n<polygon fill=\"black\" stroke=\"black\" points=\"106.7,-5230.1 103.19,-5220.1 99.7,-5230.1 106.7,-5230.1\"/>\n</g>\n<!-- GTCGTAC&#45;&gt;TCGTACA -->\n<g id=\"edge105\" class=\"edge\">\n<title>GTCGTAC-&gt;TCGTACA</title>\n<path fill=\"none\" stroke=\"black\" d=\"M394.55,-3528.41C386.25,-3519.61 375.9,-3508.63 366.75,-3498.92\"/>\n<polygon fill=\"black\" stroke=\"black\" points=\"369.13,-3496.34 359.72,-3491.47 364.04,-3501.15 369.13,-3496.34\"/>\n</g>\n<!-- TGTCGAT&#45;&gt;GTCGATG -->\n<g id=\"edge171\" class=\"edge\">\n<title>TGTCGAT-&gt;GTCGATG</title>\n<path fill=\"none\" stroke=\"black\" d=\"M294.05,-6624.76C304.06,-6615.66 316.72,-6604.16 327.75,-6594.13\"/>\n<polygon fill=\"black\" stroke=\"black\" points=\"330.39,-6596.46 335.43,-6587.15 325.68,-6591.28 330.39,-6596.46\"/>\n</g>\n<!-- ACGAATG -->\n<g id=\"node132\" class=\"node\">\n<title>ACGAATG</title>\n<ellipse fill=\"none\" stroke=\"black\" cx=\"277.19\" cy=\"-5994\" rx=\"57.39\" ry=\"18\"/>\n<text text-anchor=\"middle\" x=\"277.19\" y=\"-5990.3\" font-family=\"Times,serif\" font-size=\"14.00\">ACGAATG</text>\n</g>\n<!-- ACGAATG&#45;&gt;CGAATGT -->\n<g id=\"edge83\" class=\"edge\">\n<title>ACGAATG-&gt;CGAATGT</title>\n<path fill=\"none\" stroke=\"black\" d=\"M277.19,-5975.7C277.19,-5967.98 277.19,-5958.71 277.19,-5950.11\"/>\n<polygon fill=\"black\" stroke=\"black\" points=\"280.7,-5950.1 277.19,-5940.1 273.7,-5950.1 280.7,-5950.1\"/>\n</g>\n<!-- CTCCGGT -->\n<g id=\"node133\" class=\"node\">\n<title>CTCCGGT</title>\n<ellipse fill=\"none\" stroke=\"black\" cx=\"103.19\" cy=\"-3402\" rx=\"57.69\" ry=\"18\"/>\n<text text-anchor=\"middle\" x=\"103.19\" y=\"-3398.3\" font-family=\"Times,serif\" font-size=\"14.00\">CTCCGGT</text>\n</g>\n<!-- CTCCGGT&#45;&gt;TCCGGTA -->\n<g id=\"edge85\" class=\"edge\">\n<title>CTCCGGT-&gt;TCCGGTA</title>\n<path fill=\"none\" stroke=\"black\" d=\"M103.19,-3383.7C103.19,-3375.98 103.19,-3366.71 103.19,-3358.11\"/>\n<polygon fill=\"black\" stroke=\"black\" points=\"106.7,-3358.1 103.19,-3348.1 99.7,-3358.1 106.7,-3358.1\"/>\n</g>\n<!-- CGACCAC -->\n<g id=\"node134\" class=\"node\">\n<title>CGACCAC</title>\n<ellipse fill=\"none\" stroke=\"black\" cx=\"103.19\" cy=\"-4122\" rx=\"57.69\" ry=\"18\"/>\n<text text-anchor=\"middle\" x=\"103.19\" y=\"-4118.3\" font-family=\"Times,serif\" font-size=\"14.00\">CGACCAC</text>\n</g>\n<!-- CGACCAC&#45;&gt;GACCACG -->\n<g id=\"edge86\" class=\"edge\">\n<title>CGACCAC-&gt;GACCACG</title>\n<path fill=\"none\" stroke=\"black\" d=\"M103.19,-4103.7C103.19,-4095.98 103.19,-4086.71 103.19,-4078.11\"/>\n<polygon fill=\"black\" stroke=\"black\" points=\"106.7,-4078.1 103.19,-4068.1 99.7,-4078.1 106.7,-4078.1\"/>\n</g>\n<!-- TTATGCC -->\n<g id=\"node135\" class=\"node\">\n<title>TTATGCC</title>\n<ellipse fill=\"none\" stroke=\"black\" cx=\"109.19\" cy=\"-1818\" rx=\"55.79\" ry=\"18\"/>\n<text text-anchor=\"middle\" x=\"109.19\" y=\"-1814.3\" font-family=\"Times,serif\" font-size=\"14.00\">TTATGCC</text>\n</g>\n<!-- TATGCCA -->\n<g id=\"node136\" class=\"node\">\n<title>TATGCCA</title>\n<ellipse fill=\"none\" stroke=\"black\" cx=\"109.19\" cy=\"-1746\" rx=\"55.79\" ry=\"18\"/>\n<text text-anchor=\"middle\" x=\"109.19\" y=\"-1742.3\" font-family=\"Times,serif\" font-size=\"14.00\">TATGCCA</text>\n</g>\n<!-- TTATGCC&#45;&gt;TATGCCA -->\n<g id=\"edge87\" class=\"edge\">\n<title>TTATGCC-&gt;TATGCCA</title>\n<path fill=\"none\" stroke=\"black\" d=\"M109.19,-1799.7C109.19,-1791.98 109.19,-1782.71 109.19,-1774.11\"/>\n<polygon fill=\"black\" stroke=\"black\" points=\"112.7,-1774.1 109.19,-1764.1 105.7,-1774.1 112.7,-1774.1\"/>\n</g>\n<!-- TATGCCA&#45;&gt;ATGCCAA -->\n<g id=\"edge153\" class=\"edge\">\n<title>TATGCCA-&gt;ATGCCAA</title>\n<path fill=\"none\" stroke=\"black\" d=\"M109.19,-1727.7C109.19,-1719.98 109.19,-1710.71 109.19,-1702.11\"/>\n<polygon fill=\"black\" stroke=\"black\" points=\"112.7,-1702.1 109.19,-1692.1 105.7,-1702.1 112.7,-1702.1\"/>\n</g>\n<!-- AATGTCA&#45;&gt;ATGTCAT -->\n<g id=\"edge89\" class=\"edge\">\n<title>AATGTCA-&gt;ATGTCAT</title>\n<path fill=\"none\" stroke=\"black\" d=\"M278.19,-5759.7C278.19,-5751.98 278.19,-5742.71 278.19,-5734.11\"/>\n<polygon fill=\"black\" stroke=\"black\" points=\"281.7,-5734.1 278.19,-5724.1 274.7,-5734.1 281.7,-5734.1\"/>\n</g>\n<!-- GTTATGC&#45;&gt;TTATGCC -->\n<g id=\"edge90\" class=\"edge\">\n<title>GTTATGC-&gt;TTATGCC</title>\n<path fill=\"none\" stroke=\"black\" d=\"M109.19,-1871.7C109.19,-1863.98 109.19,-1854.71 109.19,-1846.11\"/>\n<polygon fill=\"black\" stroke=\"black\" points=\"112.7,-1846.1 109.19,-1836.1 105.7,-1846.1 112.7,-1846.1\"/>\n</g>\n<!-- CGACGAA -->\n<g id=\"node140\" class=\"node\">\n<title>CGACGAA</title>\n<ellipse fill=\"none\" stroke=\"black\" cx=\"277.19\" cy=\"-6138\" rx=\"57.69\" ry=\"18\"/>\n<text text-anchor=\"middle\" x=\"277.19\" y=\"-6134.3\" font-family=\"Times,serif\" font-size=\"14.00\">CGACGAA</text>\n</g>\n<!-- CCGACGA&#45;&gt;CGACGAA -->\n<g id=\"edge92\" class=\"edge\">\n<title>CCGACGA-&gt;CGACGAA</title>\n<path fill=\"none\" stroke=\"black\" d=\"M277.19,-6191.7C277.19,-6183.98 277.19,-6174.71 277.19,-6166.11\"/>\n<polygon fill=\"black\" stroke=\"black\" points=\"280.7,-6166.1 277.19,-6156.1 273.7,-6166.1 280.7,-6166.1\"/>\n</g>\n<!-- GACGAAT -->\n<g id=\"node162\" class=\"node\">\n<title>GACGAAT</title>\n<ellipse fill=\"none\" stroke=\"black\" cx=\"277.19\" cy=\"-6066\" rx=\"57.39\" ry=\"18\"/>\n<text text-anchor=\"middle\" x=\"277.19\" y=\"-6062.3\" font-family=\"Times,serif\" font-size=\"14.00\">GACGAAT</text>\n</g>\n<!-- CGACGAA&#45;&gt;GACGAAT -->\n<g id=\"edge119\" class=\"edge\">\n<title>CGACGAA-&gt;GACGAAT</title>\n<path fill=\"none\" stroke=\"black\" d=\"M277.19,-6119.7C277.19,-6111.98 277.19,-6102.71 277.19,-6094.11\"/>\n<polygon fill=\"black\" stroke=\"black\" points=\"280.7,-6094.1 277.19,-6084.1 273.7,-6094.1 280.7,-6094.1\"/>\n</g>\n<!-- GTCATGC&#45;&gt;TCATGCA -->\n<g id=\"edge94\" class=\"edge\">\n<title>GTCATGC-&gt;TCATGCA</title>\n<path fill=\"none\" stroke=\"black\" d=\"M278.19,-5543.7C278.19,-5535.98 278.19,-5526.71 278.19,-5518.11\"/>\n<polygon fill=\"black\" stroke=\"black\" points=\"281.7,-5518.1 278.19,-5508.1 274.7,-5518.1 281.7,-5518.1\"/>\n</g>\n<!-- CACATAA -->\n<g id=\"node143\" class=\"node\">\n<title>CACATAA</title>\n<ellipse fill=\"none\" stroke=\"black\" cx=\"411.19\" cy=\"-4482\" rx=\"55.49\" ry=\"18\"/>\n<text text-anchor=\"middle\" x=\"411.19\" y=\"-4478.3\" font-family=\"Times,serif\" font-size=\"14.00\">CACATAA</text>\n</g>\n<!-- CCACATA&#45;&gt;CACATAA -->\n<g id=\"edge95\" class=\"edge\">\n<title>CCACATA-&gt;CACATAA</title>\n<path fill=\"none\" stroke=\"black\" d=\"M411.19,-4535.7C411.19,-4527.98 411.19,-4518.71 411.19,-4510.11\"/>\n<polygon fill=\"black\" stroke=\"black\" points=\"414.7,-4510.1 411.19,-4500.1 407.7,-4510.1 414.7,-4510.1\"/>\n</g>\n<!-- CACATAA&#45;&gt;ACATAAT -->\n<g id=\"edge114\" class=\"edge\">\n<title>CACATAA-&gt;ACATAAT</title>\n<path fill=\"none\" stroke=\"black\" d=\"M411.19,-4463.7C411.19,-4455.98 411.19,-4446.71 411.19,-4438.11\"/>\n<polygon fill=\"black\" stroke=\"black\" points=\"414.7,-4438.1 411.19,-4428.1 407.7,-4438.1 414.7,-4438.1\"/>\n</g>\n<!-- TAAAATG&#45;&gt;AAAATGG -->\n<g id=\"edge122\" class=\"edge\">\n<title>TAAAATG-&gt;AAAATGG</title>\n<path fill=\"none\" stroke=\"black\" d=\"M413.19,-5111.7C413.19,-5103.98 413.19,-5094.71 413.19,-5086.11\"/>\n<polygon fill=\"black\" stroke=\"black\" points=\"416.7,-5086.1 413.19,-5076.1 409.7,-5086.1 416.7,-5086.1\"/>\n</g>\n<!-- TGCACAT -->\n<g id=\"node172\" class=\"node\">\n<title>TGCACAT</title>\n<ellipse fill=\"none\" stroke=\"black\" cx=\"278.19\" cy=\"-5274\" rx=\"55.79\" ry=\"18\"/>\n<text text-anchor=\"middle\" x=\"278.19\" y=\"-5270.3\" font-family=\"Times,serif\" font-size=\"14.00\">TGCACAT</text>\n</g>\n<!-- ATGCACA&#45;&gt;TGCACAT -->\n<g id=\"edge157\" class=\"edge\">\n<title>ATGCACA-&gt;TGCACAT</title>\n<path fill=\"none\" stroke=\"black\" d=\"M278.19,-5327.7C278.19,-5319.98 278.19,-5310.71 278.19,-5302.11\"/>\n<polygon fill=\"black\" stroke=\"black\" points=\"281.7,-5302.1 278.19,-5292.1 274.7,-5302.1 281.7,-5302.1\"/>\n</g>\n<!-- AATTTTT&#45;&gt;ATTTTTG -->\n<g id=\"edge98\" class=\"edge\">\n<title>AATTTTT-&gt;ATTTTTG</title>\n<path fill=\"none\" stroke=\"black\" d=\"M411.19,-4103.7C411.19,-4095.98 411.19,-4086.71 411.19,-4078.11\"/>\n<polygon fill=\"black\" stroke=\"black\" points=\"414.7,-4078.1 411.19,-4068.1 407.7,-4078.1 414.7,-4078.1\"/>\n</g>\n<!-- ACGGACT -->\n<g id=\"node148\" class=\"node\">\n<title>ACGGACT</title>\n<ellipse fill=\"none\" stroke=\"black\" cx=\"103.19\" cy=\"-3762\" rx=\"57.69\" ry=\"18\"/>\n<text text-anchor=\"middle\" x=\"103.19\" y=\"-3758.3\" font-family=\"Times,serif\" font-size=\"14.00\">ACGGACT</text>\n</g>\n<!-- CACGGAC&#45;&gt;ACGGACT -->\n<g id=\"edge99\" class=\"edge\">\n<title>CACGGAC-&gt;ACGGACT</title>\n<path fill=\"none\" stroke=\"black\" d=\"M103.19,-3815.7C103.19,-3807.98 103.19,-3798.71 103.19,-3790.11\"/>\n<polygon fill=\"black\" stroke=\"black\" points=\"106.7,-3790.1 103.19,-3780.1 99.7,-3790.1 106.7,-3790.1\"/>\n</g>\n<!-- CGGACTC -->\n<g id=\"node159\" class=\"node\">\n<title>CGGACTC</title>\n<ellipse fill=\"none\" stroke=\"black\" cx=\"103.19\" cy=\"-3690\" rx=\"57.69\" ry=\"18\"/>\n<text text-anchor=\"middle\" x=\"103.19\" y=\"-3686.3\" font-family=\"Times,serif\" font-size=\"14.00\">CGGACTC</text>\n</g>\n<!-- ACGGACT&#45;&gt;CGGACTC -->\n<g id=\"edge112\" class=\"edge\">\n<title>ACGGACT-&gt;CGGACTC</title>\n<path fill=\"none\" stroke=\"black\" d=\"M103.19,-3743.7C103.19,-3735.98 103.19,-3726.71 103.19,-3718.11\"/>\n<polygon fill=\"black\" stroke=\"black\" points=\"106.7,-3718.1 103.19,-3708.1 99.7,-3718.1 106.7,-3718.1\"/>\n</g>\n<!-- AACGCTT -->\n<g id=\"node149\" class=\"node\">\n<title>AACGCTT</title>\n<ellipse fill=\"none\" stroke=\"black\" cx=\"104.19\" cy=\"-1314\" rx=\"57.39\" ry=\"18\"/>\n<text text-anchor=\"middle\" x=\"104.19\" y=\"-1310.3\" font-family=\"Times,serif\" font-size=\"14.00\">AACGCTT</text>\n</g>\n<!-- AACGCTT&#45;&gt;ACGCTTA -->\n<g id=\"edge100\" class=\"edge\">\n<title>AACGCTT-&gt;ACGCTTA</title>\n<path fill=\"none\" stroke=\"black\" d=\"M104.19,-1295.7C104.19,-1287.98 104.19,-1278.71 104.19,-1270.11\"/>\n<polygon fill=\"black\" stroke=\"black\" points=\"107.7,-1270.1 104.19,-1260.1 100.7,-1270.1 107.7,-1270.1\"/>\n</g>\n<!-- CGTGTTA -->\n<g id=\"node150\" class=\"node\">\n<title>CGTGTTA</title>\n<ellipse fill=\"none\" stroke=\"black\" cx=\"118.19\" cy=\"-2106\" rx=\"56.59\" ry=\"18\"/>\n<text text-anchor=\"middle\" x=\"118.19\" y=\"-2102.3\" font-family=\"Times,serif\" font-size=\"14.00\">CGTGTTA</text>\n</g>\n<!-- CGTGTTA&#45;&gt;GTGTTAT -->\n<g id=\"edge101\" class=\"edge\">\n<title>CGTGTTA-&gt;GTGTTAT</title>\n<path fill=\"none\" stroke=\"black\" d=\"M115.97,-2087.7C114.98,-2079.98 113.79,-2070.71 112.68,-2062.11\"/>\n<polygon fill=\"black\" stroke=\"black\" points=\"116.14,-2061.58 111.39,-2052.1 109.2,-2062.47 116.14,-2061.58\"/>\n</g>\n<!-- TGGCCCC -->\n<g id=\"node152\" class=\"node\">\n<title>TGGCCCC</title>\n<ellipse fill=\"none\" stroke=\"black\" cx=\"278.19\" cy=\"-4842\" rx=\"58.49\" ry=\"18\"/>\n<text text-anchor=\"middle\" x=\"278.19\" y=\"-4838.3\" font-family=\"Times,serif\" font-size=\"14.00\">TGGCCCC</text>\n</g>\n<!-- ATGGCCC&#45;&gt;TGGCCCC -->\n<g id=\"edge102\" class=\"edge\">\n<title>ATGGCCC-&gt;TGGCCCC</title>\n<path fill=\"none\" stroke=\"black\" d=\"M278.19,-4895.7C278.19,-4887.98 278.19,-4878.71 278.19,-4870.11\"/>\n<polygon fill=\"black\" stroke=\"black\" points=\"281.7,-4870.1 278.19,-4860.1 274.7,-4870.1 281.7,-4870.1\"/>\n</g>\n<!-- TGGCCCC&#45;&gt;GGCCCCA -->\n<g id=\"edge165\" class=\"edge\">\n<title>TGGCCCC-&gt;GGCCCCA</title>\n<path fill=\"none\" stroke=\"black\" d=\"M278.19,-4823.7C278.19,-4815.98 278.19,-4806.71 278.19,-4798.11\"/>\n<polygon fill=\"black\" stroke=\"black\" points=\"281.7,-4798.1 278.19,-4788.1 274.7,-4798.1 281.7,-4798.1\"/>\n</g>\n<!-- TCGTGTT&#45;&gt;CGTGTTA -->\n<g id=\"edge143\" class=\"edge\">\n<title>TCGTGTT-&gt;CGTGTTA</title>\n<path fill=\"none\" stroke=\"black\" d=\"M118.19,-2159.7C118.19,-2151.98 118.19,-2142.71 118.19,-2134.11\"/>\n<polygon fill=\"black\" stroke=\"black\" points=\"121.7,-2134.1 118.19,-2124.1 114.7,-2134.1 121.7,-2134.1\"/>\n</g>\n<!-- ACTCCGG -->\n<g id=\"node154\" class=\"node\">\n<title>ACTCCGG</title>\n<ellipse fill=\"none\" stroke=\"black\" cx=\"103.19\" cy=\"-3474\" rx=\"57.69\" ry=\"18\"/>\n<text text-anchor=\"middle\" x=\"103.19\" y=\"-3470.3\" font-family=\"Times,serif\" font-size=\"14.00\">ACTCCGG</text>\n</g>\n<!-- ACTCCGG&#45;&gt;CTCCGGT -->\n<g id=\"edge107\" class=\"edge\">\n<title>ACTCCGG-&gt;CTCCGGT</title>\n<path fill=\"none\" stroke=\"black\" d=\"M103.19,-3455.7C103.19,-3447.98 103.19,-3438.71 103.19,-3430.11\"/>\n<polygon fill=\"black\" stroke=\"black\" points=\"106.7,-3430.1 103.19,-3420.1 99.7,-3430.1 106.7,-3430.1\"/>\n</g>\n<!-- CCCCCGC -->\n<g id=\"node155\" class=\"node\">\n<title>CCCCCGC</title>\n<ellipse fill=\"none\" stroke=\"black\" cx=\"352.19\" cy=\"-2898\" rx=\"59.29\" ry=\"18\"/>\n<text text-anchor=\"middle\" x=\"352.19\" y=\"-2894.3\" font-family=\"Times,serif\" font-size=\"14.00\">CCCCCGC</text>\n</g>\n<!-- CCCCGCG -->\n<g id=\"node156\" class=\"node\">\n<title>CCCCGCG</title>\n<ellipse fill=\"none\" stroke=\"black\" cx=\"316.19\" cy=\"-2826\" rx=\"59.59\" ry=\"18\"/>\n<text text-anchor=\"middle\" x=\"316.19\" y=\"-2822.3\" font-family=\"Times,serif\" font-size=\"14.00\">CCCCGCG</text>\n</g>\n<!-- CCCCCGC&#45;&gt;CCCCGCG -->\n<g id=\"edge110\" class=\"edge\">\n<title>CCCCCGC-&gt;CCCCGCG</title>\n<path fill=\"none\" stroke=\"black\" d=\"M343.48,-2880.05C339.34,-2872.01 334.3,-2862.2 329.68,-2853.23\"/>\n<polygon fill=\"black\" stroke=\"black\" points=\"332.77,-2851.57 325.08,-2844.28 326.54,-2854.77 332.77,-2851.57\"/>\n</g>\n<!-- CCCCGCG&#45;&gt;CCCGCGC -->\n<g id=\"edge141\" class=\"edge\">\n<title>CCCCGCG-&gt;CCCGCGC</title>\n<path fill=\"none\" stroke=\"black\" d=\"M299.37,-2808.41C290.35,-2799.52 279.08,-2788.41 269.16,-2778.63\"/>\n<polygon fill=\"black\" stroke=\"black\" points=\"271.48,-2776 261.9,-2771.47 266.56,-2780.98 271.48,-2776\"/>\n</g>\n<!-- CACTTTA -->\n<g id=\"node157\" class=\"node\">\n<title>CACTTTA</title>\n<ellipse fill=\"none\" stroke=\"black\" cx=\"103.19\" cy=\"-4698\" rx=\"55.79\" ry=\"18\"/>\n<text text-anchor=\"middle\" x=\"103.19\" y=\"-4694.3\" font-family=\"Times,serif\" font-size=\"14.00\">CACTTTA</text>\n</g>\n<!-- ACTTTAA -->\n<g id=\"node158\" class=\"node\">\n<title>ACTTTAA</title>\n<ellipse fill=\"none\" stroke=\"black\" cx=\"103.19\" cy=\"-4626\" rx=\"55.49\" ry=\"18\"/>\n<text text-anchor=\"middle\" x=\"103.19\" y=\"-4622.3\" font-family=\"Times,serif\" font-size=\"14.00\">ACTTTAA</text>\n</g>\n<!-- CACTTTA&#45;&gt;ACTTTAA -->\n<g id=\"edge111\" class=\"edge\">\n<title>CACTTTA-&gt;ACTTTAA</title>\n<path fill=\"none\" stroke=\"black\" d=\"M103.19,-4679.7C103.19,-4671.98 103.19,-4662.71 103.19,-4654.11\"/>\n<polygon fill=\"black\" stroke=\"black\" points=\"106.7,-4654.1 103.19,-4644.1 99.7,-4654.1 106.7,-4654.1\"/>\n</g>\n<!-- CTTTAAC -->\n<g id=\"node192\" class=\"node\">\n<title>CTTTAAC</title>\n<ellipse fill=\"none\" stroke=\"black\" cx=\"103.19\" cy=\"-4554\" rx=\"55.79\" ry=\"18\"/>\n<text text-anchor=\"middle\" x=\"103.19\" y=\"-4550.3\" font-family=\"Times,serif\" font-size=\"14.00\">CTTTAAC</text>\n</g>\n<!-- ACTTTAA&#45;&gt;CTTTAAC -->\n<g id=\"edge184\" class=\"edge\">\n<title>ACTTTAA-&gt;CTTTAAC</title>\n<path fill=\"none\" stroke=\"black\" d=\"M103.19,-4607.7C103.19,-4599.98 103.19,-4590.71 103.19,-4582.11\"/>\n<polygon fill=\"black\" stroke=\"black\" points=\"106.7,-4582.1 103.19,-4572.1 99.7,-4582.1 106.7,-4582.1\"/>\n</g>\n<!-- GGACTCC -->\n<g id=\"node177\" class=\"node\">\n<title>GGACTCC</title>\n<ellipse fill=\"none\" stroke=\"black\" cx=\"103.19\" cy=\"-3618\" rx=\"57.69\" ry=\"18\"/>\n<text text-anchor=\"middle\" x=\"103.19\" y=\"-3614.3\" font-family=\"Times,serif\" font-size=\"14.00\">GGACTCC</text>\n</g>\n<!-- CGGACTC&#45;&gt;GGACTCC -->\n<g id=\"edge151\" class=\"edge\">\n<title>CGGACTC-&gt;GGACTCC</title>\n<path fill=\"none\" stroke=\"black\" d=\"M103.19,-3671.7C103.19,-3663.98 103.19,-3654.71 103.19,-3646.11\"/>\n<polygon fill=\"black\" stroke=\"black\" points=\"106.7,-3646.1 103.19,-3636.1 99.7,-3646.1 106.7,-3646.1\"/>\n</g>\n<!-- CGCGCAT&#45;&gt;GCGCATC -->\n<g id=\"edge135\" class=\"edge\">\n<title>CGCGCAT-&gt;GCGCATC</title>\n<path fill=\"none\" stroke=\"black\" d=\"M172.19,-2591.7C172.19,-2583.98 172.19,-2574.71 172.19,-2566.11\"/>\n<polygon fill=\"black\" stroke=\"black\" points=\"175.7,-2566.1 172.19,-2556.1 168.7,-2566.1 175.7,-2566.1\"/>\n</g>\n<!-- TCCCCCG&#45;&gt;CCCCCGC -->\n<g id=\"edge118\" class=\"edge\">\n<title>TCCCCCG-&gt;CCCCCGC</title>\n<path fill=\"none\" stroke=\"black\" d=\"M379.48,-2952.05C375.34,-2944.01 370.3,-2934.2 365.68,-2925.23\"/>\n<polygon fill=\"black\" stroke=\"black\" points=\"368.77,-2923.57 361.08,-2916.28 362.54,-2926.77 368.77,-2923.57\"/>\n</g>\n<!-- GACGAAT&#45;&gt;ACGAATG -->\n<g id=\"edge187\" class=\"edge\">\n<title>GACGAAT-&gt;ACGAATG</title>\n<path fill=\"none\" stroke=\"black\" d=\"M277.19,-6047.7C277.19,-6039.98 277.19,-6030.71 277.19,-6022.11\"/>\n<polygon fill=\"black\" stroke=\"black\" points=\"280.7,-6022.1 277.19,-6012.1 273.7,-6022.1 280.7,-6022.1\"/>\n</g>\n<!-- TCGGAGG -->\n<g id=\"node164\" class=\"node\">\n<title>TCGGAGG</title>\n<ellipse fill=\"none\" stroke=\"black\" cx=\"103.19\" cy=\"-5346\" rx=\"59.29\" ry=\"18\"/>\n<text text-anchor=\"middle\" x=\"103.19\" y=\"-5342.3\" font-family=\"Times,serif\" font-size=\"14.00\">TCGGAGG</text>\n</g>\n<!-- CTCGGAG&#45;&gt;TCGGAGG -->\n<g id=\"edge120\" class=\"edge\">\n<title>CTCGGAG-&gt;TCGGAGG</title>\n<path fill=\"none\" stroke=\"black\" d=\"M103.95,-5399.7C103.84,-5391.98 103.71,-5382.71 103.58,-5374.11\"/>\n<polygon fill=\"black\" stroke=\"black\" points=\"107.08,-5374.05 103.44,-5364.1 100.08,-5374.15 107.08,-5374.05\"/>\n</g>\n<!-- TCGGAGG&#45;&gt;CGGAGGA -->\n<g id=\"edge125\" class=\"edge\">\n<title>TCGGAGG-&gt;CGGAGGA</title>\n<path fill=\"none\" stroke=\"black\" d=\"M103.19,-5327.7C103.19,-5319.98 103.19,-5310.71 103.19,-5302.11\"/>\n<polygon fill=\"black\" stroke=\"black\" points=\"106.7,-5302.1 103.19,-5292.1 99.7,-5302.1 106.7,-5302.1\"/>\n</g>\n<!-- TATCCAT -->\n<g id=\"node165\" class=\"node\">\n<title>TATCCAT</title>\n<ellipse fill=\"none\" stroke=\"black\" cx=\"279.19\" cy=\"-3906\" rx=\"53.89\" ry=\"18\"/>\n<text text-anchor=\"middle\" x=\"279.19\" y=\"-3902.3\" font-family=\"Times,serif\" font-size=\"14.00\">TATCCAT</text>\n</g>\n<!-- TATCCAT&#45;&gt;ATCCATC -->\n<g id=\"edge121\" class=\"edge\">\n<title>TATCCAT-&gt;ATCCATC</title>\n<path fill=\"none\" stroke=\"black\" d=\"M279.19,-3887.7C279.19,-3879.98 279.19,-3870.71 279.19,-3862.11\"/>\n<polygon fill=\"black\" stroke=\"black\" points=\"282.7,-3862.1 279.19,-3852.1 275.7,-3862.1 282.7,-3862.1\"/>\n</g>\n<!-- ATGGTAA&#45;&gt;TGGTAAA -->\n<g id=\"edge124\" class=\"edge\">\n<title>ATGGTAA-&gt;TGGTAAA</title>\n<path fill=\"none\" stroke=\"black\" d=\"M416.19,-6263.7C416.19,-6255.98 416.19,-6246.71 416.19,-6238.11\"/>\n<polygon fill=\"black\" stroke=\"black\" points=\"419.7,-6238.1 416.19,-6228.1 412.7,-6238.1 419.7,-6238.1\"/>\n</g>\n<!-- TCACTTT&#45;&gt;CACTTTA -->\n<g id=\"edge146\" class=\"edge\">\n<title>TCACTTT-&gt;CACTTTA</title>\n<path fill=\"none\" stroke=\"black\" d=\"M103.19,-4751.7C103.19,-4743.98 103.19,-4734.71 103.19,-4726.11\"/>\n<polygon fill=\"black\" stroke=\"black\" points=\"106.7,-4726.1 103.19,-4716.1 99.7,-4726.1 106.7,-4726.1\"/>\n</g>\n<!-- GCATCGT&#45;&gt;CATCGTG -->\n<g id=\"edge193\" class=\"edge\">\n<title>GCATCGT-&gt;CATCGTG</title>\n<path fill=\"none\" stroke=\"black\" d=\"M136.19,-2375.7C136.19,-2367.98 136.19,-2358.71 136.19,-2350.11\"/>\n<polygon fill=\"black\" stroke=\"black\" points=\"139.7,-2350.1 136.19,-2340.1 132.7,-2350.1 139.7,-2350.1\"/>\n</g>\n<!-- GGGGATT&#45;&gt;GGGATTG -->\n<g id=\"edge128\" class=\"edge\">\n<title>GGGGATT-&gt;GGGATTG</title>\n<path fill=\"none\" stroke=\"black\" d=\"M101.19,-431.7C101.19,-423.98 101.19,-414.71 101.19,-406.11\"/>\n<polygon fill=\"black\" stroke=\"black\" points=\"104.7,-406.1 101.19,-396.1 97.7,-406.1 104.7,-406.1\"/>\n</g>\n<!-- TAAACCT -->\n<g id=\"node171\" class=\"node\">\n<title>TAAACCT</title>\n<ellipse fill=\"none\" stroke=\"black\" cx=\"414.19\" cy=\"-5994\" rx=\"55.49\" ry=\"18\"/>\n<text text-anchor=\"middle\" x=\"414.19\" y=\"-5990.3\" font-family=\"Times,serif\" font-size=\"14.00\">TAAACCT</text>\n</g>\n<!-- GTAAACC&#45;&gt;TAAACCT -->\n<g id=\"edge129\" class=\"edge\">\n<title>GTAAACC-&gt;TAAACCT</title>\n<path fill=\"none\" stroke=\"black\" d=\"M414.19,-6047.7C414.19,-6039.98 414.19,-6030.71 414.19,-6022.11\"/>\n<polygon fill=\"black\" stroke=\"black\" points=\"417.7,-6022.1 414.19,-6012.1 410.7,-6022.1 417.7,-6022.1\"/>\n</g>\n<!-- TAAACCT&#45;&gt;AAACCTG -->\n<g id=\"edge147\" class=\"edge\">\n<title>TAAACCT-&gt;AAACCTG</title>\n<path fill=\"none\" stroke=\"black\" d=\"M414.19,-5975.7C414.19,-5967.98 414.19,-5958.71 414.19,-5950.11\"/>\n<polygon fill=\"black\" stroke=\"black\" points=\"417.7,-5950.1 414.19,-5940.1 410.7,-5950.1 417.7,-5950.1\"/>\n</g>\n<!-- TGCACAT&#45;&gt;GCACATG -->\n<g id=\"edge132\" class=\"edge\">\n<title>TGCACAT-&gt;GCACATG</title>\n<path fill=\"none\" stroke=\"black\" d=\"M278.19,-5255.7C278.19,-5247.98 278.19,-5238.71 278.19,-5230.11\"/>\n<polygon fill=\"black\" stroke=\"black\" points=\"281.7,-5230.1 278.19,-5220.1 274.7,-5230.1 281.7,-5230.1\"/>\n</g>\n<!-- CAACGCT -->\n<g id=\"node174\" class=\"node\">\n<title>CAACGCT</title>\n<ellipse fill=\"none\" stroke=\"black\" cx=\"104.19\" cy=\"-1386\" rx=\"57.39\" ry=\"18\"/>\n<text text-anchor=\"middle\" x=\"104.19\" y=\"-1382.3\" font-family=\"Times,serif\" font-size=\"14.00\">CAACGCT</text>\n</g>\n<!-- CCAACGC&#45;&gt;CAACGCT -->\n<g id=\"edge133\" class=\"edge\">\n<title>CCAACGC-&gt;CAACGCT</title>\n<path fill=\"none\" stroke=\"black\" d=\"M104.95,-1439.7C104.84,-1431.98 104.71,-1422.71 104.58,-1414.11\"/>\n<polygon fill=\"black\" stroke=\"black\" points=\"108.08,-1414.05 104.44,-1404.1 101.08,-1414.15 108.08,-1414.05\"/>\n</g>\n<!-- CAACGCT&#45;&gt;AACGCTT -->\n<g id=\"edge152\" class=\"edge\">\n<title>CAACGCT-&gt;AACGCTT</title>\n<path fill=\"none\" stroke=\"black\" d=\"M104.19,-1367.7C104.19,-1359.98 104.19,-1350.71 104.19,-1342.11\"/>\n<polygon fill=\"black\" stroke=\"black\" points=\"107.7,-1342.1 104.19,-1332.1 100.7,-1342.1 107.7,-1342.1\"/>\n</g>\n<!-- CGTATCC -->\n<g id=\"node175\" class=\"node\">\n<title>CGTATCC</title>\n<ellipse fill=\"none\" stroke=\"black\" cx=\"279.19\" cy=\"-4050\" rx=\"55.79\" ry=\"18\"/>\n<text text-anchor=\"middle\" x=\"279.19\" y=\"-4046.3\" font-family=\"Times,serif\" font-size=\"14.00\">CGTATCC</text>\n</g>\n<!-- GTATCCA -->\n<g id=\"node176\" class=\"node\">\n<title>GTATCCA</title>\n<ellipse fill=\"none\" stroke=\"black\" cx=\"279.19\" cy=\"-3978\" rx=\"55.79\" ry=\"18\"/>\n<text text-anchor=\"middle\" x=\"279.19\" y=\"-3974.3\" font-family=\"Times,serif\" font-size=\"14.00\">GTATCCA</text>\n</g>\n<!-- CGTATCC&#45;&gt;GTATCCA -->\n<g id=\"edge136\" class=\"edge\">\n<title>CGTATCC-&gt;GTATCCA</title>\n<path fill=\"none\" stroke=\"black\" d=\"M279.19,-4031.7C279.19,-4023.98 279.19,-4014.71 279.19,-4006.11\"/>\n<polygon fill=\"black\" stroke=\"black\" points=\"282.7,-4006.1 279.19,-3996.1 275.7,-4006.1 282.7,-4006.1\"/>\n</g>\n<!-- GTATCCA&#45;&gt;TATCCAT -->\n<g id=\"edge158\" class=\"edge\">\n<title>GTATCCA-&gt;TATCCAT</title>\n<path fill=\"none\" stroke=\"black\" d=\"M279.19,-3959.7C279.19,-3951.98 279.19,-3942.71 279.19,-3934.11\"/>\n<polygon fill=\"black\" stroke=\"black\" points=\"282.7,-3934.1 279.19,-3924.1 275.7,-3934.1 282.7,-3934.1\"/>\n</g>\n<!-- GACTCCG -->\n<g id=\"node178\" class=\"node\">\n<title>GACTCCG</title>\n<ellipse fill=\"none\" stroke=\"black\" cx=\"103.19\" cy=\"-3546\" rx=\"57.69\" ry=\"18\"/>\n<text text-anchor=\"middle\" x=\"103.19\" y=\"-3542.3\" font-family=\"Times,serif\" font-size=\"14.00\">GACTCCG</text>\n</g>\n<!-- GGACTCC&#45;&gt;GACTCCG -->\n<g id=\"edge138\" class=\"edge\">\n<title>GGACTCC-&gt;GACTCCG</title>\n<path fill=\"none\" stroke=\"black\" d=\"M103.19,-3599.7C103.19,-3591.98 103.19,-3582.71 103.19,-3574.11\"/>\n<polygon fill=\"black\" stroke=\"black\" points=\"106.7,-3574.1 103.19,-3564.1 99.7,-3574.1 106.7,-3574.1\"/>\n</g>\n<!-- GACTCCG&#45;&gt;ACTCCGG -->\n<g id=\"edge182\" class=\"edge\">\n<title>GACTCCG-&gt;ACTCCGG</title>\n<path fill=\"none\" stroke=\"black\" d=\"M103.19,-3527.7C103.19,-3519.98 103.19,-3510.71 103.19,-3502.11\"/>\n<polygon fill=\"black\" stroke=\"black\" points=\"106.7,-3502.1 103.19,-3492.1 99.7,-3502.1 106.7,-3502.1\"/>\n</g>\n<!-- TACAGGT -->\n<g id=\"node179\" class=\"node\">\n<title>TACAGGT</title>\n<ellipse fill=\"none\" stroke=\"black\" cx=\"278.19\" cy=\"-3258\" rx=\"56.59\" ry=\"18\"/>\n<text text-anchor=\"middle\" x=\"278.19\" y=\"-3254.3\" font-family=\"Times,serif\" font-size=\"14.00\">TACAGGT</text>\n</g>\n<!-- TACAGGT&#45;&gt;ACAGGTG -->\n<g id=\"edge139\" class=\"edge\">\n<title>TACAGGT-&gt;ACAGGTG</title>\n<path fill=\"none\" stroke=\"black\" d=\"M278.19,-3239.7C278.19,-3231.98 278.19,-3222.71 278.19,-3214.11\"/>\n<polygon fill=\"black\" stroke=\"black\" points=\"281.7,-3214.1 278.19,-3204.1 274.7,-3214.1 281.7,-3214.1\"/>\n</g>\n<!-- GTCGAGT -->\n<g id=\"node181\" class=\"node\">\n<title>GTCGAGT</title>\n<ellipse fill=\"none\" stroke=\"black\" cx=\"104.19\" cy=\"-6570\" rx=\"57.69\" ry=\"18\"/>\n<text text-anchor=\"middle\" x=\"104.19\" y=\"-6566.3\" font-family=\"Times,serif\" font-size=\"14.00\">GTCGAGT</text>\n</g>\n<!-- TGTCGAG&#45;&gt;GTCGAGT -->\n<g id=\"edge140\" class=\"edge\">\n<title>TGTCGAG-&gt;GTCGAGT</title>\n<path fill=\"none\" stroke=\"black\" d=\"M104.19,-6623.7C104.19,-6615.98 104.19,-6606.71 104.19,-6598.11\"/>\n<polygon fill=\"black\" stroke=\"black\" points=\"107.7,-6598.1 104.19,-6588.1 100.7,-6598.1 107.7,-6598.1\"/>\n</g>\n<!-- TCGAGTG -->\n<g id=\"node183\" class=\"node\">\n<title>TCGAGTG</title>\n<ellipse fill=\"none\" stroke=\"black\" cx=\"104.19\" cy=\"-6498\" rx=\"57.69\" ry=\"18\"/>\n<text text-anchor=\"middle\" x=\"104.19\" y=\"-6494.3\" font-family=\"Times,serif\" font-size=\"14.00\">TCGAGTG</text>\n</g>\n<!-- GTCGAGT&#45;&gt;TCGAGTG -->\n<g id=\"edge155\" class=\"edge\">\n<title>GTCGAGT-&gt;TCGAGTG</title>\n<path fill=\"none\" stroke=\"black\" d=\"M104.19,-6551.7C104.19,-6543.98 104.19,-6534.71 104.19,-6526.11\"/>\n<polygon fill=\"black\" stroke=\"black\" points=\"107.7,-6526.1 104.19,-6516.1 100.7,-6526.1 107.7,-6526.1\"/>\n</g>\n<!-- ACGACCA&#45;&gt;CGACCAC -->\n<g id=\"edge174\" class=\"edge\">\n<title>ACGACCA-&gt;CGACCAC</title>\n<path fill=\"none\" stroke=\"black\" d=\"M103.19,-4175.7C103.19,-4167.98 103.19,-4158.71 103.19,-4150.11\"/>\n<polygon fill=\"black\" stroke=\"black\" points=\"106.7,-4150.1 103.19,-4140.1 99.7,-4150.1 106.7,-4150.1\"/>\n</g>\n<!-- TCGAGTG&#45;&gt;CGAGTGA -->\n<g id=\"edge149\" class=\"edge\">\n<title>TCGAGTG-&gt;CGAGTGA</title>\n<path fill=\"none\" stroke=\"black\" d=\"M104.19,-6479.7C104.19,-6471.98 104.19,-6462.71 104.19,-6454.11\"/>\n<polygon fill=\"black\" stroke=\"black\" points=\"107.7,-6454.1 104.19,-6444.1 100.7,-6454.1 107.7,-6454.1\"/>\n</g>\n<!-- ACGTATC&#45;&gt;CGTATCC -->\n<g id=\"edge186\" class=\"edge\">\n<title>ACGTATC-&gt;CGTATCC</title>\n<path fill=\"none\" stroke=\"black\" d=\"M279.19,-4103.7C279.19,-4095.98 279.19,-4086.71 279.19,-4078.11\"/>\n<polygon fill=\"black\" stroke=\"black\" points=\"282.7,-4078.1 279.19,-4068.1 275.7,-4078.1 282.7,-4078.1\"/>\n</g>\n<!-- GGATCAC -->\n<g id=\"node185\" class=\"node\">\n<title>GGATCAC</title>\n<ellipse fill=\"none\" stroke=\"black\" cx=\"103.19\" cy=\"-4986\" rx=\"57.69\" ry=\"18\"/>\n<text text-anchor=\"middle\" x=\"103.19\" y=\"-4982.3\" font-family=\"Times,serif\" font-size=\"14.00\">GGATCAC</text>\n</g>\n<!-- GGATCAC&#45;&gt;GATCACT -->\n<g id=\"edge156\" class=\"edge\">\n<title>GGATCAC-&gt;GATCACT</title>\n<path fill=\"none\" stroke=\"black\" d=\"M103.19,-4967.7C103.19,-4959.98 103.19,-4950.71 103.19,-4942.11\"/>\n<polygon fill=\"black\" stroke=\"black\" points=\"106.7,-4942.1 103.19,-4932.1 99.7,-4942.1 106.7,-4942.1\"/>\n</g>\n<!-- ATGGCCA -->\n<g id=\"node187\" class=\"node\">\n<title>ATGGCCA</title>\n<ellipse fill=\"none\" stroke=\"black\" cx=\"413.19\" cy=\"-4842\" rx=\"57.69\" ry=\"18\"/>\n<text text-anchor=\"middle\" x=\"413.19\" y=\"-4838.3\" font-family=\"Times,serif\" font-size=\"14.00\">ATGGCCA</text>\n</g>\n<!-- AATGGCC&#45;&gt;ATGGCCA -->\n<g id=\"edge161\" class=\"edge\">\n<title>AATGGCC-&gt;ATGGCCA</title>\n<path fill=\"none\" stroke=\"black\" d=\"M413.19,-4895.7C413.19,-4887.98 413.19,-4878.71 413.19,-4870.11\"/>\n<polygon fill=\"black\" stroke=\"black\" points=\"416.7,-4870.1 413.19,-4860.1 409.7,-4870.1 416.7,-4870.1\"/>\n</g>\n<!-- ATGGCCA&#45;&gt;TGGCCAC -->\n<g id=\"edge163\" class=\"edge\">\n<title>ATGGCCA-&gt;TGGCCAC</title>\n<path fill=\"none\" stroke=\"black\" d=\"M413.19,-4823.7C413.19,-4815.98 413.19,-4806.71 413.19,-4798.11\"/>\n<polygon fill=\"black\" stroke=\"black\" points=\"416.7,-4798.1 413.19,-4788.1 409.7,-4798.1 416.7,-4798.1\"/>\n</g>\n<!-- GTACAGG -->\n<g id=\"node189\" class=\"node\">\n<title>GTACAGG</title>\n<ellipse fill=\"none\" stroke=\"black\" cx=\"278.19\" cy=\"-3330\" rx=\"57.69\" ry=\"18\"/>\n<text text-anchor=\"middle\" x=\"278.19\" y=\"-3326.3\" font-family=\"Times,serif\" font-size=\"14.00\">GTACAGG</text>\n</g>\n<!-- CGTACAG&#45;&gt;GTACAGG -->\n<g id=\"edge167\" class=\"edge\">\n<title>CGTACAG-&gt;GTACAGG</title>\n<path fill=\"none\" stroke=\"black\" d=\"M278.19,-3383.7C278.19,-3375.98 278.19,-3366.71 278.19,-3358.11\"/>\n<polygon fill=\"black\" stroke=\"black\" points=\"281.7,-3358.1 278.19,-3348.1 274.7,-3358.1 281.7,-3358.1\"/>\n</g>\n<!-- GTACAGG&#45;&gt;TACAGGT -->\n<g id=\"edge176\" class=\"edge\">\n<title>GTACAGG-&gt;TACAGGT</title>\n<path fill=\"none\" stroke=\"black\" d=\"M278.19,-3311.7C278.19,-3303.98 278.19,-3294.71 278.19,-3286.11\"/>\n<polygon fill=\"black\" stroke=\"black\" points=\"281.7,-3286.1 278.19,-3276.1 274.7,-3286.1 281.7,-3286.1\"/>\n</g>\n<!-- AGGATCA&#45;&gt;GGATCAC -->\n<g id=\"edge180\" class=\"edge\">\n<title>AGGATCA-&gt;GGATCAC</title>\n<path fill=\"none\" stroke=\"black\" d=\"M103.19,-5039.7C103.19,-5031.98 103.19,-5022.71 103.19,-5014.11\"/>\n<polygon fill=\"black\" stroke=\"black\" points=\"106.7,-5014.1 103.19,-5004.1 99.7,-5014.1 106.7,-5014.1\"/>\n</g>\n<!-- CTACCGA&#45;&gt;TACCGAC -->\n<g id=\"edge179\" class=\"edge\">\n<title>CTACCGA-&gt;TACCGAC</title>\n<path fill=\"none\" stroke=\"black\" d=\"M277.19,-6407.7C277.19,-6399.98 277.19,-6390.71 277.19,-6382.11\"/>\n<polygon fill=\"black\" stroke=\"black\" points=\"280.7,-6382.1 277.19,-6372.1 273.7,-6382.1 280.7,-6382.1\"/>\n</g>\n<!-- CTTTAAC&#45;&gt;TTTAACG -->\n<g id=\"edge189\" class=\"edge\">\n<title>CTTTAAC-&gt;TTTAACG</title>\n<path fill=\"none\" stroke=\"black\" d=\"M103.19,-4535.7C103.19,-4527.98 103.19,-4518.71 103.19,-4510.11\"/>\n<polygon fill=\"black\" stroke=\"black\" points=\"106.7,-4510.1 103.19,-4500.1 99.7,-4510.1 106.7,-4510.1\"/>\n</g>\n</g>\n</svg>",
      "text/plain": [
       "<IPython.core.display.SVG object>"
      ]
     },
     "metadata": {},
     "output_type": "display_data"
    }
   ],
   "source": [
    "# Helper function to visualize graphs\n",
    "%dotstr utils.viz_graph(nodes, edges)"
   ]
  },
  {
   "cell_type": "code",
   "execution_count": 12,
   "id": "3c4f6bfc",
   "metadata": {},
   "outputs": [],
   "source": [
    "# Main assembly algorithm\n",
    "\n",
    "def assemble_sequence(nodes, edges):\n",
    "    print(\"test\")\n",
    "\n",
    "    # Assemble the nodes and edges into a format that can be more efficiently processed\n",
    "    graph = {}\n",
    "\n",
    "    # Build an adjacency list for each node\n",
    "    for node in nodes:\n",
    "        graph[node] = []\n",
    "\n",
    "    for edge in edges:\n",
    "        graph[edge[0]].append(edge)\n",
    "\n",
    "    # First node was determined when we first assembled the graph based on which node had no in-neighbors\n",
    "    curr_node = start_node\n",
    "\n",
    "    # Find a first cycle\n",
    "    edges_traversed = 0\n",
    "    path, graph, edges_traversed = find_cycle(graph, curr_node, edges_traversed)\n",
    "\n",
    "    # Continue finding cycles until every edge has been traversed\n",
    "    while edges_traversed < len(edges):\n",
    "        # Find a node in the path that still has unvisited edges\n",
    "        # Record the index of that node in the path so that we can splice in the new path later\n",
    "        insert_index = 0\n",
    "        for i in range(len(path)):\n",
    "            if len(graph[path[i]]) > 0:\n",
    "                curr_node = path[i]\n",
    "                insert_index = i\n",
    "                break\n",
    "        \n",
    "        # Find a new cycle starting from the new node we've found.\n",
    "        newPath, graph, edges_traversed = find_cycle(graph, curr_node, edges_traversed)\n",
    "\n",
    "        # Splice in the newly found path with the old one\n",
    "        path[insert_index+1:insert_index+1] = newPath\n",
    "\n",
    "    # From the path we've found, go back and assemble the sequence\n",
    "    # This is obviously inefficient (probably could have done this at the same time as we were finding our path), \n",
    "    # but doesn't impact overall complexity class so whatever\n",
    "    assembled_sequence = \"\"\n",
    "    assembled_sequence = path[0]\n",
    "    for node in path[1:]:\n",
    "        assembled_sequence += node[-1]\n",
    "\n",
    "    return assembled_sequence\n",
    "\n",
    "# Starting at a specified node, find a cycle where we eventually get \"stuck\" back at the start node\n",
    "def find_cycle(graph, curr_node, edges_traversed):\n",
    "    cycle = []\n",
    "    while len(graph[curr_node]) > 0:        # loop continues so long as the current node has at least one edge leading out of it\n",
    "        cycle.append(curr_node)\n",
    "        temp = curr_node\n",
    "        curr_node = graph[curr_node][0][1]\n",
    "        graph[temp].pop(0)                  # remove each edge we traverse from the graph\n",
    "        edges_traversed += 1                # keep track of how many edges we've traversed so we know once we're completely done with the path\n",
    "    return cycle, graph, edges_traversed"
   ]
  },
  {
   "cell_type": "code",
   "execution_count": 13,
   "id": "a5b1b2e3",
   "metadata": {},
   "outputs": [
    {
     "name": "stdout",
     "output_type": "stream",
     "text": [
      "test\n",
      "CCTACCGGACGAATGTCATGCACATGGCCCCACCACGTATCCATCGTACATCCCCCGCGCATCGTGTTATGCCAACGCTTACATAGGGGATTGTGTCGATGGTAAACCTGTTGATAAAATGGCCACATAATTTTTGGTCGTACAGGTGTCGAGTGATAGGTGACTCGGAGGATCACTTTAACGACCACGGACTCCGGTAG\n",
      "200\n"
     ]
    }
   ],
   "source": [
    "# Output assembled sequence\n",
    "# Hint: Sequence is 200 nucleotides long\n",
    "\n",
    "seq = assemble_sequence(nodes, edges)\n",
    "print(seq)\n",
    "print(len(seq))"
   ]
  },
  {
   "cell_type": "markdown",
   "id": "91454973",
   "metadata": {},
   "source": [
    "<div class=\"alert alert-success\"> \n",
    "    \n",
    "**Problem 6.** Which of the two assembly methods did you use for problem 5, and why? (Hint: consider how the costs scale with the number of reads.) \n",
    "</div>\n",
    "\n",
    "We chose to use the de Bruijn graph method, which can be processed to find Eulerian paths, and we can use these paths to construct the genome. We chose the this method because compared to using the Hamiltonian path method with the overlap graph, the cost of employing the Eulerian method will scale in polynomial time with the number of reads. On the other hand, the cost of using the Hamiltonian path algorithm would scale in exponemtial time with the number of reads. Therefore, using the de Bruijn graph and the Euler paths would be more efficient."
   ]
  },
  {
   "cell_type": "markdown",
   "id": "9c68ae0c",
   "metadata": {},
   "source": [
    "## Part 2: Sequencing SARS-CoV-2 virus"
   ]
  },
  {
   "cell_type": "markdown",
   "id": "bb9104f8",
   "metadata": {},
   "source": [
    "Let's move on from TeleTubbies to real-world organisms. For this problem, you'll assemble a genome for a variant of the SARS-CoV-2 virus. You're given reads from <i>actual</i> genome sequencing runs in the provided `SARS-CoV2.fastq` file. The file is based on the first Covid genome that was submitted on 5 January 2020: [https://www.ncbi.nlm.nih.gov/nuccore/NC_045512](https://www.ncbi.nlm.nih.gov/nuccore/NC_045512) But, you should be reconstructing a sequence from the provided reads without looking at the source sequence.\n",
    "\n",
    "<div class=\"alert alert-success\">\n",
    "    \n",
    "**Problem 7.**  Reconstruct the SATS-CoV2 genome from the provided sequence reads using $k=25$. \n",
    "    \n",
    "</div>\n",
    "\n",
    "You can re-use your implementation from Problem 5 and simply run it on the new data (depending on what you did for Problem 5, that might be enough to solve this problem). \n",
    "\n",
    "Print out your reconstructed sequence to a file `output.txt` (and add this file to the repo you submit). For this part, we will still assume that all the reads are error-free. "
   ]
  },
  {
   "cell_type": "code",
   "execution_count": 14,
   "id": "490daca9",
   "metadata": {},
   "outputs": [],
   "source": [
    "# Read sequence reads\n",
    "sequence_reads_covid, qualities_covid = utils.read_fastq('SARS-CoV2.fastq')"
   ]
  },
  {
   "cell_type": "code",
   "execution_count": 15,
   "id": "3dfbe110",
   "metadata": {},
   "outputs": [],
   "source": [
    "# Read reads into graph\n",
    "nodes_covid, edges_covid, start_node = build_graph(sequence_reads_covid)"
   ]
  },
  {
   "cell_type": "code",
   "execution_count": 16,
   "id": "011414e6",
   "metadata": {},
   "outputs": [
    {
     "name": "stdout",
     "output_type": "stream",
     "text": [
      "test\n"
     ]
    }
   ],
   "source": [
    "# Call main assembly algorithm\n",
    "assmebled_covid_seq = assemble_sequence(nodes_covid, edges_covid)"
   ]
  },
  {
   "cell_type": "code",
   "execution_count": 17,
   "id": "b8818bf5",
   "metadata": {},
   "outputs": [],
   "source": [
    "# Write assembled sequence to file\n",
    "with open(\"output.txt\", \"w\") as f:\n",
    "    f.write(assmebled_covid_seq)"
   ]
  },
  {
   "cell_type": "markdown",
   "id": "a3cc7d97",
   "metadata": {},
   "source": [
    "# Part 3: Error-Aware Assembly (Challenge Problem)"
   ]
  },
  {
   "cell_type": "markdown",
   "id": "9c03fa24",
   "metadata": {},
   "source": [
    "<div class=\"alert alert-warning\">\n",
    "    This problem is a \"Challenge Problem\". This means it is a problem of unknown difficulty that might be quite challenging (unlike the earlier problems, we don't have a reference solution for this one, or a clear idea how hard it might be). We do hope all students will at least attempt this and that more ambitious students will work hard to solve it and learn interesting things by the attempt (whether or not it is successful), but not get frustrated if you can't get to the desired answer.  As a \"Challenge Problem\" it means that you shouldn't be worried if you are not able to solve this, though, and you can get full expected credit on this assignment without answering it.\n",
    "</div>\n",
    "\n",
    "\n",
    "In the parts above, we assumed error-free reads while assembling $k$-mers. As much as we'd like that, actual reads can (and do) have errors, captured by their Phred scores. \n",
    "\n",
    "For this question, you're given raw, actual reads from sequencing runs. Download the reads from this file:\n",
    "https://sra-pub-sars-cov2.s3.amazonaws.com/sra-src/SRR11528307/ABS2-LN-R1_cleaned_paired.fastq.gz.  \n",
    "\n",
    "\n",
    "<div class=\"alert alert-success\">\n",
    "    \n",
    "**Problem 8 (Challenge).** Give the reads in the linked fastq file above, including their Phred33 quality score, assemble the most likely genome. Your solution should output the assembled sequence in `challenge.txt`. Provide a brief explantion of how your algorithm works and interesting things you learned in developing it.\n",
    "    \n",
    "</div>\n",
    "    \n",
    "This is an open-ended question. You are free to use any approach to deal with the issue. Make sure you provide your code, along with any assumptions you may have."
   ]
  },
  {
   "cell_type": "markdown",
   "id": "5d7e82e1",
   "metadata": {},
   "source": [
    "_Write a description of your algorithm, and things you learned from working on this here._"
   ]
  },
  {
   "cell_type": "code",
   "execution_count": 18,
   "id": "4594e10b",
   "metadata": {},
   "outputs": [],
   "source": [
    "# implementation "
   ]
  },
  {
   "cell_type": "markdown",
   "id": "89a97c21",
   "metadata": {},
   "source": [
    "   <div class=\"alert alert-block alert-danger\">\n",
    "    <center>\n",
    "        \n",
    " **Remember to follow the submission directions above to submit your assignment by 4:59pm on Tuesday, 8 February.**\n",
    "    \n",
    " </center>\n",
    " </div>"
   ]
  }
 ],
 "metadata": {
  "kernelspec": {
   "display_name": "Python 3",
   "language": "python",
   "name": "python3"
  },
  "language_info": {
   "codemirror_mode": {
    "name": "ipython",
    "version": 3
   },
   "file_extension": ".py",
   "mimetype": "text/x-python",
   "name": "python",
   "nbconvert_exporter": "python",
   "pygments_lexer": "ipython3",
   "version": "3.8.2"
  }
 },
 "nbformat": 4,
 "nbformat_minor": 5
}
